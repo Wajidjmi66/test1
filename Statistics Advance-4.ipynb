{
 "cells": [
  {
   "cell_type": "markdown",
   "id": "d896d810-e6aa-4e46-a3af-d4ed9fa780be",
   "metadata": {},
   "source": [
    "# Q1: What is the difference between a t-test and a z-test? Provide an example scenario where you would use each type of test.\n",
    "# Answer :->"
   ]
  },
  {
   "cell_type": "markdown",
   "id": "4bd463db-0eaa-47e1-892b-7faf197499d9",
   "metadata": {},
   "source": [
    "### A t-test and a z-test are both statistical methods used to make inferences about population parameters based on sample data. The key difference between them lies in the circumstances under which they are appropriate.\n",
    "\n",
    "# T-test:\n",
    "\n",
    "1. Use Case: The t-test is typically employed when the sample size is small (usually less than 30) or when the population standard deviation is unknown.\n",
    "2. Example Scenario: Suppose you want to compare the average scores of two groups of students who received different teaching methods. If you have less than 30 students in each group or do not know the population standard deviation, you would use a t-test to determine if there is a statistically significant difference between the two groups' mean scores.\n",
    "\n",
    "# Z-test:\n",
    "\n",
    "1. Use Case: The z-test is suitable when the sample size is large (usually greater than 30) and the population standard deviation is known.\n",
    "2. Example Scenario: Imagine you have access to the test scores of the entire population of a city's high school students. You want to compare the average scores of students who attended private schools versus public schools. If your sample size is large (more than 30 students in each group) and you know the population standard deviation, you could use a z-test to assess whether there is a significant difference in mean scores between the two types of schools.\n",
    "\n",
    "### In summary, the choice between a t-test and a z-test depends on the sample size and whether the population standard deviation is known. If the sample size is small or the population standard deviation is unknown, a t-test is more appropriate. If the sample size is large and the population standard deviation is known, a z-test can be used."
   ]
  },
  {
   "cell_type": "markdown",
   "id": "5840b490-98a5-4bde-8a1b-a7ccda9b67bf",
   "metadata": {},
   "source": [
    "# Q2: Differentiate between one-tailed and two-tailed tests.\n",
    "# Answer :->"
   ]
  },
  {
   "cell_type": "markdown",
   "id": "316e38d9-3d52-43a9-8577-6b2862c1a505",
   "metadata": {},
   "source": [
    "### The distinction between one-tailed and two-tailed tests lies in the directionality of the statistical hypothesis being tested and the area under the probability distribution curve considered for rejection of the null hypothesis.\n",
    "\n",
    "# One-Tailed Test:\n",
    "\n",
    "1. Directionality: In a one-tailed test, the null hypothesis specifies the direction of the effect (greater than or less than).\n",
    "### Hypothesis Formulation:\n",
    "1. Greater Than (Right-Tailed): The null hypothesis states that there is no effect or a difference less than or equal to a certain value.\n",
    "2. Example: H₀: μ ≤ 10 (null hypothesis) vs. H₁: μ > 10 (alternative hypothesis)\n",
    "1. Less Than (Left-Tailed): The null hypothesis states that there is no effect or a difference greater than or equal to a certain value.\n",
    "2. Example: H₀: μ ≥ 20 (null hypothesis) vs. H₁: μ < 20 (alternative hypothesis)\n",
    "### Critical Region: The critical region for rejection is located entirely on one side of the distribution curve.\n",
    "\n",
    "\n",
    "# Two-Tailed Test:\n",
    "\n",
    "1. Directionality: In a two-tailed test, the null hypothesis does not specify the direction of the effect; it only states that there is no effect or a difference.\n",
    "### Hypothesis Formulation:\n",
    "1. The null hypothesis generally involves equality, and the alternative hypothesis states that there is a significant difference (greater or less than).\n",
    "2. Example: H₀: μ = 50 (null hypothesis) vs. H₁: μ ≠ 50 (alternative hypothesis)\n",
    "#####  Critical Region: The critical region for rejection is divided between both tails of the distribution curve.\n",
    "\n",
    "\n",
    "##### Example: Suppose you are testing whether a new drug has an effect on blood pressure.\n",
    "\n",
    "### One-tailed test:\n",
    "### Right-tailed: H₀: μ ≤ 120 vs. H₁: μ > 120\n",
    "### Left-tailed: H₀: μ ≥ 120 vs. H₁: μ < 120\n",
    "\n",
    "## Two-tailed test:\n",
    "### H₀: μ = 120 vs. H₁: μ ≠ 120\n",
    "\n",
    "### In the one-tailed test, you are specifically looking for an increase or a decrease, while in the two-tailed test, you are looking for any significant difference (increase or decrease) from the null hypothesis value.\n"
   ]
  },
  {
   "cell_type": "markdown",
   "id": "b5e0cfbb-6ff2-4a3e-a7ff-d9148ff9a1d6",
   "metadata": {},
   "source": [
    "# Q3: Explain the concept of Type 1 and Type 2 errors in hypothesis testing. Provide an example scenario for each type of error.\n",
    "# Answer :->"
   ]
  },
  {
   "cell_type": "markdown",
   "id": "abd84acf-3731-440d-a978-018a911262fa",
   "metadata": {},
   "source": [
    "### In hypothesis testing, Type I and Type II errors are two possible mistakes that can occur when making decisions about the null hypothesis.\n",
    "\n",
    "# Type I Error (False Positive):\n",
    "\n",
    "1. Definition: Occurs when you reject a true null hypothesis. It is the probability of incorrectly concluding that there is an effect or difference when there is none.\n",
    "2. Symbolically: Denoted by α (alpha), the significance level, which is the probability of making a Type I error.\n",
    "3. Example Scenario: Suppose a medical researcher is testing a new drug and sets a significance level (α) of 0.05. If, in reality, the drug has no effect (null hypothesis is true), there is a 5% chance (α = 0.05) that the researcher will mistakenly conclude that the drug is effective.\n",
    "\n",
    "# Type II Error (False Negative):\n",
    "\n",
    "1. Definition: Occurs when you fail to reject a false null hypothesis. It is the probability of incorrectly concluding that there is no effect or difference when there is one.\n",
    "2. Symbolically: Denoted by β (beta), the probability of making a Type II error.\n",
    "3. Example Scenario: Continuing with the drug example, let's say the drug does have a real effect, but the researcher fails to detect it. This would be a Type II error. The probability of this happening is denoted by β.\n",
    "\n",
    "# Illustrative Example:\n",
    "#### Consider a diagnostic test for a rare disease. The null hypothesis (H₀) is that the person being tested does not have the disease, and the alternative hypothesis (H₁) is that the person does have the disease.\n",
    "\n",
    "## Type I Error:\n",
    "\n",
    "1. Null Hypothesis (H₀): The person does not have the disease.\n",
    "2. Alternative Hypothesis (H₁): The person has the disease.\n",
    "3. Type I Error: Incorrectly concluding that the person has the disease when, in reality, they do not.\n",
    "\n",
    "## Type II Error:\n",
    "\n",
    "1. Null Hypothesis (H₀): The person has the disease.\n",
    "2. Alternative Hypothesis (H₁): The person does not have the disease.\n",
    "3. Type II Error: Incorrectly concluding that the person does not have the disease when, in reality, they do.\n",
    "\n",
    "#### In the context of medical testing, Type I and Type II errors have practical implications for patient health and treatment decisions, emphasizing the need to carefully choose significance levels and consider the consequences of errors."
   ]
  },
  {
   "cell_type": "markdown",
   "id": "19dea456-0fd0-41df-b698-afb6854ad11a",
   "metadata": {},
   "source": [
    "# Q4: Explain Bayes's theorem with an example.\n",
    "# Answer :->"
   ]
  },
  {
   "cell_type": "markdown",
   "id": "2f60dfb6-dd1d-4118-a02e-e6664fb444a5",
   "metadata": {},
   "source": [
    "### Bayes's Theorem is a mathematical formula that describes the probability of an event based on prior knowledge of conditions that might be related to the event. It is named after the Reverend Thomas Bayes, who introduced the theorem. The formula is often used in probability theory and statistics to update probabilities based on new evidence.\n",
    "\n",
    "### The general form of Bayes's Theorem is expressed as follows:\n",
    "\n",
    "# P(A∣B)= (P(B∣A)⋅P(A))/(P(B))\n",
    "\n",
    "### Where:\n",
    "\n",
    "1. P(A∣B) is the probability of event A occurring given that event B has occurred.\n",
    "2. P(B∣A) is the probability of event B occurring given that event A has occurred.\n",
    "3. P(A) and P(B) are the probabilities of events A and B occurring, respectively."
   ]
  },
  {
   "cell_type": "markdown",
   "id": "fc8fbd34-5a3c-4c47-83b8-059c68f7559e",
   "metadata": {},
   "source": [
    "# Q5: What is a confidence interval? How to calculate the confidence interval, explain with an example.\n",
    "# Answer :->"
   ]
  },
  {
   "cell_type": "markdown",
   "id": "1c6930c0-e63f-4445-a6fb-99e72d26ae0e",
   "metadata": {},
   "source": [
    "### A confidence interval is a statistical tool used to estimate the range within which we can reasonably expect a population parameter, such as the mean or proportion, to lie. It provides a range of values, along with a level of confidence that this interval contains the true population parameter.\n",
    "\n",
    "### The general form of a confidence interval is:\n",
    "\n",
    "# Estimate ± Margin of Error\n",
    "\n",
    "\n",
    "### The margin of error depends on the variability of the data and the desired level of confidence. The confidence level is often expressed as a percentage, commonly 95% or 99%, indicating the probability that the true parameter lies within the interval.\n",
    "\n",
    "#### Here's how to calculate a confidence interval, specifically for the mean of a population:\n",
    "\n",
    "1. Determine the Sample Mean (X bar): Calculate the mean of your sample data.\n",
    "2. Choose the Confidence Level (CL): Common choices are 90%, 95%, or 99% confidence levels.\n",
    "3. Determine the Standard Error (SE): The standard error is a measure of the variability in the sample mean and is calculated using the sample standard deviation (s) and the sample size (n).        SE= 8/(root sqrt(n))\n",
    "4. Find the Critical Value (z or t): Depending on the sample size and whether the population standard deviation is known, use either the z-table (for larger sample sizes) or the t-table (for smaller sample sizes).\n",
    "5. Calculate the Margin of Error (ME): Multiply the standard error by the critical value.\n",
    "6. Critical Value ME = Critical Value × SE\n",
    "7. Construct the Confidence Interval:\n",
    "8. For a population mean (μ):    Confidence Interval= X(bar) ± ME\n",
    "\n",
    "\n",
    "#### Now, let's go through an example:\n",
    "\n",
    "#### Example: Suppose you have a sample of 50 students, and you want to estimate the average height of all students in the university with 95% confidence. The sample mean height is 170 cm, and the sample standard deviation is 5 cm.\n",
    "\n",
    "1. Calculate the Standard Error (SE):  SE=  ≈0.707\n",
    "\n",
    "2. Find the Critical Value (z) for 95% confidence:   Using a standard normal distribution table, for a 95% confidence interval, the critical value is approximately 1.96.\n",
    "\n",
    "3. Calculate the Margin of Error (ME):   ME=1.96×0.707≈1.38\n",
    "\n",
    "4. Construct the Confidence Interval:   Confidence Interval=170±1.38=(168.62,171.38)\n",
    "\n",
    "###### Therefore, with 95% confidence, we estimate that the true average height of all students in the university is between 168.62 cm and 171.38 cm."
   ]
  },
  {
   "cell_type": "markdown",
   "id": "d98b5961-96eb-4a9c-a467-5c63d1138275",
   "metadata": {},
   "source": [
    "# Q6. Use Bayes' Theorem to calculate the probability of an event occurring given prior knowledge of the event's probability and new evidence. Provide a sample problem and solution.\n",
    "# Answer :->"
   ]
  },
  {
   "cell_type": "markdown",
   "id": "5ef7e4d8-ade3-40df-a0b6-b889ceab9f01",
   "metadata": {},
   "source": [
    "## Example: Medical Testing\n",
    "### Suppose there is a medical test for a certain disease, and the prevalence of the disease in the population is 2%. The test has a sensitivity of 90%, meaning it correctly identifies 90% of the individuals with the disease. However, it also has a false positive rate of 5%, meaning it incorrectly identifies 5% of the healthy individuals as having the disease.\n",
    "\n",
    "### Let's define some terms:\n",
    "\n",
    "1. A: The event that a person has the disease.\n",
    "2. B: The event that the test result is positive.\n",
    "3. We want to calculate the probability that a person actually has the disease given a positive test result, P(A∣B).\n",
    "\n",
    "### Given Information:\n",
    "\n",
    "1. P(A): Prevalence of the disease = 0.02 (2%).\n",
    "2. P(B∣A): Sensitivity of the test = 0.90 (90%).\n",
    "3. P(B∣¬A): False positive rate = 0.05 (5%).\n",
    "\n",
    "# Bayes' Theorem:P(A∣B)= (P(B∣A)⋅P(A))/(P(B))\n",
    "\n",
    "1. First, calculate P(B) using the law of total probability:\n",
    "2. P(B)=P(B∣A)⋅P(A)+P(B∣¬A)⋅P(¬A)\n",
    "3. Since P(¬A)=1−P(A), and P(B∣¬A) is the false positive rate, we can substitute these values into the equation.\n",
    "4. Now, plug the values into Bayes' Theorem: P(A∣B) = (P(B∣A)⋅P(A))/(P(B)) \n",
    "\n",
    "# Solution:\n",
    "\n",
    "### Calculate \n",
    "\n",
    "1. P(B)=P(B∣A)⋅P(A)+P(B∣¬A)⋅P(¬A)\n",
    "2. P(B)=(0.90×0.02)+(0.05×0.98)\n",
    "3. P(B)=0.018+0.049=0.067\n",
    "\n",
    "### Now, apply Bayes' Theorem:\n",
    "\n",
    "1. P(A∣B)= (P(B∣A)⋅P(A))/(P(B))\n",
    "2. P(A∣B)= (0.90×0.02)/(0.067)\n",
    "# P(A∣B)≈0.2687\n",
    "\n",
    "### Therefore, given a positive test result, the probability that a person actually has the disease is approximately 26.87%. Bayes' Theorem allows us to update our probability estimates based on new evidence (the positive test result).\n"
   ]
  },
  {
   "cell_type": "markdown",
   "id": "bb516e22-848a-4a46-bfd5-36101922d881",
   "metadata": {},
   "source": [
    "# Q7. Calculate the 95% confidence interval for a sample of data with a mean of 50 and a standard deviation of 5. Interpret the results.\n",
    "# Answer :->"
   ]
  },
  {
   "cell_type": "markdown",
   "id": "e350ac38-61aa-4814-ac04-86333ad16a50",
   "metadata": {
    "tags": []
   },
   "source": [
    "### To calculate the 95% confidence interval for a sample mean, you can use the formula:\n",
    "\n",
    "### Confidence Interval= X(bar)±Z(8/(root_sqrt(n))\n",
    "#### Where:\n",
    "1. X(bar)is the sample mean,\n",
    "2. Z is the critical value from the standard normal distribution corresponding to the desired confidence level (for 95%, Z≈1.96),\n",
    "3. s is the sample standard deviation,\n",
    "4. n is the sample size.\n",
    "\n",
    "### Given your values:\n",
    "1. X(bar)=50,\n",
    "2. s=5,\n",
    "3. Confidence level = 95% (so Z≈1.96).\n",
    "#### Assuming you have a reasonably large sample size (if not, you'd use the t-distribution for smaller sample sizes), you can calculate the confidence interval:\n",
    "\n",
    "## Confidence Interval=50±1.96(5/root_sqrt(n) )\n",
    "\n",
    "### Now, since you haven't provided the sample size (n), I'll provide the general form, and you can substitute the actual value for n into the formula.\n",
    "\n",
    "## Interpretation:\n",
    "#### For a 95% confidence level, the confidence interval provides a range of values within which we are 95% confident the true population mean lies. In this case, if you were to take many random samples and calculate a 95% confidence interval for each, you would expect that the true population mean would be captured by the interval in 95% of those samples.\n",
    "\n",
    "#### For example, if the calculated confidence interval is (48.2, 51.8), it means we are 95% confident that the true population mean lies between 48.2 and 51.8.\n",
    "\n",
    "#### Remember, the wider the interval, the more uncertainty there is about the estimate, and factors such as sample size and variability influence the width of the interval.\n"
   ]
  },
  {
   "cell_type": "markdown",
   "id": "4a0a7472-8137-4351-8aae-3f54009760ff",
   "metadata": {},
   "source": [
    "# Q8. What is the margin of error in a confidence interval? How does sample size affect the margin of error? Provide an example of a scenario where a larger sample size would result in a smaller margin of error.\n",
    "# Answer :->"
   ]
  },
  {
   "cell_type": "markdown",
   "id": "4c21ca40-3c31-44ca-87e2-d5a50125e62b",
   "metadata": {},
   "source": [
    "### The margin of error (MOE) in a confidence interval is a measure of the precision or uncertainty associated with the estimate of a population parameter. It represents the range above and below the point estimate (sample statistic), within which the true population parameter is likely to fall with a certain level of confidence.\n",
    "\n",
    "### The general formula for calculating the margin of error for a confidence interval is:\n",
    "\n",
    "# Margin of Error (MOE)=Critical Value×Standard Error\n",
    "\n",
    "1. The Critical Value is determined based on the desired confidence level and is usually obtained from a standard normal distribution or a t-distribution table.\n",
    "2. The Standard Error depends on the variability of the data and is often based on the sample standard deviation and sample size.\n",
    "### How Sample Size Affects the Margin of Error:\n",
    "1. As the sample size (n) increases, the margin of error decreases. This relationship is due to the fact that larger sample sizes result in a more precise estimate of the population parameter.\n",
    "\n",
    "2. The relationship between sample size and margin of error is captured by the formula for the standard error (SE):\n",
    "\n",
    "# SE = 8/root n\n",
    "### where \n",
    "1. s is the sample standard deviation. As n increases, the denominator root n becomes larger, and the standard error decreases. Consequently, a smaller standard error leads to a smaller margin of error.\n",
    "\n",
    "### Example:\n",
    "#### Suppose you are estimating the average time it takes for customers to complete a certain task on a website. You take two different samples: one with a sample size of 50 and another with a sample size of 200. You calculate 95% confidence intervals for both samples.\n",
    "\n",
    "1. For the sample with n=50, the margin of error might be, for instance, ±2.0 minutes.\n",
    "2. For the sample with n=200, the margin of error might be, for instance, ±1.0 minute.\n",
    "\n",
    "##### In this example, the larger sample size (200) results in a smaller margin of error compared to the smaller sample size (50). This means that with the larger sample size, you have a more precise estimate of the true population mean, and your confidence interval is narrower.\n"
   ]
  },
  {
   "cell_type": "markdown",
   "id": "8b1823cd-2a55-4e39-b326-af72c5755931",
   "metadata": {},
   "source": [
    "# Q9. Calculate the z-score for a data point with a value of 75, a population mean of 70, and a population standard deviation of 5. Interpret the results.\n",
    "# Answer :->"
   ]
  },
  {
   "cell_type": "markdown",
   "id": "32ecd086-cb52-4cf2-9d3a-89b4cc699bd0",
   "metadata": {},
   "source": [
    "### To calculate the z-score for a data point, we can use the formula:\n",
    "\n",
    "## Z = (X−μ)/σ\n",
    "\n",
    " \n",
    "\n",
    "##### where:\n",
    "\n",
    "1. X is the data point,\n",
    "2. μ is the population mean,\n",
    "3. σ is the population standard deviation.\n",
    "\n",
    "##### Given your values:\n",
    "\n",
    "1. X=75,\n",
    "2. μ=70,\n",
    "3. σ=5,\n",
    "\n",
    "##### Substitute these values into the formula:\n",
    "\n",
    "## Z = (75−70)/5 = 1\n",
    "\n",
    "## The calculated z-score is 1.\n",
    "\n",
    "### Interpretation:\n",
    "##### A z-score of 1 indicates that the data point (75) is 1 standard deviation above the mean in the given population. In a standard normal distribution, which has a mean of 0 and a standard deviation of 1, a z-score of 1 corresponds to being in the 84th percentile. This means that the data point is higher than approximately 84% of the data in the distribution.\n",
    "\n",
    "##### In summary, a z-score provides information about how many standard deviations a particular data point is from the mean, and the sign of the z-score indicates whether the data point is above or below the mean. In this case, the z-score of 1 suggests that the data point is above the mean.\n"
   ]
  },
  {
   "cell_type": "markdown",
   "id": "399931d8-df8f-4219-a9a7-4e8820fbfa8e",
   "metadata": {},
   "source": [
    "# Q10. In a study of the effectiveness of a new weight loss drug, a sample of 50 participants lost an average of 6 pounds with a standard deviation of 2.5 pounds. Conduct a hypothesis test to determine if the drug is significantly effective at a 95% confidence level using a t-test.\n",
    "# Answer :->"
   ]
  },
  {
   "cell_type": "markdown",
   "id": "01090480-c6e2-4354-a892-5d4a3947344a",
   "metadata": {},
   "source": [
    "### To conduct a hypothesis test using a t-test for the effectiveness of the weight loss drug, we can set up the null and alternative hypotheses and then perform the t-test. The null hypothesis (H0) typically assumes no effect, while the alternative hypothesis (H1 or Ha) asserts the presence of an effect.\n",
    "\n",
    "### Let's set up the hypotheses:\n",
    "\n",
    "#### Null Hypothesis (H0): The drug is not significantly effective; the mean weight loss (μ) is equal to or less than zero.\n",
    "## H0:μ≤0\n",
    "#### Alternative Hypothesis (H1): The drug is significantly effective; the mean weight loss (μ) is greater than zero.\n",
    "## H1:μ>0\n",
    "\n",
    "#### Next, we'll perform the t-test using the provided information. The t-test statistic is given by the formula:\n",
    "## t= (X(bar)-μ0)/(8/root(n))\n",
    "\n",
    "#### Where:\n",
    "\n",
    "1. X(bar) is the sample mean,\n",
    "2. μ0 is the hypothesized population mean under the null hypothesis,\n",
    "3. s is the sample standard deviation,\n",
    "4. n is the sample size.\n",
    "\n",
    "#### Given your values:\n",
    "\n",
    "1. X(bar) =6 (average weight loss in pounds),\n",
    "2. μ0(null hypothesis value) is typically assumed to be 0 since we're testing if the drug has any effect,\n",
    "3. s=2.5 (sample standard deviation),\n",
    "4. n=50 (sample size).\n",
    "\n",
    "#### Now, we can calculate the t-test statistic and compare it with the critical value for a one-tailed test at a 95% confidence level. Since we are testing if the mean weight loss is greater than zero, it's a right-tailed test.\n",
    "\n",
    "#### After calculating the t-test statistic, you can compare it with the critical value from a t-distribution table or use statistical software to obtain the p-value. If the p-value is less than the significance level (typically 0.05 for a 95% confidence level), you reject the null hypothesis.\n",
    "\n",
    "#### Please note that the interpretation of the result should consider both statistical significance and practical significance."
   ]
  },
  {
   "cell_type": "markdown",
   "id": "76a24241-817e-4a6b-8312-cde5e296dc7f",
   "metadata": {},
   "source": [
    "# Q11. In a survey of 500 people, 65% reported being satisfied with their current job. Calculate the 95% confidence interval for the true proportion of people who are satisfied with their job.\n",
    "# Answer :->"
   ]
  },
  {
   "cell_type": "markdown",
   "id": "6f5b5705-2059-45aa-a0aa-2a3b1ef6b80f",
   "metadata": {},
   "source": [
    "### To calculate the 95% confidence interval for the true proportion of people who are satisfied with their job, we can use the formula for the confidence interval for a population proportion:\n",
    "# Confidence Interval= p ± Z root((p^(1− p^))/n)\n",
    "\n",
    "#### where:\n",
    "\n",
    "1. p^is the sample proportion,\n",
    "2. Z is the critical value from the standard normal distribution corresponding to the desired confidence level,\n",
    "3. n is the sample size.\n",
    "\n",
    "#### Given your values:\n",
    "\n",
    "1. p^=0.65 (sample proportion),\n",
    "2. n=500 (sample size),\n",
    "3. Confidence level = 95%, so Z≈1.96 (the critical value for a 95% confidence interval).\n",
    "\n",
    "#### Now, substitute these values into the formula:\n",
    "\n",
    "1. Confidence Interval = 0.65 ± 1.96 root(0.65×(1−0.65))/500)\n",
    "2. Now, calculate the margin of error and construct the confidence interval:_ _ _Confidence Interval=0.65±1.96×  root(0.65×0.35)/500)\n",
    "3. Now, calculate the confidence interval:_ _ _Confidence Interval=0.65±1.96×0.0341\n",
    "4. Confidence Interval=(0.650−0.0668,0.650+0.0668)\n",
    "5. Confidence Interval=(0.5832,0.7168)\n",
    "\n",
    "### Therefore, the 95% confidence interval for the true proportion of people who are satisfied with their job is approximately (58.32%, 71.68%). This means we are 95% confident that the true proportion of satisfied individuals falls within this range based on the sample data."
   ]
  },
  {
   "cell_type": "markdown",
   "id": "c32e9b97-c70b-444e-8642-9397a843e886",
   "metadata": {},
   "source": [
    "# Q12. A researcher is testing the effectiveness of two different teaching methods on student performance. Sample A has a mean score of 85 with a standard deviation of 6, while sample B has a mean score of 82 with a standard deviation of 5. Conduct a hypothesis test to determine if the two teaching methods have a significant difference in student performance using a t-test with a significance level of 0.01.\n",
    "# Answer :->"
   ]
  },
  {
   "cell_type": "markdown",
   "id": "373aacdc-a201-4333-9664-7020b4842289",
   "metadata": {},
   "source": [
    "#### To conduct a hypothesis test for the difference in means between two independent samples, you can use a t-test. The null hypothesis (H0) typically assumes no difference, while the alternative hypothesis (H1 or Ha) asserts the presence of a significant difference.\n",
    "\n",
    "#### Let's set up the hypotheses:\n",
    "\n",
    "#### Null Hypothesis (H0): There is no significant difference in the mean scores between the two teaching methods.\n",
    "## H0: μA− μB=0\n",
    "\n",
    "#### Alternative Hypothesis (H1): There is a significant difference in the mean scores between the two teaching methods.\n",
    "## H1:μA− μB ≠ 0\n",
    "\n",
    "#### Now, we'll perform a two-sample t-test to compare the means of the two samples. The t-test statistic for the difference in means is given by the formula:\n",
    "\n",
    "## t = (XˉA - XˉB) - root((s**2A/nA)+(s**2B/nB))\n",
    "\n",
    "#### Where:\n",
    "\n",
    "\n",
    "1. XˉA and XˉBare the sample means,\n",
    "2. sA and sBare the sample standard deviations,\n",
    "3. nA and nB are the sample sizes.\n",
    "\n",
    "\n",
    "##### Given your values:\n",
    "\n",
    "\n",
    "1. XˉA =85,\n",
    "2. sA=6,\n",
    "3. nA(sample size for Sample A) is not provided, so let's assume nA =30 as an example,\n",
    "4. XˉB =82,\n",
    "5. sB=5,\n",
    "6. nB(sample size for Sample B) is not provided, so let's assume nB =30 as an example.\n",
    "\n",
    "#### Let's calculate the t-test statistic and compare it with the critical value for a two-tailed test at a significance level of 0.01.\n",
    "\n",
    "\n",
    "## t= (85−82)/root((6**2/30)+(5**2/30))\n",
    "\n",
    " \n",
    "\n",
    "#### After calculating the t-test statistic, compare it with the critical value from a t-distribution table or use statistical software to obtain the p-value. If the p-value is less than the significance level, you reject the null hypothesis.\n",
    "\n",
    "#### Please note that the interpretation of the result should consider both statistical significance and practical significance."
   ]
  },
  {
   "cell_type": "markdown",
   "id": "b92beee7-0b30-4d45-8b8b-20d5e092a187",
   "metadata": {},
   "source": [
    "# Q13. A population has a mean of 60 and a standard deviation of 8. A sample of 50 observations has a mean of 65. Calculate the 90% confidence interval for the true population mean.\n",
    "# Answer :->"
   ]
  },
  {
   "cell_type": "markdown",
   "id": "ffe3b165-56dc-414a-9d14-0378fd2b9947",
   "metadata": {},
   "source": [
    "#### To calculate the 90% confidence interval for the true population mean, you can use the formula for the confidence interval for a population mean:\n",
    "\n",
    "## Confidence Interval = Xˉ ±Z (σ/root(n))\n",
    "\n",
    "#### where:\n",
    "\n",
    "1. Xˉ is the sample mean,\n",
    "2. Z is the critical value from the standard normal distribution corresponding to the desired confidence level,\n",
    "3. σ is the population standard deviation,\n",
    "4. n is the sample size.\n",
    "\n",
    "#### Given your values:\n",
    "\n",
    "1. Xˉ =65 (sample mean),\n",
    "2. Z for a 90% confidence interval is approximately 1.645,\n",
    "3. σ=8 (population standard deviation),\n",
    "4. n=50 (sample size).\n",
    "\n",
    "#### Now, substitute these values into the formula:\n",
    "\n",
    "#### Confidence Interval=65±1.645(8/root(50))\n",
    "\n",
    "#### Now, calculate the margin of error and construct the confidence interval:\n",
    "\n",
    "#### Confidence Interval=65±1.645×(8/root(50))\n",
    "\n",
    "#### Now, calculate the confidence interval:\n",
    "\n",
    "#### Confidence Interval=65±1.645×1.131\n",
    "\n",
    "## Confidence Interval=(63.68,66.32)\n",
    "\n",
    "##### Therefore, the 90% confidence interval for the true population mean is approximately (63.68, 66.32). This means we are 90% confident that the true population mean falls within this range based on the sample data."
   ]
  },
  {
   "cell_type": "markdown",
   "id": "1a715e79-4fce-468e-8cba-dbe289cd96a0",
   "metadata": {},
   "source": [
    "# Q14. In a study of the effects of caffeine on reaction time, a sample of 30 participants had an average reaction time of 0.25 seconds with a standard deviation of 0.05 seconds. Conduct a hypothesis test to determine if the caffeine has a significant effect on reaction time at a 90% confidence level using a t-test.\n",
    "# Answer :->"
   ]
  },
  {
   "cell_type": "markdown",
   "id": "e0d1d5ce-60aa-4914-90cd-4d958407e3bf",
   "metadata": {},
   "source": [
    "### To conduct a hypothesis test for the effect of caffeine on reaction time using a t-test, we need to set up the null and alternative hypotheses and perform the t-test. The null hypothesis (H0) typically assumes no effect, while the alternative hypothesis (H1 or Ha) asserts the presence of a significant effect.\n",
    "\n",
    "#### Let's set up the hypotheses:\n",
    "\n",
    "#### Null Hypothesis (H0): Caffeine has no significant effect on reaction time; the mean reaction time is equal to or less than a certain value.\n",
    "\n",
    "## H0:μ≤a specified value\n",
    "\n",
    "#### Alternative Hypothesis (H1): Caffeine has a significant effect on reaction time; the mean reaction time is less than the specified value.\n",
    "\n",
    "## H1:μ>a specified value\n",
    "\n",
    "#### Given your values:\n",
    "\n",
    "1. Sample mean (Xˉ) = 0.25 seconds,\n",
    "2. Sample standard deviation (s) = 0.05 seconds,\n",
    "3. Sample size (n) = 30,\n",
    "4. Confidence level = 90%.\n",
    "#### Now, we'll perform a one-sample t-test. The t-test statistic for a one-sample t-test is given by the formula:\n",
    "\n",
    "## t= (Xˉ − μ )/(8/root(n))\n",
    "\n",
    "### #where:\n",
    "\n",
    "1. Xˉ is the sample mean,\n",
    "2. μ0 is the hypothesized population mean under the null hypothesis,\n",
    "3. s is the sample standard deviation,\n",
    "4. n is the sample size.\n",
    "\n",
    "#### In this case, the null hypothesis (H0) does not specify a particular value for the population mean, so we'll assume μ0 = 0 (no effect of caffeine on reaction time).\n",
    "\n",
    "## t = (0.25−0) / 0.05/(root(30))\n",
    "\n",
    "#### Now, calculate the t-test statistic and compare it with the critical value from a t-distribution table or use statistical software to obtain the p-value. If the p-value is less than the significance level (0.10 for a 90% confidence level), you reject the null hypothesis.\n",
    "\n",
    "#### Please note that the interpretation of the result should consider both statistical significance and practical significance."
   ]
  },
  {
   "cell_type": "markdown",
   "id": "98e68a10-283f-45ec-b57e-d19d8de5cf9b",
   "metadata": {},
   "source": [
    "# -----------------------------------     Thank You     --------------------------------------------"
   ]
  },
  {
   "cell_type": "code",
   "execution_count": null,
   "id": "259d7a1b-b902-40e7-877d-514ec4e9afa0",
   "metadata": {},
   "outputs": [],
   "source": []
  }
 ],
 "metadata": {
  "kernelspec": {
   "display_name": "Python 3 (ipykernel)",
   "language": "python",
   "name": "python3"
  },
  "language_info": {
   "codemirror_mode": {
    "name": "ipython",
    "version": 3
   },
   "file_extension": ".py",
   "mimetype": "text/x-python",
   "name": "python",
   "nbconvert_exporter": "python",
   "pygments_lexer": "ipython3",
   "version": "3.10.8"
  }
 },
 "nbformat": 4,
 "nbformat_minor": 5
}
