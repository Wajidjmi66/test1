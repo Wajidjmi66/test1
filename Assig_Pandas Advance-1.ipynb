{
 "cells": [
  {
   "cell_type": "markdown",
   "id": "ba8da859-dc20-42b6-90dd-be5c062a92d9",
   "metadata": {},
   "source": [
    "# Q1. List any five functions of the pandas library with execution.\n",
    "\n",
    "# Answer :->"
   ]
  },
  {
   "cell_type": "markdown",
   "id": "a3bc8a98-b7e1-44d3-a3c1-982a22fdb62f",
   "metadata": {},
   "source": [
    "### Here are five functions from the pandas library along with their execution:"
   ]
  },
  {
   "cell_type": "markdown",
   "id": "7f82f69c-c443-4ac7-a92b-dc155128e34c",
   "metadata": {},
   "source": [
    "## 1. read_csv(): Reads a CSV file into a DataFrame."
   ]
  },
  {
   "cell_type": "code",
   "execution_count": 1,
   "id": "8fa3dc88-d4ba-48a8-a1af-5fed83df3177",
   "metadata": {},
   "outputs": [],
   "source": [
    "import pandas as pd\n",
    "df = pd.read_csv(\"https://raw.githubusercontent.com/datasciencedojo/datasets/master/titanic.csv\")"
   ]
  },
  {
   "cell_type": "markdown",
   "id": "5e5a072f-a464-4a79-bb56-5c285ae0c1a6",
   "metadata": {},
   "source": [
    "## 2. head(): Displays the first few rows of a DataFrame."
   ]
  },
  {
   "cell_type": "code",
   "execution_count": 4,
   "id": "4d6bdbad-03f7-4606-9c9e-bcde79108523",
   "metadata": {},
   "outputs": [
    {
     "data": {
      "text/html": [
       "<div>\n",
       "<style scoped>\n",
       "    .dataframe tbody tr th:only-of-type {\n",
       "        vertical-align: middle;\n",
       "    }\n",
       "\n",
       "    .dataframe tbody tr th {\n",
       "        vertical-align: top;\n",
       "    }\n",
       "\n",
       "    .dataframe thead th {\n",
       "        text-align: right;\n",
       "    }\n",
       "</style>\n",
       "<table border=\"1\" class=\"dataframe\">\n",
       "  <thead>\n",
       "    <tr style=\"text-align: right;\">\n",
       "      <th></th>\n",
       "      <th>PassengerId</th>\n",
       "      <th>Survived</th>\n",
       "      <th>Pclass</th>\n",
       "      <th>Name</th>\n",
       "      <th>Sex</th>\n",
       "      <th>Age</th>\n",
       "      <th>SibSp</th>\n",
       "      <th>Parch</th>\n",
       "      <th>Ticket</th>\n",
       "      <th>Fare</th>\n",
       "      <th>Cabin</th>\n",
       "      <th>Embarked</th>\n",
       "    </tr>\n",
       "  </thead>\n",
       "  <tbody>\n",
       "    <tr>\n",
       "      <th>0</th>\n",
       "      <td>1</td>\n",
       "      <td>0</td>\n",
       "      <td>3</td>\n",
       "      <td>Braund, Mr. Owen Harris</td>\n",
       "      <td>male</td>\n",
       "      <td>22.0</td>\n",
       "      <td>1</td>\n",
       "      <td>0</td>\n",
       "      <td>A/5 21171</td>\n",
       "      <td>7.2500</td>\n",
       "      <td>NaN</td>\n",
       "      <td>S</td>\n",
       "    </tr>\n",
       "    <tr>\n",
       "      <th>1</th>\n",
       "      <td>2</td>\n",
       "      <td>1</td>\n",
       "      <td>1</td>\n",
       "      <td>Cumings, Mrs. John Bradley (Florence Briggs Th...</td>\n",
       "      <td>female</td>\n",
       "      <td>38.0</td>\n",
       "      <td>1</td>\n",
       "      <td>0</td>\n",
       "      <td>PC 17599</td>\n",
       "      <td>71.2833</td>\n",
       "      <td>C85</td>\n",
       "      <td>C</td>\n",
       "    </tr>\n",
       "    <tr>\n",
       "      <th>2</th>\n",
       "      <td>3</td>\n",
       "      <td>1</td>\n",
       "      <td>3</td>\n",
       "      <td>Heikkinen, Miss. Laina</td>\n",
       "      <td>female</td>\n",
       "      <td>26.0</td>\n",
       "      <td>0</td>\n",
       "      <td>0</td>\n",
       "      <td>STON/O2. 3101282</td>\n",
       "      <td>7.9250</td>\n",
       "      <td>NaN</td>\n",
       "      <td>S</td>\n",
       "    </tr>\n",
       "    <tr>\n",
       "      <th>3</th>\n",
       "      <td>4</td>\n",
       "      <td>1</td>\n",
       "      <td>1</td>\n",
       "      <td>Futrelle, Mrs. Jacques Heath (Lily May Peel)</td>\n",
       "      <td>female</td>\n",
       "      <td>35.0</td>\n",
       "      <td>1</td>\n",
       "      <td>0</td>\n",
       "      <td>113803</td>\n",
       "      <td>53.1000</td>\n",
       "      <td>C123</td>\n",
       "      <td>S</td>\n",
       "    </tr>\n",
       "    <tr>\n",
       "      <th>4</th>\n",
       "      <td>5</td>\n",
       "      <td>0</td>\n",
       "      <td>3</td>\n",
       "      <td>Allen, Mr. William Henry</td>\n",
       "      <td>male</td>\n",
       "      <td>35.0</td>\n",
       "      <td>0</td>\n",
       "      <td>0</td>\n",
       "      <td>373450</td>\n",
       "      <td>8.0500</td>\n",
       "      <td>NaN</td>\n",
       "      <td>S</td>\n",
       "    </tr>\n",
       "  </tbody>\n",
       "</table>\n",
       "</div>"
      ],
      "text/plain": [
       "   PassengerId  Survived  Pclass  \\\n",
       "0            1         0       3   \n",
       "1            2         1       1   \n",
       "2            3         1       3   \n",
       "3            4         1       1   \n",
       "4            5         0       3   \n",
       "\n",
       "                                                Name     Sex   Age  SibSp  \\\n",
       "0                            Braund, Mr. Owen Harris    male  22.0      1   \n",
       "1  Cumings, Mrs. John Bradley (Florence Briggs Th...  female  38.0      1   \n",
       "2                             Heikkinen, Miss. Laina  female  26.0      0   \n",
       "3       Futrelle, Mrs. Jacques Heath (Lily May Peel)  female  35.0      1   \n",
       "4                           Allen, Mr. William Henry    male  35.0      0   \n",
       "\n",
       "   Parch            Ticket     Fare Cabin Embarked  \n",
       "0      0         A/5 21171   7.2500   NaN        S  \n",
       "1      0          PC 17599  71.2833   C85        C  \n",
       "2      0  STON/O2. 3101282   7.9250   NaN        S  \n",
       "3      0            113803  53.1000  C123        S  \n",
       "4      0            373450   8.0500   NaN        S  "
      ]
     },
     "execution_count": 4,
     "metadata": {},
     "output_type": "execute_result"
    }
   ],
   "source": [
    "df.head()"
   ]
  },
  {
   "cell_type": "markdown",
   "id": "2d1bdc3c-cbcb-4381-8230-99c6a75ecc4b",
   "metadata": {},
   "source": [
    "## 3. info(): Provides a concise summary of a DataFrame, including data types and non-null counts."
   ]
  },
  {
   "cell_type": "code",
   "execution_count": 5,
   "id": "2b48285c-c867-4d4c-b821-28a7e922a453",
   "metadata": {},
   "outputs": [
    {
     "name": "stdout",
     "output_type": "stream",
     "text": [
      "<class 'pandas.core.frame.DataFrame'>\n",
      "RangeIndex: 891 entries, 0 to 890\n",
      "Data columns (total 12 columns):\n",
      " #   Column       Non-Null Count  Dtype  \n",
      "---  ------       --------------  -----  \n",
      " 0   PassengerId  891 non-null    int64  \n",
      " 1   Survived     891 non-null    int64  \n",
      " 2   Pclass       891 non-null    int64  \n",
      " 3   Name         891 non-null    object \n",
      " 4   Sex          891 non-null    object \n",
      " 5   Age          714 non-null    float64\n",
      " 6   SibSp        891 non-null    int64  \n",
      " 7   Parch        891 non-null    int64  \n",
      " 8   Ticket       891 non-null    object \n",
      " 9   Fare         891 non-null    float64\n",
      " 10  Cabin        204 non-null    object \n",
      " 11  Embarked     889 non-null    object \n",
      "dtypes: float64(2), int64(5), object(5)\n",
      "memory usage: 83.7+ KB\n"
     ]
    }
   ],
   "source": [
    "df.info()"
   ]
  },
  {
   "cell_type": "markdown",
   "id": "64709399-0109-4380-955a-e4aa599cb6f6",
   "metadata": {},
   "source": [
    "## 4. describe(): Generates descriptive statistics of a DataFrame."
   ]
  },
  {
   "cell_type": "code",
   "execution_count": 6,
   "id": "05ac33e9-a087-4e86-a4e0-8237c6836f90",
   "metadata": {},
   "outputs": [
    {
     "data": {
      "text/html": [
       "<div>\n",
       "<style scoped>\n",
       "    .dataframe tbody tr th:only-of-type {\n",
       "        vertical-align: middle;\n",
       "    }\n",
       "\n",
       "    .dataframe tbody tr th {\n",
       "        vertical-align: top;\n",
       "    }\n",
       "\n",
       "    .dataframe thead th {\n",
       "        text-align: right;\n",
       "    }\n",
       "</style>\n",
       "<table border=\"1\" class=\"dataframe\">\n",
       "  <thead>\n",
       "    <tr style=\"text-align: right;\">\n",
       "      <th></th>\n",
       "      <th>PassengerId</th>\n",
       "      <th>Survived</th>\n",
       "      <th>Pclass</th>\n",
       "      <th>Age</th>\n",
       "      <th>SibSp</th>\n",
       "      <th>Parch</th>\n",
       "      <th>Fare</th>\n",
       "    </tr>\n",
       "  </thead>\n",
       "  <tbody>\n",
       "    <tr>\n",
       "      <th>count</th>\n",
       "      <td>891.000000</td>\n",
       "      <td>891.000000</td>\n",
       "      <td>891.000000</td>\n",
       "      <td>714.000000</td>\n",
       "      <td>891.000000</td>\n",
       "      <td>891.000000</td>\n",
       "      <td>891.000000</td>\n",
       "    </tr>\n",
       "    <tr>\n",
       "      <th>mean</th>\n",
       "      <td>446.000000</td>\n",
       "      <td>0.383838</td>\n",
       "      <td>2.308642</td>\n",
       "      <td>29.699118</td>\n",
       "      <td>0.523008</td>\n",
       "      <td>0.381594</td>\n",
       "      <td>32.204208</td>\n",
       "    </tr>\n",
       "    <tr>\n",
       "      <th>std</th>\n",
       "      <td>257.353842</td>\n",
       "      <td>0.486592</td>\n",
       "      <td>0.836071</td>\n",
       "      <td>14.526497</td>\n",
       "      <td>1.102743</td>\n",
       "      <td>0.806057</td>\n",
       "      <td>49.693429</td>\n",
       "    </tr>\n",
       "    <tr>\n",
       "      <th>min</th>\n",
       "      <td>1.000000</td>\n",
       "      <td>0.000000</td>\n",
       "      <td>1.000000</td>\n",
       "      <td>0.420000</td>\n",
       "      <td>0.000000</td>\n",
       "      <td>0.000000</td>\n",
       "      <td>0.000000</td>\n",
       "    </tr>\n",
       "    <tr>\n",
       "      <th>25%</th>\n",
       "      <td>223.500000</td>\n",
       "      <td>0.000000</td>\n",
       "      <td>2.000000</td>\n",
       "      <td>20.125000</td>\n",
       "      <td>0.000000</td>\n",
       "      <td>0.000000</td>\n",
       "      <td>7.910400</td>\n",
       "    </tr>\n",
       "    <tr>\n",
       "      <th>50%</th>\n",
       "      <td>446.000000</td>\n",
       "      <td>0.000000</td>\n",
       "      <td>3.000000</td>\n",
       "      <td>28.000000</td>\n",
       "      <td>0.000000</td>\n",
       "      <td>0.000000</td>\n",
       "      <td>14.454200</td>\n",
       "    </tr>\n",
       "    <tr>\n",
       "      <th>75%</th>\n",
       "      <td>668.500000</td>\n",
       "      <td>1.000000</td>\n",
       "      <td>3.000000</td>\n",
       "      <td>38.000000</td>\n",
       "      <td>1.000000</td>\n",
       "      <td>0.000000</td>\n",
       "      <td>31.000000</td>\n",
       "    </tr>\n",
       "    <tr>\n",
       "      <th>max</th>\n",
       "      <td>891.000000</td>\n",
       "      <td>1.000000</td>\n",
       "      <td>3.000000</td>\n",
       "      <td>80.000000</td>\n",
       "      <td>8.000000</td>\n",
       "      <td>6.000000</td>\n",
       "      <td>512.329200</td>\n",
       "    </tr>\n",
       "  </tbody>\n",
       "</table>\n",
       "</div>"
      ],
      "text/plain": [
       "       PassengerId    Survived      Pclass         Age       SibSp  \\\n",
       "count   891.000000  891.000000  891.000000  714.000000  891.000000   \n",
       "mean    446.000000    0.383838    2.308642   29.699118    0.523008   \n",
       "std     257.353842    0.486592    0.836071   14.526497    1.102743   \n",
       "min       1.000000    0.000000    1.000000    0.420000    0.000000   \n",
       "25%     223.500000    0.000000    2.000000   20.125000    0.000000   \n",
       "50%     446.000000    0.000000    3.000000   28.000000    0.000000   \n",
       "75%     668.500000    1.000000    3.000000   38.000000    1.000000   \n",
       "max     891.000000    1.000000    3.000000   80.000000    8.000000   \n",
       "\n",
       "            Parch        Fare  \n",
       "count  891.000000  891.000000  \n",
       "mean     0.381594   32.204208  \n",
       "std      0.806057   49.693429  \n",
       "min      0.000000    0.000000  \n",
       "25%      0.000000    7.910400  \n",
       "50%      0.000000   14.454200  \n",
       "75%      0.000000   31.000000  \n",
       "max      6.000000  512.329200  "
      ]
     },
     "execution_count": 6,
     "metadata": {},
     "output_type": "execute_result"
    }
   ],
   "source": [
    "df.describe()"
   ]
  },
  {
   "cell_type": "markdown",
   "id": "c68058a3-dfaf-4b16-9fa7-6ee9d929e365",
   "metadata": {},
   "source": [
    "## 5.  tail(): Displays the last few rows of a DataFrame.bydefault this will display five rows."
   ]
  },
  {
   "cell_type": "code",
   "execution_count": 9,
   "id": "52b11670-f799-4941-9b6e-a24ade843886",
   "metadata": {},
   "outputs": [
    {
     "data": {
      "text/html": [
       "<div>\n",
       "<style scoped>\n",
       "    .dataframe tbody tr th:only-of-type {\n",
       "        vertical-align: middle;\n",
       "    }\n",
       "\n",
       "    .dataframe tbody tr th {\n",
       "        vertical-align: top;\n",
       "    }\n",
       "\n",
       "    .dataframe thead th {\n",
       "        text-align: right;\n",
       "    }\n",
       "</style>\n",
       "<table border=\"1\" class=\"dataframe\">\n",
       "  <thead>\n",
       "    <tr style=\"text-align: right;\">\n",
       "      <th></th>\n",
       "      <th>PassengerId</th>\n",
       "      <th>Survived</th>\n",
       "      <th>Pclass</th>\n",
       "      <th>Name</th>\n",
       "      <th>Sex</th>\n",
       "      <th>Age</th>\n",
       "      <th>SibSp</th>\n",
       "      <th>Parch</th>\n",
       "      <th>Ticket</th>\n",
       "      <th>Fare</th>\n",
       "      <th>Cabin</th>\n",
       "      <th>Embarked</th>\n",
       "    </tr>\n",
       "  </thead>\n",
       "  <tbody>\n",
       "    <tr>\n",
       "      <th>886</th>\n",
       "      <td>887</td>\n",
       "      <td>0</td>\n",
       "      <td>2</td>\n",
       "      <td>Montvila, Rev. Juozas</td>\n",
       "      <td>male</td>\n",
       "      <td>27.0</td>\n",
       "      <td>0</td>\n",
       "      <td>0</td>\n",
       "      <td>211536</td>\n",
       "      <td>13.00</td>\n",
       "      <td>NaN</td>\n",
       "      <td>S</td>\n",
       "    </tr>\n",
       "    <tr>\n",
       "      <th>887</th>\n",
       "      <td>888</td>\n",
       "      <td>1</td>\n",
       "      <td>1</td>\n",
       "      <td>Graham, Miss. Margaret Edith</td>\n",
       "      <td>female</td>\n",
       "      <td>19.0</td>\n",
       "      <td>0</td>\n",
       "      <td>0</td>\n",
       "      <td>112053</td>\n",
       "      <td>30.00</td>\n",
       "      <td>B42</td>\n",
       "      <td>S</td>\n",
       "    </tr>\n",
       "    <tr>\n",
       "      <th>888</th>\n",
       "      <td>889</td>\n",
       "      <td>0</td>\n",
       "      <td>3</td>\n",
       "      <td>Johnston, Miss. Catherine Helen \"Carrie\"</td>\n",
       "      <td>female</td>\n",
       "      <td>NaN</td>\n",
       "      <td>1</td>\n",
       "      <td>2</td>\n",
       "      <td>W./C. 6607</td>\n",
       "      <td>23.45</td>\n",
       "      <td>NaN</td>\n",
       "      <td>S</td>\n",
       "    </tr>\n",
       "    <tr>\n",
       "      <th>889</th>\n",
       "      <td>890</td>\n",
       "      <td>1</td>\n",
       "      <td>1</td>\n",
       "      <td>Behr, Mr. Karl Howell</td>\n",
       "      <td>male</td>\n",
       "      <td>26.0</td>\n",
       "      <td>0</td>\n",
       "      <td>0</td>\n",
       "      <td>111369</td>\n",
       "      <td>30.00</td>\n",
       "      <td>C148</td>\n",
       "      <td>C</td>\n",
       "    </tr>\n",
       "    <tr>\n",
       "      <th>890</th>\n",
       "      <td>891</td>\n",
       "      <td>0</td>\n",
       "      <td>3</td>\n",
       "      <td>Dooley, Mr. Patrick</td>\n",
       "      <td>male</td>\n",
       "      <td>32.0</td>\n",
       "      <td>0</td>\n",
       "      <td>0</td>\n",
       "      <td>370376</td>\n",
       "      <td>7.75</td>\n",
       "      <td>NaN</td>\n",
       "      <td>Q</td>\n",
       "    </tr>\n",
       "  </tbody>\n",
       "</table>\n",
       "</div>"
      ],
      "text/plain": [
       "     PassengerId  Survived  Pclass                                      Name  \\\n",
       "886          887         0       2                     Montvila, Rev. Juozas   \n",
       "887          888         1       1              Graham, Miss. Margaret Edith   \n",
       "888          889         0       3  Johnston, Miss. Catherine Helen \"Carrie\"   \n",
       "889          890         1       1                     Behr, Mr. Karl Howell   \n",
       "890          891         0       3                       Dooley, Mr. Patrick   \n",
       "\n",
       "        Sex   Age  SibSp  Parch      Ticket   Fare Cabin Embarked  \n",
       "886    male  27.0      0      0      211536  13.00   NaN        S  \n",
       "887  female  19.0      0      0      112053  30.00   B42        S  \n",
       "888  female   NaN      1      2  W./C. 6607  23.45   NaN        S  \n",
       "889    male  26.0      0      0      111369  30.00  C148        C  \n",
       "890    male  32.0      0      0      370376   7.75   NaN        Q  "
      ]
     },
     "execution_count": 9,
     "metadata": {},
     "output_type": "execute_result"
    }
   ],
   "source": [
    "df.tail()"
   ]
  },
  {
   "cell_type": "markdown",
   "id": "b31f0fa6-76c4-43e1-9586-72629ce174e8",
   "metadata": {},
   "source": [
    "# Q2. Given a Pandas DataFrame df with columns 'A', 'B', and 'C', write a Python function to re-index the DataFrame with a new index that starts from 1 and increments by 2 for each row.\n",
    "\n",
    "# Answer :->"
   ]
  },
  {
   "cell_type": "code",
   "execution_count": 10,
   "id": "84ef610b-da99-4ae9-b15a-d77a5fcddbe7",
   "metadata": {},
   "outputs": [],
   "source": [
    "# Sample DataFrame\n",
    "data = {\n",
    "    'A': [10, 20, 30, 40],\n",
    "    'B': [50, 60, 70, 80],\n",
    "    'C': [90, 100, 110, 120]\n",
    "}\n",
    "\n",
    "df = pd.DataFrame(data)"
   ]
  },
  {
   "cell_type": "code",
   "execution_count": 11,
   "id": "403c82c7-01ae-4c67-9d79-791b993504b5",
   "metadata": {},
   "outputs": [],
   "source": [
    "def reindex_with_increment(df):\n",
    "    # Resetting the index to default (0, 1, 2, ...)\n",
    "    df.reset_index(drop=True, inplace=True)\n",
    "    \n",
    "    # Creating a new index starting from 1 and incrementing by 2\n",
    "    new_index = pd.Series(range(1, len(df) * 2, 2))\n",
    "    \n",
    "    # Re-indexing the DataFrame with the new index\n",
    "    df.index = new_index\n",
    "    \n",
    "    return df"
   ]
  },
  {
   "cell_type": "code",
   "execution_count": 12,
   "id": "7068d745-2f9b-4496-8cbd-289d58cadce4",
   "metadata": {},
   "outputs": [
    {
     "name": "stdout",
     "output_type": "stream",
     "text": [
      "    A   B    C\n",
      "1  10  50   90\n",
      "3  20  60  100\n",
      "5  30  70  110\n",
      "7  40  80  120\n"
     ]
    }
   ],
   "source": [
    "result = reindex_with_increment(df)\n",
    "print(result)\n"
   ]
  },
  {
   "cell_type": "markdown",
   "id": "b7381fcb-46ed-487a-b66c-a857d233e161",
   "metadata": {},
   "source": [
    "## Q3. You have a Pandas DataFrame df with a column named 'Values'. Write a Python function that iterates over the DataFrame and calculates the sum of the first three values in the 'Values' column. The function should print the sum to the console.\n",
    "## For example, if the 'Values' column of df contains the values [10, 20, 30, 40, 50], your function should calculate and print the sum of the first three values, which is 60.\n",
    "\n",
    "# Answer:->"
   ]
  },
  {
   "cell_type": "code",
   "execution_count": 16,
   "id": "5e9fddc7-ffef-4844-8acd-4bafdd292e56",
   "metadata": {},
   "outputs": [
    {
     "name": "stdout",
     "output_type": "stream",
     "text": [
      "Sum of the first three values: 60\n"
     ]
    }
   ],
   "source": [
    "import pandas as pd\n",
    "\n",
    "# Sample DataFrame\n",
    "data = {\n",
    "    'Values': [10, 20, 30, 40, 50]\n",
    "}\n",
    "\n",
    "df = pd.DataFrame(data)\n",
    "\n",
    "def sum_first_three_values(df):\n",
    "    # Extracting the 'Values' column and calculating the sum of the first three values\n",
    "    first_three_sum = df['Values'].head(3).sum()\n",
    "    \n",
    "    # Printing the sum to the console\n",
    "    print(\"Sum of the first three values:\", first_three_sum)\n",
    "\n",
    "# Call the function with your DataFrame\n",
    "sum_first_three_values(df)\n"
   ]
  },
  {
   "cell_type": "markdown",
   "id": "7ba273f0-8313-4c9b-b9cc-9e4c6f9ac6c4",
   "metadata": {},
   "source": [
    "# Q4. Given a Pandas DataFrame df with a column 'Text', write a Python function to create a new column 'Word_Count' that contains the number of words in each row of the 'Text' column.\n",
    "\n",
    "# Answer:->"
   ]
  },
  {
   "cell_type": "code",
   "execution_count": 17,
   "id": "f7c03b7c-f166-45d9-af81-8561e9eddf4d",
   "metadata": {},
   "outputs": [
    {
     "name": "stdout",
     "output_type": "stream",
     "text": [
      "                          Text  Word_Count\n",
      "0       This is a sample text.           5\n",
      "1   Count the number of words.           5\n",
      "2  Pandas DataFrame operation.           3\n"
     ]
    }
   ],
   "source": [
    "import pandas as pd\n",
    "\n",
    "# Sample DataFrame\n",
    "data = {\n",
    "    'Text': [\n",
    "        'This is a sample text.',\n",
    "        'Count the number of words.',\n",
    "        'Pandas DataFrame operation.'\n",
    "    ]\n",
    "}\n",
    "\n",
    "df = pd.DataFrame(data)\n",
    "\n",
    "def add_word_count_column(df):\n",
    "    # Function to count words in a text\n",
    "    word_count = lambda text: len(text.split())\n",
    "    \n",
    "    # Create 'Word_Count' column by applying word_count function to 'Text' column\n",
    "    df['Word_Count'] = df['Text'].apply(word_count)\n",
    "    \n",
    "    return df\n",
    "\n",
    "# Call the function with your DataFrame\n",
    "result = add_word_count_column(df)\n",
    "print(result)\n"
   ]
  },
  {
   "cell_type": "markdown",
   "id": "7f621f00-8c84-4925-8c55-d07b1236302c",
   "metadata": {},
   "source": [
    "# Q5. How are DataFrame.size() and DataFrame.shape() different?\n",
    "\n",
    "# Answer:->"
   ]
  },
  {
   "cell_type": "markdown",
   "id": "c83ca646-3ff5-44ff-86e2-fa216278a642",
   "metadata": {},
   "source": [
    "\n",
    "### DataFrame.size and DataFrame.shape are different attributes of a pandas DataFrame:\n",
    "\n",
    "### DataFrame.size: This attribute represents the total number of elements in the DataFrame. It calculates the size by multiplying the number of rows by the number of columns. Therefore, DataFrame.size returns a single integer value representing the total number of elements in the DataFrame.\n",
    "\n",
    "### DataFrame.shape: This attribute returns a tuple representing the dimensions of the DataFrame. It returns a tuple in the format (number of rows, number of columns). It gives you a breakdown of the DataFrame's structure in terms of rows and columns, providing two separate values to denote the DataFrame's shape.\n",
    "\n",
    "### In summary, DataFrame.size gives the total count of elements in the DataFrame, while DataFrame.shape gives a tuple representing the DataFrame's dimensions in terms of rows and columns."
   ]
  },
  {
   "cell_type": "markdown",
   "id": "917f6e04-ed9a-4629-ba6b-560fd5f88db3",
   "metadata": {},
   "source": [
    "# Q6. Which function of pandas do we use to read an excel file?\n",
    "\n",
    "# Answer:->"
   ]
  },
  {
   "cell_type": "code",
   "execution_count": 19,
   "id": "777e9140-c996-4394-b943-47200fccb823",
   "metadata": {},
   "outputs": [
    {
     "data": {
      "text/html": [
       "<div>\n",
       "<style scoped>\n",
       "    .dataframe tbody tr th:only-of-type {\n",
       "        vertical-align: middle;\n",
       "    }\n",
       "\n",
       "    .dataframe tbody tr th {\n",
       "        vertical-align: top;\n",
       "    }\n",
       "\n",
       "    .dataframe thead th {\n",
       "        text-align: right;\n",
       "    }\n",
       "</style>\n",
       "<table border=\"1\" class=\"dataframe\">\n",
       "  <thead>\n",
       "    <tr style=\"text-align: right;\">\n",
       "      <th></th>\n",
       "      <th>Unnamed: 0</th>\n",
       "      <th>Unnamed: 1</th>\n",
       "      <th>Unnamed: 2</th>\n",
       "      <th>Unnamed: 3</th>\n",
       "      <th>Unnamed: 4</th>\n",
       "      <th>Unnamed: 5</th>\n",
       "      <th>Unnamed: 6</th>\n",
       "      <th>Unnamed: 7</th>\n",
       "      <th>Unnamed: 8</th>\n",
       "      <th>Unnamed: 9</th>\n",
       "    </tr>\n",
       "  </thead>\n",
       "  <tbody>\n",
       "    <tr>\n",
       "      <th>0</th>\n",
       "      <td>NaN</td>\n",
       "      <td>NaN</td>\n",
       "      <td>NaN</td>\n",
       "      <td>NaN</td>\n",
       "      <td>NaN</td>\n",
       "      <td>NaN</td>\n",
       "      <td>NaN</td>\n",
       "      <td>NaN</td>\n",
       "      <td>NaN</td>\n",
       "      <td>NaN</td>\n",
       "    </tr>\n",
       "    <tr>\n",
       "      <th>1</th>\n",
       "      <td>NaN</td>\n",
       "      <td>NaN</td>\n",
       "      <td>NaN</td>\n",
       "      <td>Datetimes in LUSID</td>\n",
       "      <td>NaN</td>\n",
       "      <td>NaN</td>\n",
       "      <td>NaN</td>\n",
       "      <td>NaN</td>\n",
       "      <td>NaN</td>\n",
       "      <td>NaN</td>\n",
       "    </tr>\n",
       "    <tr>\n",
       "      <th>2</th>\n",
       "      <td>NaN</td>\n",
       "      <td>NaN</td>\n",
       "      <td>NaN</td>\n",
       "      <td>NaN</td>\n",
       "      <td>NaN</td>\n",
       "      <td>NaN</td>\n",
       "      <td>NaN</td>\n",
       "      <td>NaN</td>\n",
       "      <td>NaN</td>\n",
       "      <td>NaN</td>\n",
       "    </tr>\n",
       "    <tr>\n",
       "      <th>3</th>\n",
       "      <td>NaN</td>\n",
       "      <td>NaN</td>\n",
       "      <td>NaN</td>\n",
       "      <td>This sheet allows you to format datetimes for...</td>\n",
       "      <td>NaN</td>\n",
       "      <td>NaN</td>\n",
       "      <td>NaN</td>\n",
       "      <td>NaN</td>\n",
       "      <td>NaN</td>\n",
       "      <td>NaN</td>\n",
       "    </tr>\n",
       "    <tr>\n",
       "      <th>4</th>\n",
       "      <td>NaN</td>\n",
       "      <td>NaN</td>\n",
       "      <td>NaN</td>\n",
       "      <td>If you have any questions please visit our:</td>\n",
       "      <td>NaN</td>\n",
       "      <td>NaN</td>\n",
       "      <td>NaN</td>\n",
       "      <td>NaN</td>\n",
       "      <td>NaN</td>\n",
       "      <td>NaN</td>\n",
       "    </tr>\n",
       "  </tbody>\n",
       "</table>\n",
       "</div>"
      ],
      "text/plain": [
       "   Unnamed: 0  Unnamed: 1  Unnamed: 2  \\\n",
       "0         NaN         NaN         NaN   \n",
       "1         NaN         NaN         NaN   \n",
       "2         NaN         NaN         NaN   \n",
       "3         NaN         NaN         NaN   \n",
       "4         NaN         NaN         NaN   \n",
       "\n",
       "                                          Unnamed: 3 Unnamed: 4 Unnamed: 5  \\\n",
       "0                                                NaN        NaN        NaN   \n",
       "1                                 Datetimes in LUSID        NaN        NaN   \n",
       "2                                                NaN        NaN        NaN   \n",
       "3   This sheet allows you to format datetimes for...        NaN        NaN   \n",
       "4        If you have any questions please visit our:        NaN        NaN   \n",
       "\n",
       "   Unnamed: 6 Unnamed: 7 Unnamed: 8 Unnamed: 9  \n",
       "0         NaN        NaN        NaN        NaN  \n",
       "1         NaN        NaN        NaN        NaN  \n",
       "2         NaN        NaN        NaN        NaN  \n",
       "3         NaN        NaN        NaN        NaN  \n",
       "4         NaN        NaN        NaN        NaN  "
      ]
     },
     "execution_count": 19,
     "metadata": {},
     "output_type": "execute_result"
    }
   ],
   "source": [
    "# Reading an Excel file named 'data.xlsx' from the current directory\n",
    "data = pd.read_excel('LUSID.xlsx')\n",
    "\n",
    "# Displaying the first few rows of the DataFrame\n",
    "data.head()\n"
   ]
  },
  {
   "cell_type": "markdown",
   "id": "4fa8711f-7e2a-49d4-9f20-952ad8353ac4",
   "metadata": {},
   "source": [
    "## Q7. You have a Pandas DataFrame df that contains a column named 'Email' that contains email addresses in the format 'username@domain.com'. Write a Python function that creates a new column 'Username' in df that contains only the username part of each email address.\n",
    "\n",
    "## The username is the part of the email address that appears before the '@' symbol. For example, if theemail address is 'john.doe@example.com', the 'Username' column should contain 'john.doe'. Your function should extract the username from each email address and store it in the new 'Username' column.\n",
    "\n",
    "# Answer :->"
   ]
  },
  {
   "cell_type": "code",
   "execution_count": 22,
   "id": "cc533244-16a2-4215-9e2f-f50269920620",
   "metadata": {},
   "outputs": [
    {
     "name": "stdout",
     "output_type": "stream",
     "text": [
      "                      Email        Username\n",
      "0           user1@gmail.com           user1\n",
      "1     anotheruser@gmail.com     anotheruser\n",
      "2        testuser@gmail.com        testuser\n",
      "3  datascience373@gmail.com  datascience373\n",
      "4           wajid@gmail.com           wajid\n"
     ]
    }
   ],
   "source": [
    "data = {\n",
    "    'Email': [\n",
    "        'user1@gmail.com',\n",
    "        'anotheruser@gmail.com',\n",
    "        'testuser@gmail.com',\n",
    "        'datascience373@gmail.com',\n",
    "        'wajid@gmail.com'\n",
    "    ]\n",
    "}\n",
    "\n",
    "df = pd.DataFrame(data)\n",
    "\n",
    "def extract_username(df):\n",
    "    # Extracting username using split('@')\n",
    "    df['Username'] = df['Email'].apply(lambda x: x.split('@')[0])\n",
    "    \n",
    "    return df\n",
    "\n",
    "# Call the function with your DataFrame\n",
    "result = extract_username(df)\n",
    "print(result)"
   ]
  },
  {
   "cell_type": "markdown",
   "id": "d61e58ba-77e9-4d24-8585-5311ca61c5dd",
   "metadata": {},
   "source": [
    "## Q8. You have a Pandas DataFrame df with columns 'A', 'B', and 'C'. Write a Python function that selects all rows where the value in column 'A' is greater than 5 and the value in column 'B' is less than 10. The  function should return a new DataFrame that contains only the selected rows.\n",
    "#### For example, if df contains the following values:\n",
    "####   A B C\n",
    "#### 0 3 5 1\n",
    "#### 1 8 2 7\n",
    "#### 2 6 9 4\n",
    "#### 3 2 3 5\n",
    "#### 4 9 1 2\n",
    "## Your function should select the following rows: A B C\n",
    "#### 1 8 2 7\n",
    "#### 4 9 1 2\n",
    "## The function should return a new DataFrame that contains only the selected rows.\n",
    "\n",
    "# Answer :->"
   ]
  },
  {
   "cell_type": "code",
   "execution_count": 23,
   "id": "1cde1b2b-ba76-4ff0-9c6a-6833c675cf47",
   "metadata": {},
   "outputs": [
    {
     "name": "stdout",
     "output_type": "stream",
     "text": [
      "   A  B  C\n",
      "1  8  2  7\n",
      "2  6  9  4\n",
      "4  9  1  2\n"
     ]
    }
   ],
   "source": [
    "data = {\n",
    "    'A': [3, 8, 6, 2, 9],\n",
    "    'B': [5, 2, 9, 3, 1],\n",
    "    'C': [1, 7, 4, 5, 2]\n",
    "}\n",
    "\n",
    "df = pd.DataFrame(data)\n",
    "\n",
    "def filter_dataframe(df):\n",
    "    # Filtering rows based on conditions\n",
    "    filtered_df = df[(df['A'] > 5) & (df['B'] < 10)]\n",
    "    \n",
    "    return filtered_df\n",
    "\n",
    "# Call the function with your DataFrame\n",
    "result = filter_dataframe(df)\n",
    "print(result)"
   ]
  },
  {
   "cell_type": "markdown",
   "id": "1caa5684-6454-47d0-999b-2c57ea5a05ae",
   "metadata": {},
   "source": [
    "## Q9. Given a Pandas DataFrame df with a column 'Values', write a Python function to calculate the mean, median, and standard deviation of the values in the 'Values' column.\n",
    "## Answer:->"
   ]
  },
  {
   "cell_type": "code",
   "execution_count": 24,
   "id": "f37fd69a-147b-4907-a25d-c90154ce1923",
   "metadata": {},
   "outputs": [
    {
     "name": "stdout",
     "output_type": "stream",
     "text": [
      "Mean: 30.0\n",
      "Median: 30.0\n",
      "Standard Deviation: 15.811388300841896\n"
     ]
    }
   ],
   "source": [
    "data = {\n",
    "    'Values': [10, 20, 30, 40, 50]\n",
    "}\n",
    "\n",
    "df = pd.DataFrame(data)\n",
    "\n",
    "def calculate_stats(df):\n",
    "    # Calculating mean, median, and standard deviation\n",
    "    mean_value = df['Values'].mean()\n",
    "    median_value = df['Values'].median()\n",
    "    std_deviation = df['Values'].std()\n",
    "    \n",
    "    return mean_value, median_value, std_deviation\n",
    "\n",
    "# Call the function with your DataFrame\n",
    "mean, median, std = calculate_stats(df)\n",
    "print(\"Mean:\", mean)\n",
    "print(\"Median:\", median)\n",
    "print(\"Standard Deviation:\", std)"
   ]
  },
  {
   "cell_type": "markdown",
   "id": "3f8a990c-2fb9-4b75-aae3-986559ceb5ca",
   "metadata": {},
   "source": [
    "## Q10. Given a Pandas DataFrame df with a column 'Sales' and a column 'Date', write a Python function to create a new column 'MovingAverage' that contains the moving average of the sales for the past 7 days for each row in the DataFrame. The moving average should be calculated using a window of size 7 and should include the current day.\n",
    "\n",
    "## Answer :->"
   ]
  },
  {
   "cell_type": "code",
   "execution_count": 25,
   "id": "f68e5397-61cd-4278-93b6-1bc298d7442e",
   "metadata": {},
   "outputs": [
    {
     "name": "stdout",
     "output_type": "stream",
     "text": [
      "         Date  Sales  MovingAverage\n",
      "0  2023-01-01     50      50.000000\n",
      "1  2023-01-02     60      55.000000\n",
      "2  2023-01-03     70      60.000000\n",
      "3  2023-01-04     65      61.250000\n",
      "4  2023-01-05     80      65.000000\n",
      "5  2023-01-06     75      66.666667\n",
      "6  2023-01-07     90      70.000000\n",
      "7  2023-01-08     85      75.000000\n",
      "8  2023-01-09    100      80.714286\n",
      "9  2023-01-10     95      84.285714\n",
      "10 2023-01-11    110      90.714286\n",
      "11 2023-01-12    105      94.285714\n",
      "12 2023-01-13    120     100.714286\n",
      "13 2023-01-14    115     104.285714\n",
      "14 2023-01-15    130     110.714286\n",
      "15 2023-01-16    125     114.285714\n",
      "16 2023-01-17    140     120.714286\n",
      "17 2023-01-18    135     124.285714\n",
      "18 2023-01-19    150     130.714286\n",
      "19 2023-01-20    145     134.285714\n",
      "20 2023-01-21    160     140.714286\n",
      "21 2023-01-22    155     144.285714\n",
      "22 2023-01-23    170     150.714286\n",
      "23 2023-01-24    165     154.285714\n",
      "24 2023-01-25    180     160.714286\n",
      "25 2023-01-26    175     164.285714\n",
      "26 2023-01-27    190     170.714286\n",
      "27 2023-01-28    185     174.285714\n",
      "28 2023-01-29    200     180.714286\n",
      "29 2023-01-30    195     184.285714\n"
     ]
    }
   ],
   "source": [
    "data = {\n",
    "    'Date': pd.date_range(start='2023-01-01', periods=30),\n",
    "    'Sales': [50, 60, 70, 65, 80, 75, 90, 85, 100, 95, 110, 105, 120, 115, 130, 125, 140, 135, 150, 145, 160, 155, 170, 165, 180, 175, 190, 185, 200, 195]\n",
    "}\n",
    "\n",
    "df = pd.DataFrame(data)\n",
    "\n",
    "def calculate_moving_average(df):\n",
    "    # Calculating moving average using a window of size 7\n",
    "    df['MovingAverage'] = df['Sales'].rolling(window=7, min_periods=1).mean()\n",
    "    \n",
    "    return df\n",
    "\n",
    "# Call the function with your DataFrame\n",
    "result = calculate_moving_average(df)\n",
    "print(result[['Date', 'Sales', 'MovingAverage']])\n"
   ]
  },
  {
   "cell_type": "markdown",
   "id": "4e6d3572-7a7c-4870-a87e-bfdc0e5b8659",
   "metadata": {},
   "source": [
    "## Q11. You have a Pandas DataFrame df with a column 'Date'. Write a Python function that creates a new column 'Weekday' in the DataFrame. The 'Weekday' column should contain the weekday name (e.g. Monday, Tuesday) corresponding to each date in the 'Date' column. For example, if df contains the following values:\n",
    "Date\n",
    "0 2023-01-01\n",
    "1 2023-01-02\n",
    "2 2023-01-03\n",
    "3 2023-01-04\n",
    "4 2023-01-05\n",
    "Your function should create the following DataFrame:\n",
    "\n",
    "Date Weekday\n",
    "0 2023-01-01 Sunday\n",
    "1 2023-01-02 Monday\n",
    "2 2023-01-03 Tuesday\n",
    "3 2023-01-04 Wednesday\n",
    "4 2023-01-05 Thursday\n",
    "The function should return the modified DataFrame.\n",
    "\n",
    "# Answer :->"
   ]
  },
  {
   "cell_type": "code",
   "execution_count": 26,
   "id": "a9de4ff0-620f-4cb3-b697-e1d731b52eac",
   "metadata": {},
   "outputs": [
    {
     "name": "stdout",
     "output_type": "stream",
     "text": [
      "        Date    Weekday\n",
      "0 2023-01-01     Sunday\n",
      "1 2023-01-02     Monday\n",
      "2 2023-01-03    Tuesday\n",
      "3 2023-01-04  Wednesday\n",
      "4 2023-01-05   Thursday\n"
     ]
    }
   ],
   "source": [
    "data = {\n",
    "    'Date': pd.date_range(start='2023-01-01', periods=5)\n",
    "}\n",
    "\n",
    "df = pd.DataFrame(data)\n",
    "\n",
    "def add_weekday_column(df):\n",
    "    # Extracting weekday names from the 'Date' column\n",
    "    df['Weekday'] = df['Date'].dt.day_name()\n",
    "    \n",
    "    return df\n",
    "\n",
    "# Call the function with your DataFrame\n",
    "result = add_weekday_column(df)\n",
    "print(result)"
   ]
  },
  {
   "cell_type": "markdown",
   "id": "e3ef252d-179b-4d66-ba06-0a80ab175384",
   "metadata": {},
   "source": [
    "## Q12. Given a Pandas DataFrame df with a column 'Date' that contains timestamps, write a Python function to select all rows where the date is between '2023-01-01' and '2023-01-31'.\n",
    "\n",
    "## Answer :->"
   ]
  },
  {
   "cell_type": "code",
   "execution_count": 27,
   "id": "76582b1a-30d9-466e-81d1-db8736fde35d",
   "metadata": {},
   "outputs": [
    {
     "name": "stdout",
     "output_type": "stream",
     "text": [
      "         Date\n",
      "0  2023-01-01\n",
      "1  2023-01-02\n",
      "2  2023-01-03\n",
      "3  2023-01-04\n",
      "4  2023-01-05\n",
      "5  2023-01-06\n",
      "6  2023-01-07\n",
      "7  2023-01-08\n",
      "8  2023-01-09\n",
      "9  2023-01-10\n",
      "10 2023-01-11\n",
      "11 2023-01-12\n",
      "12 2023-01-13\n",
      "13 2023-01-14\n",
      "14 2023-01-15\n",
      "15 2023-01-16\n",
      "16 2023-01-17\n",
      "17 2023-01-18\n",
      "18 2023-01-19\n",
      "19 2023-01-20\n",
      "20 2023-01-21\n",
      "21 2023-01-22\n",
      "22 2023-01-23\n",
      "23 2023-01-24\n",
      "24 2023-01-25\n",
      "25 2023-01-26\n",
      "26 2023-01-27\n",
      "27 2023-01-28\n",
      "28 2023-01-29\n",
      "29 2023-01-30\n",
      "30 2023-01-31\n"
     ]
    }
   ],
   "source": [
    "import pandas as pd\n",
    "\n",
    "# Sample DataFrame\n",
    "data = {\n",
    "    'Date': pd.date_range(start='2023-01-01', periods=50)\n",
    "}\n",
    "\n",
    "df = pd.DataFrame(data)\n",
    "\n",
    "def select_date_range(df):\n",
    "    # Filtering rows based on date range\n",
    "    filtered_df = df[(df['Date'] >= '2023-01-01') & (df['Date'] <= '2023-01-31')]\n",
    "    \n",
    "    return filtered_df\n",
    "\n",
    "# Call the function with your DataFrame\n",
    "result = select_date_range(df)\n",
    "print(result)\n"
   ]
  },
  {
   "cell_type": "markdown",
   "id": "fd933db0-c314-49d6-b32d-b36e25c8ee6b",
   "metadata": {},
   "source": [
    "## Q13. To use the basic functions of pandas, what is the first and foremost necessary library that needs to be imported?\n",
    "\n",
    "## Answer :->"
   ]
  },
  {
   "cell_type": "markdown",
   "id": "357131fc-18f7-40ca-bd9e-592bc82e579b",
   "metadata": {},
   "source": [
    "## To use the basic functions of pandas, we need to import the pandas library itself. The standard convention is to import pandas using the alias pd. Here's how you typically import pandas:"
   ]
  },
  {
   "cell_type": "code",
   "execution_count": 28,
   "id": "f2a9d9fb-fa1b-4ea9-a257-fa796df6dc1a",
   "metadata": {},
   "outputs": [],
   "source": [
    "import pandas as pd"
   ]
  },
  {
   "cell_type": "markdown",
   "id": "bc3f3bdb-2c0e-40f7-9b8b-350c30cce4b1",
   "metadata": {},
   "source": [
    "## Once imported, we can use the functionalities provided by pandas by referencing them through the pd alias. For instance, pd.DataFrame() creates a pandas DataFrame, pd.read_csv() reads a CSV file into a DataFrame, and so on."
   ]
  },
  {
   "cell_type": "markdown",
   "id": "b21250b3-8099-4aad-b5c9-33bd93b67a02",
   "metadata": {},
   "source": [
    "# ------------------------------------------------ Thank You ----------------------------------------------------------"
   ]
  },
  {
   "cell_type": "code",
   "execution_count": null,
   "id": "97ddb176-8c51-4e72-ac72-e62a346fa078",
   "metadata": {},
   "outputs": [],
   "source": []
  }
 ],
 "metadata": {
  "kernelspec": {
   "display_name": "Python 3 (ipykernel)",
   "language": "python",
   "name": "python3"
  },
  "language_info": {
   "codemirror_mode": {
    "name": "ipython",
    "version": 3
   },
   "file_extension": ".py",
   "mimetype": "text/x-python",
   "name": "python",
   "nbconvert_exporter": "python",
   "pygments_lexer": "ipython3",
   "version": "3.10.8"
  }
 },
 "nbformat": 4,
 "nbformat_minor": 5
}
