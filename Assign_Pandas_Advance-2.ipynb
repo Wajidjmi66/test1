{
 "cells": [
  {
   "cell_type": "markdown",
   "id": "becdab73-1c00-4564-aa55-fe465d7c47da",
   "metadata": {},
   "source": [
    "## Consider following code to answer further questions:"
   ]
  },
  {
   "cell_type": "code",
   "execution_count": 1,
   "id": "44e7c43a-21b3-4805-b5f9-9ce70676dea5",
   "metadata": {},
   "outputs": [],
   "source": [
    "import pandas as pd\n",
    "course_name = ['Data Science', 'Machine Learning', 'Big Data', 'Data Engineer']\n",
    "duration = [2,3,6,4]\n",
    "df = pd.DataFrame(data = {'course_name' : course_name, 'duration' : duration})"
   ]
  },
  {
   "cell_type": "code",
   "execution_count": 2,
   "id": "dcffdb50-56d1-4167-b408-ffb59221173c",
   "metadata": {},
   "outputs": [
    {
     "data": {
      "text/html": [
       "<div>\n",
       "<style scoped>\n",
       "    .dataframe tbody tr th:only-of-type {\n",
       "        vertical-align: middle;\n",
       "    }\n",
       "\n",
       "    .dataframe tbody tr th {\n",
       "        vertical-align: top;\n",
       "    }\n",
       "\n",
       "    .dataframe thead th {\n",
       "        text-align: right;\n",
       "    }\n",
       "</style>\n",
       "<table border=\"1\" class=\"dataframe\">\n",
       "  <thead>\n",
       "    <tr style=\"text-align: right;\">\n",
       "      <th></th>\n",
       "      <th>course_name</th>\n",
       "      <th>duration</th>\n",
       "    </tr>\n",
       "  </thead>\n",
       "  <tbody>\n",
       "    <tr>\n",
       "      <th>0</th>\n",
       "      <td>Data Science</td>\n",
       "      <td>2</td>\n",
       "    </tr>\n",
       "    <tr>\n",
       "      <th>1</th>\n",
       "      <td>Machine Learning</td>\n",
       "      <td>3</td>\n",
       "    </tr>\n",
       "    <tr>\n",
       "      <th>2</th>\n",
       "      <td>Big Data</td>\n",
       "      <td>6</td>\n",
       "    </tr>\n",
       "    <tr>\n",
       "      <th>3</th>\n",
       "      <td>Data Engineer</td>\n",
       "      <td>4</td>\n",
       "    </tr>\n",
       "  </tbody>\n",
       "</table>\n",
       "</div>"
      ],
      "text/plain": [
       "        course_name  duration\n",
       "0      Data Science         2\n",
       "1  Machine Learning         3\n",
       "2          Big Data         6\n",
       "3     Data Engineer         4"
      ]
     },
     "execution_count": 2,
     "metadata": {},
     "output_type": "execute_result"
    }
   ],
   "source": [
    "df"
   ]
  },
  {
   "cell_type": "markdown",
   "id": "2e3136bc-f666-4a70-ba9a-a638f9b6d4d2",
   "metadata": {},
   "source": [
    "## Q1. Write a code to print the data present in the second row of the dataframe, df."
   ]
  },
  {
   "cell_type": "markdown",
   "id": "8d354331-b3bc-4c64-b38a-cef2a3063caa",
   "metadata": {},
   "source": [
    "### Answer :->"
   ]
  },
  {
   "cell_type": "code",
   "execution_count": 3,
   "id": "2c13396b-245b-4982-b0a4-efc04377dab7",
   "metadata": {},
   "outputs": [
    {
     "name": "stdout",
     "output_type": "stream",
     "text": [
      "course_name    Machine Learning\n",
      "duration                      3\n",
      "Name: 1, dtype: object\n"
     ]
    }
   ],
   "source": [
    "print(df.iloc[1])"
   ]
  },
  {
   "cell_type": "code",
   "execution_count": 4,
   "id": "001c9323-93c4-423e-bbcf-240fbf450221",
   "metadata": {},
   "outputs": [
    {
     "name": "stdout",
     "output_type": "stream",
     "text": [
      "course_name    Machine Learning\n",
      "duration                      3\n",
      "Name: 1, dtype: object\n"
     ]
    }
   ],
   "source": [
    "print(df.loc[1])"
   ]
  },
  {
   "cell_type": "markdown",
   "id": "82fdc77e-823b-47ec-bd7c-013e061c082e",
   "metadata": {},
   "source": [
    "## Q2. What is the difference between the functions loc and iloc in pandas.DataFrame?"
   ]
  },
  {
   "cell_type": "markdown",
   "id": "09e64e6c-ce9f-4f8a-a70f-ce920aaa6942",
   "metadata": {},
   "source": [
    "## Answer :->\n",
    "\n",
    "### The loc and iloc functions in pandas DataFrame are used for indexing and selecting data, but they differ in their methods of selection:\n",
    "\n",
    "# loc (label-based selection):\n",
    "\n",
    "1. It is used for selection based on labels (row and column names).\n",
    "2. You provide the actual labels of the rows and columns to extract the data.\n",
    "3. It includes both the start and stop indices specified in the selection.\n",
    "4. The syntax is df.loc[row_label, column_label] or df.loc[row_label] for selecting entire rows."
   ]
  },
  {
   "cell_type": "code",
   "execution_count": 5,
   "id": "6a2ff853-940d-43c4-aa0c-d315ddea8088",
   "metadata": {},
   "outputs": [
    {
     "data": {
      "text/plain": [
       "course_name    Machine Learning\n",
       "duration                      3\n",
       "Name: 1, dtype: object"
      ]
     },
     "execution_count": 5,
     "metadata": {},
     "output_type": "execute_result"
    }
   ],
   "source": [
    "df.loc[1]  # Selects the row with label 1"
   ]
  },
  {
   "cell_type": "markdown",
   "id": "01afc307-443e-49fa-bdfd-61bee3adab6c",
   "metadata": {},
   "source": [
    "# iloc (integer-location based selection):\n",
    "\n",
    "1. It is used for selection based on integer indices (row and column positions).\n",
    "2. You provide the integer positions of the rows and columns to extract the data.\n",
    "3. It includes the start index but excludes the stop index specified in the selection.\n",
    "4. The syntax is df.iloc[row_index, column_index] or df.iloc[row_index] for selecting entire rows."
   ]
  },
  {
   "cell_type": "code",
   "execution_count": 6,
   "id": "c360601b-ef71-45cf-9c88-1cd33003b15c",
   "metadata": {},
   "outputs": [
    {
     "data": {
      "text/plain": [
       "course_name    Machine Learning\n",
       "duration                      3\n",
       "Name: 1, dtype: object"
      ]
     },
     "execution_count": 6,
     "metadata": {},
     "output_type": "execute_result"
    }
   ],
   "source": [
    "df.iloc[1]  # Selects the row at integer position 1"
   ]
  },
  {
   "cell_type": "markdown",
   "id": "0b6b4135-590c-48e0-89de-9d2f0bdf1dd2",
   "metadata": {},
   "source": [
    "#### In summary, the primary difference lies in whether you're specifying selections using labels (loc) or integer positions (iloc). Both can be used to achieve similar results, but the choice depends on whether you want to reference rows and columns by their labels or their integer positions."
   ]
  },
  {
   "cell_type": "markdown",
   "id": "a4eef396-a517-4115-a033-a93bca653d64",
   "metadata": {},
   "source": [
    "## Q3. Reindex the given dataframe using a variable, reindex = [3,0,1,2] and store it in the variable, new_df then find the output for both new_df.loc[2] and new_df.iloc[2].\n",
    "## Did you observe any difference in both the outputs? If so then explain it.\n",
    "## Consider the below code to answer further questions:"
   ]
  },
  {
   "cell_type": "code",
   "execution_count": 7,
   "id": "e2754b66-5c0c-48ed-8e53-1d65bcf697c4",
   "metadata": {},
   "outputs": [
    {
     "name": "stdout",
     "output_type": "stream",
     "text": [
      "Output for new_df.loc[2]:\n",
      "course_name    Big Data\n",
      "duration              6\n",
      "Name: 2, dtype: object\n",
      "\n",
      "Output for new_df.iloc[2]:\n",
      "course_name    Machine Learning\n",
      "duration                      3\n",
      "Name: 1, dtype: object\n"
     ]
    }
   ],
   "source": [
    "import pandas as pd\n",
    "\n",
    "course_name = ['Data Science', 'Machine Learning', 'Big Data', 'Data Engineer']\n",
    "duration = [2, 3, 6, 4]\n",
    "df = pd.DataFrame(data={'course_name': course_name, 'duration': duration})\n",
    "\n",
    "# Reindexing with the given order\n",
    "reindex_order = [3, 0, 1, 2]\n",
    "new_df = df.reindex(reindex_order)\n",
    "\n",
    "# Output for new_df.loc[2]\n",
    "print(\"Output for new_df.loc[2]:\")\n",
    "print(new_df.loc[2])\n",
    "\n",
    "# Output for new_df.iloc[2]\n",
    "print(\"\\nOutput for new_df.iloc[2]:\")\n",
    "print(new_df.iloc[2])"
   ]
  },
  {
   "cell_type": "code",
   "execution_count": 8,
   "id": "dfebfaf3-9135-4307-aded-345133abb3fe",
   "metadata": {},
   "outputs": [],
   "source": [
    "import pandas as pd\n",
    "import numpy as np\n",
    "columns = ['column_1', 'column_2', 'column_3', 'column_4', 'column_5', 'column_6']\n",
    "indices = [1,2,3,4,5,6]\n",
    "#Creating a dataframe:\n",
    "df1 = pd.DataFrame(np.random.rand(6,6), columns = columns, index = indices)"
   ]
  },
  {
   "cell_type": "code",
   "execution_count": 9,
   "id": "e96874cc-37ac-4d1b-b9ec-d083da2478da",
   "metadata": {},
   "outputs": [
    {
     "data": {
      "text/html": [
       "<div>\n",
       "<style scoped>\n",
       "    .dataframe tbody tr th:only-of-type {\n",
       "        vertical-align: middle;\n",
       "    }\n",
       "\n",
       "    .dataframe tbody tr th {\n",
       "        vertical-align: top;\n",
       "    }\n",
       "\n",
       "    .dataframe thead th {\n",
       "        text-align: right;\n",
       "    }\n",
       "</style>\n",
       "<table border=\"1\" class=\"dataframe\">\n",
       "  <thead>\n",
       "    <tr style=\"text-align: right;\">\n",
       "      <th></th>\n",
       "      <th>column_1</th>\n",
       "      <th>column_2</th>\n",
       "      <th>column_3</th>\n",
       "      <th>column_4</th>\n",
       "      <th>column_5</th>\n",
       "      <th>column_6</th>\n",
       "    </tr>\n",
       "  </thead>\n",
       "  <tbody>\n",
       "    <tr>\n",
       "      <th>1</th>\n",
       "      <td>0.243394</td>\n",
       "      <td>0.019933</td>\n",
       "      <td>0.070268</td>\n",
       "      <td>0.716221</td>\n",
       "      <td>0.495714</td>\n",
       "      <td>0.601168</td>\n",
       "    </tr>\n",
       "    <tr>\n",
       "      <th>2</th>\n",
       "      <td>0.659150</td>\n",
       "      <td>0.778837</td>\n",
       "      <td>0.045484</td>\n",
       "      <td>0.178517</td>\n",
       "      <td>0.138462</td>\n",
       "      <td>0.904521</td>\n",
       "    </tr>\n",
       "    <tr>\n",
       "      <th>3</th>\n",
       "      <td>0.981297</td>\n",
       "      <td>0.283620</td>\n",
       "      <td>0.549045</td>\n",
       "      <td>0.263769</td>\n",
       "      <td>0.667886</td>\n",
       "      <td>0.173880</td>\n",
       "    </tr>\n",
       "    <tr>\n",
       "      <th>4</th>\n",
       "      <td>0.700198</td>\n",
       "      <td>0.777450</td>\n",
       "      <td>0.110992</td>\n",
       "      <td>0.933253</td>\n",
       "      <td>0.573484</td>\n",
       "      <td>0.942195</td>\n",
       "    </tr>\n",
       "    <tr>\n",
       "      <th>5</th>\n",
       "      <td>0.492931</td>\n",
       "      <td>0.563614</td>\n",
       "      <td>0.899303</td>\n",
       "      <td>0.217062</td>\n",
       "      <td>0.050420</td>\n",
       "      <td>0.102885</td>\n",
       "    </tr>\n",
       "    <tr>\n",
       "      <th>6</th>\n",
       "      <td>0.257355</td>\n",
       "      <td>0.517199</td>\n",
       "      <td>0.861662</td>\n",
       "      <td>0.795928</td>\n",
       "      <td>0.312070</td>\n",
       "      <td>0.412206</td>\n",
       "    </tr>\n",
       "  </tbody>\n",
       "</table>\n",
       "</div>"
      ],
      "text/plain": [
       "   column_1  column_2  column_3  column_4  column_5  column_6\n",
       "1  0.243394  0.019933  0.070268  0.716221  0.495714  0.601168\n",
       "2  0.659150  0.778837  0.045484  0.178517  0.138462  0.904521\n",
       "3  0.981297  0.283620  0.549045  0.263769  0.667886  0.173880\n",
       "4  0.700198  0.777450  0.110992  0.933253  0.573484  0.942195\n",
       "5  0.492931  0.563614  0.899303  0.217062  0.050420  0.102885\n",
       "6  0.257355  0.517199  0.861662  0.795928  0.312070  0.412206"
      ]
     },
     "execution_count": 9,
     "metadata": {},
     "output_type": "execute_result"
    }
   ],
   "source": [
    "df1"
   ]
  },
  {
   "cell_type": "markdown",
   "id": "79fa6ae1-173f-4803-94e6-4573b02fa05f",
   "metadata": {},
   "source": [
    "## Q4. Write a code to find the following statistical measurements for the above dataframe df1:\n",
    "## (i) mean of each and every column present in the dataframe.\n",
    "## (ii) standard deviation of column, ‘column_2’"
   ]
  },
  {
   "cell_type": "markdown",
   "id": "1426355f-9c67-4f9b-b706-c0fcc89f3be6",
   "metadata": {},
   "source": [
    "## Answer :->"
   ]
  },
  {
   "cell_type": "code",
   "execution_count": 10,
   "id": "791097be-fd16-419c-b87d-61667eb98781",
   "metadata": {},
   "outputs": [
    {
     "name": "stdout",
     "output_type": "stream",
     "text": [
      "Mean of each column:\n",
      "column_1    0.555721\n",
      "column_2    0.490109\n",
      "column_3    0.422792\n",
      "column_4    0.517459\n",
      "column_5    0.373006\n",
      "column_6    0.522809\n",
      "dtype: float64\n"
     ]
    }
   ],
   "source": [
    "# (i) Mean of each and every column\n",
    "mean_values = df1.mean()\n",
    "print(\"Mean of each column:\")\n",
    "print(mean_values)"
   ]
  },
  {
   "cell_type": "code",
   "execution_count": 11,
   "id": "26dd7f7e-e2ce-4b83-88a8-8b81e49a6cc1",
   "metadata": {},
   "outputs": [
    {
     "name": "stdout",
     "output_type": "stream",
     "text": [
      "\n",
      "Standard Deviation of column 'column_2': 0.29521813049884965\n"
     ]
    }
   ],
   "source": [
    "# (ii) Standard deviation of column 'column_2'\n",
    "std_deviation_column_2 = df1['column_2'].std()\n",
    "print(\"\\nStandard Deviation of column 'column_2':\", std_deviation_column_2)"
   ]
  },
  {
   "cell_type": "markdown",
   "id": "4da76483-15f6-4a01-b2b1-7a764d71c47d",
   "metadata": {},
   "source": [
    "## Q5. Replace the data present in the second row of column, ‘column_2’ by a string variable then find the mean of column, column_2.\n",
    "## If you are getting errors in executing it then explain why.\n",
    "## [Hint: To replace the data use df1.loc[] and equate this to string data of your choice.]"
   ]
  },
  {
   "cell_type": "markdown",
   "id": "168a62e4-f07f-478d-98cf-233561024869",
   "metadata": {},
   "source": [
    "## Answer :->"
   ]
  },
  {
   "cell_type": "code",
   "execution_count": 12,
   "id": "b16099dc-c959-45d9-abc3-0059015bacdb",
   "metadata": {},
   "outputs": [
    {
     "name": "stdout",
     "output_type": "stream",
     "text": [
      "Mean of column 'column_2': 0.43236324741339105\n"
     ]
    }
   ],
   "source": [
    "# Replace the data in the second row of 'column_2' with a string variable\n",
    "replacement_value = 'your_string_data'\n",
    "df1.loc[2, 'column_2'] = replacement_value\n",
    "\n",
    "# Convert the column to numeric (if needed)\n",
    "df1['column_2'] = pd.to_numeric(df1['column_2'], errors='coerce')\n",
    "\n",
    "# Find the mean of 'column_2'\n",
    "mean_column_2 = df1['column_2'].mean()\n",
    "print(\"Mean of column 'column_2':\", mean_column_2)"
   ]
  },
  {
   "cell_type": "markdown",
   "id": "5cc7e474-3bc8-4fcf-aa31-b105193554b0",
   "metadata": {},
   "source": [
    "## Q6. What do you understand about the windows function in pandas and list the types of windows functions?\n",
    "## Answer :->"
   ]
  },
  {
   "cell_type": "markdown",
   "id": "8d8c62aa-be0f-44a6-bbd7-f0776631f834",
   "metadata": {},
   "source": [
    "###  In pandas, window functions are operations that perform a computation on a specified subset of data called a \"window\" or \"rolling window.\" These functions are particularly useful for time-series data and other ordered data where you want to perform calculations over a moving or fixed-size window of observations.\n",
    "\n",
    "## Here are some key aspects of window functions in pandas:\n",
    "1. Rolling Windows:\n",
    "2. Expanding Windows:\n",
    "3. Exponential Moving Windows:\n",
    "4. Aggregating Windows:\n",
    "5. Window Functions with GroupBy:"
   ]
  },
  {
   "cell_type": "markdown",
   "id": "6c88bf39-bac8-45d4-ae20-2a14ba98c0c8",
   "metadata": {},
   "source": [
    "## Q7. Write a code to print only the current month and year at the time of answering this question. [Hint: Use pandas.datetime function]"
   ]
  },
  {
   "cell_type": "markdown",
   "id": "19705936-8cee-472b-a029-8c188aa9aabf",
   "metadata": {},
   "source": [
    "## Answer :->"
   ]
  },
  {
   "cell_type": "code",
   "execution_count": 14,
   "id": "f03a1738-c60d-469c-b0f2-1c583fc2b98e",
   "metadata": {},
   "outputs": [
    {
     "name": "stdout",
     "output_type": "stream",
     "text": [
      "2024-01-12 17:11:47.239466\n",
      "Current Month: 1, Current Year: 2024\n"
     ]
    }
   ],
   "source": [
    "import pandas as pd\n",
    "\n",
    "# Get the current date\n",
    "current_date = pd.to_datetime('today')\n",
    "\n",
    "# Extract the current month and year\n",
    "current_month = current_date.month\n",
    "current_year = current_date.year\n",
    "\n",
    "# Print the result\n",
    "print(current_date)\n",
    "print(f\"Current Month: {current_month}, Current Year: {current_year}\")"
   ]
  },
  {
   "cell_type": "markdown",
   "id": "7d90c50c-ac48-4bdf-bcb8-409326610065",
   "metadata": {},
   "source": [
    "### Q8. Write a Python program that takes in two dates as input (in the format YYYY-MM-DD) and calculates the difference between them in days, hours, and minutes using Pandas time delta. The program should prompt the user to enter the dates and display the result.\n",
    "\n",
    "## Answer :->"
   ]
  },
  {
   "cell_type": "code",
   "execution_count": 16,
   "id": "22437511-a43c-41b4-bdc6-305b62afd2ed",
   "metadata": {},
   "outputs": [
    {
     "name": "stdin",
     "output_type": "stream",
     "text": [
      "Enter the first date (YYYY-MM-DD):  2023-01-26\n",
      "Enter the second date (YYYY-MM-DD):  2023-08-15\n"
     ]
    },
    {
     "name": "stdout",
     "output_type": "stream",
     "text": [
      "\n",
      "Time Difference:\n",
      "Days: 201\n",
      "Hours: 0\n",
      "Minutes: 0\n"
     ]
    }
   ],
   "source": [
    "import pandas as pd\n",
    "\n",
    "def calculate_time_difference(date1, date2):\n",
    "    # Convert the input strings to pandas datetime objects\n",
    "    datetime1 = pd.to_datetime(date1, format='%Y-%m-%d')\n",
    "    datetime2 = pd.to_datetime(date2, format='%Y-%m-%d')\n",
    "\n",
    "    # Calculate the time difference\n",
    "    time_difference = datetime2 - datetime1\n",
    "\n",
    "    # Extract days, hours, and minutes\n",
    "    days = time_difference.days\n",
    "    hours, remainder = divmod(time_difference.seconds, 3600)\n",
    "    minutes, _ = divmod(remainder, 60)\n",
    "\n",
    "    return days, hours, minutes\n",
    "\n",
    "# Get user input for two dates\n",
    "date_input1 = input(\"Enter the first date (YYYY-MM-DD): \")\n",
    "date_input2 = input(\"Enter the second date (YYYY-MM-DD): \")\n",
    "\n",
    "# Calculate time difference\n",
    "days_diff, hours_diff, minutes_diff = calculate_time_difference(date_input1, date_input2)\n",
    "\n",
    "# Display the result\n",
    "print(f\"\\nTime Difference:\\nDays: {days_diff}\\nHours: {hours_diff}\\nMinutes: {minutes_diff}\")\n"
   ]
  },
  {
   "cell_type": "markdown",
   "id": "1c3dec88-f679-49c1-9655-6f9d6e32da81",
   "metadata": {},
   "source": [
    "## Q9. Write a Python program that reads a CSV file containing categorical data and converts a specified column to a categorical data type. The program should prompt the user to enter the file path, column name, and category order, and then display the sorted data.\n",
    "\n",
    "## Answer:->"
   ]
  },
  {
   "cell_type": "code",
   "execution_count": 17,
   "id": "5745f4ea-7d23-4599-85d4-b0e38675c179",
   "metadata": {},
   "outputs": [
    {
     "name": "stdin",
     "output_type": "stream",
     "text": [
      "Enter the CSV file path:  cricket_dat.csv\n"
     ]
    },
    {
     "name": "stdout",
     "output_type": "stream",
     "text": [
      "\n",
      "Original Data:\n",
      "    Unnamed: 0  Year        Champions\n",
      "0            0  1975      West Indies\n",
      "1            1  1979  West Indies (2)\n",
      "2            2  1983            India\n",
      "3            3  1987        Australia\n",
      "4            4  1992         Pakistan\n",
      "5            5  1996        Sri Lanka\n",
      "6            6  1999    Australia (2)\n",
      "7            7  2003    Australia (3)\n",
      "8            8  2007    Australia (4)\n",
      "9            9  2011        India (2)\n",
      "10          10  2015    Australia (5)\n",
      "11          11  2019          England\n",
      "12          12  2023    Australia (6)\n"
     ]
    },
    {
     "name": "stdin",
     "output_type": "stream",
     "text": [
      "\n",
      "Enter the column name to convert to categorical:  Year\n",
      "\n",
      "Enter the category order (comma-separated):  3\n"
     ]
    },
    {
     "name": "stdout",
     "output_type": "stream",
     "text": [
      "\n",
      "Sorted Data based on 'Year':\n",
      "    Unnamed: 0 Year        Champions\n",
      "0            0  NaN      West Indies\n",
      "1            1  NaN  West Indies (2)\n",
      "2            2  NaN            India\n",
      "3            3  NaN        Australia\n",
      "4            4  NaN         Pakistan\n",
      "5            5  NaN        Sri Lanka\n",
      "6            6  NaN    Australia (2)\n",
      "7            7  NaN    Australia (3)\n",
      "8            8  NaN    Australia (4)\n",
      "9            9  NaN        India (2)\n",
      "10          10  NaN    Australia (5)\n",
      "11          11  NaN          England\n",
      "12          12  NaN    Australia (6)\n"
     ]
    }
   ],
   "source": [
    "import pandas as pd\n",
    "\n",
    "def convert_to_categorical(dataframe, column_name, category_order):\n",
    "    # Convert the specified column to categorical with custom category order\n",
    "    dataframe[column_name] = pd.Categorical(dataframe[column_name], categories=category_order, ordered=True)\n",
    "\n",
    "def main():\n",
    "    # Prompt the user for the file path\n",
    "    file_path = input(\"Enter the CSV file path: \")\n",
    "\n",
    "    # Read the CSV file\n",
    "    try:\n",
    "        df = pd.read_csv(file_path)\n",
    "    except FileNotFoundError:\n",
    "        print(\"File not found. Please check the file path and try again.\")\n",
    "        return\n",
    "\n",
    "    # Display the original data\n",
    "    print(\"\\nOriginal Data:\")\n",
    "    print(df)\n",
    "\n",
    "    # Prompt the user for the column name\n",
    "    column_name = input(\"\\nEnter the column name to convert to categorical: \")\n",
    "\n",
    "    # Check if the column exists in the DataFrame\n",
    "    if column_name not in df.columns:\n",
    "        print(f\"Column '{column_name}' not found in the DataFrame.\")\n",
    "        return\n",
    "\n",
    "    # Prompt the user for the category order\n",
    "    category_order = input(\"\\nEnter the category order (comma-separated): \").split(',')\n",
    "\n",
    "    # Convert the specified column to categorical\n",
    "    convert_to_categorical(df, column_name, category_order)\n",
    "\n",
    "    # Display the sorted data based on the categorical column\n",
    "    sorted_data = df.sort_values(by=column_name)\n",
    "    print(f\"\\nSorted Data based on '{column_name}':\")\n",
    "    print(sorted_data)\n",
    "\n",
    "if __name__ == \"__main__\":\n",
    "    main()\n"
   ]
  },
  {
   "cell_type": "code",
   "execution_count": null,
   "id": "e570e94a-8d6d-4648-af50-fe4fe9eb2ac7",
   "metadata": {},
   "outputs": [],
   "source": [
    "## ---------------------------------                THANK YOU                 -------------------------------------------"
   ]
  }
 ],
 "metadata": {
  "kernelspec": {
   "display_name": "Python 3 (ipykernel)",
   "language": "python",
   "name": "python3"
  },
  "language_info": {
   "codemirror_mode": {
    "name": "ipython",
    "version": 3
   },
   "file_extension": ".py",
   "mimetype": "text/x-python",
   "name": "python",
   "nbconvert_exporter": "python",
   "pygments_lexer": "ipython3",
   "version": "3.10.8"
  }
 },
 "nbformat": 4,
 "nbformat_minor": 5
}
