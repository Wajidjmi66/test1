{
 "cells": [
  {
   "cell_type": "markdown",
   "id": "76072b4a-2d35-4c47-b42c-9623d37427f8",
   "metadata": {},
   "source": [
    "# Q1 Create a vehicle class with an init method having instance variables as name_of_vehicle, max_speed and average_of_vehicle."
   ]
  },
  {
   "cell_type": "code",
   "execution_count": 1,
   "id": "c0ed421c-59c0-4ad1-9b78-e39a32ee26d7",
   "metadata": {},
   "outputs": [],
   "source": [
    "class vehicle:\n",
    "    \n",
    "    def __init__(self , name_of_vehicle ,max_speed , average_of_vehicle) :\n",
    "        self.name_of_vehicle = name_of_vehicle\n",
    "        self.max_speed = max_speed\n",
    "        self.average_of_vehicle = average_of_vehicle"
   ]
  },
  {
   "cell_type": "code",
   "execution_count": 2,
   "id": "03b078d6-9a3c-47a9-9b2e-02802fc808a9",
   "metadata": {},
   "outputs": [],
   "source": [
    "car = vehicle(\"maruti 800\",120,80)"
   ]
  },
  {
   "cell_type": "code",
   "execution_count": 3,
   "id": "142c232c-f3fa-4371-9b79-68cb5e7807cc",
   "metadata": {},
   "outputs": [
    {
     "data": {
      "text/plain": [
       "'maruti 800'"
      ]
     },
     "execution_count": 3,
     "metadata": {},
     "output_type": "execute_result"
    }
   ],
   "source": [
    "car.name_of_vehicle"
   ]
  },
  {
   "cell_type": "code",
   "execution_count": 4,
   "id": "75b189ca-179f-459d-8fd4-f45aff92c98c",
   "metadata": {},
   "outputs": [
    {
     "data": {
      "text/plain": [
       "80"
      ]
     },
     "execution_count": 4,
     "metadata": {},
     "output_type": "execute_result"
    }
   ],
   "source": [
    "car.average_of_vehicle"
   ]
  },
  {
   "cell_type": "code",
   "execution_count": 5,
   "id": "3a093a10-0e4f-435f-9b9f-944b488e58a4",
   "metadata": {},
   "outputs": [
    {
     "data": {
      "text/plain": [
       "120"
      ]
     },
     "execution_count": 5,
     "metadata": {},
     "output_type": "execute_result"
    }
   ],
   "source": [
    "car.max_speed"
   ]
  },
  {
   "cell_type": "markdown",
   "id": "dd76a57a-1cb4-42d3-9fde-b0b2ad3b81d9",
   "metadata": {},
   "source": [
    "# Q2. Create a child class car from the vehicle class created in Que 1, which will inherit the vehicle class. Create a method named seating_capacity which takes capacity as an argument and returns the name of the vehicle and its seating capacity."
   ]
  },
  {
   "cell_type": "code",
   "execution_count": 6,
   "id": "c00e72fd-3626-4092-874b-a8dacadd30bf",
   "metadata": {},
   "outputs": [],
   "source": [
    "class car(vehicle):\n",
    "    def seating_capacity(self , seating_capacity) :\n",
    "        self.seating_capacity = seating_capacity\n",
    "        return f\"The {self.name_of_vehicle} has a seating capacity of {seating_capacity} passengers.\" \n",
    "    "
   ]
  },
  {
   "cell_type": "code",
   "execution_count": 7,
   "id": "d5155070-575a-453b-9293-a467287298d1",
   "metadata": {},
   "outputs": [
    {
     "ename": "TypeError",
     "evalue": "vehicle.__init__() missing 3 required positional arguments: 'name_of_vehicle', 'max_speed', and 'average_of_vehicle'",
     "output_type": "error",
     "traceback": [
      "\u001b[0;31m---------------------------------------------------------------------------\u001b[0m",
      "\u001b[0;31mTypeError\u001b[0m                                 Traceback (most recent call last)",
      "Cell \u001b[0;32mIn[7], line 1\u001b[0m\n\u001b[0;32m----> 1\u001b[0m car1 \u001b[38;5;241m=\u001b[39m \u001b[43mcar\u001b[49m\u001b[43m(\u001b[49m\u001b[43m)\u001b[49m\n",
      "\u001b[0;31mTypeError\u001b[0m: vehicle.__init__() missing 3 required positional arguments: 'name_of_vehicle', 'max_speed', and 'average_of_vehicle'"
     ]
    }
   ],
   "source": [
    "car1 = car()"
   ]
  },
  {
   "cell_type": "code",
   "execution_count": 9,
   "id": "d00546bb-32d9-494d-897d-e415a89df055",
   "metadata": {},
   "outputs": [],
   "source": [
    "car1 = car(\"toyota\",150,70)"
   ]
  },
  {
   "cell_type": "code",
   "execution_count": 10,
   "id": "8663b509-4585-401c-a537-2321c9ccc0f5",
   "metadata": {},
   "outputs": [
    {
     "data": {
      "text/plain": [
       "<bound method car.seating_capacity of <__main__.car object at 0x7fcf096c4e50>>"
      ]
     },
     "execution_count": 10,
     "metadata": {},
     "output_type": "execute_result"
    }
   ],
   "source": [
    "car1.seating_capacity"
   ]
  },
  {
   "cell_type": "code",
   "execution_count": 11,
   "id": "270acc6d-41f7-4603-b96d-6298ca2856cf",
   "metadata": {},
   "outputs": [
    {
     "data": {
      "text/plain": [
       "'toyota'"
      ]
     },
     "execution_count": 11,
     "metadata": {},
     "output_type": "execute_result"
    }
   ],
   "source": [
    "car1.name_of_vehicle"
   ]
  },
  {
   "cell_type": "code",
   "execution_count": 12,
   "id": "fb628928-380e-4795-9ddf-3024f793e05f",
   "metadata": {},
   "outputs": [
    {
     "data": {
      "text/plain": [
       "'The toyota has a seating capacity of 8 passengers.'"
      ]
     },
     "execution_count": 12,
     "metadata": {},
     "output_type": "execute_result"
    }
   ],
   "source": [
    "car1.seating_capacity(8)"
   ]
  },
  {
   "cell_type": "code",
   "execution_count": 13,
   "id": "ff40dd4d-dc27-4c4a-a9d7-1a6472b50e47",
   "metadata": {},
   "outputs": [
    {
     "data": {
      "text/plain": [
       "150"
      ]
     },
     "execution_count": 13,
     "metadata": {},
     "output_type": "execute_result"
    }
   ],
   "source": [
    "car1.max_speed"
   ]
  },
  {
   "cell_type": "code",
   "execution_count": 14,
   "id": "5ae91e75-f5a4-4322-8208-679a11315025",
   "metadata": {},
   "outputs": [
    {
     "data": {
      "text/plain": [
       "70"
      ]
     },
     "execution_count": 14,
     "metadata": {},
     "output_type": "execute_result"
    }
   ],
   "source": [
    "car1.average_of_vehicle"
   ]
  },
  {
   "cell_type": "markdown",
   "id": "feaee22b-1c61-4141-9551-c5cd9c4baca1",
   "metadata": {},
   "source": [
    "# Q3. What is multiple inheritance? Write a python code to demonstrate multiple inheritance."
   ]
  },
  {
   "cell_type": "markdown",
   "id": "535add07-6aeb-49e4-a841-09f74edfc603",
   "metadata": {},
   "source": [
    "Answer :- Multiple inheritance is a feature in object-oriented programming languages like Python that allows a class to inherit attributes and methods from more than one parent class. In multiple inheritance, a child class inherits properties and behaviors from multiple parent classes. This allows you to create complex class hierarchies and reuse code from different sources."
   ]
  },
  {
   "cell_type": "code",
   "execution_count": 20,
   "id": "9b9186f6-60ea-48ef-b8d5-7ece961acb9d",
   "metadata": {},
   "outputs": [],
   "source": [
    "class A:\n",
    "    def method_A(self):\n",
    "        return \"Method A from class A\"\n",
    "class B:\n",
    "    def method_B(self):\n",
    "        return \"Method B from class B\"\n",
    "class C(A, B):\n",
    "    def method_C(self):\n",
    "        return \"Method C from class C\""
   ]
  },
  {
   "cell_type": "code",
   "execution_count": 22,
   "id": "d376157f-6ca8-460f-8e10-8a141c2fd9b9",
   "metadata": {},
   "outputs": [],
   "source": [
    "obj_c = C()"
   ]
  },
  {
   "cell_type": "code",
   "execution_count": 23,
   "id": "07bcef0a-2cb0-4b9c-8537-3766621a2529",
   "metadata": {},
   "outputs": [
    {
     "data": {
      "text/plain": [
       "<function __main__.A.method_A(self)>"
      ]
     },
     "execution_count": 23,
     "metadata": {},
     "output_type": "execute_result"
    }
   ],
   "source": [
    "C.method_A"
   ]
  },
  {
   "cell_type": "code",
   "execution_count": 25,
   "id": "89d40a5e-706c-4466-886d-7162046577e5",
   "metadata": {},
   "outputs": [
    {
     "data": {
      "text/plain": [
       "'Method A from class A'"
      ]
     },
     "execution_count": 25,
     "metadata": {},
     "output_type": "execute_result"
    }
   ],
   "source": [
    "C.method_A(\"abc\")"
   ]
  },
  {
   "cell_type": "code",
   "execution_count": 29,
   "id": "6ac8e0de-60d3-4d4d-b5d6-d0c74050fdab",
   "metadata": {},
   "outputs": [
    {
     "data": {
      "text/plain": [
       "'Method A from class A'"
      ]
     },
     "execution_count": 29,
     "metadata": {},
     "output_type": "execute_result"
    }
   ],
   "source": [
    "obj_c.method_A()"
   ]
  },
  {
   "cell_type": "code",
   "execution_count": 30,
   "id": "3bcd613f-0f18-44bf-a2a2-21cf6c038a58",
   "metadata": {},
   "outputs": [
    {
     "data": {
      "text/plain": [
       "'Method B from class B'"
      ]
     },
     "execution_count": 30,
     "metadata": {},
     "output_type": "execute_result"
    }
   ],
   "source": [
    "obj_c.method_B()"
   ]
  },
  {
   "cell_type": "code",
   "execution_count": 31,
   "id": "f9f9df97-4c39-4c89-b132-0816a0bd6754",
   "metadata": {},
   "outputs": [
    {
     "data": {
      "text/plain": [
       "'Method C from class C'"
      ]
     },
     "execution_count": 31,
     "metadata": {},
     "output_type": "execute_result"
    }
   ],
   "source": [
    "obj_c.method_C()"
   ]
  },
  {
   "cell_type": "markdown",
   "id": "5d6006c6-00a8-42f6-9027-6898d98caa30",
   "metadata": {},
   "source": [
    "# Q4. What are getter and setter in python? Create a class and create a getter and a setter method in this class."
   ]
  },
  {
   "cell_type": "markdown",
   "id": "1707367e-ff21-4eec-9984-879348cdd894",
   "metadata": {},
   "source": [
    "Answer :- In Python, getters and setters are not explicitly defined like in some other programming languages (e.g., Java or C++), where you create special methods to get and set the values of an object's attributes. Instead, Python uses a simpler and more direct approach using attributes and properties. Here's how you can achieve similar functionality in Python:"
   ]
  },
  {
   "cell_type": "markdown",
   "id": "df582115-5014-46c5-8f62-59ef98813459",
   "metadata": {},
   "source": [
    "1. Attributes: In Python, you can access an object's attributes directly. For example:\n",
    "2. Properties: Properties allow you to define getter and setter methods for an attribute without changing the way you access it. This provides a level of encapsulation and control over attribute access"
   ]
  },
  {
   "cell_type": "code",
   "execution_count": 43,
   "id": "5fb81f93-d317-4eea-aeec-1cbfb5830700",
   "metadata": {},
   "outputs": [],
   "source": [
    "class car:\n",
    "    \n",
    "    def _init_(self , year , make , model , speed):\n",
    "        self.__year = year\n",
    "        self.__make = make\n",
    "        self.__model = model\n",
    "        self.__speed = 0\n",
    "        \n",
    "    def set_speed(self , speed) :\n",
    "        self.__speed = 0 if speed < 0 else speed\n",
    "    \n",
    "    def get_speed(self) :\n",
    "        return self.__speed"
   ]
  },
  {
   "cell_type": "code",
   "execution_count": 44,
   "id": "eb0e722c-c8ac-4baf-9e91-dda007879de7",
   "metadata": {},
   "outputs": [],
   "source": [
    "car1 = car()"
   ]
  },
  {
   "cell_type": "code",
   "execution_count": 45,
   "id": "624eb7ac-f282-4fcd-991a-4d3ff972da5a",
   "metadata": {},
   "outputs": [],
   "source": [
    "car1.set_speed(-1234)"
   ]
  },
  {
   "cell_type": "code",
   "execution_count": 46,
   "id": "8dba88a0-2b35-4ce7-9023-addad3945baf",
   "metadata": {},
   "outputs": [
    {
     "data": {
      "text/plain": [
       "0"
      ]
     },
     "execution_count": 46,
     "metadata": {},
     "output_type": "execute_result"
    }
   ],
   "source": [
    "car1.get_speed()"
   ]
  },
  {
   "cell_type": "code",
   "execution_count": 47,
   "id": "a90da0e9-cb29-489a-bdda-2f8a80c999b5",
   "metadata": {},
   "outputs": [],
   "source": [
    "car1.set_speed(1234)"
   ]
  },
  {
   "cell_type": "code",
   "execution_count": 48,
   "id": "9b4f544e-6759-42b2-9a8f-2f4069cd19ad",
   "metadata": {},
   "outputs": [
    {
     "data": {
      "text/plain": [
       "1234"
      ]
     },
     "execution_count": 48,
     "metadata": {},
     "output_type": "execute_result"
    }
   ],
   "source": [
    "car1.get_speed()"
   ]
  },
  {
   "cell_type": "markdown",
   "id": "5cfd3db8-c13c-42e7-8c7e-5706a8e8a3a1",
   "metadata": {},
   "source": [
    "# Q5.What is method overriding in python? Write a python code to demonstrate method overriding."
   ]
  },
  {
   "cell_type": "markdown",
   "id": "e1dcd6f4-b8fa-4021-8248-22e826b4c81a",
   "metadata": {},
   "source": [
    "Answer :-Method overriding in Python is a concept in object-oriented programming where a subclass provides a specific implementation of a method that is already defined in its superclass. This allows the subclass to customize or extend the behavior of the inherited method. Method overriding is achieved by defining a method in the subclass with the same name, parameters, and return type as the method in the superclass."
   ]
  },
  {
   "cell_type": "code",
   "execution_count": 50,
   "id": "b7861e1c-393e-4db5-8525-9a41912b85c5",
   "metadata": {},
   "outputs": [],
   "source": [
    "class Animal:\n",
    "    def speak(self):\n",
    "        print(\"Animal speaks\")\n",
    "\n",
    "class Dog(Animal):\n",
    "    def speak(self):\n",
    "        print(\"Dog barks\")\n",
    "\n",
    "class Cat(Animal):\n",
    "    def speak(self):\n",
    "        print(\"Cat meows\")"
   ]
  },
  {
   "cell_type": "code",
   "execution_count": 51,
   "id": "7f6515a6-fb0e-40aa-b135-f009c184c013",
   "metadata": {},
   "outputs": [],
   "source": [
    "dog = Dog()"
   ]
  },
  {
   "cell_type": "code",
   "execution_count": 52,
   "id": "45fdccd7-29eb-479b-8f3f-d69d7454a6d8",
   "metadata": {},
   "outputs": [],
   "source": [
    "cat = Cat()"
   ]
  },
  {
   "cell_type": "code",
   "execution_count": 53,
   "id": "3f59f50a-8659-479f-95b5-34d3673b4597",
   "metadata": {},
   "outputs": [
    {
     "name": "stdout",
     "output_type": "stream",
     "text": [
      "Dog barks\n"
     ]
    }
   ],
   "source": [
    "dog.speak()"
   ]
  },
  {
   "cell_type": "code",
   "execution_count": 54,
   "id": "3059b2ee-98a5-43a2-8c0f-152970ace217",
   "metadata": {},
   "outputs": [
    {
     "data": {
      "text/plain": [
       "<bound method Cat.speak of <__main__.Cat object at 0x7fcf09886ad0>>"
      ]
     },
     "execution_count": 54,
     "metadata": {},
     "output_type": "execute_result"
    }
   ],
   "source": [
    "cat.speak"
   ]
  },
  {
   "cell_type": "code",
   "execution_count": 55,
   "id": "b5391d6c-c8e9-41cd-aa1b-296c9e33eb05",
   "metadata": {},
   "outputs": [
    {
     "name": "stdout",
     "output_type": "stream",
     "text": [
      "Cat meows\n"
     ]
    }
   ],
   "source": [
    "cat.speak()"
   ]
  },
  {
   "cell_type": "code",
   "execution_count": null,
   "id": "6f83daf0-062a-4273-9dcc-fa8a7f972cce",
   "metadata": {},
   "outputs": [],
   "source": []
  }
 ],
 "metadata": {
  "kernelspec": {
   "display_name": "Python 3 (ipykernel)",
   "language": "python",
   "name": "python3"
  },
  "language_info": {
   "codemirror_mode": {
    "name": "ipython",
    "version": 3
   },
   "file_extension": ".py",
   "mimetype": "text/x-python",
   "name": "python",
   "nbconvert_exporter": "python",
   "pygments_lexer": "ipython3",
   "version": "3.10.8"
  }
 },
 "nbformat": 4,
 "nbformat_minor": 5
}
