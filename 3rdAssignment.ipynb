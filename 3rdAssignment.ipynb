{
 "cells": [
  {
   "cell_type": "markdown",
   "id": "b26a89bd-79f4-4fae-806a-7e3241aa6310",
   "metadata": {},
   "source": [
    "#                 ASSIGNMENT NO :- 03"
   ]
  },
  {
   "cell_type": "markdown",
   "id": "8b95c0a8-7dbe-43cf-b026-c7d42d7386b4",
   "metadata": {},
   "source": [
    "# Q1. Which keyword is used to create a function? Create a function to return a list of odd numbers in the range of 1 to 25."
   ]
  },
  {
   "cell_type": "markdown",
   "id": "1b9300b2-37dc-4e91-b939-fcc96f92c810",
   "metadata": {},
   "source": [
    "# answer:- def  keyword is used to create the a function"
   ]
  },
  {
   "cell_type": "code",
   "execution_count": 6,
   "id": "1aab706b-6aa5-43b9-8174-378be6d13672",
   "metadata": {},
   "outputs": [],
   "source": [
    "def test(l):\n",
    "    lst = []\n",
    "    for i in l:\n",
    "        if i%2!=0:\n",
    "            lst.append(i)\n",
    "    return lst"
   ]
  },
  {
   "cell_type": "code",
   "execution_count": 7,
   "id": "6438a0b2-8bdc-4278-90d5-c8862d4764f6",
   "metadata": {},
   "outputs": [
    {
     "data": {
      "text/plain": [
       "[1, 3, 5, 7, 9, 11, 13, 15, 17, 19, 21, 23]"
      ]
     },
     "execution_count": 7,
     "metadata": {},
     "output_type": "execute_result"
    }
   ],
   "source": [
    "test(range(1,25))"
   ]
  },
  {
   "cell_type": "markdown",
   "id": "b122aa3f-d8f3-481e-a8b8-50895a389565",
   "metadata": {},
   "source": [
    "# Q2. Why *args and **kwargs is used in some functions? Create a function each for *args and **kwargs to demonstrate their use."
   ]
  },
  {
   "cell_type": "markdown",
   "id": "284b8f2f-3fd4-43fe-8e03-dee46ee91a46",
   "metadata": {},
   "source": [
    "# answer :- \n",
    "## *args and **kwargs both are used to handle the number of the argument in function.\n",
    "### 1. *args parameter  is used to handle the multiple input at time.\n",
    "### 2. *kwargs parameter is used to handle the mutple key and value input at time,this parameter handle input like dictionary data type. "
   ]
  },
  {
   "cell_type": "code",
   "execution_count": 9,
   "id": "9869c153-c049-454d-a7d8-4f330dfcaff3",
   "metadata": {},
   "outputs": [],
   "source": [
    "def test1(*args):\n",
    "    a = []\n",
    "    for i in args:\n",
    "        if type(i)==list:\n",
    "            a.append(i)\n",
    "    return a"
   ]
  },
  {
   "cell_type": "code",
   "execution_count": 10,
   "id": "61482673-d7ea-441f-a8cb-fa05be124612",
   "metadata": {},
   "outputs": [
    {
     "data": {
      "text/plain": [
       "[[12, 12.25, 15, 1], [1, 2, 3], ['w', 'a', 'j', 'i', 'd']]"
      ]
     },
     "execution_count": 10,
     "metadata": {},
     "output_type": "execute_result"
    }
   ],
   "source": [
    "test1(1,2,3,4,[12,12.25,15,1],(1,2,3),\"wajid\",[1,2,3],['w','a','j','i','d'])"
   ]
  },
  {
   "cell_type": "code",
   "execution_count": 12,
   "id": "de039c23-5adf-46b7-a8e1-119fcc594b57",
   "metadata": {},
   "outputs": [],
   "source": [
    "def test2(**kwargs):\n",
    "    return kwargs"
   ]
  },
  {
   "cell_type": "code",
   "execution_count": 13,
   "id": "2a33d106-cddf-4537-8ef0-7b91b512526e",
   "metadata": {},
   "outputs": [
    {
     "data": {
      "text/plain": [
       "{'a': 34, 'b': 25, 'c': [12, 23, 45, 56], 'd': ('MD Wajid', 'pwskills')}"
      ]
     },
     "execution_count": 13,
     "metadata": {},
     "output_type": "execute_result"
    }
   ],
   "source": [
    "test2(a=34,b=25,c=[12,23,45,56],d=(\"MD Wajid\",\"pwskills\"))"
   ]
  },
  {
   "cell_type": "code",
   "execution_count": 16,
   "id": "75550e27-dad7-4074-8f43-861ed48c1aef",
   "metadata": {},
   "outputs": [],
   "source": [
    "def test3(**k):\n",
    "    for i in k.keys():\n",
    "        if type(k[i]) == list :\n",
    "            return i , k[i]"
   ]
  },
  {
   "cell_type": "code",
   "execution_count": 17,
   "id": "e70024c1-6893-485d-ad06-5eaabdb1fde1",
   "metadata": {},
   "outputs": [
    {
     "data": {
      "text/plain": [
       "('c', [1, 2, 3, 4])"
      ]
     },
     "execution_count": 17,
     "metadata": {},
     "output_type": "execute_result"
    }
   ],
   "source": [
    "test3(a = 34 , b = 23 , c = [1,2,3,4] , d = (\"sudh\" , \"pwskills\"))"
   ]
  },
  {
   "cell_type": "code",
   "execution_count": 19,
   "id": "d4e67127-a1fb-43cc-baaa-2f8ae253d364",
   "metadata": {},
   "outputs": [],
   "source": [
    "def test4(*args,**kwargs):\n",
    "    return args,kwargs"
   ]
  },
  {
   "cell_type": "code",
   "execution_count": 22,
   "id": "017e7a7a-51c7-4e4c-adae-e2991de98a01",
   "metadata": {},
   "outputs": [
    {
     "data": {
      "text/plain": [
       "((1, 2, 3, 4, 5), {'a': 'MD WAJID', 'b': 'pwkills', 'c': [1, 2, 3, 4]})"
      ]
     },
     "execution_count": 22,
     "metadata": {},
     "output_type": "execute_result"
    }
   ],
   "source": [
    "test4(1,2,3,4,5,a=\"MD WAJID\",b=\"pwkills\",c=[1,2,3,4])"
   ]
  },
  {
   "cell_type": "markdown",
   "id": "a71cedbe-33a3-44fc-8237-46e47c0c0aeb",
   "metadata": {},
   "source": [
    "# Q3. What is an iterator in python? Name the method used to initialise the iterator object and the methodused for iteration. Use these methods to print the first five elements of the given list [2, 4, 6, 8, 10, 12, 14, 16,18, 20]."
   ]
  },
  {
   "cell_type": "code",
   "execution_count": 24,
   "id": "38a87b66-da9e-41d0-b21b-015909af4d49",
   "metadata": {},
   "outputs": [],
   "source": [
    "# Answer:-\n",
    "\"\"\"In Python, an iterator is an object that represents a stream of data.\n",
    "It provides a way to access elements from a collection or a sequence of data one at a time,\n",
    "without the need to store the entire collection in memory.\n",
    "Iterators are used to iterate over containers such as lists, tuples, dictionaries, and more\"\"\""
   ]
  },
  {
   "cell_type": "code",
   "execution_count": null,
   "id": "60d0c6d9-22a3-4d4c-b024-eda53de668fe",
   "metadata": {},
   "outputs": [],
   "source": [
    "\"\"\"\n",
    "In Python, the method used to initialize the iterator object is __iter__(), and the method used for iteration, \n",
    "i.e., retrieving the next element from the iterator, is __next__().\n",
    "\n",
    "1.__iter__(): This method is called when the iterator object is initialized. \n",
    "It returns the iterator object itself and is responsible for setting up the initial state of the iterator.\n",
    "The __iter__() method should be implemented in a way that it returns the iterator object, typically self.\n",
    "\n",
    "2.__next__(): This method is called to retrieve the next element from the iterator. \n",
    "It returns the next element in the sequence or raises the StopIteration exception if there are no more elements.\n",
    "The __next__() method should be implemented to define the logic of how the next element is obtained.\n",
    "\"\"\""
   ]
  },
  {
   "cell_type": "code",
   "execution_count": 26,
   "id": "ec53110a-2b3c-4a4b-826a-2298ff4ba9bf",
   "metadata": {},
   "outputs": [],
   "source": [
    "class ListIterator:\n",
    "    def __init__(self, data):\n",
    "        self.data = data\n",
    "        self.index = 0\n",
    "\n",
    "    def __iter__(self):\n",
    "        return self\n",
    "\n",
    "    def __next__(self):\n",
    "        if self.index < len(self.data):\n",
    "            value = self.data[self.index]\n",
    "            self.index += 1\n",
    "            return value\n",
    "        else:\n",
    "            raise StopIteration"
   ]
  },
  {
   "cell_type": "code",
   "execution_count": 27,
   "id": "a01c6aab-d19a-441a-bf5a-006866b15248",
   "metadata": {},
   "outputs": [],
   "source": [
    "# Creating the iterator\n",
    "my_list = [2, 4, 6, 8, 10, 12, 14, 16, 18, 20]\n",
    "my_iterator = ListIterator(my_list)"
   ]
  },
  {
   "cell_type": "code",
   "execution_count": 28,
   "id": "106ec1ad-b395-41d1-91b0-add4bdfce49a",
   "metadata": {},
   "outputs": [
    {
     "name": "stdout",
     "output_type": "stream",
     "text": [
      "2\n",
      "4\n",
      "6\n",
      "8\n",
      "10\n"
     ]
    }
   ],
   "source": [
    "# Printing the first five elements\n",
    "for _ in range(5):\n",
    "    print(next(my_iterator))"
   ]
  },
  {
   "cell_type": "markdown",
   "id": "f9f6329d-1e04-424c-967e-f368d539f367",
   "metadata": {},
   "source": [
    "# Q4. What is a generator function in python? Why yield keyword is used? Give an example of a generator function."
   ]
  },
  {
   "cell_type": "code",
   "execution_count": null,
   "id": "520f39b5-95cd-4a7f-9b1d-4940da00e882",
   "metadata": {},
   "outputs": [],
   "source": [
    "# answer:-\n",
    "\"\"\"In Python, a generator function is a special type of function that uses the yield keyword to create an iterator.\n",
    "It allows you to define a function that generates a sequence of values on-the-fly, \n",
    "as opposed to generating and returning all the values at once. \n",
    "This provides a memory-efficient way to generate and iterate over large or infinite sequences.\"\"\"\n",
    "# generator function take take last one output and give the new output."
   ]
  },
  {
   "cell_type": "code",
   "execution_count": null,
   "id": "7211744e-2350-4d54-aa3c-524eacb74685",
   "metadata": {},
   "outputs": [],
   "source": [
    "\"\"\" The yield keyword is used in Python to define a point in a function where it will temporarily pause its execution\n",
    "and produce a value to be returned to the caller. It essentially turns a function into a generator function,\n",
    "allowing it to generate a series of values over multiple invocations.\n",
    "\"\"\"\n",
    "# reasons why the yield keyword is used\n",
    "\"\"\"the yield keyword is used to transform a function into a generator function and enable lazy evaluation, iteration support,\n",
    "state preservation, and efficient generation of values. \n",
    "It plays a crucial role in implementing generators and provides a powerful tool for working with sequences of data.\n",
    "\"\"\""
   ]
  },
  {
   "cell_type": "code",
   "execution_count": 35,
   "id": "f8de85be-749b-423a-a940-430811c2acc8",
   "metadata": {},
   "outputs": [],
   "source": [
    "def test_fib(n):\n",
    "    a,b=0,1\n",
    "    for i in range(n):\n",
    "        yield a\n",
    "        a,b=b,a+b"
   ]
  },
  {
   "cell_type": "code",
   "execution_count": 36,
   "id": "4aee0d24-908e-41d0-8ad4-35dd7e491908",
   "metadata": {},
   "outputs": [
    {
     "data": {
      "text/plain": [
       "<generator object test_fib at 0x7fd0e2f1ac00>"
      ]
     },
     "execution_count": 36,
     "metadata": {},
     "output_type": "execute_result"
    }
   ],
   "source": [
    "test_fib(5)"
   ]
  },
  {
   "cell_type": "code",
   "execution_count": 37,
   "id": "67cfc550-b352-441b-bd8d-5e215ffe1303",
   "metadata": {},
   "outputs": [
    {
     "name": "stdout",
     "output_type": "stream",
     "text": [
      "0\n",
      "1\n",
      "1\n",
      "2\n",
      "3\n"
     ]
    }
   ],
   "source": [
    "for i in test_fib(5):\n",
    "    print(i)"
   ]
  },
  {
   "cell_type": "code",
   "execution_count": 38,
   "id": "9b53f5d7-d67a-4592-9ce4-43dfc0f5cebd",
   "metadata": {},
   "outputs": [
    {
     "name": "stdout",
     "output_type": "stream",
     "text": [
      "0 1 1 2 3 5 8 13 21 34 55 89 144 233 377 "
     ]
    }
   ],
   "source": [
    "for i in test_fib(15):\n",
    "    print(i,end=\" \")"
   ]
  },
  {
   "cell_type": "markdown",
   "id": "5205766b-6c69-4343-8d0c-7180518efb08",
   "metadata": {},
   "source": [
    "# Q5. Create a generator function for prime numbers less than 1000. Use the next() method to print the first 20 prime numbers."
   ]
  },
  {
   "cell_type": "code",
   "execution_count": 40,
   "id": "af89936d-989d-48b7-9263-6e9617048280",
   "metadata": {},
   "outputs": [
    {
     "name": "stdout",
     "output_type": "stream",
     "text": [
      "2\n",
      "3\n",
      "5\n",
      "7\n",
      "11\n",
      "13\n",
      "17\n",
      "19\n",
      "23\n",
      "29\n",
      "31\n",
      "37\n",
      "41\n",
      "43\n",
      "47\n",
      "53\n",
      "59\n",
      "61\n",
      "67\n",
      "71\n"
     ]
    }
   ],
   "source": [
    "def prime_generator():\n",
    "    primes = []\n",
    "    num = 2\n",
    "    while num < 1000:\n",
    "        if all(num % prime != 0 for prime in primes):\n",
    "            primes.append(num)\n",
    "            yield num\n",
    "        num += 1\n",
    "\n",
    "# Using the generator to print the first 20 prime numbers\n",
    "primes_gen = prime_generator()\n",
    "for _ in range(20):\n",
    "    print(next(primes_gen))"
   ]
  },
  {
   "cell_type": "code",
   "execution_count": null,
   "id": "441fcbf9-0ecd-433a-bbd9-75de8192f9f5",
   "metadata": {},
   "outputs": [],
   "source": []
  }
 ],
 "metadata": {
  "kernelspec": {
   "display_name": "Python 3 (ipykernel)",
   "language": "python",
   "name": "python3"
  },
  "language_info": {
   "codemirror_mode": {
    "name": "ipython",
    "version": 3
   },
   "file_extension": ".py",
   "mimetype": "text/x-python",
   "name": "python",
   "nbconvert_exporter": "python",
   "pygments_lexer": "ipython3",
   "version": "3.10.8"
  }
 },
 "nbformat": 4,
 "nbformat_minor": 5
}
