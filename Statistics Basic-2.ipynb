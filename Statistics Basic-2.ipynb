{
 "cells": [
  {
   "cell_type": "markdown",
   "id": "128c0f92-9d42-4e1e-9960-d83e21bbbc0c",
   "metadata": {},
   "source": [
    "# Q1. What are the three measures of central tendency?\n",
    "# Answer :->"
   ]
  },
  {
   "cell_type": "markdown",
   "id": "b1cbbf9d-53a8-472b-9160-4235bf1fe22a",
   "metadata": {},
   "source": [
    "## The three measures of central tendency are:\n",
    "\n",
    "### Mean: The mean, also known as the average, is calculated by summing up all the values in a data set and then dividing the sum by the number of values. It is denoted by the symbol \"μ\" for populations and \"x̄\" for samples.\n",
    "\n",
    "## Mean = (Sum of values) / (Number of values)\n",
    "\n",
    "### Median: The median is the middle value in a data set when it is ordered from least to greatest. If there is an even number of observations, the median is the average of the two middle values. The median is less sensitive to extreme values (outliers) than the mean.\n",
    "\n",
    "### Mode: The mode is the value that appears most frequently in a data set. A data set may have no mode (if no value is repeated), one mode (unimodal), or more than one mode (multimodal).\n",
    "\n",
    "#### These measures provide insights into the central or typical value of a distribution, but they capture different aspects and may be influenced differently by extreme values in the data set."
   ]
  },
  {
   "cell_type": "markdown",
   "id": "0ba68db8-5b71-4ea7-9a9a-ea3862db5c43",
   "metadata": {},
   "source": [
    "# Q2. What is the difference between the mean, median, and mode? How are they used to measure the central tendency of a dataset?\n",
    "# Answer :->"
   ]
  },
  {
   "cell_type": "markdown",
   "id": "f91b476f-ea3c-4fae-91ff-6ac12946c3fc",
   "metadata": {},
   "source": [
    "### The mean, median, and mode are measures of central tendency used to describe the center or typical value of a dataset. Here's a brief explanation of the differences and how they are used:\n",
    "\n",
    "# Mean:\n",
    "\n",
    "1. Calculation: The mean is calculated by summing up all the values in a dataset and dividing the sum by the number of values.\n",
    "2. Sensitivity to Outliers: The mean is sensitive to extreme values or outliers in the dataset. A few very high or low values can significantly affect the mean.\n",
    "3. Symbol: Denoted by \"μ\" for populations and \"x̄\" for samples.\n",
    "\n",
    "# Median:\n",
    "\n",
    "1. Calculation: The median is the middle value when the dataset is ordered. If there is an even number of observations, the median is the average of the two middle values.\n",
    "2. Robustness to Outliers: The median is less sensitive to extreme values compared to the mean. It represents the middle of the data and is not influenced by extremely high or low values.\n",
    "3. Notation: Typically represented as the middle value or as M.\n",
    "\n",
    "# Mode:\n",
    "\n",
    "1. Calculation: The mode is the value that appears most frequently in a dataset. A dataset may have no mode, one mode (unimodal), or more than one mode (multimodal).\n",
    "2. Use in Skewed Distributions: The mode is particularly useful for identifying the most common value in a dataset, especially in cases where the data is skewed.\n",
    "3. Notation: Represented as Mo.\n",
    "\n",
    "## How They Measure Central Tendency:\n",
    "\n",
    "1. Mean: Provides the average value of the dataset and is influenced by every data point.\n",
    "2. Median: Represents the middle value, making it less sensitive to extreme values. It is a good measure of central tendency for skewed datasets.\n",
    "3. Mode: Identifies the most frequently occurring value, highlighting the dominant feature in the dataset.\n",
    "#### In summary, the choice of which measure to use depends on the nature of the data and the specific characteristics of the distribution. The mean is commonly used for symmetric distributions, while the median and mode are often preferred for skewed or non-normally distributed datasets, as they are more robust in the presence of outliers.\n"
   ]
  },
  {
   "cell_type": "markdown",
   "id": "04cd1107-b749-4e07-b9a3-5990e9bb156e",
   "metadata": {},
   "source": [
    "# Q3. Measure the three measures of central tendency for the given height data:\n",
    "## [178,177,176,177,178.2,178,175,179,180,175,178.9,176.2,177,172.5,178,176.5]\n",
    "\n",
    "# Answer :->"
   ]
  },
  {
   "cell_type": "code",
   "execution_count": 1,
   "id": "6f31da5b-6602-4f61-be7d-65c4c1c526ab",
   "metadata": {},
   "outputs": [],
   "source": [
    "import numpy as np\n",
    "from scipy import stats"
   ]
  },
  {
   "cell_type": "code",
   "execution_count": 2,
   "id": "1db11031-d647-4513-a723-36e47a3a54a7",
   "metadata": {},
   "outputs": [],
   "source": [
    "height_data = [178, 177, 176, 177, 178.2, 178, 175, 179, 180, 175, 178.9, 176.2, 177, 172.5, 178, 176.5]"
   ]
  },
  {
   "cell_type": "code",
   "execution_count": 3,
   "id": "60d66301-f849-4033-b0cb-64a310f58c64",
   "metadata": {},
   "outputs": [],
   "source": [
    "# Calculating mean, median, and mode\n",
    "mean = np.mean(height_data)\n",
    "median = np.median(height_data)"
   ]
  },
  {
   "cell_type": "code",
   "execution_count": 4,
   "id": "b04993a4-e754-4ead-af03-e620cff750dc",
   "metadata": {},
   "outputs": [
    {
     "name": "stderr",
     "output_type": "stream",
     "text": [
      "/tmp/ipykernel_77/790827024.py:1: FutureWarning: Unlike other reduction functions (e.g. `skew`, `kurtosis`), the default behavior of `mode` typically preserves the axis it acts along. In SciPy 1.11.0, this behavior will change: the default value of `keepdims` will become False, the `axis` over which the statistic is taken will be eliminated, and the value None will no longer be accepted. Set `keepdims` to True or False to avoid this warning.\n",
      "  mode = stats.mode(height_data)\n"
     ]
    }
   ],
   "source": [
    "mode = stats.mode(height_data)"
   ]
  },
  {
   "cell_type": "code",
   "execution_count": 5,
   "id": "817b3db8-ea2d-4956-b055-a2d17059acd7",
   "metadata": {},
   "outputs": [
    {
     "name": "stdout",
     "output_type": "stream",
     "text": [
      "Mean Height: 177.01875\n",
      "Median Height: 177.0\n",
      "Mode Height: ModeResult(mode=array([177.]), count=array([3]))\n"
     ]
    }
   ],
   "source": [
    "print(f\"Mean Height: {mean}\")\n",
    "print(f\"Median Height: {median}\")\n",
    "print(f\"Mode Height: {mode}\")"
   ]
  },
  {
   "cell_type": "markdown",
   "id": "54b8f8fb-46cc-48a2-a99f-fcaabdab05e7",
   "metadata": {},
   "source": [
    "# Q4. Find the standard deviation for the given data:\n",
    "## [178,177,176,177,178.2,178,175,179,180,175,178.9,176.2,177,172.5,178,176.5]\n",
    "## Answer :->"
   ]
  },
  {
   "cell_type": "code",
   "execution_count": 6,
   "id": "f5040fbc-9a5e-4e0f-9a50-67620aed220a",
   "metadata": {},
   "outputs": [
    {
     "data": {
      "text/plain": [
       "1.7885814036548633"
      ]
     },
     "execution_count": 6,
     "metadata": {},
     "output_type": "execute_result"
    }
   ],
   "source": [
    "data = [178, 177, 176, 177, 178.2, 178, 175, 179, 180, 175, 178.9, 176.2, 177, 172.5, 178, 176.5]\n",
    "\n",
    "std_deviation = np.std(height_data)\n",
    "\n",
    "std_deviation"
   ]
  },
  {
   "cell_type": "markdown",
   "id": "c0fb3ed7-f74f-4d3a-962f-0de3b5346285",
   "metadata": {},
   "source": [
    "# Q5. How are measures of dispersion such as range, variance, and standard deviation used to describe the spread of a dataset? Provide an example.\n",
    "## Answer :->"
   ]
  },
  {
   "cell_type": "markdown",
   "id": "c37f0287-685e-4f90-9656-2724be37e0f9",
   "metadata": {},
   "source": [
    "### Measures of dispersion, such as range, variance, and standard deviation, provide information about the spread or variability of a dataset. Here's a brief explanation of each measure and how they are used:\n",
    "\n",
    "# Range:\n",
    "\n",
    "1. Calculation: Range is the difference between the maximum and minimum values in a dataset.\n",
    "2. Use: It gives a quick sense of how spread out the values are. However, it is sensitive to extreme values and may not be a robust measure for datasets with outliers.\n",
    "\n",
    "\n",
    "# Variance:\n",
    "\n",
    "1. Calculation: Variance is the average of the squared differences from the mean. It measures how much each data point deviates from the mean.\n",
    "2. Use: It provides a more comprehensive measure of the overall variability in the dataset. However, the variance is in squared units, making it less interpretable.\n",
    "\n",
    "# Standard Deviation:\n",
    "\n",
    "1. Calculation: Standard deviation is the square root of the variance. It represents the average deviation of each data point from the mean.\n",
    "2. Use: It is widely used due to its ease of interpretation and shares the same units as the original data."
   ]
  },
  {
   "cell_type": "code",
   "execution_count": 7,
   "id": "39b7a4d7-61ce-472d-8b11-e74f2564e502",
   "metadata": {},
   "outputs": [],
   "source": [
    "data = [2, 4, 6, 8, 10, 12, 14, 16, 18, 20]"
   ]
  },
  {
   "cell_type": "code",
   "execution_count": 8,
   "id": "decd38f9-0b8b-4ce8-ae86-f7000779967e",
   "metadata": {},
   "outputs": [],
   "source": [
    "# Calculating range, variance, and standard deviation\n",
    "data_range = np.max(data) - np.min(data)\n",
    "data_variance = np.var(data)\n",
    "data_std_deviation = np.std(data)"
   ]
  },
  {
   "cell_type": "code",
   "execution_count": 9,
   "id": "d48d9af7-9009-4528-8b01-fa7b163e2456",
   "metadata": {},
   "outputs": [
    {
     "name": "stdout",
     "output_type": "stream",
     "text": [
      "Dataset: [2, 4, 6, 8, 10, 12, 14, 16, 18, 20]\n",
      "Range: 18\n",
      "Variance: 33.0\n",
      "Standard Deviation: 5.744562646538029\n"
     ]
    }
   ],
   "source": [
    "# Displaying the results\n",
    "print(f\"Dataset: {data}\")\n",
    "print(f\"Range: {data_range}\")\n",
    "print(f\"Variance: {data_variance}\")\n",
    "print(f\"Standard Deviation: {data_std_deviation}\")"
   ]
  },
  {
   "cell_type": "markdown",
   "id": "e2f61336-0bce-40e7-9de6-0e8c1ee0ea42",
   "metadata": {},
   "source": [
    "# Q6. What is a Venn diagram?\n",
    "# Answer :->"
   ]
  },
  {
   "cell_type": "markdown",
   "id": "cfdec789-3b63-4a76-851a-998a106f5027",
   "metadata": {},
   "source": [
    "### A Venn diagram is a graphical representation that uses overlapping circles or other shapes to illustrate the logical relationships and similarities between different sets of items. Each circle or region represents a set, and the overlapping areas show the commonalities or intersections between sets.\n",
    "\n",
    "### Key components of a Venn diagram:\n",
    "\n",
    "1. Sets: Each circle or region in the diagram represents a set of items. The items within a set share a common characteristic.\n",
    "\n",
    "2. Overlap: Overlapping regions represent the intersection of sets, showing items that are common to multiple sets.\n",
    "\n",
    "3. Non-overlapping Regions: The non-overlapping parts of each circle represent items that are unique to that specific set.\n",
    "\n",
    "### Venn diagrams are useful for visually representing and understanding relationships between different sets or groups of items. They are commonly used in mathematics, statistics, logic, and various other fields to illustrate concepts like set theory, probability, and categorical relationships."
   ]
  },
  {
   "cell_type": "markdown",
   "id": "b2d91e5d-966b-416c-9546-72cb0b88d766",
   "metadata": {},
   "source": [
    "# Q7. For the two given sets A = (2,3,4,5,6,7) & B = (0,2,6,8,10). Find:\n",
    "## (i)A ∩ B\n",
    "## (ii) A ⋃ B\n",
    "# Answer :->"
   ]
  },
  {
   "cell_type": "code",
   "execution_count": 10,
   "id": "14136b5f-a6b4-449a-a2f3-6d1a175c62ed",
   "metadata": {},
   "outputs": [
    {
     "name": "stdout",
     "output_type": "stream",
     "text": [
      "Intersection (A ∩ B): {2, 6}\n",
      "Union (A ∪ B): {0, 2, 3, 4, 5, 6, 7, 8, 10}\n"
     ]
    }
   ],
   "source": [
    "A = {2, 3, 4, 5, 6, 7}\n",
    "B = {0, 2, 6, 8, 10}\n",
    "\n",
    "# Intersection (A ∩ B)\n",
    "intersection = A.intersection(B)\n",
    "\n",
    "# Union (A ∪ B)\n",
    "union = A.union(B)\n",
    "\n",
    "print(f\"Intersection (A ∩ B): {intersection}\")\n",
    "print(f\"Union (A ∪ B): {union}\")\n"
   ]
  },
  {
   "cell_type": "markdown",
   "id": "f29998b5-55d1-42c3-840e-8e5bf1e42d33",
   "metadata": {},
   "source": [
    "# Q8. What do you understand about skewness in data?\n",
    "# Answer :->"
   ]
  },
  {
   "cell_type": "markdown",
   "id": "85e3f0cc-d10e-46cf-a05d-fb66e5aa5947",
   "metadata": {},
   "source": [
    "### Skewness is a statistical measure that describes the asymmetry or lack of symmetry in a distribution of data. In other words, it quantifies the extent and direction of skew (departure from horizontal symmetry) in a dataset. A distribution can be either positively skewed (skewed to the right), negatively skewed (skewed to the left), or approximately symmetric (no skewness).\n",
    "\n",
    "\n",
    "# Positive Skewness (Right Skew):\n",
    "\n",
    "1. The right tail of the distribution is longer or fatter than the left tail.\n",
    "2. The majority of data points are concentrated on the left side.\n",
    "3. The mean is typically greater than the median.\n",
    "\n",
    "# Negative Skewness (Left Skew):\n",
    "\n",
    "1. The left tail of the distribution is longer or fatter than the right tail.\n",
    "2. The majority of data points are concentrated on the right side.\n",
    "3. The mean is typically less than the median.\n",
    "\n",
    "# Zero Skewness:\n",
    "\n",
    "1. The distribution is symmetric, with equal tails on both sides.\n",
    "2. The mean and median are approximately equal.\n",
    "\n",
    "## Skewness can be quantified using statistical measures, and one common method is to use the skewness coefficient. The skewness coefficient is a normalized measure that indicates the degree of skewness. A skewness coefficient of 0 indicates perfect symmetry, positive values indicate right skewness, and negative values indicate left skewness."
   ]
  },
  {
   "cell_type": "markdown",
   "id": "739277fe-b20d-4b4a-be06-e8c63ae96cc9",
   "metadata": {},
   "source": [
    "# Q9. If a data is right skewed then what will be the position of median with respect to mean?\n",
    "# Answer :->"
   ]
  },
  {
   "cell_type": "markdown",
   "id": "53830f7b-b11b-4eae-a5ea-588923155b01",
   "metadata": {},
   "source": [
    "###  In a right-skewed distribution, also known as positively skewed distribution, the right tail of the distribution is longer or fatter than the left tail. The majority of data points are concentrated on the left side, and the distribution is pulled towards the right due to extreme values. In such a distribution:\n",
    "\n",
    "## Position of Mean: The mean is typically greater than the median. The longer right tail, which contains larger values, pulls the mean in that direction.\n",
    "\n",
    "## Position of Median: The median is generally located closer to the left side of the distribution, where the bulk of the data is concentrated. It is less influenced by extreme values in the right tail compared to the mean.\n",
    "\n",
    "### In summary, in a right-skewed distribution:\n",
    "\n",
    "# Mean > Median\n",
    "# Mean > Median  > Mode\n",
    "### This relationship reflects the impact of the longer right tail, which contains larger values, on the mean, pulling it in the direction of the skewness. The median, being less sensitive to extreme values, tends to be positioned closer to the center of the main body of the data."
   ]
  },
  {
   "cell_type": "markdown",
   "id": "6e272e57-f436-4dc6-a761-679aa0b1e3f2",
   "metadata": {},
   "source": [
    "# Q10. Explain the difference between covariance and correlation. How are these measures used in statistical analysis?\n",
    "# Answer :->"
   ]
  },
  {
   "cell_type": "markdown",
   "id": "336b888c-7a8d-4da2-9775-180fcab151d3",
   "metadata": {},
   "source": [
    "# Covariance:\n",
    "\n",
    "### Definition: Covariance is a measure of how much two random variables vary together. It indicates whether an increase in one variable corresponds to an increase or decrease in another variable.\n",
    "### Units: The unit of covariance is the product of the units of the two variables.\n",
    "\n",
    "# Correlation:\n",
    "\n",
    "### Definition: Correlation is a standardized measure of the strength and direction of the linear relationship between two variables. It provides a more interpretable metric compared to covariance.\n",
    "### Range: The correlation coefficient ranges from -1 to 1. A value of 1 indicates a perfect positive linear relationship, -1 indicates a perfect negative linear relationship, and 0 indicates no linear relationship.\n",
    "### Units: Correlation is a unitless measure.\n",
    "\n",
    "\n",
    "# Differences:\n",
    "\n",
    "## Scale:\n",
    "\n",
    "1. Covariance is not standardized and its magnitude is influenced by the scale of the variables.\n",
    "2. Correlation is standardized and always falls between -1 and 1.\n",
    "\n",
    "## Interpretability:\n",
    "\n",
    "1. Covariance does not provide a clear measure of the strength and direction of the relationship.\n",
    "2. Correlation provides a more interpretable measure of how closely the variables are related.\n",
    "\n",
    "## Units:\n",
    "\n",
    "1. Covariance has units that are the product of the units of the two variables.\n",
    "2. Correlation is unitless.\n",
    "\n",
    "\n",
    "# Use in Statistical Analysis:\n",
    "\n",
    "### Covariance: It is used to identify the direction of the relationship between two variables. However, its magnitude is not easily interpretable, especially when comparing different pairs of variables with different scales.\n",
    "\n",
    "### Correlation: It is widely used to quantify the strength and direction of a linear relationship between two variables. The correlation coefficient allows for comparison between different pairs of variables and provides a more standardized measure. It is particularly useful when comparing relationships with different units or scales.\n",
    "\n",
    "### In statistical analysis, both covariance and correlation are essential tools for understanding relationships between variables, identifying patterns, and making predictions. Correlation is often preferred due to its standardized nature and clearer interpretability."
   ]
  },
  {
   "cell_type": "markdown",
   "id": "922350e1-f472-4cdb-a610-6e652162c500",
   "metadata": {},
   "source": [
    "# Q11. What is the formula for calculating the sample mean? Provide an example calculation for a dataset.\n",
    "# Answer :->"
   ]
  },
  {
   "cell_type": "markdown",
   "id": "8af34953-6046-4e69-b720-02e480a924e3",
   "metadata": {},
   "source": [
    "### Formula for calculating the sample mean\n",
    "## Sample Mean = (Sum of all dataset) / (Length of the dataset)"
   ]
  },
  {
   "cell_type": "code",
   "execution_count": 1,
   "id": "39ba34dd-1405-4b1b-8994-879cb7d3413b",
   "metadata": {},
   "outputs": [
    {
     "name": "stdout",
     "output_type": "stream",
     "text": [
      "Dataset: [12, 15, 18, 20, 22]\n",
      "Sample Mean: 17.4\n"
     ]
    }
   ],
   "source": [
    "dataset = [12, 15, 18, 20, 22]\n",
    "\n",
    "sample_mean = sum(dataset) / len(dataset)\n",
    "\n",
    "print(f\"Dataset: {dataset}\")\n",
    "print(f\"Sample Mean: {sample_mean}\")\n"
   ]
  },
  {
   "cell_type": "code",
   "execution_count": 3,
   "id": "34d8c6d4-ed39-4529-9808-7e081d5d58bd",
   "metadata": {},
   "outputs": [
    {
     "data": {
      "text/plain": [
       "17.4"
      ]
     },
     "execution_count": 3,
     "metadata": {},
     "output_type": "execute_result"
    }
   ],
   "source": [
    "import numpy as np\n",
    "mean = np.mean(dataset)\n",
    "mean"
   ]
  },
  {
   "cell_type": "markdown",
   "id": "faf24acc-3f71-4c84-b371-4ca8dc94e57f",
   "metadata": {},
   "source": [
    "# Q12. For a normal distribution data what is the relationship between its measure of central tendency?\n",
    "\n",
    "# Answer :->"
   ]
  },
  {
   "cell_type": "markdown",
   "id": "ec5cf819-3000-4be1-a81b-a807b7481988",
   "metadata": {},
   "source": [
    "### For a normal distribution, which is a symmetric and bell-shaped distribution, there is a specific relationship between its measures of central tendency, namely the mean, median, and mode. In a perfectly normal distribution:\n",
    "\n",
    "# Mean (μ):\n",
    "\n",
    "1. The mean is located at the center of the distribution.\n",
    "2. For a perfectly normal distribution, the mean is equal to the median.\n",
    "\n",
    "# Median:\n",
    "\n",
    "1. The median is also located at the center of the distribution.\n",
    "2. In a normal distribution, the median is equal to the mean.\n",
    "\n",
    "# Mode:\n",
    "\n",
    "1. The mode of a normal distribution is at the peak of the distribution.\n",
    "2. In a perfect normal distribution, there is only one mode, and it is also equal to the mean and median.\n",
    "\n",
    "### In summary, for a normal distribution:\n",
    "\n",
    "# Mean = Median = Mode\n",
    "\n",
    "### This relationship holds true for a true normal distribution. However, in real-world situations, data may not always perfectly follow a normal distribution, and small deviations can occur due to various factors. Nonetheless, the mean, median, and mode tend to be close to each other in a normal distribution, and their equality is a characteristic feature of this type of distribution."
   ]
  },
  {
   "cell_type": "markdown",
   "id": "5635a8ba-6d3d-49f3-8ae9-4b1474bdd865",
   "metadata": {},
   "source": [
    "# Q13. How is covariance different from correlation?\n",
    "# Answer :->"
   ]
  },
  {
   "cell_type": "markdown",
   "id": "c5ca5893-3d6e-4b14-b666-a068a12dbd34",
   "metadata": {},
   "source": [
    "### Covariance and correlation are both measures of the relationship between two variables, but they differ in terms of scale, interpretability, and the impact of units. Here are the key differences between covariance and correlation:\n",
    "\n",
    "# Scale:\n",
    "\n",
    "1. Covariance: Covariance is not standardized, and its magnitude is influenced by the scale of the variables. The units of covariance are the product of the units of the two variables being measured.\n",
    "2. Correlation: Correlation is a standardized measure, always falling between -1 and 1. It is unitless, making it more interpretable and allowing for easier comparison between different pairs of variables.\n",
    "\n",
    "# Interpretation:\n",
    "\n",
    "1. Covariance: Covariance measures the direction (positive or negative) of the linear relationship between two variables but does not provide information about the strength of the relationship.\n",
    "2. Correlation: Correlation provides a standardized measure of both the direction and strength of the linear relationship. A correlation coefficient of -1 indicates a perfect negative linear relationship, 1 indicates a perfect positive linear relationship, and 0 indicates no linear relationship.\n",
    "\n",
    "# Units:\n",
    "\n",
    "1. Covariance: The unit of covariance is the product of the units of the two variables being measured.\n",
    "2. Correlation: Correlation is unitless, which simplifies interpretation and comparison across different pairs of variables with different scales.\n",
    "\n",
    "# Range:\n",
    "\n",
    "1. Covariance: Covariance can take any real value, positive or negative.\n",
    "2. Correlation: Correlation always falls between -1 and 1, providing a standardized and bounded measure.\n",
    "\n",
    "# Normalization:\n",
    "\n",
    "1. Covariance: Covariance is not normalized and may not be easily interpretable for comparing relationships across different pairs of variables.\n",
    "2. Correlation: Correlation is normalized, allowing for a more straightforward comparison of relationships between different pairs of variables.\n",
    "\n",
    "# Impact of Scale:\n",
    "\n",
    "1. Covariance: Covariance can be influenced by the scale of the variables, making it challenging to compare covariances across different datasets.\n",
    "2. Correlation: Correlation standardizes the relationship, making it less sensitive to differences in scale and more suitable for comparing relationships.\n",
    "### In summary, while both covariance and correlation provide information about the relationship between two variables, correlation is preferred in many cases due to its standardized scale, which enhances interpretability and facilitates comparisons between different pairs of variables. Correlation is particularly useful when dealing with variables measured on different scales or when comparing relationships across datasets."
   ]
  },
  {
   "cell_type": "markdown",
   "id": "40770e2e-7103-4f08-b00d-411526cbfd6a",
   "metadata": {},
   "source": [
    "# Q14. How do outliers affect measures of central tendency and dispersion? Provide an example.\n",
    "# Answer :->"
   ]
  },
  {
   "cell_type": "markdown",
   "id": "2d13a694-a238-46b6-b1c7-682d591e4df7",
   "metadata": {},
   "source": [
    "### Outliers can have a significant impact on measures of central tendency (mean, median, mode) and measures of dispersion (range, variance, standard deviation). The presence of outliers can skew the distribution, affecting the overall summary statistics. Here's how outliers can influence these measures:\n",
    "\n",
    "# Measures of Central Tendency:\n",
    "\n",
    "1. Mean: Outliers can strongly influence the mean because it takes into account the value of each data point. A single extreme value can pull the mean towards it, making it unrepresentative of the central location of the majority of the data.\n",
    "2. Median: The median is less sensitive to outliers than the mean. It represents the middle value when the data is sorted, so extreme values have less impact on it.\n",
    "3. Mode: Outliers generally have minimal impact on the mode, as the mode is the most frequently occurring value.\n",
    "\n",
    "# Measures of Dispersion:\n",
    "\n",
    "1. Range: Outliers can significantly affect the range because it is based on the difference between the maximum and minimum values. A single outlier can result in a much larger range.\n",
    "2. Variance and Standard Deviation: Outliers can inflate the variance and standard deviation. Since these measures involve squared differences from the mean, extreme values contribute disproportionately to the overall variability."
   ]
  },
  {
   "cell_type": "code",
   "execution_count": 5,
   "id": "c3f45375-e615-41df-a913-1d1355a95a36",
   "metadata": {},
   "outputs": [],
   "source": [
    "import numpy as np\n",
    "from scipy import stats\n",
    "# Define the dataset with and without an outlier\n",
    "dataset_without_outlier = np.array([10, 12, 14, 16, 18])\n",
    "dataset_with_outlier = np.array([10, 12, 14, 16, 18, 200])"
   ]
  },
  {
   "cell_type": "code",
   "execution_count": 9,
   "id": "74941166-82f1-41f7-8c0b-03890b343302",
   "metadata": {},
   "outputs": [],
   "source": [
    "# Calculate measures for the dataset without an outlier\n",
    "mean_without_outlier = np.mean(dataset_without_outlier)\n",
    "median_without_outlier = np.median(dataset_without_outlier)\n",
    "range_without_outlier = np.ptp(dataset_without_outlier)\n",
    "variance_without_outlier = np.var(dataset_without_outlier)\n",
    "std_deviation_without_outlier = np.std(dataset_without_outlier)"
   ]
  },
  {
   "cell_type": "code",
   "execution_count": 11,
   "id": "7040cbff-6ed6-4ad0-bd8c-85c93df8fda8",
   "metadata": {},
   "outputs": [
    {
     "name": "stderr",
     "output_type": "stream",
     "text": [
      "/tmp/ipykernel_112/749055926.py:1: FutureWarning: Unlike other reduction functions (e.g. `skew`, `kurtosis`), the default behavior of `mode` typically preserves the axis it acts along. In SciPy 1.11.0, this behavior will change: the default value of `keepdims` will become False, the `axis` over which the statistic is taken will be eliminated, and the value None will no longer be accepted. Set `keepdims` to True or False to avoid this warning.\n",
      "  mode_without_outlier = stats.mode(dataset_without_outlier)\n"
     ]
    }
   ],
   "source": [
    "mode_without_outlier = stats.mode(dataset_without_outlier)"
   ]
  },
  {
   "cell_type": "code",
   "execution_count": 12,
   "id": "3d59a791-68f4-4876-b484-ac79ab1ae1c2",
   "metadata": {},
   "outputs": [],
   "source": [
    "# Calculate measures for the dataset with an outlier\n",
    "mean_with_outlier = np.mean(dataset_with_outlier)\n",
    "median_with_outlier = np.median(dataset_with_outlier)\n",
    "range_with_outlier = np.ptp(dataset_with_outlier)\n",
    "variance_with_outlier = np.var(dataset_with_outlier)\n",
    "std_deviation_with_outlier = np.std(dataset_with_outlier)"
   ]
  },
  {
   "cell_type": "code",
   "execution_count": 14,
   "id": "852537a0-4d48-4bdd-b1d6-d12c952fdeef",
   "metadata": {},
   "outputs": [
    {
     "name": "stderr",
     "output_type": "stream",
     "text": [
      "/tmp/ipykernel_112/14812176.py:1: FutureWarning: Unlike other reduction functions (e.g. `skew`, `kurtosis`), the default behavior of `mode` typically preserves the axis it acts along. In SciPy 1.11.0, this behavior will change: the default value of `keepdims` will become False, the `axis` over which the statistic is taken will be eliminated, and the value None will no longer be accepted. Set `keepdims` to True or False to avoid this warning.\n",
      "  mode_with_outlier = stats.mode(dataset_with_outlier)\n"
     ]
    }
   ],
   "source": [
    "mode_with_outlier = stats.mode(dataset_with_outlier)"
   ]
  },
  {
   "cell_type": "code",
   "execution_count": 17,
   "id": "05eea1ed-14f4-4b6b-a587-d71334fdd22c",
   "metadata": {},
   "outputs": [
    {
     "name": "stdout",
     "output_type": "stream",
     "text": [
      "Dataset without outlier: [10 12 14 16 18]\n",
      "Mean without outlier: 14.0\n",
      "Median without outlier: 14.0\n",
      "Mode without outlier: ModeResult(mode=array([10]), count=array([1]))\n",
      "Range without outlier: 8\n",
      "Variance without outlier: 8.0\n",
      "Standard Deviation without outlier: 2.8284271247461903\n"
     ]
    }
   ],
   "source": [
    "# Display the results\n",
    "print(\"Dataset without outlier:\", dataset_without_outlier)\n",
    "print(\"Mean without outlier:\", mean_without_outlier)\n",
    "print(\"Median without outlier:\", median_without_outlier)\n",
    "print(\"Mode without outlier:\", mode_without_outlier)\n",
    "print(\"Range without outlier:\", range_without_outlier)\n",
    "print(\"Variance without outlier:\", variance_without_outlier)\n",
    "print(\"Standard Deviation without outlier:\", std_deviation_without_outlier)"
   ]
  },
  {
   "cell_type": "code",
   "execution_count": 18,
   "id": "73c16d5b-a397-4f26-9d8c-e4f3ca9ca515",
   "metadata": {},
   "outputs": [
    {
     "name": "stdout",
     "output_type": "stream",
     "text": [
      "Dataset with outlier: [ 10  12  14  16  18 200]\n",
      "Mean with outlier: 45.0\n",
      "Median with outlier: 15.0\n",
      "Mode with outlier: ModeResult(mode=array([10]), count=array([1]))\n",
      "Range with outlier: 190\n",
      "Variance with outlier: 4811.666666666667\n",
      "Standard Deviation with outlier: 69.36617811777342\n"
     ]
    }
   ],
   "source": [
    "print(\"Dataset with outlier:\", dataset_with_outlier)\n",
    "print(\"Mean with outlier:\", mean_with_outlier)\n",
    "print(\"Median with outlier:\", median_with_outlier)\n",
    "print(\"Mode with outlier:\", mode_with_outlier)\n",
    "print(\"Range with outlier:\", range_with_outlier)\n",
    "print(\"Variance with outlier:\", variance_with_outlier)\n",
    "print(\"Standard Deviation with outlier:\", std_deviation_with_outlier)"
   ]
  },
  {
   "cell_type": "markdown",
   "id": "e219cdc5-3d5f-4125-97a6-4e8c38e1bc2a",
   "metadata": {},
   "source": [
    "#  ......................................................Thank You ..............................................................."
   ]
  },
  {
   "cell_type": "code",
   "execution_count": null,
   "id": "00706bff-4a25-48d8-8080-51a4f801df70",
   "metadata": {},
   "outputs": [],
   "source": []
  }
 ],
 "metadata": {
  "kernelspec": {
   "display_name": "Python 3 (ipykernel)",
   "language": "python",
   "name": "python3"
  },
  "language_info": {
   "codemirror_mode": {
    "name": "ipython",
    "version": 3
   },
   "file_extension": ".py",
   "mimetype": "text/x-python",
   "name": "python",
   "nbconvert_exporter": "python",
   "pygments_lexer": "ipython3",
   "version": "3.10.8"
  }
 },
 "nbformat": 4,
 "nbformat_minor": 5
}
