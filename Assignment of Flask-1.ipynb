{
 "cells": [
  {
   "cell_type": "markdown",
   "id": "f842c005-1912-487e-a0f3-1c4b42657b2e",
   "metadata": {},
   "source": [
    "# Q1. What is Flask Framework? What are the advantages of Flask Framework?"
   ]
  },
  {
   "cell_type": "markdown",
   "id": "488912f9-767c-4b55-9d69-fd425c77ce5a",
   "metadata": {},
   "source": [
    "## Answer :->\n",
    "### Flask is a lightweight and popular web application framework for Python. It is designed to be simple, easy to use, and flexible, making it an excellent choice for developing web applications, especially smaller to medium-sized projects. Flask is known for its minimalist approach, allowing developers to build web applications without imposing rigid structures or dependencies.\n",
    "\n",
    "# Key features and advantages of Flask Framework:\n",
    "\n",
    "1. Simplicity: Flask follows the \"micro\" framework philosophy, which means it provides the essential components for web development without imposing a lot of pre-defined structure. This simplicity allows developers to have more control over their code and the flexibility to choose their preferred tools and libraries.\n",
    "\n",
    "2. Extensibility: Flask is highly extensible, and developers can easily add functionality through various Flask extensions and third-party libraries. This modularity allows you to pick and choose components as needed for your project.\n",
    "\n",
    "3. Routing: Flask provides a straightforward and flexible routing system, allowing you to define URL patterns and map them to specific functions or views. This makes it easy to create RESTful APIs and handle different HTTP methods (GET, POST, PUT, DELETE).\n",
    "\n",
    "4. Jinja2 Templating: Flask uses the Jinja2 template engine, which simplifies the generation of HTML and other dynamic content. It supports template inheritance, macros, and filters, making it easy to create reusable and maintainable templates.\n",
    "\n",
    "5. Built-in Development Server: Flask includes a built-in development server that makes it easy to test your application during development without the need for additional setup.\n",
    "\n",
    "6. Werkzeug Integration: Flask is built on top of the Werkzeug WSGI toolkit, which provides low-level request and response handling. This integration ensures good performance and compatibility with various web servers and deployment options.\n",
    "\n",
    "7. Lightweight: Due to its minimalistic design, Flask has a small footprint, making it a good choice for projects with limited resources or where you want to keep dependencies to a minimum.\n",
    "\n",
    "8. Community and Documentation: Flask has a large and active community of developers and offers extensive documentation, tutorials, and resources. This makes it easy to find help and guidance when working with Flask.\n",
    "\n",
    "9. Production-Ready: While Flask is often used for small projects and prototypes, it can also scale to handle larger and more complex applications. Many production-ready applications and websites are built using Flask.\n",
    "\n",
    "10. RESTful API Support: Flask is well-suited for building RESTful APIs, making it a popular choice for developing backend services and microservices.\n",
    "\n",
    "11. Customization: Flask allows developers to customize nearly every aspect of their application, including error handling, request and response handling, and more.\n",
    "\n",
    "#### Overall, Flask's simplicity, flexibility, and ease of use make it an excellent choice for web development, particularly for projects where you want a lightweight framework that doesn't impose too many conventions and where you want to be in control of your application's structure and components."
   ]
  },
  {
   "cell_type": "markdown",
   "id": "49910d39-eef0-4bd7-86ba-64dc6f7e4ec4",
   "metadata": {},
   "source": [
    "# Q2. Create a simple Flask application to display ‘Hello World!!’. Attach the screenshot of the output in Jupyter Notebook."
   ]
  },
  {
   "cell_type": "code",
   "execution_count": 1,
   "id": "d0f141ea-0da0-40f9-8cc1-96769880049a",
   "metadata": {},
   "outputs": [
    {
     "name": "stdout",
     "output_type": "stream",
     "text": [
      "Collecting Flask\n",
      "  Downloading flask-3.0.0-py3-none-any.whl (99 kB)\n",
      "\u001b[2K     \u001b[90m━━━━━━━━━━━━━━━━━━━━━━━━━━━━━━━━━━━━━━━━\u001b[0m \u001b[32m99.7/99.7 kB\u001b[0m \u001b[31m4.1 MB/s\u001b[0m eta \u001b[36m0:00:00\u001b[0m\n",
      "\u001b[?25hRequirement already satisfied: click>=8.1.3 in /opt/conda/lib/python3.10/site-packages (from Flask) (8.1.3)\n",
      "Collecting blinker>=1.6.2\n",
      "  Downloading blinker-1.6.2-py3-none-any.whl (13 kB)\n",
      "Collecting itsdangerous>=2.1.2\n",
      "  Downloading itsdangerous-2.1.2-py3-none-any.whl (15 kB)\n",
      "Collecting Werkzeug>=3.0.0\n",
      "  Downloading werkzeug-3.0.0-py3-none-any.whl (226 kB)\n",
      "\u001b[2K     \u001b[90m━━━━━━━━━━━━━━━━━━━━━━━━━━━━━━━━━━━━━━\u001b[0m \u001b[32m226.6/226.6 kB\u001b[0m \u001b[31m20.6 MB/s\u001b[0m eta \u001b[36m0:00:00\u001b[0m\n",
      "\u001b[?25hRequirement already satisfied: Jinja2>=3.1.2 in /opt/conda/lib/python3.10/site-packages (from Flask) (3.1.2)\n",
      "Requirement already satisfied: MarkupSafe>=2.0 in /opt/conda/lib/python3.10/site-packages (from Jinja2>=3.1.2->Flask) (2.1.1)\n",
      "Installing collected packages: Werkzeug, itsdangerous, blinker, Flask\n",
      "  Attempting uninstall: blinker\n",
      "    Found existing installation: blinker 1.5\n",
      "    Uninstalling blinker-1.5:\n",
      "      Successfully uninstalled blinker-1.5\n",
      "Successfully installed Flask-3.0.0 Werkzeug-3.0.0 blinker-1.6.2 itsdangerous-2.1.2\n",
      "Note: you may need to restart the kernel to use updated packages.\n"
     ]
    }
   ],
   "source": [
    "pip install Flask"
   ]
  },
  {
   "cell_type": "code",
   "execution_count": 1,
   "id": "f2a60333-2e41-4718-805e-5cf6d0a0f08b",
   "metadata": {},
   "outputs": [
    {
     "name": "stdout",
     "output_type": "stream",
     "text": [
      " * Serving Flask app '__main__'\n",
      " * Debug mode: off\n"
     ]
    },
    {
     "name": "stderr",
     "output_type": "stream",
     "text": [
      "WARNING: This is a development server. Do not use it in a production deployment. Use a production WSGI server instead.\n",
      " * Running on all addresses (0.0.0.0)\n",
      " * Running on http://127.0.0.1:5000\n",
      " * Running on http://172.18.0.27:5000\n",
      "Press CTRL+C to quit\n"
     ]
    }
   ],
   "source": [
    "from flask import Flask\n",
    "\n",
    "app = Flask(__name__)\n",
    "\n",
    "@app.route(\"/\")\n",
    "def hello_world():\n",
    "    return \"Hello, World!\"\n",
    "    \n",
    "if __name__==\"__main__\":\n",
    "    app.run(host=\"0.0.0.0\")"
   ]
  },
  {
   "cell_type": "markdown",
   "id": "658e96c7-29f0-443f-9458-deaec11c0cbb",
   "metadata": {},
   "source": [
    "![XYZ Screenshot](xyz.png)"
   ]
  },
  {
   "cell_type": "markdown",
   "id": "4c2ccefa-0e99-4ccb-bfc1-a1846902f504",
   "metadata": {},
   "source": [
    "# Q3. What is App routing in Flask? Why do we use app routes?"
   ]
  },
  {
   "cell_type": "markdown",
   "id": "578043af-2239-4908-8dbe-8671d4afb5d8",
   "metadata": {},
   "source": [
    "## Answer :->\n",
    "### App routing in Flask refers to the process of defining routes within a Flask web application. Routes determine how the application responds to different URLs (Uniform Resource Locators) when accessed by a client, such as a web browser. In Flask, the @app.route() decorator is commonly used to define routes.\n",
    "\n",
    "## Here's a basic example of how app routing works in Flask:"
   ]
  },
  {
   "cell_type": "code",
   "execution_count": 2,
   "id": "ae92c42c-4076-4efc-b005-77f1f6c529a1",
   "metadata": {},
   "outputs": [
    {
     "name": "stdout",
     "output_type": "stream",
     "text": [
      " * Serving Flask app '__main__'\n",
      " * Debug mode: off\n"
     ]
    },
    {
     "name": "stderr",
     "output_type": "stream",
     "text": [
      "WARNING: This is a development server. Do not use it in a production deployment. Use a production WSGI server instead.\n",
      " * Running on http://127.0.0.1:5000\n",
      "Press CTRL+C to quit\n"
     ]
    }
   ],
   "source": [
    "from flask import Flask\n",
    "\n",
    "app = Flask(__name__)\n",
    "\n",
    "@app.route('/')\n",
    "def home():\n",
    "    return 'Welcome to the home page!'\n",
    "\n",
    "@app.route('/about')\n",
    "def about():\n",
    "    return 'This is the about page.'\n",
    "\n",
    "if __name__ == '__main__':\n",
    "    app.run()"
   ]
  },
  {
   "cell_type": "markdown",
   "id": "c08e2ee6-77dc-4884-9e0d-f29c59fc6caf",
   "metadata": {},
   "source": [
    "## In this example, two routes are defined:\n",
    "\n",
    "1.  '/' route is associated with the home function, which returns a \"Welcome to the home page!\" message when the root URL is accessed (e.g., http://localhost:5000/).\n",
    "\n",
    "2. The '/about' route is associated with the about function, which returns a \"This is the about page.\" message when the \"/about\" URL is accessed (e.g., http://localhost:5000/about)."
   ]
  },
  {
   "cell_type": "markdown",
   "id": "83887a5b-6459-417f-91e4-6bf99537d8c1",
   "metadata": {},
   "source": [
    "## App routes in web frameworks like Flask are used for several important purposes in web development:\n",
    "\n",
    "1. URL Mapping: App routes define how different URLs or paths in a web application are mapped to specific functionality or view functions. When a client (e.g., a web browser) makes a request to a URL, the web framework uses the defined routes to determine which Python function should handle that request. This enables developers to control what content or data is displayed for different URLs.\n",
    "\n",
    "2. Creating Web Pages: App routes allow developers to create multiple pages or views within a web application. Each route corresponds to a specific page or view that serves a particular purpose. For example, you might have routes for a homepage, about page, contact page, user profile, and more.\n",
    "\n",
    "3. Modularity: Routes help organize your code in a modular way. You can group related routes and view functions into separate modules or blueprints, making it easier to manage and maintain your code as it grows. This modular structure enhances code readability and maintainability.\n",
    "\n",
    "5. Dynamic Routing: App routes support dynamic routing, where parts of the URL can be variable. For example, you can define a route like /user/username> to handle user profiles for different usernames. This allows you to create flexible and dynamic web applications that can respond to varying user inputs.\n",
    "\n",
    "6. HTTP Methods: Routes can be associated with specific HTTP methods (e.g., GET, POST, PUT, DELETE). This allows you to define different behaviors for different types of HTTP requests to the same URL. For instance, you might use a GET request to retrieve data and a POST request to submit data.\n",
    "\n",
    "7. URL Building: Web frameworks like Flask provide tools for dynamically generating URLs within your application. This is especially useful for creating links and redirects in your templates and code. It ensures that your URLs remain consistent and can be easily updated when needed.\n",
    "\n",
    "8. Separation of Concerns: Using app routes promotes the separation of concerns in your application. Each route and associated view function focuses on a specific task or functionality. This separation makes it easier to troubleshoot and maintain your codebase.\n",
    "\n",
    "9. User Experience: Well-defined app routes contribute to a better user experience by creating logical and intuitive navigation within your web application. Users can access different parts of your site through distinct URLs, enhancing usability.\n",
    "\n",
    "10. Scalability: As your web application grows, app routes provide a structured and organized way to expand its functionality. You can continue to add new routes and view functions to handle additional features and pages.\n",
    "\n",
    "#### In summary, app routes are a fundamental aspect of web development that enables developers to control how URLs are mapped to functionality, create modular and dynamic web applications, and enhance the user experience. They play a pivotal role in defining the structure and behavior of web applications built with web frameworks like Flask."
   ]
  },
  {
   "cell_type": "markdown",
   "id": "0e8c4cd9-9c96-4693-bccd-7ee52197c8a5",
   "metadata": {},
   "source": [
    "# Q4. Create a “/welcome” route to display the welcome message “Welcome to ABC Corporation” and a “/” route to show the following details:\n",
    "Company Name: ABC Corporation\n",
    "Location: India\n",
    "Contact Detail: 999-999-9999\n",
    "\n",
    "Attach the screenshot of the output in Jupyter Notebook."
   ]
  },
  {
   "cell_type": "code",
   "execution_count": null,
   "id": "195fbf16-5e00-443f-9697-6d0cd9f60456",
   "metadata": {},
   "outputs": [
    {
     "name": "stdout",
     "output_type": "stream",
     "text": [
      " * Serving Flask app '__main__'\n",
      " * Debug mode: off\n"
     ]
    },
    {
     "name": "stderr",
     "output_type": "stream",
     "text": [
      "WARNING: This is a development server. Do not use it in a production deployment. Use a production WSGI server instead.\n",
      " * Running on all addresses (0.0.0.0)\n",
      " * Running on http://127.0.0.1:5000\n",
      " * Running on http://172.18.0.27:5000\n",
      "Press CTRL+C to quit\n"
     ]
    }
   ],
   "source": [
    "## Answer :->\n",
    "from flask import Flask\n",
    "\n",
    "app = Flask(__name__)\n",
    "\n",
    "@app.route('/welcome')\n",
    "def welcome():\n",
    "    return 'Welcome to ABC Corporation'\n",
    "\n",
    "@app.route('/')\n",
    "def company_info():\n",
    "    company_name = 'ABC Corporation'\n",
    "    location = 'India'\n",
    "    contact_detail = '999-999-9999'\n",
    "    \n",
    "    info = f'Company Name: {company_name}<br>Location: {location}<br>Contact Detail: {contact_detail}'\n",
    "    return info\n",
    "\n",
    "if __name__==\"__main__\":\n",
    "    app.run(host=\"0.0.0.0\")"
   ]
  },
  {
   "cell_type": "markdown",
   "id": "fa5feccd-9c4e-4027-9b93-c3ff21c0c45f",
   "metadata": {},
   "source": [
    "<img src=\"welcome.png\"/>"
   ]
  },
  {
   "cell_type": "markdown",
   "id": "565f3256-67f2-466a-8e8d-73b26d4fd1cd",
   "metadata": {},
   "source": [
    "<img src=\"company_info.png\" style = \"width:800px;height:600px\"/>"
   ]
  },
  {
   "cell_type": "markdown",
   "id": "188230ed-1ab6-4506-b693-2384a3c0f76e",
   "metadata": {},
   "source": [
    "# Q5. What function is used in Flask for URL Building? Write a Python code to demonstrate the working of the url_for() function."
   ]
  },
  {
   "cell_type": "markdown",
   "id": "2b6e21d8-d5ca-4f5b-a4e2-659154aa9309",
   "metadata": {},
   "source": [
    "## Answer :->\n",
    "### In Flask, the url_for() function is used for URL building. It generates a URL for a given endpoint (view function) and any associated URL parameters. This function is handy for creating links and redirects within your Flask application, ensuring that your URLs remain consistent and can be easily updated if needed.\n",
    "\n",
    "## Here's a Python code example that demonstrates the usage of the url_for() function:"
   ]
  },
  {
   "cell_type": "code",
   "execution_count": null,
   "id": "22cfd900-ffb3-4998-8d9a-432a3b4ab19c",
   "metadata": {},
   "outputs": [],
   "source": [
    "from flask import Flask, url_for\n",
    "\n",
    "app = Flask(__name__)\n",
    "\n",
    "@app.route('/')\n",
    "def home():\n",
    "    return 'Welcome to the home page!<br><a href=\"{}\">Go to About</a>'.format(url_for('about'))\n",
    "\n",
    "@app.route('/about')\n",
    "def about():\n",
    "    return 'This is the about page!<br><a href=\"{}\">Go back to Home</a>'.format(url_for('home'))\n",
    "\n",
    "\n",
    "if __name__==\"__main__\":\n",
    "    app.run(host=\"0.0.0.0\")\n",
    "\n"
   ]
  },
  {
   "cell_type": "markdown",
   "id": "09942dbe-8576-41c4-9951-bfe100fb59f7",
   "metadata": {},
   "source": [
    "### In this code:\n",
    "1. We import url_for from Flask.\n",
    "2. Two routes are defined: \"/\" (home) and \"/about\".\n",
    "3. In the \"home\" route, we use url_for('about') to generate a URL for the \"about\" route and insert it as a hyperlink within the home page.\n",
    "4. In the \"about\" route, we use url_for('home') to generate a URL for the \"home\" route and insert it as a hyperlink within the about page.\n",
    "\n",
    "## When you run this Flask application and access it in your web browser, you'll see two links:\n",
    "\n",
    "1. \"Go to About\" on the home page, which links to the \"/about\" route.\n",
    "2. \"Go back to Home\" on the about page, which links to the \"/\" (home) route.\n",
    "### The url_for() function ensures that these links are generated correctly and will work even if you change the URL structure of your routes in the future. It helps maintain clean and reliable URLs in your Flask application."
   ]
  },
  {
   "cell_type": "markdown",
   "id": "c9826b51-fa7d-404b-8ad2-15430150659d",
   "metadata": {},
   "source": [
    "![](home_page.png)"
   ]
  },
  {
   "cell_type": "markdown",
   "id": "c12595c1-4742-4d7d-bae2-f363c7860cb6",
   "metadata": {},
   "source": [
    "![](about_page.png)"
   ]
  },
  {
   "cell_type": "code",
   "execution_count": null,
   "id": "4a46335d-633a-4111-88a6-9947c1525614",
   "metadata": {},
   "outputs": [],
   "source": []
  }
 ],
 "metadata": {
  "kernelspec": {
   "display_name": "Python 3 (ipykernel)",
   "language": "python",
   "name": "python3"
  },
  "language_info": {
   "codemirror_mode": {
    "name": "ipython",
    "version": 3
   },
   "file_extension": ".py",
   "mimetype": "text/x-python",
   "name": "python",
   "nbconvert_exporter": "python",
   "pygments_lexer": "ipython3",
   "version": "3.10.8"
  }
 },
 "nbformat": 4,
 "nbformat_minor": 5
}
