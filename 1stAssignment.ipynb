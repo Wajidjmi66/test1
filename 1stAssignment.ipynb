{
 "cells": [
  {
   "cell_type": "code",
   "execution_count": 1,
   "id": "3077172b-69a6-430e-8d8d-2cf7f6b03a81",
   "metadata": {},
   "outputs": [],
   "source": []
  },
  {
   "cell_type": "code",
   "execution_count": null,
   "id": "ca0e880f-3d0b-433e-83b0-c103b6cc3add",
   "metadata": {},
   "outputs": [],
   "source": [
    "# Q NO : 01"
   ]
  },
  {
   "cell_type": "code",
   "execution_count": null,
   "id": "8dc52a51-d57b-4fdc-aa28-a7237629477b",
   "metadata": {},
   "outputs": [],
   "source": [
    "my_string = \"PW Skill\""
   ]
  },
  {
   "cell_type": "code",
   "execution_count": 2,
   "id": "ea3a475e-1cf0-47ac-b4bd-831f9cc3e7b5",
   "metadata": {},
   "outputs": [
    {
     "data": {
      "text/plain": [
       "'PW Skill'"
      ]
     },
     "execution_count": 2,
     "metadata": {},
     "output_type": "execute_result"
    }
   ],
   "source": [
    "my_string "
   ]
  },
  {
   "cell_type": "code",
   "execution_count": 3,
   "id": "b570db61-86d4-4bef-afa7-b64fd94a3a06",
   "metadata": {},
   "outputs": [],
   "source": [
    "my_list = [12,34,45.98,True,4+7j,\"pwskill\"]"
   ]
  },
  {
   "cell_type": "code",
   "execution_count": 4,
   "id": "452a2960-361d-4d1d-bdf9-f8acec23561d",
   "metadata": {},
   "outputs": [
    {
     "data": {
      "text/plain": [
       "[12, 34, 45.98, True, (4+7j), 'pwskill']"
      ]
     },
     "execution_count": 4,
     "metadata": {},
     "output_type": "execute_result"
    }
   ],
   "source": [
    "my_list"
   ]
  },
  {
   "cell_type": "code",
   "execution_count": 5,
   "id": "327fbb6c-0f89-4d97-9039-9de9b53c1018",
   "metadata": {},
   "outputs": [],
   "source": [
    "my_float = 45.345"
   ]
  },
  {
   "cell_type": "code",
   "execution_count": 6,
   "id": "83680d61-957c-4c57-9094-a66c76297ad1",
   "metadata": {},
   "outputs": [
    {
     "data": {
      "text/plain": [
       "45.345"
      ]
     },
     "execution_count": 6,
     "metadata": {},
     "output_type": "execute_result"
    }
   ],
   "source": [
    "my_float"
   ]
  },
  {
   "cell_type": "code",
   "execution_count": 7,
   "id": "e8f9ca08-1421-469e-9ea4-58d5aadb76b6",
   "metadata": {},
   "outputs": [],
   "source": [
    "my_tuple = (12,34,45.46,\"pwskill\",True,False,4+4j)"
   ]
  },
  {
   "cell_type": "code",
   "execution_count": 8,
   "id": "c64af9f9-dfe3-4959-a965-43839539e629",
   "metadata": {},
   "outputs": [
    {
     "data": {
      "text/plain": [
       "(12, 34, 45.46, 'pwskill', True, False, (4+4j))"
      ]
     },
     "execution_count": 8,
     "metadata": {},
     "output_type": "execute_result"
    }
   ],
   "source": [
    "my_tuple"
   ]
  },
  {
   "cell_type": "code",
   "execution_count": null,
   "id": "79485357-d53b-4906-aa85-a5a24f622f6b",
   "metadata": {},
   "outputs": [],
   "source": []
  },
  {
   "cell_type": "code",
   "execution_count": null,
   "id": "3b13d512-38f9-4ae4-b6fa-89a0bf7fa13e",
   "metadata": {},
   "outputs": [],
   "source": [
    "# Q NO : 02"
   ]
  },
  {
   "cell_type": "code",
   "execution_count": null,
   "id": "64f31ca2-94f5-4b64-a6ce-7371e247dadc",
   "metadata": {},
   "outputs": [],
   "source": [
    "\"\"\"  Q2. Given are some following variables containing data:\n",
    "(i) var1 = ‘ ‘\n",
    "(ii) var2 = ‘[ DS , ML , Python]’\n",
    "(iii) var3 = [ ‘DS’ , ’ML’ , ‘Python’ ]\n",
    "(iv) var4 = 1.\n",
    "What will be the data type of the above given variable.   \"\"\"\n",
    "# Answer\n",
    "\n",
    "\"\"\"(i) var1 is a string variable with an empty string as its value.\n",
    "(ii) var2 is a string variable that contains a list of strings, but it is still a string data type and not a list data type.\n",
    "(iii) var3 is a list variable that contains three strings.\n",
    "(iv) var4 is a float variable with a value of 1.0.  \"\"\""
   ]
  },
  {
   "cell_type": "code",
   "execution_count": null,
   "id": "40b6366f-91d8-4c66-b5ca-7fe3e8cb488d",
   "metadata": {},
   "outputs": [],
   "source": []
  },
  {
   "cell_type": "code",
   "execution_count": null,
   "id": "cb0b1aa6-7082-4bd8-8329-55b6cbd7a6f1",
   "metadata": {},
   "outputs": [],
   "source": [
    "# Q NO : 03"
   ]
  },
  {
   "cell_type": "code",
   "execution_count": null,
   "id": "60401fd1-ba86-4a64-90b8-7212b7ee973b",
   "metadata": {},
   "outputs": [],
   "source": [
    "\"\"\"Q3. Explain the use of the following operators using an example:\n",
    "(i) /\n",
    "(ii) %\n",
    "(iii) //\n",
    "(iv) **    \"\"\"\n",
    "#Answer\n",
    "\"\"\"\n",
    "Sure, here's an explanation of the four operators you asked for along with examples:\n",
    "\n",
    "(i) / operator is used for division operation between two operands. It returns a float value as the result.\n",
    "\n",
    "(ii) % operator is used for modulo operation between two operands. It returns the remainder of the division.\n",
    "\n",
    "(iii) // operator is used for integer division operation between two operands. It returns the quotient of the division as an integer value.\n",
    "\n",
    "(iv) ** operator is used for exponentiation operation between two operands. It returns the value of the first operand raised to the power of the second operand.\"\"\"\n"
   ]
  },
  {
   "cell_type": "code",
   "execution_count": 11,
   "id": "d42f48ee-d948-4a80-aa3f-c017f9f10353",
   "metadata": {},
   "outputs": [
    {
     "name": "stdout",
     "output_type": "stream",
     "text": [
      "3.3333333333333335\n"
     ]
    }
   ],
   "source": [
    " #division\n",
    "x = 10\n",
    "y = 3\n",
    "z = x / y\n",
    "print(z) "
   ]
  },
  {
   "cell_type": "code",
   "execution_count": 12,
   "id": "7088e556-9555-4960-887b-743be0dd752b",
   "metadata": {},
   "outputs": [
    {
     "name": "stdout",
     "output_type": "stream",
     "text": [
      "1\n"
     ]
    }
   ],
   "source": [
    "# modulo\n",
    "x = 10\n",
    "y = 3\n",
    "z = x % y\n",
    "print(z)  "
   ]
  },
  {
   "cell_type": "code",
   "execution_count": 13,
   "id": "14a73471-8920-4055-a614-27aeb49e959d",
   "metadata": {},
   "outputs": [
    {
     "name": "stdout",
     "output_type": "stream",
     "text": [
      "3\n"
     ]
    }
   ],
   "source": [
    "# integer division\n",
    "x = 10\n",
    "y = 3\n",
    "z = x // y\n",
    "print(z) "
   ]
  },
  {
   "cell_type": "code",
   "execution_count": 15,
   "id": "7c53b789-ef7a-4779-971e-56cb49303749",
   "metadata": {},
   "outputs": [
    {
     "name": "stdout",
     "output_type": "stream",
     "text": [
      "8\n"
     ]
    }
   ],
   "source": [
    "x = 2\n",
    "y = 3\n",
    "z = x ** y\n",
    "print(z)  "
   ]
  },
  {
   "cell_type": "code",
   "execution_count": null,
   "id": "4d3b4dd7-4bde-46b8-81a4-62fc53a12bd2",
   "metadata": {},
   "outputs": [],
   "source": []
  },
  {
   "cell_type": "code",
   "execution_count": null,
   "id": "914546e2-e82b-49bf-aaa6-ab57461a2818",
   "metadata": {},
   "outputs": [],
   "source": [
    "# Q NO : 04"
   ]
  },
  {
   "cell_type": "code",
   "execution_count": 18,
   "id": "02ee0fbd-4b09-43ec-ac6c-dca0cb0f67b3",
   "metadata": {},
   "outputs": [
    {
     "name": "stdout",
     "output_type": "stream",
     "text": [
      "10\n",
      "20\n",
      "20.2\n",
      "30.35\n",
      "a\n",
      "d\n",
      "pwskill\n",
      "True\n",
      "False\n",
      "(4+9j)\n"
     ]
    }
   ],
   "source": [
    "\"\"\"Q4. Create a list of length 10 of your choice containing multiple types of data. Using for loop print the\n",
    "element and its data type.  \"\"\"\n",
    "my_list = [10,20,20.20,30.35,'a','d',\"pwskill\",True,False,4+9j,]\n",
    "for i in my_list :\n",
    "    print(i)"
   ]
  },
  {
   "cell_type": "code",
   "execution_count": null,
   "id": "337ae35a-7e51-4948-a3bf-f16a49b3be0e",
   "metadata": {},
   "outputs": [],
   "source": []
  },
  {
   "cell_type": "code",
   "execution_count": null,
   "id": "5de58415-9728-4b7b-9246-8ed4293a2422",
   "metadata": {},
   "outputs": [],
   "source": [
    "# Q NO : 05"
   ]
  },
  {
   "cell_type": "code",
   "execution_count": 6,
   "id": "98bc3e56-4292-4e78-85a5-70dfd4cd148b",
   "metadata": {},
   "outputs": [
    {
     "name": "stdin",
     "output_type": "stream",
     "text": [
      "Enter the value of A :  78\n",
      "Enter the value of B :  5\n"
     ]
    },
    {
     "name": "stdout",
     "output_type": "stream",
     "text": [
      "A is not purely divisible by B\n"
     ]
    }
   ],
   "source": [
    "\"\"\"Q5. Using a while loop, verify if the number A is purely divisible by number B and if so then how many\n",
    "times it can be divisible. \"\"\"\n",
    "A = int(input(\"Enter the value of A : \"))\n",
    "B = int(input(\"Enter the value of B : \"))\n",
    "if A % B == 0:\n",
    "    print(\"A is purely divisible by B\")\n",
    "    print(\"total number of divisible is \",A//B)\n",
    "else:\n",
    "    print(\"A is not purely divisible by B\")"
   ]
  },
  {
   "cell_type": "code",
   "execution_count": null,
   "id": "124d7f72-bad7-4b8a-9475-05f8c663650b",
   "metadata": {},
   "outputs": [],
   "source": []
  },
  {
   "cell_type": "code",
   "execution_count": null,
   "id": "a557e653-53c8-4e7f-9ca4-c3bcd2ef5473",
   "metadata": {},
   "outputs": [],
   "source": [
    "# Q NO : 06"
   ]
  },
  {
   "cell_type": "code",
   "execution_count": 34,
   "id": "665c278a-90f1-4fa6-9f17-43e9461dd1cf",
   "metadata": {},
   "outputs": [
    {
     "name": "stdout",
     "output_type": "stream",
     "text": [
      "1 is not divisible by three\n",
      "2 is not divisible by three\n",
      "3 is divisible by three\n",
      "4 is not divisible by three\n",
      "5 is not divisible by three\n",
      "6 is divisible by three\n",
      "7 is not divisible by three\n",
      "8 is not divisible by three\n",
      "9 is divisible by three\n",
      "10 is not divisible by three\n",
      "11 is not divisible by three\n",
      "12 is divisible by three\n",
      "13 is not divisible by three\n",
      "14 is not divisible by three\n",
      "15 is divisible by three\n",
      "16 is not divisible by three\n",
      "17 is not divisible by three\n",
      "18 is divisible by three\n",
      "19 is not divisible by three\n",
      "20 is not divisible by three\n",
      "21 is divisible by three\n",
      "22 is not divisible by three\n",
      "23 is not divisible by three\n",
      "24 is divisible by three\n",
      "25 is not divisible by three\n"
     ]
    }
   ],
   "source": [
    "\"\"\"Q6. Create a list containing 25 int type data. Using for loop and if-else condition print if the element is\n",
    "divisible by 3 or not. \"\"\"\n",
    "list = [1,2,3,4,5,6,7,8,9,10,11,12,13,14,15,16,17,18,19,20,21,22,23,24,25]\n",
    "for i in list :\n",
    "    if i % 3 ==0 :\n",
    "        print(i,\"is divisible by three\" )\n",
    "    else :\n",
    "        print(i,\"is not divisible by three\" )\n",
    "        \n"
   ]
  },
  {
   "cell_type": "code",
   "execution_count": null,
   "id": "227e919e-a196-4512-ba80-474485b08306",
   "metadata": {},
   "outputs": [],
   "source": []
  },
  {
   "cell_type": "code",
   "execution_count": null,
   "id": "2ed2a587-9cbf-4860-b042-2ee018e0cac9",
   "metadata": {},
   "outputs": [],
   "source": [
    "# Q NO : 07"
   ]
  },
  {
   "cell_type": "code",
   "execution_count": 35,
   "id": "650bfc66-6a46-4114-bb87-622882e7e234",
   "metadata": {},
   "outputs": [],
   "source": [
    "\"\"\"Q7. What do you understand about mutable and immutable data types? Give examples for both showing\n",
    "this property.\"\"\"\n",
    "# Answer\n",
    "\"\"\"\n",
    "In Python, data types can be classified into two categories: mutable and immutable.\n",
    "\n",
    "Immutable data types cannot be changed after they are created. If you modify an immutable object,\n",
    "a new object is created in memory. Examples of immutable data types in Python include integers, floats, booleans, and strings.\n",
    "\n",
    "Mutable data types can be modified after they are created. This means that if you modify a mutable object, \n",
    "the original object is modified in place, without creating a new object. Examples of mutable data types in Python include lists, dictionaries, and sets \"\"\""
   ]
  },
  {
   "cell_type": "code",
   "execution_count": 36,
   "id": "620c5591-876e-450d-ac15-10a5ca74815c",
   "metadata": {},
   "outputs": [],
   "source": [
    "# Immutable data type example\n",
    "string = \"MD Wajid\""
   ]
  },
  {
   "cell_type": "code",
   "execution_count": 37,
   "id": "8a80c107-988a-48ff-ac04-26bad9898f3b",
   "metadata": {},
   "outputs": [
    {
     "data": {
      "text/plain": [
       "'MD Wajid'"
      ]
     },
     "execution_count": 37,
     "metadata": {},
     "output_type": "execute_result"
    }
   ],
   "source": [
    "string"
   ]
  },
  {
   "cell_type": "code",
   "execution_count": 38,
   "id": "1b55bdea-1b61-4528-abfc-37cbf586d81c",
   "metadata": {},
   "outputs": [
    {
     "ename": "TypeError",
     "evalue": "'str' object does not support item assignment",
     "output_type": "error",
     "traceback": [
      "\u001b[0;31m---------------------------------------------------------------------------\u001b[0m",
      "\u001b[0;31mTypeError\u001b[0m                                 Traceback (most recent call last)",
      "Cell \u001b[0;32mIn[38], line 1\u001b[0m\n\u001b[0;32m----> 1\u001b[0m \u001b[43mstring\u001b[49m\u001b[43m[\u001b[49m\u001b[38;5;241;43m0\u001b[39;49m\u001b[43m]\u001b[49m \u001b[38;5;241m=\u001b[39m \u001b[38;5;124m'\u001b[39m\u001b[38;5;124mP\u001b[39m\u001b[38;5;124m'\u001b[39m\n",
      "\u001b[0;31mTypeError\u001b[0m: 'str' object does not support item assignment"
     ]
    }
   ],
   "source": [
    "string[0] = 'P'"
   ]
  },
  {
   "cell_type": "code",
   "execution_count": 39,
   "id": "afaf2940-f5a0-4b38-b267-1994ac85c27d",
   "metadata": {},
   "outputs": [],
   "source": [
    "# Mutable data type example\n",
    "list = [23,34,45,56]"
   ]
  },
  {
   "cell_type": "code",
   "execution_count": 40,
   "id": "e1128dcb-1054-4b9f-ba53-fa9caad3afa1",
   "metadata": {},
   "outputs": [
    {
     "data": {
      "text/plain": [
       "[23, 34, 45, 56]"
      ]
     },
     "execution_count": 40,
     "metadata": {},
     "output_type": "execute_result"
    }
   ],
   "source": [
    "list"
   ]
  },
  {
   "cell_type": "code",
   "execution_count": 41,
   "id": "cd8dcd87-d7fb-4cbd-8955-62801f790504",
   "metadata": {},
   "outputs": [],
   "source": [
    "list[0] = 44\n",
    "list[1] = 50"
   ]
  },
  {
   "cell_type": "code",
   "execution_count": 42,
   "id": "9fce1445-704f-422a-be3f-d2b110cbbb3f",
   "metadata": {},
   "outputs": [
    {
     "data": {
      "text/plain": [
       "[44, 50, 45, 56]"
      ]
     },
     "execution_count": 42,
     "metadata": {},
     "output_type": "execute_result"
    }
   ],
   "source": [
    "list"
   ]
  },
  {
   "cell_type": "code",
   "execution_count": null,
   "id": "4f497b95-8923-4b7c-ab9f-8ce4faa6f09e",
   "metadata": {},
   "outputs": [],
   "source": []
  }
 ],
 "metadata": {
  "kernelspec": {
   "display_name": "Python 3 (ipykernel)",
   "language": "python",
   "name": "python3"
  },
  "language_info": {
   "codemirror_mode": {
    "name": "ipython",
    "version": 3
   },
   "file_extension": ".py",
   "mimetype": "text/x-python",
   "name": "python",
   "nbconvert_exporter": "python",
   "pygments_lexer": "ipython3",
   "version": "3.10.8"
  }
 },
 "nbformat": 4,
 "nbformat_minor": 5
}
