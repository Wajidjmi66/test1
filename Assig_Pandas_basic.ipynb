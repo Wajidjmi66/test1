{
 "cells": [
  {
   "cell_type": "markdown",
   "id": "17445442-0f37-4543-b14d-b0489099b24d",
   "metadata": {},
   "source": [
    "# Q1. Create a Pandas Series that contains the following data: 4, 8, 15, 16, 23, and 42. Then, print the series."
   ]
  },
  {
   "cell_type": "markdown",
   "id": "0c5d2215-8894-4b5d-aa8b-c347f62c5b91",
   "metadata": {},
   "source": [
    "# Answer :->"
   ]
  },
  {
   "cell_type": "code",
   "execution_count": 1,
   "id": "d1100265-85a5-4cc9-be95-5835335c3719",
   "metadata": {},
   "outputs": [],
   "source": [
    "import pandas as pd"
   ]
  },
  {
   "cell_type": "code",
   "execution_count": 2,
   "id": "b4695e09-1199-4d1d-b2ac-68e254662b9b",
   "metadata": {},
   "outputs": [],
   "source": [
    "data = [4, 8, 15, 16, 23, 42]"
   ]
  },
  {
   "cell_type": "code",
   "execution_count": 3,
   "id": "f9c70581-19ea-428e-88db-994dae3eff69",
   "metadata": {},
   "outputs": [
    {
     "data": {
      "text/plain": [
       "[4, 8, 15, 16, 23, 42]"
      ]
     },
     "execution_count": 3,
     "metadata": {},
     "output_type": "execute_result"
    }
   ],
   "source": [
    "data"
   ]
  },
  {
   "cell_type": "code",
   "execution_count": 4,
   "id": "cded82df-5d7a-45e2-9193-584ce27e15e1",
   "metadata": {},
   "outputs": [
    {
     "data": {
      "text/plain": [
       "0     4\n",
       "1     8\n",
       "2    15\n",
       "3    16\n",
       "4    23\n",
       "5    42\n",
       "dtype: int64"
      ]
     },
     "execution_count": 4,
     "metadata": {},
     "output_type": "execute_result"
    }
   ],
   "source": [
    "pd.Series(data)"
   ]
  },
  {
   "cell_type": "code",
   "execution_count": 5,
   "id": "ae650cdc-39b5-430b-8afb-8b808c677207",
   "metadata": {},
   "outputs": [
    {
     "name": "stdout",
     "output_type": "stream",
     "text": [
      "0     4\n",
      "1     8\n",
      "2    15\n",
      "3    16\n",
      "4    23\n",
      "5    42\n",
      "dtype: int64\n"
     ]
    }
   ],
   "source": [
    "series = pd.Series(data)\n",
    "print(series)"
   ]
  },
  {
   "cell_type": "code",
   "execution_count": 6,
   "id": "caf6b217-5417-47b0-9653-cf736059bdb0",
   "metadata": {},
   "outputs": [
    {
     "data": {
      "text/plain": [
       "pandas.core.series.Series"
      ]
     },
     "execution_count": 6,
     "metadata": {},
     "output_type": "execute_result"
    }
   ],
   "source": [
    "type(series)"
   ]
  },
  {
   "cell_type": "markdown",
   "id": "1267d133-b528-4623-81ce-df3ef45e8e66",
   "metadata": {},
   "source": [
    "# Q2. Create a variable of list type containing 10 elements in it, and apply pandas.Series function on the variable print it.\n",
    "# Answer :->"
   ]
  },
  {
   "cell_type": "code",
   "execution_count": 7,
   "id": "cff7c0f3-8a46-4bd2-871e-69203a98a064",
   "metadata": {},
   "outputs": [
    {
     "name": "stdout",
     "output_type": "stream",
     "text": [
      "0     11\n",
      "1     22\n",
      "2     33\n",
      "3     44\n",
      "4     55\n",
      "5     66\n",
      "6     77\n",
      "7     88\n",
      "8     99\n",
      "9    100\n",
      "dtype: int64\n"
     ]
    }
   ],
   "source": [
    "my_list = [11, 22, 33, 44, 55, 66, 77, 88, 99, 100]\n",
    "series = pd.Series(my_list)\n",
    "print(series)"
   ]
  },
  {
   "cell_type": "markdown",
   "id": "9168a705-9c68-4102-af69-310765391483",
   "metadata": {},
   "source": [
    "# Q3. Create a Pandas DataFrame that contains the following data:\n",
    "### 'Name': ['Alice', 'Bob', 'Claire'],\n",
    "### 'Age': [25, 30, 27],\n",
    "### 'Gender': ['Female', 'Male', 'Female']\n",
    "## Then, print the DataFrame.\n",
    "\n",
    "# Answer :->"
   ]
  },
  {
   "cell_type": "code",
   "execution_count": 8,
   "id": "b59ec49b-a7ef-499a-8561-40bee377afd8",
   "metadata": {},
   "outputs": [],
   "source": [
    "data = {\n",
    "    'Name': ['Alice', 'Bob', 'Claire'],\n",
    "    'Age': [25, 30, 27],\n",
    "    'Gender': ['Female', 'Male', 'Female']\n",
    "}"
   ]
  },
  {
   "cell_type": "code",
   "execution_count": 9,
   "id": "315c12ba-8b73-4a70-8c24-47606a776db8",
   "metadata": {},
   "outputs": [
    {
     "data": {
      "text/plain": [
       "dict"
      ]
     },
     "execution_count": 9,
     "metadata": {},
     "output_type": "execute_result"
    }
   ],
   "source": [
    "type(data)"
   ]
  },
  {
   "cell_type": "code",
   "execution_count": 10,
   "id": "fd06922a-9f03-4177-ac6b-5f14db705c43",
   "metadata": {},
   "outputs": [
    {
     "name": "stdout",
     "output_type": "stream",
     "text": [
      "     Name  Age  Gender\n",
      "0   Alice   25  Female\n",
      "1     Bob   30    Male\n",
      "2  Claire   27  Female\n"
     ]
    }
   ],
   "source": [
    "df = pd.DataFrame(data)\n",
    "print(df)"
   ]
  },
  {
   "cell_type": "markdown",
   "id": "4a8c4950-9b99-42a9-8c00-7649cebc6a0a",
   "metadata": {},
   "source": [
    "# Q4. What is ‘DataFrame’ in pandas and how is it different from pandas.series? Explain with an example.\n",
    "\n",
    "# Answer :->"
   ]
  },
  {
   "cell_type": "markdown",
   "id": "af91017d-0fd9-4738-b02f-87a41226fdf1",
   "metadata": {},
   "source": [
    "### In Pandas, a DataFrame is a two-dimensional, size-mutable, and potentially heterogeneous tabular data structure with labeled axes (rows and columns). It can be thought of as a spreadsheet or SQL table. A DataFrame contains data in rows and columns, where each column can have a different data type.\n",
    "\n",
    "### On the other hand, a Pandas Series is a one-dimensional labeled array capable of holding data of any type (integer, string, float, etc.). It's like a single column of data or a single-dimensional array. Series objects have an index that labels each element in the array.\n",
    "\n",
    "### Here's an example illustrating the difference between a DataFrame and a Series:\n",
    "\n",
    "## DataFrame Example:"
   ]
  },
  {
   "cell_type": "code",
   "execution_count": 11,
   "id": "557e991a-5a6c-4d7d-8569-12ef0e3bef01",
   "metadata": {},
   "outputs": [
    {
     "name": "stdout",
     "output_type": "stream",
     "text": [
      "DataFrame:\n",
      "     Name  Age  Gender\n",
      "0   Alice   25  Female\n",
      "1     Bob   30    Male\n",
      "2  Claire   27  Female\n"
     ]
    }
   ],
   "source": [
    "data = {\n",
    "    'Name': ['Alice', 'Bob', 'Claire'],\n",
    "    'Age': [25, 30, 27],\n",
    "    'Gender': ['Female', 'Male', 'Female']\n",
    "}\n",
    "\n",
    "df = pd.DataFrame(data)\n",
    "print(\"DataFrame:\")\n",
    "print(df)"
   ]
  },
  {
   "cell_type": "code",
   "execution_count": 12,
   "id": "2bdca38c-e6b2-4ed6-a3d0-4478ad83a419",
   "metadata": {},
   "outputs": [
    {
     "name": "stdout",
     "output_type": "stream",
     "text": [
      "Series:\n",
      "0    25\n",
      "1    30\n",
      "2    27\n",
      "dtype: int64\n"
     ]
    }
   ],
   "source": [
    "# Series Example:\n",
    "ages = pd.Series([25, 30, 27])\n",
    "print(\"Series:\")\n",
    "print(ages)"
   ]
  },
  {
   "cell_type": "markdown",
   "id": "09565329-9e00-4cf3-a310-e6c5474b1a38",
   "metadata": {},
   "source": [
    "### In the DataFrame example, we create a table-like structure with columns ('Name', 'Age', 'Gender') where each column can hold different types of data. Meanwhile, in the Series example, we have a one-dimensional labeled array holding just the 'Age' data without any column names."
   ]
  },
  {
   "cell_type": "markdown",
   "id": "5b14a409-fdda-4ce6-950e-bfd3d5dd937b",
   "metadata": {},
   "source": [
    "# Q5. What are some common functions you can use to manipulate data in a Pandas DataFrame? Can you give an example of when you might use one of these functions?\n",
    "\n",
    "# Answer :->"
   ]
  },
  {
   "cell_type": "markdown",
   "id": "a020e5f1-2dd8-48a3-91d1-d7e1d2addc64",
   "metadata": {},
   "source": [
    "### Pandas provides a wide range of functions for manipulating data within a DataFrame. Some common functions include:\n",
    "\n",
    "1. head() and tail(): These functions allow you to view the first or last few rows of the DataFrame, which is helpful for quick data inspection.\n",
    "\n",
    "2. info(): This function provides a concise summary of the DataFrame, including the data types, number of non-null values, and memory usage. It's useful for understanding the structure of the DataFrame.\n",
    "\n",
    "3. describe(): It generates descriptive statistics (count, mean, standard deviation, etc.) for numerical columns in the DataFrame, providing insights into the distribution of the data.\n",
    "\n",
    "4. set_index() and reset_index(): These functions allow you to set or reset the DataFrame index, which is useful for changing the row labels or setting a specific column as the index.\n",
    "\n",
    "5. loc[] and iloc[]: These are used for selection and indexing. loc[] selects data by label, allowing you to access rows and columns by their labels, while iloc[] selects data by position, allowing you to access rows and columns by their integer position.\n",
    "\n",
    "6. drop(): It enables dropping rows or columns from the DataFrame based on specified labels or index. This function helps in removing unnecessary data.\n",
    "\n",
    "7. fillna() and dropna(): These functions are used for handling missing data. fillna() replaces missing values with specified values, while dropna() drops rows or columns with missing values.\n",
    "\n",
    "8. groupby(): It's used for grouping data based on specified criteria, enabling aggregation, transformation, or other operations on grouped data.\n",
    "\n",
    "#### For example, we are use the groupby() function where  analyzing sales data to group the data by region and calculate the total sales in each region. This allows us to gain insights into which regions are performing better or worse in terms of sales. Here's a simplified example:"
   ]
  },
  {
   "cell_type": "markdown",
   "id": "87ac990d-563e-4b9b-8755-bab0b6b01b17",
   "metadata": {},
   "source": [
    "# Sample sales data\n",
    "data = {\n",
    "    'Region': ['A', 'B', 'A', 'B', 'A'],\n",
    "    'Sales': [100, 150, 120, 80, 90]\n",
    "}\n",
    "\n",
    "df = pd.DataFrame(data)\n",
    "\n",
    "# Grouping by 'Region' and calculating total sales in each region\n",
    "sales_by_region = df.groupby('Region')['Sales'].sum()\n",
    "print(sales_by_region)"
   ]
  },
  {
   "cell_type": "markdown",
   "id": "72361522-4a98-4dac-b8bd-231f584ed67a",
   "metadata": {},
   "source": [
    "# Q6. Which of the following is mutable in nature Series, DataFrame, Panel?\n",
    "\n",
    "# Answer :->"
   ]
  },
  {
   "cell_type": "markdown",
   "id": "2595bb8e-2c52-4ea2-a23c-61f9a0bb1ef6",
   "metadata": {},
   "source": [
    "### Among Series, DataFrame, and Panel in Pandas, the DataFrame is the mutable data structure, meaning it can be modified after creation. Both Series and DataFrame are fundamental data structures in Pandas, while the Panel has been deprecated in favor of using multi-dimensional DataFrames or other data structures that can handle higher-dimensional data.\n",
    "\n",
    "### A DataFrame's mutability allows for various operations such as adding or removing columns, updating values within the DataFrame, changing the index, appending rows, etc. This mutability makes DataFrames quite flexible for data manipulation and analysis tasks.\n",
    "\n",
    "### On the other hand, Series and Panel (deprecated) are relatively less mutable compared to DataFrames. While you can perform operations like appending new elements to a Series or modifying existing elements, the structural changes are more limited compared to DataFrames. With the deprecation of Panel, multi-dimensional data is now handled more efficiently using DataFrames or other data structures."
   ]
  },
  {
   "cell_type": "markdown",
   "id": "43aa04ed-cd9d-412c-ba61-dc3eb723104d",
   "metadata": {},
   "source": [
    "# Q7. Create a DataFrame using multiple Series. Explain with an example.\n",
    "\n",
    "# answer :->"
   ]
  },
  {
   "cell_type": "code",
   "execution_count": 15,
   "id": "2fa226bc-8a26-4f26-a13a-51c7df289768",
   "metadata": {},
   "outputs": [],
   "source": [
    "# Creating multiple Series\n",
    "names = pd.Series(['Alice', 'Bob', 'Claire'])\n",
    "ages = pd.Series([25, 30, 27])\n",
    "genders = pd.Series(['Female', 'Male', 'Female'])"
   ]
  },
  {
   "cell_type": "code",
   "execution_count": 16,
   "id": "9d783da5-2f20-4fa1-9318-a3b08bc2b0b5",
   "metadata": {},
   "outputs": [],
   "source": [
    "# Creating a DataFrame using the multiple Series\n",
    "data = {\n",
    "    'Name': names,\n",
    "    'Age': ages,\n",
    "    'Gender': genders\n",
    "}"
   ]
  },
  {
   "cell_type": "code",
   "execution_count": 17,
   "id": "76641572-2a66-4499-85cc-257587917eed",
   "metadata": {},
   "outputs": [
    {
     "name": "stdout",
     "output_type": "stream",
     "text": [
      "     Name  Age  Gender\n",
      "0   Alice   25  Female\n",
      "1     Bob   30    Male\n",
      "2  Claire   27  Female\n"
     ]
    }
   ],
   "source": [
    "df = pd.DataFrame(data)\n",
    "print(df)"
   ]
  },
  {
   "cell_type": "code",
   "execution_count": null,
   "id": "ded628f2-0464-47fc-96e7-8aa165f0baef",
   "metadata": {},
   "outputs": [],
   "source": [
    "#   ----------------------------- Thank You------------------------------"
   ]
  }
 ],
 "metadata": {
  "kernelspec": {
   "display_name": "Python 3 (ipykernel)",
   "language": "python",
   "name": "python3"
  },
  "language_info": {
   "codemirror_mode": {
    "name": "ipython",
    "version": 3
   },
   "file_extension": ".py",
   "mimetype": "text/x-python",
   "name": "python",
   "nbconvert_exporter": "python",
   "pygments_lexer": "ipython3",
   "version": "3.10.8"
  }
 },
 "nbformat": 4,
 "nbformat_minor": 5
}
