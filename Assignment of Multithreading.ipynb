{
 "cells": [
  {
   "cell_type": "markdown",
   "id": "50da1731-3373-4c1f-a7ad-99140e284301",
   "metadata": {},
   "source": [
    "# Q1. What is multithreading in python? Why is it used? Name the module used to handle threads in python."
   ]
  },
  {
   "cell_type": "markdown",
   "id": "edc7a541-4b64-44a1-aaca-dabef61e1cb2",
   "metadata": {},
   "source": [
    "## Answer :-> \n",
    "### Multithreading in Python refers to the concurrent execution of multiple threads within the same process. A thread is the smallest unit of execution within a process, and multithreading allows a program to perform multiple tasks concurrently by running each task in a separate thread. These threads can execute independently, making it possible to achieve parallelism and improve the overall performance of the program.\n",
    "\n",
    "### The primary reasons for using multithreading in Python are:\n",
    "\n",
    "1. Concurrency: Multithreading allows you to perform multiple tasks concurrently, which is particularly useful when dealing with I/O-bound operations (e.g., reading/writing files, network communication) or tasks that spend a significant amount of time waiting for external resources. It can help utilize CPU and system resources more efficiently by overlapping the execution of tasks.\n",
    "\n",
    "2. Responsiveness: Multithreading can enhance the responsiveness of a program, especially in GUI applications. It prevents long-running tasks from blocking the user interface, ensuring that the application remains responsive to user interactions.\n",
    "\n",
    "3. Parallelism: Although Python's Global Interpreter Lock (GIL) limits the ability to achieve true parallelism with multiple CPU cores in CPU-bound tasks, multithreading can still be beneficial in scenarios where tasks involve waiting for external resources or performing operations that release the GIL.\n",
    "\n",
    "The primary module used to handle threads in Python is the threading module. The threading module provides a high-level, object-oriented interface for creating and managing threads. It allows you to create and start threads, synchronize threads, and communicate between threads using various synchronization primitives like locks, semaphores, and conditions."
   ]
  },
  {
   "cell_type": "markdown",
   "id": "99a3cdc4-4efb-466e-beb0-e9435b4ed13c",
   "metadata": {},
   "source": [
    "# Q2. Why threading module used? Write the use of the following functions:\n",
    "1. activeCount()\n",
    "2. currentThread()\n",
    "3. enumerate()"
   ]
  },
  {
   "cell_type": "markdown",
   "id": "2c71bc82-eaf4-42fe-91cf-70d5179708a2",
   "metadata": {
    "tags": []
   },
   "source": [
    "## Answer :->\n",
    "### The threading module in Python is used to work with threads and manage concurrent execution in a multi-threaded program. It provides a high-level, object-oriented interface for creating, managing, and synchronizing threads. Here are the explanations and uses of the functions you mentioned:\n",
    "\n",
    "# activeCount():\n",
    "1. activeCount() is a function in the threading module that returns the number of Thread objects currently alive.\n",
    "2. It provides a count of all threads, including the main thread and any other threads that have been created."
   ]
  },
  {
   "cell_type": "code",
   "execution_count": 1,
   "id": "22d5adf0-0755-4e42-8137-52ed82b6e2f0",
   "metadata": {},
   "outputs": [
    {
     "name": "stdout",
     "output_type": "stream",
     "text": [
      "Number of active threads: 8\n"
     ]
    },
    {
     "name": "stderr",
     "output_type": "stream",
     "text": [
      "/tmp/ipykernel_111/1847327091.py:14: DeprecationWarning: activeCount() is deprecated, use active_count() instead\n",
      "  num_active_threads = threading.activeCount()\n"
     ]
    }
   ],
   "source": [
    "# Use of activeCount():\n",
    "import threading\n",
    "\n",
    "# Create and start multiple threads\n",
    "def worker():\n",
    "    pass\n",
    "\n",
    "threads = [threading.Thread(target=worker) for _ in range(5)]\n",
    "\n",
    "for thread in threads:\n",
    "    thread.start()\n",
    "\n",
    "# Check the number of active threads\n",
    "num_active_threads = threading.activeCount()\n",
    "print(f\"Number of active threads: {num_active_threads}\")"
   ]
  },
  {
   "cell_type": "markdown",
   "id": "d9505f96-8236-4687-bcf7-e4195d862709",
   "metadata": {},
   "source": [
    "# currentThread():\n",
    "1. currentThread() is a function in the threading module that returns the currently executing Thread object.\n",
    "2. allows you to obtain a reference to the Thread object representing the thread from which the function is called."
   ]
  },
  {
   "cell_type": "code",
   "execution_count": 2,
   "id": "fb5aba5d-9bcb-4871-97cd-470b91ba1e5b",
   "metadata": {},
   "outputs": [
    {
     "name": "stdout",
     "output_type": "stream",
     "text": [
      "Thread Thread-10 (worker) is executing.\n",
      "Main thread: MainThread\n"
     ]
    },
    {
     "name": "stderr",
     "output_type": "stream",
     "text": [
      "/tmp/ipykernel_111/3352997669.py:5: DeprecationWarning: currentThread() is deprecated, use current_thread() instead\n",
      "  current_thread = threading.currentThread()\n",
      "/tmp/ipykernel_111/3352997669.py:14: DeprecationWarning: currentThread() is deprecated, use current_thread() instead\n",
      "  current_thread = threading.currentThread()\n"
     ]
    }
   ],
   "source": [
    "# Use of currentThread():\n",
    "import threading\n",
    "\n",
    "def worker():\n",
    "    current_thread = threading.currentThread()\n",
    "    print(f\"Thread {current_thread.name} is executing.\")\n",
    "\n",
    "# Create and start a thread\n",
    "thread = threading.Thread(target=worker)\n",
    "thread.start()\n",
    "thread.join()\n",
    "\n",
    "# Get the currently executing thread\n",
    "current_thread = threading.currentThread()\n",
    "print(f\"Main thread: {current_thread.name}\")"
   ]
  },
  {
   "cell_type": "markdown",
   "id": "056e4071-fc76-459e-9aee-68e40893bd2f",
   "metadata": {},
   "source": [
    "# enumerate():\n",
    "\n",
    "1. enumerate() is a function in the threading module that returns a list of all Thread objects currently alive.\n",
    "2. It provides a way to iterate through all the currently active threads, including the main thread and any others that have been created."
   ]
  },
  {
   "cell_type": "code",
   "execution_count": 5,
   "id": "5c1cefa0-c4c5-4312-a71b-a0ccbb0908d7",
   "metadata": {},
   "outputs": [
    {
     "name": "stdout",
     "output_type": "stream",
     "text": [
      "Active threads:\n",
      "Thread name: MainThread, Is daemon: False\n",
      "Thread name: IOPub, Is daemon: True\n",
      "Thread name: Heartbeat, Is daemon: True\n",
      "Thread name: Thread-3 (_watch_pipe_fd), Is daemon: True\n",
      "Thread name: Thread-4 (_watch_pipe_fd), Is daemon: True\n",
      "Thread name: Control, Is daemon: True\n",
      "Thread name: IPythonHistorySavingThread, Is daemon: True\n",
      "Thread name: Thread-2, Is daemon: True\n"
     ]
    }
   ],
   "source": [
    "# Use of enumerate():\n",
    "import threading\n",
    "\n",
    "def worker():\n",
    "    pass\n",
    "\n",
    "# Create and start multiple threads\n",
    "threads = [threading.Thread(target=worker) for _ in range(3)]\n",
    "\n",
    "for thread in threads:\n",
    "    thread.start()\n",
    "\n",
    "# Enumerate and print all active threads\n",
    "active_threads = threading.enumerate()\n",
    "print(\"Active threads:\")\n",
    "for thread in active_threads:\n",
    "    print(f\"Thread name: {thread.name}, Is daemon: {thread.daemon}\")\n",
    "\n",
    "# Wait for all threads to complete\n",
    "for thread in threads:\n",
    "    thread.join()"
   ]
  },
  {
   "cell_type": "markdown",
   "id": "8674b6a6-b492-4412-b065-fe8be22c942a",
   "metadata": {},
   "source": [
    "### These functions are helpful when you need to manage and work with multiple threads in your Python program, allowing you to inspect and manipulate threads as needed for your concurrency needs."
   ]
  },
  {
   "cell_type": "markdown",
   "id": "2224c089-fa93-4dda-afc1-64dd16ee6f68",
   "metadata": {},
   "source": [
    "# Q3. Explain the following functions:\n",
    "1. run()\n",
    "2. start()\n",
    "3. join()\n",
    "4. isAlive()"
   ]
  },
  {
   "cell_type": "markdown",
   "id": "12d83d60-27b8-4747-8349-d900c986ec4b",
   "metadata": {},
   "source": [
    "## Answer :->\n",
    "# run():\n",
    "1. run() is a method that you can define in a custom thread class by subclassing threading.Thread.\n",
    "2. It represents the code that will be executed when a new thread is started using the start() method.\n",
    "3. You should override the run() method in your custom thread class to specify the task or operation that the thread should perform."
   ]
  },
  {
   "cell_type": "code",
   "execution_count": 6,
   "id": "a4ce3543-e650-4d56-81c3-4fefc1723790",
   "metadata": {},
   "outputs": [
    {
     "name": "stdout",
     "output_type": "stream",
     "text": [
      "Thread is running\n"
     ]
    }
   ],
   "source": [
    "import threading\n",
    "\n",
    "class MyThread(threading.Thread):\n",
    "    def run(self):\n",
    "        print(\"Thread is running\")\n",
    "\n",
    "# Create and start a thread\n",
    "thread = MyThread()\n",
    "thread.start()  # This will invoke the run() method"
   ]
  },
  {
   "cell_type": "markdown",
   "id": "7f7abe39-df82-4bd7-82ca-fd24a502bc83",
   "metadata": {},
   "source": [
    "# start():\n",
    "\n",
    "1. start() is a method provided by the threading.Thread class.\n",
    "2. It is used to start the execution of a thread by invoking the run() method of the thread.\n",
    "3. Once a thread is started, it runs concurrently with other threads and executes the code specified in the run() method."
   ]
  },
  {
   "cell_type": "code",
   "execution_count": 7,
   "id": "2d9eba75-42ee-4d08-a605-e37d6aeb8f2a",
   "metadata": {},
   "outputs": [
    {
     "name": "stdout",
     "output_type": "stream",
     "text": [
      "Thread is working\n"
     ]
    }
   ],
   "source": [
    "import threading\n",
    "\n",
    "def worker():\n",
    "    print(\"Thread is working\")\n",
    "\n",
    "# Create and start a thread\n",
    "thread = threading.Thread(target=worker)\n",
    "thread.start()  # Starts the thread and invokes the worker() function"
   ]
  },
  {
   "cell_type": "markdown",
   "id": "b8c119de-ec24-4c68-9a32-fda83e520add",
   "metadata": {},
   "source": [
    "# join():\n",
    "\n",
    "1. join() is a method provided by the threading.Thread class.\n",
    "2. It is used to wait for a thread to complete its execution before proceeding further in the main thread.\n",
    "3. When you call join() on a thread, the main thread will wait until the specified thread finishes."
   ]
  },
  {
   "cell_type": "code",
   "execution_count": 8,
   "id": "8d542fdc-2426-4dc5-9560-7353c9ef3c39",
   "metadata": {},
   "outputs": [
    {
     "name": "stdout",
     "output_type": "stream",
     "text": [
      "Thread is working\n",
      "Thread has finished\n"
     ]
    }
   ],
   "source": [
    "import threading\n",
    "\n",
    "def worker():\n",
    "    print(\"Thread is working\")\n",
    "\n",
    "# Create and start a thread\n",
    "thread = threading.Thread(target=worker)\n",
    "thread.start()\n",
    "\n",
    "# Wait for the thread to complete\n",
    "thread.join()\n",
    "print(\"Thread has finished\")"
   ]
  },
  {
   "cell_type": "markdown",
   "id": "229f2552-3d4d-432c-b083-1b42690f3a79",
   "metadata": {},
   "source": [
    "# isAlive():\n",
    "\n",
    "1. isAlive() is a method provided by the threading.Thread class.\n",
    "2. It is used to check whether a thread is currently executing or still alive.\n",
    "3. If the thread is running or has not yet started, isAlive() returns True; otherwise, it returns False"
   ]
  },
  {
   "cell_type": "code",
   "execution_count": 9,
   "id": "c4c682f6-6352-4953-a8a0-518c957b0591",
   "metadata": {},
   "outputs": [
    {
     "ename": "AttributeError",
     "evalue": "'Thread' object has no attribute 'isAlive'",
     "output_type": "error",
     "traceback": [
      "\u001b[0;31m---------------------------------------------------------------------------\u001b[0m",
      "\u001b[0;31mAttributeError\u001b[0m                            Traceback (most recent call last)",
      "Cell \u001b[0;32mIn[9], line 13\u001b[0m\n\u001b[1;32m     10\u001b[0m thread\u001b[38;5;241m.\u001b[39mstart()\n\u001b[1;32m     12\u001b[0m \u001b[38;5;66;03m# Check if the thread is alive\u001b[39;00m\n\u001b[0;32m---> 13\u001b[0m \u001b[38;5;28;01mif\u001b[39;00m \u001b[43mthread\u001b[49m\u001b[38;5;241;43m.\u001b[39;49m\u001b[43misAlive\u001b[49m():\n\u001b[1;32m     14\u001b[0m     \u001b[38;5;28mprint\u001b[39m(\u001b[38;5;124m\"\u001b[39m\u001b[38;5;124mThread is still running\u001b[39m\u001b[38;5;124m\"\u001b[39m)\n\u001b[1;32m     15\u001b[0m \u001b[38;5;28;01melse\u001b[39;00m:\n",
      "\u001b[0;31mAttributeError\u001b[0m: 'Thread' object has no attribute 'isAlive'"
     ]
    },
    {
     "name": "stdout",
     "output_type": "stream",
     "text": [
      "Thread is working\n"
     ]
    }
   ],
   "source": [
    "import threading\n",
    "import time\n",
    "\n",
    "def worker():\n",
    "    time.sleep(2)\n",
    "    print(\"Thread is working\")\n",
    "\n",
    "# Create and start a thread\n",
    "thread = threading.Thread(target=worker)\n",
    "thread.start()\n",
    "\n",
    "# Check if the thread is alive\n",
    "if thread.isAlive():\n",
    "    print(\"Thread is still running\")\n",
    "else:\n",
    "    print(\"Thread has finished\")\n",
    "\n",
    "# Wait for the thread to complete\n",
    "thread.join()"
   ]
  },
  {
   "cell_type": "markdown",
   "id": "9931f09b-13fd-4f3c-a6ca-fa1bf610ff0a",
   "metadata": {},
   "source": [
    "# Q4. Write a python program to create two threads. Thread one must print the list of squares and thread two must print the list of cubes."
   ]
  },
  {
   "cell_type": "markdown",
   "id": "9c0abec8-1650-465a-8c93-3a8e74dfb2b6",
   "metadata": {},
   "source": [
    "## Answer :->\n",
    "### We can create two threads in Python to print the list of squares and cubes concurrently using the threading module. Here's a Python program to do that:"
   ]
  },
  {
   "cell_type": "code",
   "execution_count": 1,
   "id": "a8160307-3a08-4c4b-a219-0e367f0e5429",
   "metadata": {},
   "outputs": [
    {
     "name": "stdout",
     "output_type": "stream",
     "text": [
      "Square of 1: 1\n",
      "Square of 2: 4\n",
      "Square of 3: 9\n",
      "Square of 4: 16\n",
      "Square of 5: 25\n",
      "Cube of 1: 1\n",
      "Cube of 2: 8\n",
      "Cube of 3: 27\n",
      "Cube of 4: 64\n",
      "Cube of 5: 125\n",
      "Both threads have finished.\n"
     ]
    }
   ],
   "source": [
    "import threading\n",
    "\n",
    "# Function to print squares of numbers\n",
    "def print_squares():\n",
    "    for num in range(1, 6):\n",
    "        print(f\"Square of {num}: {num ** 2}\")\n",
    "\n",
    "# Function to print cubes of numbers\n",
    "def print_cubes():\n",
    "    for num in range(1, 6):\n",
    "        print(f\"Cube of {num}: {num ** 3}\")\n",
    "\n",
    "# Create two threads\n",
    "thread1 = threading.Thread(target=print_squares)\n",
    "thread2 = threading.Thread(target=print_cubes)\n",
    "\n",
    "# Start both threads\n",
    "thread1.start()\n",
    "thread2.start()\n",
    "\n",
    "# Wait for both threads to finish\n",
    "thread1.join()\n",
    "thread2.join()\n",
    "\n",
    "print(\"Both threads have finished.\")\n"
   ]
  },
  {
   "cell_type": "markdown",
   "id": "7a403b76-abc5-4c9a-ac82-9018fbe4496c",
   "metadata": {},
   "source": [
    "#### In this program:\n",
    "\n",
    "1. We define two functions, print_squares and print_cubes, which calculate and print squares and cubes of numbers from 1 to 5, respectively.\n",
    "2. We create two threads, thread1 and thread2, and assign the respective functions (print_squares and print_cubes) as their targets.\n",
    "3. We start both threads using the start() method, which initiates their execution concurrently.\n",
    "4. We use the join() method to wait for both threads to finish their execution before printing \"Both threads have finished.\"\n",
    "\n",
    "#### When you run this program, you'll see the squares and cubes printed concurrently by two separate threads. The order of printing may vary because of the concurrent execution."
   ]
  },
  {
   "cell_type": "markdown",
   "id": "0413bbd5-01fa-4d69-a35c-b335fbbf34bd",
   "metadata": {},
   "source": [
    "# Q5. State advantages and disadvantages of multithreading."
   ]
  },
  {
   "cell_type": "markdown",
   "id": "4c640d5d-b020-4c03-9ed2-569208d0678e",
   "metadata": {},
   "source": [
    "## Answer :->\n",
    "# Advantages of Multithreading:\n",
    "\n",
    "1. Improved Performance:->  One of the primary advantages of multithreading is improved performance. Multiple threads can execute concurrently, allowing CPU-bound and I/O-bound tasks to overlap and utilize system resources more efficiently. This can lead to faster execution and better resource utilization.\n",
    "\n",
    "2. Concurrency:->   Multithreading allows you to achieve concurrency, where multiple tasks are executed simultaneously. This is particularly beneficial for applications that need to handle multiple concurrent operations, such as web servers handling multiple client requests.\n",
    "\n",
    "3. Responsiveness:->   Multithreading can enhance the responsiveness of applications, especially in graphical user interfaces (GUIs) and interactive programs. It prevents long-running tasks from blocking the user interface, ensuring that the application remains responsive to user inputs.\n",
    "\n",
    "4. Resource Sharing:->   Threads within the same process share the same memory space, making it easier to share data and resources between threads. This can simplify communication and coordination between different parts of an application.\n",
    "\n",
    "5. Scalability:->   Multithreading can improve the scalability of applications. It allows you to take advantage of multi-core processors, enabling your software to scale and handle higher workloads efficiently.\n",
    "\n",
    "\n",
    "\n",
    "# Disadvantages of Multithreading:\n",
    "\n",
    "1. Complexity:->   Multithreaded programs can be more complex to design, implement, and debug compared to single-threaded programs. Managing synchronization, race conditions, and deadlocks can be challenging.\n",
    "\n",
    "2. Synchronization Overhead:->   When multiple threads access shared resources concurrently, you need to use synchronization mechanisms (e.g., locks, semaphores) to prevent data corruption and ensure data consistency. These mechanisms can introduce synchronization overhead and potentially reduce performance gains.\n",
    "\n",
    "3. Race Conditions:->   Race conditions occur when multiple threads access and modify shared data simultaneously, leading to unpredictable and erroneous behavior. Detecting and preventing race conditions requires careful synchronization and can be error-prone.\n",
    "\n",
    "4. Deadlocks:->   Deadlocks can occur when two or more threads are waiting for resources that are held by other threads, resulting in a deadlock situation where none of the threads can proceed. Detecting and resolving deadlocks can be complex.\n",
    "\n",
    "5. Resource Consumption:->   Each thread consumes system resources, such as memory for its stack and thread-specific data. Creating too many threads can lead to excessive resource consumption and decreased overall system performance.\n",
    "\n",
    "6. Debugging and Testing:->   Debugging and testing multithreaded code can be challenging. Issues may not always be reproducible, and debugging tools may not provide clear insights into thread interactions.\n",
    "\n",
    "\n",
    "#### In summary, multithreading offers significant advantages in terms of performance and concurrency but comes with complexities and challenges related to synchronization, debugging, and potential issues like race conditions and deadlocks. It's essential to carefully design and manage multithreaded applications to harness the benefits while mitigating the drawbacks."
   ]
  },
  {
   "cell_type": "markdown",
   "id": "d6d3f7c1-b339-4a63-b0c7-39a8139d4c87",
   "metadata": {},
   "source": [
    "# Q6. Explain deadlocks and race conditions."
   ]
  },
  {
   "cell_type": "markdown",
   "id": "06261410-64cb-4e9f-928c-9ee58c6de472",
   "metadata": {},
   "source": [
    "## Answer :->\n",
    "### Deadlock and race conditions are common synchronization problems in concurrent programming, especially in multithreaded applications. They can lead to unexpected and erroneous behavior in your programs. Here's an explanation of each:\n",
    "\n",
    "# Deadlock:\n",
    "A deadlock is a situation in which two or more threads or processes are unable to proceed with their execution because each is waiting for the other to release a resource they need. In other words, it's a state where a group of processes/threads becomes permanently blocked, and no progress can be made.\n",
    "\n",
    "#### There are four necessary conditions for a deadlock to occur, known as the \"Four Coffins\" or \"Coffman Conditions\":\n",
    "\n",
    "1. Mutual Exclusion: At least one resource must be held in a non-sharable mode. This means only one process/thread can use the resource at any given time.\n",
    "2. Hold and Wait: A process/thread must be holding at least one resource while requesting additional resources held by other processes/threads.\n",
    "3. No Preemption: Resources cannot be forcibly taken away from a process/thread. They must be released voluntarily.\n",
    "4. Circular Wait: A circular chain of processes/threads exists, where each is waiting for a resource held by the next one in the chain."
   ]
  },
  {
   "cell_type": "code",
   "execution_count": 2,
   "id": "eff87e5c-f594-4ff9-bd33-235a876a646a",
   "metadata": {},
   "outputs": [
    {
     "name": "stderr",
     "output_type": "stream",
     "text": [
      "Exception in thread Thread-7 (thread1):\n",
      "Traceback (most recent call last):\n",
      "  File \"/opt/conda/lib/python3.10/threading.py\", line 1016, in _bootstrap_inner\n",
      "Exception in thread Thread-8 (thread2):\n",
      "Traceback (most recent call last):\n",
      "  File \"/opt/conda/lib/python3.10/threading.py\", line 1016, in _bootstrap_inner\n",
      "    self.run()\n",
      "  File \"/opt/conda/lib/python3.10/threading.py\", line 953, in run\n",
      "    self._target(*self._args, **self._kwargs)\n",
      "  File \"/tmp/ipykernel_102/3940391493.py\", line 21, in thread2\n",
      "    self.run()\n",
      "  File \"/opt/conda/lib/python3.10/threading.py\", line 953, in run\n",
      "    self._target(*self._args, **self._kwargs)\n",
      "  File \"/tmp/ipykernel_102/3940391493.py\", line 12, in thread1\n",
      "AttributeError: module 'threading' has no attribute 'sleep'\n",
      "AttributeError: module 'threading' has no attribute 'sleep'\n"
     ]
    },
    {
     "name": "stdout",
     "output_type": "stream",
     "text": [
      "Thread 1: Holding resource 1...\n",
      "Thread 2: Holding resource 2...\n"
     ]
    }
   ],
   "source": [
    "#Example of Deadlock:\n",
    "import threading\n",
    "\n",
    "# Two resources\n",
    "resource1 = threading.Lock()\n",
    "resource2 = threading.Lock()\n",
    "\n",
    "def thread1():\n",
    "    with resource1:\n",
    "        print(\"Thread 1: Holding resource 1...\")\n",
    "        # Simulate some work\n",
    "        threading.sleep(1)\n",
    "        print(\"Thread 1: Waiting for resource 2...\")\n",
    "        with resource2:\n",
    "            print(\"Thread 1: Got resource 2!\")\n",
    "\n",
    "def thread2():\n",
    "    with resource2:\n",
    "        print(\"Thread 2: Holding resource 2...\")\n",
    "        # Simulate some work\n",
    "        threading.sleep(1)\n",
    "        print(\"Thread 2: Waiting for resource 1...\")\n",
    "        with resource1:\n",
    "            print(\"Thread 2: Got resource 1!\")\n",
    "\n",
    "# Start both threads\n",
    "t1 = threading.Thread(target=thread1)\n",
    "t2 = threading.Thread(target=thread2)\n",
    "t1.start()\n",
    "t2.start()\n",
    "t1.join()\n",
    "t2.join()"
   ]
  },
  {
   "cell_type": "markdown",
   "id": "9a2ae8e1-6f8f-4773-8fae-be2fae704cc6",
   "metadata": {},
   "source": [
    "#### In this example, thread1 locks resource1 and waits for resource2, while thread2 locks resource2 and waits for resource1, causing a circular wait condition and leading to a deadlock."
   ]
  },
  {
   "cell_type": "markdown",
   "id": "ce43f994-5d5e-410a-b8f4-0453a2de63d7",
   "metadata": {},
   "source": [
    "# Race Condition:\n",
    "A race condition occurs when multiple threads or processes access and manipulate shared data concurrently, and the final outcome depends on the order and timing of execution. The result is unpredictable and may lead to incorrect behavior or data corruption.\n",
    "\n",
    "#### Race conditions can occur when:\n",
    "\n",
    "1. Two or more threads access shared data.\n",
    "2. At least one thread modifies the data.\n",
    "3. There is no proper synchronization mechanism in place to coordinate access.\n"
   ]
  },
  {
   "cell_type": "code",
   "execution_count": 3,
   "id": "62bfb84c-3d41-4298-b7b2-87b07e168fb9",
   "metadata": {},
   "outputs": [
    {
     "name": "stdout",
     "output_type": "stream",
     "text": [
      "Final counter value: 200000\n"
     ]
    }
   ],
   "source": [
    "# Example of a Race Condition:\n",
    "import threading\n",
    "\n",
    "# Shared counter\n",
    "counter = 0\n",
    "\n",
    "def increment_counter():\n",
    "    global counter\n",
    "    for _ in range(100000):\n",
    "        counter += 1\n",
    "\n",
    "# Create and start two threads\n",
    "thread1 = threading.Thread(target=increment_counter)\n",
    "thread2 = threading.Thread(target=increment_counter)\n",
    "thread1.start()\n",
    "thread2.start()\n",
    "thread1.join()\n",
    "thread2.join()\n",
    "\n",
    "print(\"Final counter value:\", counter)\n"
   ]
  },
  {
   "cell_type": "markdown",
   "id": "be6cd9ba-e20c-4c37-8cfd-a6c168155380",
   "metadata": {},
   "source": [
    "#### In this example, two threads concurrently increment the counter variable. Due to the lack of proper synchronization, the final value of counter is unpredictable and may not be what you expect. This is a classic race condition.\n",
    "\n",
    "#### To prevent race conditions, you can use synchronization mechanisms such as locks, semaphores, or mutexes to ensure that only one thread can access and modify shared data at a time, avoiding data corruption and ensuring consistency."
   ]
  },
  {
   "cell_type": "code",
   "execution_count": null,
   "id": "c6a53899-68c9-4d95-b8a0-e2a8a5fa387e",
   "metadata": {},
   "outputs": [],
   "source": []
  }
 ],
 "metadata": {
  "kernelspec": {
   "display_name": "Python 3 (ipykernel)",
   "language": "python",
   "name": "python3"
  },
  "language_info": {
   "codemirror_mode": {
    "name": "ipython",
    "version": 3
   },
   "file_extension": ".py",
   "mimetype": "text/x-python",
   "name": "python",
   "nbconvert_exporter": "python",
   "pygments_lexer": "ipython3",
   "version": "3.10.8"
  }
 },
 "nbformat": 4,
 "nbformat_minor": 5
}
