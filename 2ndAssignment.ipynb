{
 "cells": [
  {
   "cell_type": "markdown",
   "id": "b80d2902-9061-4eeb-abc4-8c104700db8d",
   "metadata": {},
   "source": [
    "# Q1. How do you comment code in Python? What are the different types of comments?"
   ]
  },
  {
   "cell_type": "markdown",
   "id": "84ef767b-36ad-444b-939a-e9291dab333d",
   "metadata": {},
   "source": [
    "# there are two type of comment \n",
    "## 1.single line comment , in this we use # before the  sating of line \n",
    "## 2.multi line comment , in this we use three colon before the writing somethin and three colon after writing something"
   ]
  },
  {
   "cell_type": "code",
   "execution_count": null,
   "id": "6b3f68b5-cd9b-4f49-8d82-3c55f5ab5def",
   "metadata": {},
   "outputs": [],
   "source": [
    "# we use single line comment like this\n",
    "\"\"\" we use multi line comment like this\n",
    "the purpose of writing the comment to make other easy to understand \n",
    "this cooment line not include in the program\"\"\""
   ]
  },
  {
   "cell_type": "markdown",
   "id": "287b4dc2-c6b7-4446-8768-af314bed924f",
   "metadata": {},
   "source": [
    "# Q2. What are variables in Python? How do you declare and assign values to variables?"
   ]
  },
  {
   "cell_type": "markdown",
   "id": "14079616-a0f6-4964-b4b8-6dafe1b07d3f",
   "metadata": {},
   "source": [
    "# answer\n",
    "## A variable is a named storage location used to hold a value or data in a computer program. \n",
    "## In Python, variables are used to store data or values that can be accessed and manipulated during the execution of a program."
   ]
  },
  {
   "cell_type": "code",
   "execution_count": 10,
   "id": "e9204253-b671-47cc-b6d1-7d55480336df",
   "metadata": {},
   "outputs": [],
   "source": [
    "# Variable declaration and assignment\n",
    "age = 21\n",
    "name = \"MD Wajid\"\n",
    "payment = 3500.00"
   ]
  },
  {
   "cell_type": "markdown",
   "id": "eaa7173e-2306-4591-9396-fc1abe30183e",
   "metadata": {},
   "source": [
    "# Q3. How do you convert one data type to another in Python?"
   ]
  },
  {
   "cell_type": "code",
   "execution_count": 11,
   "id": "a4d3013f-010c-4893-b6d9-8d373c67a9f8",
   "metadata": {},
   "outputs": [
    {
     "data": {
      "text/plain": [
       "100"
      ]
     },
     "execution_count": 11,
     "metadata": {},
     "output_type": "execute_result"
    }
   ],
   "source": [
    "a = 100\n",
    "a"
   ]
  },
  {
   "cell_type": "code",
   "execution_count": 12,
   "id": "36505fb8-8364-4431-a728-2f2bd11e4da4",
   "metadata": {},
   "outputs": [
    {
     "data": {
      "text/plain": [
       "int"
      ]
     },
     "execution_count": 12,
     "metadata": {},
     "output_type": "execute_result"
    }
   ],
   "source": [
    "type(a)"
   ]
  },
  {
   "cell_type": "code",
   "execution_count": 17,
   "id": "44cb3e99-6ba2-4e70-b5be-69714113400d",
   "metadata": {},
   "outputs": [
    {
     "data": {
      "text/plain": [
       "100.0"
      ]
     },
     "execution_count": 17,
     "metadata": {},
     "output_type": "execute_result"
    }
   ],
   "source": [
    "float(a)"
   ]
  },
  {
   "cell_type": "code",
   "execution_count": 18,
   "id": "7ba71e76-7e9a-4e77-adc0-48990f6ce37e",
   "metadata": {},
   "outputs": [
    {
     "data": {
      "text/plain": [
       "float"
      ]
     },
     "execution_count": 18,
     "metadata": {},
     "output_type": "execute_result"
    }
   ],
   "source": [
    "type(float(a))"
   ]
  },
  {
   "cell_type": "code",
   "execution_count": 19,
   "id": "f1715c96-cf53-426f-b6b7-c59e4660e55d",
   "metadata": {},
   "outputs": [],
   "source": [
    "t=(1,2,3,4,\"wajid\")"
   ]
  },
  {
   "cell_type": "code",
   "execution_count": 20,
   "id": "55317ca9-c10c-4d1c-9c85-362137b95cd9",
   "metadata": {},
   "outputs": [
    {
     "data": {
      "text/plain": [
       "tuple"
      ]
     },
     "execution_count": 20,
     "metadata": {},
     "output_type": "execute_result"
    }
   ],
   "source": [
    "type(t)"
   ]
  },
  {
   "cell_type": "code",
   "execution_count": 21,
   "id": "fbce03e8-f132-4a46-8234-b9e5c8f04903",
   "metadata": {},
   "outputs": [
    {
     "data": {
      "text/plain": [
       "[1, 2, 3, 4, 'wajid']"
      ]
     },
     "execution_count": 21,
     "metadata": {},
     "output_type": "execute_result"
    }
   ],
   "source": [
    "list(t)"
   ]
  },
  {
   "cell_type": "code",
   "execution_count": 23,
   "id": "1e7ee695-587f-4259-ad3e-f00956f6aa59",
   "metadata": {},
   "outputs": [
    {
     "data": {
      "text/plain": [
       "list"
      ]
     },
     "execution_count": 23,
     "metadata": {},
     "output_type": "execute_result"
    }
   ],
   "source": [
    "type(list(t))"
   ]
  },
  {
   "cell_type": "code",
   "execution_count": 27,
   "id": "1ee787c9-9873-417f-8122-4137dc3e11d5",
   "metadata": {},
   "outputs": [
    {
     "name": "stdout",
     "output_type": "stream",
     "text": [
      "10\n",
      "<class 'int'>\n"
     ]
    }
   ],
   "source": [
    "num = int(\"10\")  # Converts string \"10\" to integer 10\n",
    "print(num)\n",
    "print(type(num))"
   ]
  },
  {
   "cell_type": "markdown",
   "id": "841a1450-8400-4895-9708-18467317eda0",
   "metadata": {},
   "source": [
    "# Q4. How do you write and execute a Python script from the command line?"
   ]
  },
  {
   "cell_type": "code",
   "execution_count": null,
   "id": "e33ae0c7-b600-46c4-ac0c-f15737758325",
   "metadata": {},
   "outputs": [],
   "source": [
    "# open the test editor and write the code and save it with some name\n",
    "\"\"\" Open the command line or terminal on your operating system.\n",
    "Navigate to the directory where we saved our Python script. we can use the cd command (change directory) to move to the appropriate location.\n",
    "For example, if our script is saved on the desktop:  cd Desktop.\n",
    "Once we are in the correct directory, we can run the Python script by entering the following command:\n",
    "python hello.py\n",
    "\"\"\""
   ]
  },
  {
   "cell_type": "markdown",
   "id": "54505d09-50f8-45f4-a3aa-114b04eb07a8",
   "metadata": {},
   "source": [
    "# Q5. Given a list my_list = [1, 2, 3, 4, 5], write the code to slice the list and obtain the sub-list [2, 3]."
   ]
  },
  {
   "cell_type": "code",
   "execution_count": 14,
   "id": "67141275-d8f2-4b45-ae01-89e25b9e3079",
   "metadata": {},
   "outputs": [],
   "source": [
    "my_list = [1, 2, 3, 4, 5]"
   ]
  },
  {
   "cell_type": "code",
   "execution_count": 18,
   "id": "9491b26e-5c26-43f7-8005-e7c191cca799",
   "metadata": {},
   "outputs": [],
   "source": [
    "sub_list=my_list[1:3]"
   ]
  },
  {
   "cell_type": "code",
   "execution_count": 17,
   "id": "bb6167f5-03b9-4707-bd3f-ec60702e1929",
   "metadata": {},
   "outputs": [
    {
     "data": {
      "text/plain": [
       "[2, 3]"
      ]
     },
     "execution_count": 17,
     "metadata": {},
     "output_type": "execute_result"
    }
   ],
   "source": [
    "my_list[-4:-2]"
   ]
  },
  {
   "cell_type": "code",
   "execution_count": 19,
   "id": "fc62645d-fb63-4de1-b877-b289d813bf77",
   "metadata": {},
   "outputs": [
    {
     "data": {
      "text/plain": [
       "[2, 3]"
      ]
     },
     "execution_count": 19,
     "metadata": {},
     "output_type": "execute_result"
    }
   ],
   "source": [
    "sub_list"
   ]
  },
  {
   "cell_type": "markdown",
   "id": "a03a12a3-af58-42e4-bf2a-423c3b91c2aa",
   "metadata": {},
   "source": [
    "# Q6. What is a complex number in mathematics, and how is it represented in Python?"
   ]
  },
  {
   "cell_type": "code",
   "execution_count": 32,
   "id": "687b1154-db6d-4ab0-9489-d7e1b2b90207",
   "metadata": {},
   "outputs": [],
   "source": [
    "# Answer\n",
    "\"\"\" \n",
    "In mathematics, a complex number is a number that comprises both a real part and an imaginary part. \n",
    "It is written in the form of (a + bi), where a represents the real part and b represents the imaginary part. \n",
    "The imaginary part is multiplied by the imaginary unit i, where i is defined as the square root of -1.\n",
    "\"\"\"\n",
    "# in python here we write j as the imaginary unit\n",
    "com_num=45+7j"
   ]
  },
  {
   "cell_type": "code",
   "execution_count": 33,
   "id": "28c252d2-8d15-4249-9b56-de77c3a0aed2",
   "metadata": {},
   "outputs": [
    {
     "data": {
      "text/plain": [
       "(45+7j)"
      ]
     },
     "execution_count": 33,
     "metadata": {},
     "output_type": "execute_result"
    }
   ],
   "source": [
    "com_num"
   ]
  },
  {
   "cell_type": "code",
   "execution_count": 34,
   "id": "140a85f4-5871-4eae-8ab0-e866f21168f5",
   "metadata": {},
   "outputs": [
    {
     "data": {
      "text/plain": [
       "complex"
      ]
     },
     "execution_count": 34,
     "metadata": {},
     "output_type": "execute_result"
    }
   ],
   "source": [
    "type(com_num)"
   ]
  },
  {
   "cell_type": "code",
   "execution_count": 30,
   "id": "a71a68a1-85c6-4f8f-a206-b0da11e1df37",
   "metadata": {},
   "outputs": [
    {
     "data": {
      "text/plain": [
       "45.0"
      ]
     },
     "execution_count": 30,
     "metadata": {},
     "output_type": "execute_result"
    }
   ],
   "source": [
    "com_num.real"
   ]
  },
  {
   "cell_type": "code",
   "execution_count": 31,
   "id": "52f06fcd-3f67-4f20-b3e7-f7b79e7acf43",
   "metadata": {},
   "outputs": [
    {
     "data": {
      "text/plain": [
       "7.0"
      ]
     },
     "execution_count": 31,
     "metadata": {},
     "output_type": "execute_result"
    }
   ],
   "source": [
    "com_num.imag"
   ]
  },
  {
   "cell_type": "code",
   "execution_count": 36,
   "id": "1a8627fa-0afc-48f1-a6d5-2c58f40eec55",
   "metadata": {},
   "outputs": [
    {
     "data": {
      "text/plain": [
       "(45-7j)"
      ]
     },
     "execution_count": 36,
     "metadata": {},
     "output_type": "execute_result"
    }
   ],
   "source": [
    "com_num.conjugate()"
   ]
  },
  {
   "cell_type": "code",
   "execution_count": 37,
   "id": "6efc5862-f2f6-445f-bbf7-d95f66f49e4a",
   "metadata": {},
   "outputs": [],
   "source": [
    "com=75-10j"
   ]
  },
  {
   "cell_type": "code",
   "execution_count": 38,
   "id": "99386b30-e361-49ea-8d66-95cafeadbf23",
   "metadata": {},
   "outputs": [
    {
     "data": {
      "text/plain": [
       "complex"
      ]
     },
     "execution_count": 38,
     "metadata": {},
     "output_type": "execute_result"
    }
   ],
   "source": [
    "type(com)"
   ]
  },
  {
   "cell_type": "code",
   "execution_count": 39,
   "id": "95b8eab5-65a7-4b3f-a146-966a2ee24fd4",
   "metadata": {},
   "outputs": [
    {
     "data": {
      "text/plain": [
       "(75+10j)"
      ]
     },
     "execution_count": 39,
     "metadata": {},
     "output_type": "execute_result"
    }
   ],
   "source": [
    "com.conjugate()"
   ]
  },
  {
   "cell_type": "markdown",
   "id": "ccd5dd44-a84f-446c-b439-ac6d386dd375",
   "metadata": {},
   "source": [
    "# Q7. What is the correct way to declare a variable named age and assign the value 25 to it?"
   ]
  },
  {
   "cell_type": "code",
   "execution_count": 43,
   "id": "e6f07362-77b3-46b8-aa31-4c040a105f6b",
   "metadata": {},
   "outputs": [],
   "source": [
    "# The coorect way to declare the variable named age\n",
    "age = 25"
   ]
  },
  {
   "cell_type": "code",
   "execution_count": 45,
   "id": "65c020ae-6aea-4520-914e-8017b0bafaaa",
   "metadata": {},
   "outputs": [
    {
     "data": {
      "text/plain": [
       "25"
      ]
     },
     "execution_count": 45,
     "metadata": {},
     "output_type": "execute_result"
    }
   ],
   "source": [
    "age"
   ]
  },
  {
   "cell_type": "code",
   "execution_count": 46,
   "id": "965ac40f-6853-4199-8951-3a5e9a678ec7",
   "metadata": {},
   "outputs": [
    {
     "data": {
      "text/plain": [
       "int"
      ]
     },
     "execution_count": 46,
     "metadata": {},
     "output_type": "execute_result"
    }
   ],
   "source": [
    "type(age)"
   ]
  },
  {
   "cell_type": "markdown",
   "id": "3d7388f5-7bc1-45c6-830f-8a7f5ac02412",
   "metadata": {},
   "source": [
    "# Q8. Declare a variable named price and assign the value 9.99 to it. What data type does this variable belong to?"
   ]
  },
  {
   "cell_type": "code",
   "execution_count": 47,
   "id": "38a8f553-b0a6-4713-80a4-4869a88d22e3",
   "metadata": {},
   "outputs": [],
   "source": [
    "price = 9.99"
   ]
  },
  {
   "cell_type": "code",
   "execution_count": 48,
   "id": "fc7c2d4b-4c34-4e61-bf16-8421f53d13c1",
   "metadata": {},
   "outputs": [
    {
     "data": {
      "text/plain": [
       "float"
      ]
     },
     "execution_count": 48,
     "metadata": {},
     "output_type": "execute_result"
    }
   ],
   "source": [
    "type(price)"
   ]
  },
  {
   "cell_type": "code",
   "execution_count": 49,
   "id": "7343d49a-32d6-42b1-b3bf-698cc0c885fb",
   "metadata": {},
   "outputs": [
    {
     "data": {
      "text/plain": [
       "9.99"
      ]
     },
     "execution_count": 49,
     "metadata": {},
     "output_type": "execute_result"
    }
   ],
   "source": [
    "price"
   ]
  },
  {
   "cell_type": "markdown",
   "id": "1736cb5f-57b8-4e1d-8460-78e0129ab8cf",
   "metadata": {},
   "source": [
    "# Q9. Create a variable named name and assign your full name to it as a string. How would you print the value of this variable?"
   ]
  },
  {
   "cell_type": "code",
   "execution_count": 1,
   "id": "bf244ab1-da71-42ef-9bed-311e47f1222d",
   "metadata": {},
   "outputs": [],
   "source": [
    "name = \"MD Wajid\""
   ]
  },
  {
   "cell_type": "code",
   "execution_count": 2,
   "id": "f9eb75d9-a2a0-416b-a1a9-7868a4f40a6e",
   "metadata": {},
   "outputs": [
    {
     "data": {
      "text/plain": [
       "str"
      ]
     },
     "execution_count": 2,
     "metadata": {},
     "output_type": "execute_result"
    }
   ],
   "source": [
    "type(name)"
   ]
  },
  {
   "cell_type": "code",
   "execution_count": 3,
   "id": "b7ac328b-686a-42ae-9cc1-b2da76e6ff55",
   "metadata": {},
   "outputs": [
    {
     "name": "stdout",
     "output_type": "stream",
     "text": [
      "MD Wajid\n"
     ]
    }
   ],
   "source": [
    "print(name)"
   ]
  },
  {
   "cell_type": "code",
   "execution_count": 21,
   "id": "f85b8e7e-e5b6-4d48-af8f-10141ad13384",
   "metadata": {},
   "outputs": [
    {
     "data": {
      "text/plain": [
       "'MD Wajid'"
      ]
     },
     "execution_count": 21,
     "metadata": {},
     "output_type": "execute_result"
    }
   ],
   "source": [
    "# we can direcly display output on jupiter notebook like this\n",
    "name"
   ]
  },
  {
   "cell_type": "markdown",
   "id": "140afb7a-f476-45d5-be90-4349a63c4933",
   "metadata": {},
   "source": [
    "# Q10. Given the string \"Hello, World!\", extract the substring \"World\"."
   ]
  },
  {
   "cell_type": "code",
   "execution_count": 5,
   "id": "981ff904-8252-45df-a435-6deb5ea00fa2",
   "metadata": {},
   "outputs": [],
   "source": [
    "string = \"Hello, World!\""
   ]
  },
  {
   "cell_type": "code",
   "execution_count": 6,
   "id": "2982fea9-50f1-4cc9-81d1-bbd87e504a14",
   "metadata": {},
   "outputs": [
    {
     "data": {
      "text/plain": [
       "'Hello, World!'"
      ]
     },
     "execution_count": 6,
     "metadata": {},
     "output_type": "execute_result"
    }
   ],
   "source": [
    "string"
   ]
  },
  {
   "cell_type": "code",
   "execution_count": 7,
   "id": "74ec4419-32b2-4290-9c9b-5fd04ec003fb",
   "metadata": {},
   "outputs": [
    {
     "data": {
      "text/plain": [
       "str"
      ]
     },
     "execution_count": 7,
     "metadata": {},
     "output_type": "execute_result"
    }
   ],
   "source": [
    "type(string)"
   ]
  },
  {
   "cell_type": "code",
   "execution_count": 10,
   "id": "2be8ed62-b6b4-44c2-9b78-f6ee2cbec66a",
   "metadata": {},
   "outputs": [],
   "source": [
    "substring = string[-6:-1]"
   ]
  },
  {
   "cell_type": "code",
   "execution_count": 11,
   "id": "0e233830-cb67-4911-8e3a-6dc06dcecd64",
   "metadata": {},
   "outputs": [
    {
     "data": {
      "text/plain": [
       "'World'"
      ]
     },
     "execution_count": 11,
     "metadata": {},
     "output_type": "execute_result"
    }
   ],
   "source": [
    "substring"
   ]
  },
  {
   "cell_type": "code",
   "execution_count": 13,
   "id": "8557808f-8fe7-46cf-955d-09fd2e868b08",
   "metadata": {},
   "outputs": [
    {
     "data": {
      "text/plain": [
       "'World'"
      ]
     },
     "execution_count": 13,
     "metadata": {},
     "output_type": "execute_result"
    }
   ],
   "source": [
    "string[7:-1]"
   ]
  },
  {
   "cell_type": "markdown",
   "id": "9b3eded4-2abb-4082-be0b-7c85a5f9c85a",
   "metadata": {},
   "source": [
    "# Q11. Create a variable named \"is_student\" and assign it a boolean value indicating whether you are currently a student or not."
   ]
  },
  {
   "cell_type": "code",
   "execution_count": 16,
   "id": "7a6e29b1-925b-414b-8966-a03d2f0219fe",
   "metadata": {},
   "outputs": [],
   "source": [
    "is_student = True"
   ]
  },
  {
   "cell_type": "code",
   "execution_count": 17,
   "id": "e9fa2437-587c-46a0-bcfb-9803789e8a54",
   "metadata": {},
   "outputs": [
    {
     "data": {
      "text/plain": [
       "True"
      ]
     },
     "execution_count": 17,
     "metadata": {},
     "output_type": "execute_result"
    }
   ],
   "source": [
    "is_student"
   ]
  },
  {
   "cell_type": "code",
   "execution_count": 18,
   "id": "484dae3a-b352-4e85-a505-25f3d338663f",
   "metadata": {},
   "outputs": [
    {
     "data": {
      "text/plain": [
       "bool"
      ]
     },
     "execution_count": 18,
     "metadata": {},
     "output_type": "execute_result"
    }
   ],
   "source": [
    "type(is_student)"
   ]
  },
  {
   "cell_type": "code",
   "execution_count": null,
   "id": "a3b9eab9-47d2-415d-88d6-9c0065a2d989",
   "metadata": {},
   "outputs": [],
   "source": []
  }
 ],
 "metadata": {
  "kernelspec": {
   "display_name": "Python 3 (ipykernel)",
   "language": "python",
   "name": "python3"
  },
  "language_info": {
   "codemirror_mode": {
    "name": "ipython",
    "version": 3
   },
   "file_extension": ".py",
   "mimetype": "text/x-python",
   "name": "python",
   "nbconvert_exporter": "python",
   "pygments_lexer": "ipython3",
   "version": "3.10.8"
  }
 },
 "nbformat": 4,
 "nbformat_minor": 5
}
