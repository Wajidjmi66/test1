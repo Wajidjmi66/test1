{
 "cells": [
  {
   "cell_type": "markdown",
   "id": "6a551dfe-cfd9-4476-b9fb-b74c4529176f",
   "metadata": {},
   "source": [
    "# Q1. Explain why we have to use the Exception class while creating a Custom Exception. \n",
    "### Note: Here Exception class refers to the base class for all the exceptions."
   ]
  },
  {
   "cell_type": "markdown",
   "id": "679a172b-24aa-42fd-a562-35258ff1da6a",
   "metadata": {},
   "source": [
    "### Answer :-> In Python, when creating a custom exception, it is advisable to inherit from the Exception class (or one of its subclasses) to create a new custom exception class. Here's why using the Exception class as a base class is recommended:\n",
    "\n",
    "1. Consistency: Inheriting from the Exception class ensures that your custom exception class adheres to the Python exception hierarchy and follows the conventions established by the language. This makes your code more predictable and easier for other developers to understand.\n",
    "\n",
    "2. Clarity: Using the Exception class as the base class clearly communicates that your custom exception is meant to represent an exceptional condition or error. This is important for code readability and understanding the purpose of the exception.\n",
    "\n",
    "3. Integration: By inheriting from Exception, your custom exception can seamlessly integrate into Python's exception-handling mechanisms. This means you can catch your custom exception using a regular except block alongside built-in exceptions, making it easier to handle errors in a consistent way.\n",
    "\n",
    "4. Compatibility: Python's built-in exception-handling tools, such as try and except, are designed to work with exceptions that inherit from the Exception class. Inheriting from it ensures that your custom exception behaves correctly within the Python exception-handling framework."
   ]
  },
  {
   "cell_type": "markdown",
   "id": "80176fb5-1e4f-43fd-9f0b-947d1e73f2ad",
   "metadata": {},
   "source": [
    "### This is an example of creating a custom exception by inheriting from the Exception class:"
   ]
  },
  {
   "cell_type": "code",
   "execution_count": 1,
   "id": "3a71357c-ec74-44ef-9844-450593ba7d4e",
   "metadata": {},
   "outputs": [],
   "source": [
    "class validateage(Exception) :\n",
    "    def __init__(self ,msg):\n",
    "        self.msg = msg"
   ]
  },
  {
   "cell_type": "code",
   "execution_count": 2,
   "id": "51f0887b-66ef-47b3-94b6-5120d6fde83e",
   "metadata": {},
   "outputs": [],
   "source": [
    "def validate_age(age) :\n",
    "    if age < 0 :\n",
    "        raise validateage(\"age should not be lesser than zero\")\n",
    "    elif age > 200:\n",
    "        raise validateage(\"age is too high\")\n",
    "    else :\n",
    "        print(\"age is valid\")"
   ]
  },
  {
   "cell_type": "code",
   "execution_count": 3,
   "id": "2d5e1c84-fb1f-447a-9ad2-b7ed65f5b560",
   "metadata": {},
   "outputs": [
    {
     "name": "stdin",
     "output_type": "stream",
     "text": [
      "enter your age 321\n"
     ]
    },
    {
     "name": "stdout",
     "output_type": "stream",
     "text": [
      "age is too high\n"
     ]
    }
   ],
   "source": [
    "try :\n",
    "    age = int(input(\"enter your age\"))\n",
    "    validate_age(age)\n",
    "except validateage as e:\n",
    "    print(e)"
   ]
  },
  {
   "cell_type": "markdown",
   "id": "7d2eb392-5159-466a-ac47-f7fead3ad24c",
   "metadata": {},
   "source": [
    "# Q2. Write a python program to print Python Exception Hierarchy."
   ]
  },
  {
   "cell_type": "markdown",
   "id": "20024204-0140-4bfe-a4ac-cb439f7c8984",
   "metadata": {},
   "source": [
    "### Answer :-> Before Printing the Error Hierarchy let’s understand what an Exception really is? Exceptions occur even if our code is syntactically correct, however, while executing they throw an error. They are not unconditionally fatal, errors which we get while executing are called Exceptions. There are many Built-in Exceptions in Python let’s try to print them out in a hierarchy.\n",
    "\n",
    "1. For printing the tree hierarchy we will use inspect module in Python. The inspect module provides useful functions to get information about objects such as modules, classes, methods, functions,  and code objects. For example, it can help you examine the contents of a class, extract and format the argument list for a function.\n",
    "2. For building a tree hierarchy we will use inspect.getclasstree()."
   ]
  },
  {
   "cell_type": "code",
   "execution_count": 10,
   "id": "cd9ebe6f-40b6-4a25-97fe-39cc0b8c7b38",
   "metadata": {},
   "outputs": [
    {
     "name": "stdout",
     "output_type": "stream",
     "text": [
      "Hierarchy for Built-in exceptions is : \n",
      " BaseException\n",
      "--- Exception\n",
      "------ TypeError\n",
      "--------- FloatOperation\n",
      "--------- MultipartConversionError\n",
      "------ StopAsyncIteration\n",
      "------ StopIteration\n",
      "------ ImportError\n",
      "--------- ModuleNotFoundError\n",
      "--------- ZipImportError\n",
      "------ OSError\n",
      "--------- ConnectionError\n",
      "------------ BrokenPipeError\n",
      "------------ ConnectionAbortedError\n",
      "------------ ConnectionRefusedError\n",
      "------------ ConnectionResetError\n",
      "--------------- RemoteDisconnected\n",
      "--------- BlockingIOError\n",
      "--------- ChildProcessError\n",
      "--------- FileExistsError\n",
      "--------- FileNotFoundError\n",
      "--------- IsADirectoryError\n",
      "--------- NotADirectoryError\n",
      "--------- InterruptedError\n",
      "------------ InterruptedSystemCall\n",
      "--------- PermissionError\n",
      "--------- ProcessLookupError\n",
      "--------- TimeoutError\n",
      "--------- UnsupportedOperation\n",
      "--------- itimer_error\n",
      "--------- herror\n",
      "--------- gaierror\n",
      "--------- SSLError\n",
      "------------ SSLCertVerificationError\n",
      "------------ SSLZeroReturnError\n",
      "------------ SSLWantWriteError\n",
      "------------ SSLWantReadError\n",
      "------------ SSLSyscallError\n",
      "------------ SSLEOFError\n",
      "--------- Error\n",
      "------------ SameFileError\n",
      "--------- SpecialFileError\n",
      "--------- ExecError\n",
      "--------- ReadError\n",
      "--------- URLError\n",
      "------------ HTTPError\n",
      "------------ ContentTooShortError\n",
      "--------- BadGzipFile\n",
      "------ EOFError\n",
      "--------- IncompleteReadError\n",
      "------ RuntimeError\n",
      "--------- RecursionError\n",
      "--------- NotImplementedError\n",
      "------------ ZMQVersionError\n",
      "------------ StdinNotImplementedError\n",
      "--------- _DeadlockError\n",
      "--------- BrokenBarrierError\n",
      "--------- BrokenExecutor\n",
      "------------ BrokenThreadPool\n",
      "--------- SendfileNotAvailableError\n",
      "--------- ExtractionError\n",
      "--------- VariableError\n",
      "------ NameError\n",
      "--------- UnboundLocalError\n",
      "------ AttributeError\n",
      "--------- FrozenInstanceError\n",
      "------ SyntaxError\n",
      "--------- IndentationError\n",
      "------------ TabError\n",
      "------ LookupError\n",
      "--------- IndexError\n",
      "--------- KeyError\n",
      "------------ NoSuchKernel\n",
      "------------ UnknownBackend\n",
      "--------- CodecRegistryError\n",
      "------ ValueError\n",
      "--------- UnicodeError\n",
      "------------ UnicodeEncodeError\n",
      "------------ UnicodeDecodeError\n",
      "------------ UnicodeTranslateError\n",
      "--------- UnsupportedOperation\n",
      "--------- JSONDecodeError\n",
      "--------- SSLCertVerificationError\n",
      "--------- Error\n",
      "--------- UnsupportedDigestmodError\n",
      "--------- IllegalMonthError\n",
      "--------- IllegalWeekdayError\n",
      "--------- ParserError\n",
      "--------- ClassNotFound\n",
      "--------- ClipboardEmpty\n",
      "--------- MessageDefect\n",
      "------------ NoBoundaryInMultipartDefect\n",
      "------------ StartBoundaryNotFoundDefect\n",
      "------------ CloseBoundaryNotFoundDefect\n",
      "------------ FirstHeaderLineIsContinuationDefect\n",
      "------------ MisplacedEnvelopeHeaderDefect\n",
      "------------ MissingHeaderBodySeparatorDefect\n",
      "------------ MultipartInvariantViolationDefect\n",
      "------------ InvalidMultipartContentTransferEncodingDefect\n",
      "------------ UndecodableBytesDefect\n",
      "------------ InvalidBase64PaddingDefect\n",
      "------------ InvalidBase64CharactersDefect\n",
      "------------ InvalidBase64LengthDefect\n",
      "------------ HeaderDefect\n",
      "--------------- InvalidHeaderDefect\n",
      "--------------- HeaderMissingRequiredValue\n",
      "--------------- NonPrintableDefect\n",
      "--------------- ObsoleteHeaderDefect\n",
      "--------------- NonASCIILocalPartDefect\n",
      "--------------- InvalidDateDefect\n",
      "--------- MacroToEdit\n",
      "--------- InvalidFileException\n",
      "--------- UnequalIterablesError\n",
      "--------- InvalidVersion\n",
      "--------- _InvalidELFFileHeader\n",
      "--------- InvalidWheelFilename\n",
      "--------- InvalidSdistFilename\n",
      "--------- InvalidSpecifier\n",
      "--------- InvalidMarker\n",
      "--------- UndefinedComparison\n",
      "--------- UndefinedEnvironmentName\n",
      "--------- InvalidRequirement\n",
      "------------ RequirementParseError\n",
      "--------- InvalidVersion\n",
      "------ AssertionError\n",
      "------ ArithmeticError\n",
      "--------- FloatingPointError\n",
      "--------- OverflowError\n",
      "--------- ZeroDivisionError\n",
      "------------ DivisionByZero\n",
      "------------ DivisionUndefined\n",
      "--------- DecimalException\n",
      "------------ Clamped\n",
      "------------ Rounded\n",
      "--------------- Underflow\n",
      "--------------- Overflow\n",
      "------------ Inexact\n",
      "--------------- Underflow\n",
      "--------------- Overflow\n",
      "------------ Subnormal\n",
      "--------------- Underflow\n",
      "------------ DivisionByZero\n",
      "------------ FloatOperation\n",
      "------------ InvalidOperation\n",
      "--------------- ConversionSyntax\n",
      "--------------- DivisionImpossible\n",
      "--------------- DivisionUndefined\n",
      "--------------- InvalidContext\n",
      "------ SystemError\n",
      "--------- CodecRegistryError\n",
      "------ ReferenceError\n",
      "------ MemoryError\n",
      "------ BufferError\n",
      "------ Warning\n",
      "--------- UserWarning\n",
      "------------ GetPassWarning\n",
      "------------ FormatterWarning\n",
      "--------- EncodingWarning\n",
      "--------- DeprecationWarning\n",
      "------------ ProvisionalWarning\n",
      "--------- PendingDeprecationWarning\n",
      "--------- SyntaxWarning\n",
      "--------- RuntimeWarning\n",
      "------------ ProactorSelectorThreadWarning\n",
      "------------ UnknownTimezoneWarning\n",
      "------------ PEP440Warning\n",
      "--------- FutureWarning\n",
      "------------ ProvisionalCompleterWarning\n",
      "--------- ImportWarning\n",
      "--------- UnicodeWarning\n",
      "--------- BytesWarning\n",
      "--------- ResourceWarning\n",
      "--------- DeprecatedTzFormatWarning\n",
      "--------- PkgResourcesDeprecationWarning\n",
      "------ _OptionError\n",
      "------ _Error\n",
      "------ error\n",
      "------ Verbose\n",
      "------ Error\n",
      "------ SubprocessError\n",
      "--------- CalledProcessError\n",
      "--------- TimeoutExpired\n",
      "------ TokenError\n",
      "------ StopTokenizing\n",
      "------ ClassFoundException\n",
      "------ EndOfBlock\n",
      "------ TraitError\n",
      "------ Error\n",
      "------ Error\n",
      "--------- CancelledError\n",
      "--------- TimeoutError\n",
      "--------- InvalidStateError\n",
      "------ _GiveupOnSendfile\n",
      "------ error\n",
      "------ Incomplete\n",
      "------ TimeoutError\n",
      "------ InvalidStateError\n",
      "------ LimitOverrunError\n",
      "------ QueueEmpty\n",
      "------ QueueFull\n",
      "------ Empty\n",
      "------ Full\n",
      "------ ArgumentError\n",
      "------ ZMQBaseError\n",
      "--------- ZMQError\n",
      "------------ ContextTerminated\n",
      "------------ Again\n",
      "------------ InterruptedSystemCall\n",
      "--------- ZMQBindError\n",
      "--------- NotDone\n",
      "------ PickleError\n",
      "--------- PicklingError\n",
      "--------- UnpicklingError\n",
      "------ _Stop\n",
      "------ ArgumentError\n",
      "------ ArgumentTypeError\n",
      "------ ConfigError\n",
      "--------- ConfigLoaderError\n",
      "------------ ArgumentError\n",
      "--------- ConfigFileNotFound\n",
      "------ ConfigurableError\n",
      "--------- MultipleInstanceError\n",
      "------ ApplicationError\n",
      "------ error\n",
      "------ TimeoutError\n",
      "------ error\n",
      "------ ReturnValueIgnoredError\n",
      "------ KeyReuseError\n",
      "------ UnknownKeyError\n",
      "------ LeakedCallbackError\n",
      "------ BadYieldError\n",
      "------ ReturnValueIgnoredError\n",
      "------ Return\n",
      "------ InvalidPortNumber\n",
      "------ error\n",
      "------ LZMAError\n",
      "------ RegistryError\n",
      "------ _GiveupOnFastCopy\n",
      "------ Error\n",
      "--------- NoSectionError\n",
      "--------- DuplicateSectionError\n",
      "--------- DuplicateOptionError\n",
      "--------- NoOptionError\n",
      "--------- InterpolationError\n",
      "------------ InterpolationMissingOptionError\n",
      "------------ InterpolationSyntaxError\n",
      "------------ InterpolationDepthError\n",
      "--------- ParsingError\n",
      "------------ MissingSectionHeaderError\n",
      "------ NoIPAddresses\n",
      "------ BadZipFile\n",
      "------ LargeZipFile\n",
      "------ BadEntryPoint\n",
      "------ NoSuchEntryPoint\n",
      "------ DuplicateKernelError\n",
      "------ ErrorDuringImport\n",
      "------ NotOneValueFound\n",
      "------ CannotEval\n",
      "------ OptionError\n",
      "------ BdbQuit\n",
      "------ Restart\n",
      "------ ExceptionPexpect\n",
      "--------- EOF\n",
      "--------- TIMEOUT\n",
      "------ PtyProcessError\n",
      "------ FindCmdError\n",
      "------ HomeDirError\n",
      "------ ProfileDirError\n",
      "------ IPythonCoreError\n",
      "--------- TryNext\n",
      "--------- UsageError\n",
      "--------- StdinNotImplementedError\n",
      "------ InputRejected\n",
      "------ GetoptError\n",
      "------ ErrorToken\n",
      "------ PrefilterError\n",
      "------ AliasError\n",
      "--------- InvalidAliasError\n",
      "------ Error\n",
      "--------- InterfaceError\n",
      "--------- DatabaseError\n",
      "------------ InternalError\n",
      "------------ OperationalError\n",
      "------------ ProgrammingError\n",
      "------------ IntegrityError\n",
      "------------ DataError\n",
      "------------ NotSupportedError\n",
      "------ Warning\n",
      "------ SpaceInInput\n",
      "------ DOMException\n",
      "--------- IndexSizeErr\n",
      "--------- DomstringSizeErr\n",
      "--------- HierarchyRequestErr\n",
      "--------- WrongDocumentErr\n",
      "--------- InvalidCharacterErr\n",
      "--------- NoDataAllowedErr\n",
      "--------- NoModificationAllowedErr\n",
      "--------- NotFoundErr\n",
      "--------- NotSupportedErr\n",
      "--------- InuseAttributeErr\n",
      "--------- InvalidStateErr\n",
      "--------- SyntaxErr\n",
      "--------- InvalidModificationErr\n",
      "--------- NamespaceErr\n",
      "--------- InvalidAccessErr\n",
      "--------- ValidationErr\n",
      "------ ValidationError\n",
      "------ EditReadOnlyBuffer\n",
      "------ _Retry\n",
      "------ InvalidLayoutError\n",
      "------ HeightIsUnknownError\n",
      "------ ParserSyntaxError\n",
      "------ InternalParseError\n",
      "------ _PositionUpdatingFinished\n",
      "------ SimpleGetItemNotFound\n",
      "------ UncaughtAttributeError\n",
      "------ HasNoContext\n",
      "------ ParamIssue\n",
      "------ _JediError\n",
      "--------- InternalError\n",
      "--------- WrongVersion\n",
      "--------- RefactoringError\n",
      "------ OnErrorLeaf\n",
      "------ InvalidPythonEnvironment\n",
      "------ MessageError\n",
      "--------- MessageParseError\n",
      "------------ HeaderParseError\n",
      "------------ BoundaryError\n",
      "--------- MultipartConversionError\n",
      "--------- CharsetError\n",
      "------ Error\n",
      "------ HTTPException\n",
      "--------- NotConnected\n",
      "--------- InvalidURL\n",
      "--------- UnknownProtocol\n",
      "--------- UnknownTransferEncoding\n",
      "--------- UnimplementedFileMode\n",
      "--------- IncompleteRead\n",
      "--------- ImproperConnectionState\n",
      "------------ CannotSendRequest\n",
      "------------ CannotSendHeader\n",
      "------------ ResponseNotReady\n",
      "--------- BadStatusLine\n",
      "------------ RemoteDisconnected\n",
      "--------- LineTooLong\n",
      "------ InteractivelyDefined\n",
      "------ KillEmbedded\n",
      "------ Error\n",
      "--------- NoSuchProcess\n",
      "------------ ZombieProcess\n",
      "--------- AccessDenied\n",
      "--------- TimeoutExpired\n",
      "------ _Ipv6UnsupportedError\n",
      "------ QueueEmpty\n",
      "------ QueueFull\n",
      "------ DebuggerInitializationError\n",
      "------ ExpatError\n",
      "------ Error\n",
      "--------- ProtocolError\n",
      "--------- ResponseError\n",
      "--------- Fault\n",
      "------ ParseBaseException\n",
      "--------- ParseException\n",
      "--------- ParseFatalException\n",
      "------------ ParseSyntaxException\n",
      "------ RecursiveGrammarException\n",
      "------ ResolutionError\n",
      "--------- VersionConflict\n",
      "------------ ContextualVersionConflict\n",
      "--------- DistributionNotFound\n",
      "--------- UnknownExtra\n",
      "------ _Error\n",
      "------ UnableToResolveVariableException\n",
      "------ InvalidTypeInArgsException\n",
      "------ validateage\n",
      "--- GeneratorExit\n",
      "--- SystemExit\n",
      "--- KeyboardInterrupt\n",
      "--- CancelledError\n",
      "--- AbortThread\n"
     ]
    }
   ],
   "source": [
    "# import inspect module\n",
    "import inspect\n",
    "  \n",
    "# our treeClass function\n",
    "def treeClass(cls, ind = 0):\n",
    "    \n",
    "      # print name of the class\n",
    "    print ('-' * ind, cls.__name__)\n",
    "      \n",
    "    # iterating through subclasses\n",
    "    for i in cls.__subclasses__():\n",
    "        treeClass(i, ind + 3)\n",
    "  \n",
    "print(\"Hierarchy for Built-in exceptions is : \")\n",
    "  \n",
    "# inspect.getmro() Return a tuple \n",
    "# of class  cls’s base classes.\n",
    "  \n",
    "# building a tree hierarchy \n",
    "inspect.getclasstree(inspect.getmro(BaseException))\n",
    "  \n",
    "# function call\n",
    "treeClass(BaseException)"
   ]
  },
  {
   "cell_type": "markdown",
   "id": "873e0192-eb09-4a16-b6c6-cd3a860991e0",
   "metadata": {},
   "source": [
    "# Q3. What errors are defined in the ArithmeticError class? Explain any two with an example."
   ]
  },
  {
   "cell_type": "markdown",
   "id": "65a4387e-94eb-406f-99bb-b27f6cda7292",
   "metadata": {},
   "source": [
    "## Answer :->\n",
    "### The ArithmeticError class is a base class for exceptions related to arithmetic operations in Python. It represents errors that can occur during mathematical calculations. Two common exceptions derived from the ArithmeticError class are ZeroDivisionError and OverflowError. Let's explain these two exceptions with examples:\n",
    "\n",
    "## ZeroDivisionError:\n",
    "\n",
    "1. ZeroDivisionError is raised when you attempt to divide a number by zero.\n",
    "2. It occurs when you perform an operation that is mathematically undefined, such as division by zero."
   ]
  },
  {
   "cell_type": "code",
   "execution_count": 11,
   "id": "04539aa5-3046-4062-bba6-342912b44ecb",
   "metadata": {},
   "outputs": [
    {
     "name": "stdout",
     "output_type": "stream",
     "text": [
      "Caught ZeroDivisionError: division by zero\n"
     ]
    }
   ],
   "source": [
    "try:\n",
    "    result = 10 / 0  # This will raise a ZeroDivisionError\n",
    "except ZeroDivisionError as e:\n",
    "    print(f\"Caught ZeroDivisionError: {e}\")"
   ]
  },
  {
   "cell_type": "markdown",
   "id": "fbc1a9df-7b9b-4290-b98e-6e687ffff9b0",
   "metadata": {},
   "source": [
    "#### Example is given of ZeroDivisionError :->\n",
    "In this example, dividing 10 by 0 is not allowed in mathematics, so a ZeroDivisionError is raised. You can catch and handle this exception to prevent your program from crashing."
   ]
  },
  {
   "cell_type": "markdown",
   "id": "7a6debca-d345-4715-9a6a-57c1b755a73f",
   "metadata": {},
   "source": [
    "## OverflowError:\n",
    "1. OverflowError is raised when a numerical operation exceeds the limits of the data type used to store the result.\n",
    "2. It occurs when the result of an arithmetic operation is too large or too small to be represented."
   ]
  },
  {
   "cell_type": "code",
   "execution_count": 11,
   "id": "36219e4f-3fab-4731-bc80-3e810a7b7958",
   "metadata": {},
   "outputs": [
    {
     "name": "stdout",
     "output_type": "stream",
     "text": [
      "hiii\n"
     ]
    }
   ],
   "source": [
    "try:\n",
    "    result = 10 ** 10000  # This will raise an OverflowError\n",
    "    print(\"hiii\")\n",
    "except OverflowError as e:\n",
    "    print(f\"Caught OverflowError: {e}\")"
   ]
  },
  {
   "cell_type": "markdown",
   "id": "848f2668-a695-419c-bb96-4d911be201f7",
   "metadata": {},
   "source": [
    "Example is given of OverflowError :->\n",
    "\n",
    "In this example, we attempt to calculate 10 raised to the power of 10,000, which results in a very large number that exceeds the limits of Python's built-in numeric data types. This leads to an OverflowError being raised.\n",
    "\n",
    "These examples demonstrate how ZeroDivisionError and OverflowError, both derived from the ArithmeticError class, are used to handle specific types of arithmetic-related errors that can occur in Python programs."
   ]
  },
  {
   "cell_type": "markdown",
   "id": "ac1dd41f-7e31-43df-9cea-f53d0d7ede87",
   "metadata": {},
   "source": [
    "# Q4. Why LookupError class is used? Explain with an example KeyError and IndexError."
   ]
  },
  {
   "cell_type": "markdown",
   "id": "b8dae071-4ee6-470f-8559-452065d04a37",
   "metadata": {},
   "source": [
    "## Answer :->\n",
    "### The LookupError class is used as a base class for exceptions that occur when there is an error in looking up a sequence or mapping (e.g., lists, dictionaries) element or key. It's a superclass for several exceptions, including KeyError and IndexError, both of which represent specific types of lookup errors.\n",
    "\n",
    "Here's an explanation of KeyError and IndexError along with examples:\n",
    "\n",
    "## KeyError:\n",
    "1. KeyError is raised when you try to access a dictionary key that does not exist.\n",
    "2. It occurs when you attempt to retrieve or manipulate a dictionary value using a key that is not present in the dictionary."
   ]
  },
  {
   "cell_type": "code",
   "execution_count": 9,
   "id": "394cd56e-ee56-4d0f-80d2-474d05ef5e2f",
   "metadata": {},
   "outputs": [
    {
     "name": "stdout",
     "output_type": "stream",
     "text": [
      "Caught KeyError: 'address'\n"
     ]
    }
   ],
   "source": [
    "my_dict = {'name': 'Alice', 'age': 30}\n",
    "\n",
    "try:\n",
    "    print(my_dict['address'])  # This will raise a KeyError\n",
    "except KeyError as e:\n",
    "    print(f\"Caught KeyError: {e}\")"
   ]
  },
  {
   "cell_type": "markdown",
   "id": "c2e33886-79a7-4a59-ac0d-2e7acba05c5b",
   "metadata": {},
   "source": [
    "#### In this example, we try to access the 'address' key in the my_dict dictionary, which does not exist. This results in a KeyError being raised."
   ]
  },
  {
   "cell_type": "markdown",
   "id": "7e907335-40a1-4266-a21a-e8d95f63465a",
   "metadata": {},
   "source": [
    "## IndexError:\n",
    "1. IndexError is raised when you try to access an element from a sequence (e.g., list, tuple) using an index that is out of range.\n",
    "2. It occurs when you attempt to access an index that is greater than or equal to the length of the sequence."
   ]
  },
  {
   "cell_type": "code",
   "execution_count": 10,
   "id": "4ba1b01a-4a04-4ef2-892e-bbd6554fdd5a",
   "metadata": {},
   "outputs": [
    {
     "name": "stdout",
     "output_type": "stream",
     "text": [
      "Caught IndexError: list index out of range\n"
     ]
    }
   ],
   "source": [
    "my_list = [1, 2, 3]\n",
    "\n",
    "try:\n",
    "    print(my_list[5])  # This will raise an IndexError\n",
    "except IndexError as e:\n",
    "    print(f\"Caught IndexError: {e}\")"
   ]
  },
  {
   "cell_type": "markdown",
   "id": "a40114cf-a327-4137-b5f0-4ce11c9c1190",
   "metadata": {},
   "source": [
    "#### In this example, we try to access the element at index 5 in the my_list list, which is out of range because the list has only three elements. This results in an IndexError being raised.\n",
    "\n",
    "### KeyError and IndexError are both subclasses of LookupError, which is used to handle lookup-related errors in a consistent manner. By catching and handling these exceptions, you can write more robust code that anticipates and addresses issues related to accessing dictionary keys and sequence indices."
   ]
  },
  {
   "cell_type": "markdown",
   "id": "0c097b78-6e9f-4f7b-9d86-ec48e4061472",
   "metadata": {},
   "source": [
    "# Q5. Explain ImportError. What is ModuleNotFoundError?"
   ]
  },
  {
   "cell_type": "markdown",
   "id": "23e330cf-c8ef-4927-95f8-80aa8cf52232",
   "metadata": {},
   "source": [
    "## Answer :-> ImportError \n",
    "### ImportError is an exception in Python that occurs when an import statement cannot locate or load a module that you are trying to import. Modules are files containing Python code that can be used to add functionality to your programs, and they are imported using the import statement.\n",
    "\n",
    "Common scenarios that can lead to an ImportError include:\n",
    "1. Module Not Installed\n",
    "2. Incorrect Module Name\n",
    "3. Module Not in the Current Directory or PYTHONPATH\n",
    "\n",
    "Example of Import Error is given below"
   ]
  },
  {
   "cell_type": "code",
   "execution_count": 12,
   "id": "1554b276-6e51-4079-bd12-5d7c36f492b2",
   "metadata": {},
   "outputs": [
    {
     "name": "stdout",
     "output_type": "stream",
     "text": [
      "An ImportError occurred: No module named 'Wajid'\n"
     ]
    }
   ],
   "source": [
    "try:\n",
    "    import Wajid  # This module does not exist\n",
    "except ImportError as e:\n",
    "    print(f\"An ImportError occurred: {e}\")"
   ]
  },
  {
   "cell_type": "markdown",
   "id": "b69540ff-cae8-4a67-a2d2-1a96fce97fd6",
   "metadata": {},
   "source": [
    "## ModuleNotFoundError\n",
    "### ModuleNotFoundError is an exception in Python that is raised when an import statement cannot find the module you are trying to import. It is a specific subtype of the more general ImportError and is used when Python cannot locate the specified module in its search paths.\n",
    "\n",
    "Common reasons for encountering a ModuleNotFoundError include:\n",
    "\n",
    "1. Non-Existent Module\n",
    "2. Module Not in the Current Directory or PYTHONPATH\n",
    "\n",
    "Example of ModuleNotfoundError is given below"
   ]
  },
  {
   "cell_type": "code",
   "execution_count": 13,
   "id": "ee891bf6-c1c7-4b0f-8623-4f60479d0c42",
   "metadata": {},
   "outputs": [
    {
     "name": "stdout",
     "output_type": "stream",
     "text": [
      "A ModuleNotFoundError occurred: No module named 'Wajid'\n"
     ]
    }
   ],
   "source": [
    "try:\n",
    "    import Wajid  # This module does not exist\n",
    "except ModuleNotFoundError as e:\n",
    "    print(f\"A ModuleNotFoundError occurred: {e}\")"
   ]
  },
  {
   "cell_type": "markdown",
   "id": "7324118c-88cb-4694-81f8-80e22dc768bb",
   "metadata": {},
   "source": [
    "# Q6. List down some best practices for exception handling in python."
   ]
  },
  {
   "cell_type": "markdown",
   "id": "2ac577b7-18c2-494b-a38a-2c7d9e93a9a2",
   "metadata": {},
   "source": [
    "## Answer :-> \n",
    "### Exception handling is a crucial aspect of writing robust and maintainable Python code. Here are some best practices for effective exception handling in Python:"
   ]
  },
  {
   "cell_type": "code",
   "execution_count": 1,
   "id": "bda22b2a-2ea5-4dc3-820c-ebf633d8de5a",
   "metadata": {},
   "outputs": [
    {
     "name": "stdout",
     "output_type": "stream",
     "text": [
      "division by zero\n"
     ]
    }
   ],
   "source": [
    "# 1. use always specific execption\n",
    "try :\n",
    "    10/0\n",
    "except ZeroDivisionError as e :\n",
    "    print(e)"
   ]
  },
  {
   "cell_type": "code",
   "execution_count": 2,
   "id": "69b92cdb-b3f6-4f35-a2e0-64b4af0d5b31",
   "metadata": {},
   "outputs": [
    {
     "name": "stdout",
     "output_type": "stream",
     "text": [
      "this is my zero division error i am handling  division by zero\n"
     ]
    }
   ],
   "source": [
    "# 2. print always a valid massege\n",
    "try :\n",
    "    10/0\n",
    "except ZeroDivisionError as e :\n",
    "    print(\"this is my zero division error i am handling \" , e)"
   ]
  },
  {
   "cell_type": "code",
   "execution_count": 3,
   "id": "6f500c79-475c-4520-9087-dff3f834f616",
   "metadata": {},
   "outputs": [],
   "source": [
    "# 3. always try to log\n",
    "import logging\n",
    "logging.basicConfig(filename = \"error.log\" , level = logging.ERROR)\n",
    "try :\n",
    "    10/0\n",
    "except ZeroDivisionError as e :\n",
    "    logging.error(\"this is my zero division error i am handling {} \".format(e))"
   ]
  },
  {
   "cell_type": "code",
   "execution_count": 4,
   "id": "0557e510-157f-4bc4-8089-865bcffe5b86",
   "metadata": {},
   "outputs": [],
   "source": [
    "# 4. avoide to write a multiple exception handling\n",
    "import logging\n",
    "try :\n",
    "    10/0\n",
    "except FileNotFoundError as e:\n",
    "    logging.error(\"this is my file not found {} \".format(e))\n",
    "except AttributeError as e:\n",
    "    logging.error(\"this is my attribute error {} \".format(e))\n",
    "except ZeroDivisionError as e :\n",
    "    logging.error(\"this is my zero division error i am handling {} \".format(e))"
   ]
  },
  {
   "cell_type": "code",
   "execution_count": 5,
   "id": "be881332-5db8-410a-b558-9c5d95eabb8b",
   "metadata": {},
   "outputs": [],
   "source": [
    "# 5. cleanup all the resources\n",
    "try :\n",
    "    with open(\"textxyz.txt\" , \"w\") as f:\n",
    "        f.write(\"this is my massege to the file\")\n",
    "except FileNotFoundError as e :\n",
    "     logging.error(\"this is my file not found {} \".format(e))\n",
    "finally :\n",
    "    f.close()"
   ]
  },
  {
   "cell_type": "code",
   "execution_count": 6,
   "id": "4efea2ed-a5ee-4e8f-8fca-9e7ef03a3c3f",
   "metadata": {},
   "outputs": [
    {
     "name": "stdin",
     "output_type": "stream",
     "text": [
      "Enter a number:  5\n"
     ]
    },
    {
     "name": "stdout",
     "output_type": "stream",
     "text": [
      "Result is: 2.0\n",
      "Execution complete.\n"
     ]
    }
   ],
   "source": [
    "# 6. Use else and finally Blocks\n",
    "try:\n",
    "    num = int(input(\"Enter a number: \"))\n",
    "    result = 10 / num\n",
    "except ZeroDivisionError:\n",
    "    print(\"Division by zero is not allowed.\")\n",
    "else:\n",
    "    print(f\"Result is: {result}\")\n",
    "finally:\n",
    "    print(\"Execution complete.\")"
   ]
  },
  {
   "cell_type": "markdown",
   "id": "c78f7710-cbf9-4438-9523-fa4828b71117",
   "metadata": {},
   "source": [
    "##\n",
    "7. always try to prepare the proper documentation\n",
    "8. Handle Exceptions Gracefully: Handle exceptions gracefully by providing meaningful error messages and taking appropriate action. Users should understand what went wrong and how to fix it.\n",
    "9. Test Exception Handling: Include unit tests that cover exception handling to ensure that your code handles errors as expected."
   ]
  },
  {
   "cell_type": "markdown",
   "id": "ebd8a4ca-a49b-465d-8efd-f3836f8f6cf2",
   "metadata": {},
   "source": [
    "                                         ###  The End  ###"
   ]
  },
  {
   "cell_type": "code",
   "execution_count": null,
   "id": "44c5be8a-771f-46e0-889e-123299eafa8c",
   "metadata": {},
   "outputs": [],
   "source": []
  }
 ],
 "metadata": {
  "kernelspec": {
   "display_name": "Python 3 (ipykernel)",
   "language": "python",
   "name": "python3"
  },
  "language_info": {
   "codemirror_mode": {
    "name": "ipython",
    "version": 3
   },
   "file_extension": ".py",
   "mimetype": "text/x-python",
   "name": "python",
   "nbconvert_exporter": "python",
   "pygments_lexer": "ipython3",
   "version": "3.10.8"
  }
 },
 "nbformat": 4,
 "nbformat_minor": 5
}
