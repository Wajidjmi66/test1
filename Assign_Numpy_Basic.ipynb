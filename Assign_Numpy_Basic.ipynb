{
 "cells": [
  {
   "cell_type": "markdown",
   "id": "aedf7752-d4dd-4d0a-aca0-e3bbdc65b0eb",
   "metadata": {},
   "source": [
    "#    Consider the below code to answer further questions:\n",
    "# import numpy as np\n",
    "# list_ = [ ‘1’ , ’2’ , ‘3’ , ‘4’ , ‘5’ ]\n",
    "# array_list = np.array(object = list_)"
   ]
  },
  {
   "cell_type": "code",
   "execution_count": 1,
   "id": "98a96c0f-bc87-450e-adfb-fcc2dfdb35a5",
   "metadata": {},
   "outputs": [],
   "source": [
    "import numpy as np\n",
    "list_ = [ '1' , '2' , '3' , '4' , '5' ]\n",
    "array_list = np.array(object = list_)"
   ]
  },
  {
   "cell_type": "markdown",
   "id": "57305acc-295f-4599-8557-cceff5eada7c",
   "metadata": {},
   "source": [
    "# Q1. Is there any difference in the data type of variables list_ and array_list? If there is then write a code to print the data types of both the variables."
   ]
  },
  {
   "cell_type": "markdown",
   "id": "57a659c5-a962-4269-b8c8-4da32587f230",
   "metadata": {},
   "source": [
    "## Answer :-> \n",
    "\n",
    "### The names list_ and array_list in Python don't inherently imply a difference in data types. These are variable names, and their specific data types depend on what values are assigned to them during the program execution.\n",
    "\n",
    "### By convention, the name list_ could imply a list data type, and array_list could imply a list or an array-like structure, but these names alone don't enforce a specific data type.\n",
    "\n",
    "#### For example, both list_ and array_list could be assigned as lists in Python:"
   ]
  },
  {
   "cell_type": "code",
   "execution_count": 2,
   "id": "5afcf6a1-c3fe-46c5-8a0a-64de5f2a8cfb",
   "metadata": {},
   "outputs": [],
   "source": [
    "list_ = [1, 2, 3]  # list_ is assigned as a list\n",
    "array_list = [\"a\", \"b\", \"c\"]  # array_list is also assigned as a list"
   ]
  },
  {
   "cell_type": "code",
   "execution_count": 3,
   "id": "5992c4f0-872f-4f62-b3f7-26745cf9b914",
   "metadata": {},
   "outputs": [
    {
     "name": "stdout",
     "output_type": "stream",
     "text": [
      "Data type of list_: <class 'list'>\n",
      "Data type of array_list: <class 'list'>\n"
     ]
    }
   ],
   "source": [
    "# Print the data types of both variables\n",
    "print(f\"Data type of list_: {type(list_)}\")\n",
    "print(f\"Data type of array_list: {type(array_list)}\")"
   ]
  },
  {
   "cell_type": "markdown",
   "id": "9388bccd-4595-4824-98e5-227c6bd6d235",
   "metadata": {},
   "source": [
    "# Q2. Write a code to print the data type of each and every element of both the variables list_ and arra_list."
   ]
  },
  {
   "cell_type": "markdown",
   "id": "c0a4ef5f-b5ca-4e7d-bf5c-f38fe565f4ea",
   "metadata": {},
   "source": [
    "# Answer :->"
   ]
  },
  {
   "cell_type": "code",
   "execution_count": 10,
   "id": "f0c19e99-c73a-49e4-a165-4171c1b5cf06",
   "metadata": {},
   "outputs": [
    {
     "name": "stdout",
     "output_type": "stream",
     "text": [
      "Data types in list_:\n",
      "Data Type of 1 is : <class 'int'>\n",
      "Data Type of 2 is : <class 'int'>\n",
      "Data Type of 3 is : <class 'int'>\n",
      "Data Type of hello is : <class 'str'>\n",
      "Data Type of 5.5 is : <class 'float'>\n",
      "Data Type of hii is : <class 'str'>\n",
      "Data Type of 80.06 is : <class 'float'>\n",
      "Data Type of wajid is : <class 'str'>\n",
      "Data Type of bye is : <class 'str'>\n",
      "Data Type of 373 is : <class 'int'>\n",
      "Data Type of 372 is : <class 'str'>\n"
     ]
    }
   ],
   "source": [
    "import numpy as np\n",
    "# Define the list_ variables\n",
    "list_ = [1, 2, 3, \"hello\", 5.5 ,\"hii\" , 80.06 ,\"wajid\" , 'bye' , 373 , '372' ]\n",
    "print(\"Data types in list_:\")\n",
    "for i in list_:\n",
    "    print(f\"Data Type of {(i)} is : {type(i)}\")\n",
    "    "
   ]
  },
  {
   "cell_type": "code",
   "execution_count": 11,
   "id": "90558f75-8d95-4059-b8df-9f9001f26833",
   "metadata": {},
   "outputs": [
    {
     "name": "stdout",
     "output_type": "stream",
     "text": [
      "\n",
      "Data types in array_list:\n",
      "Data Type of 1 is : <class 'numpy.int64'>\n",
      "Data Type of 2 is : <class 'numpy.int64'>\n",
      "Data Type of 3 is : <class 'numpy.int64'>\n",
      "Data Type of 4 is : <class 'numpy.int64'>\n",
      "Data Type of 5 is : <class 'numpy.int64'>\n"
     ]
    }
   ],
   "source": [
    "# Define array_list variables\n",
    "array_list = np.array([1, 2, 3, 4, 5])\n",
    "print(\"\\nData types in array_list:\")\n",
    "for i in array_list:\n",
    "    print(f\"Data Type of {(i)} is : {type(i)}\")"
   ]
  },
  {
   "cell_type": "markdown",
   "id": "fab05b95-1039-48bb-9e30-3336a2987f1c",
   "metadata": {},
   "source": [
    "# Q3. Considering the following changes in the variable, array_list:\n",
    "## array_list = np.array(object = list_, dtype = int)\n",
    "### Will there be any difference in the data type of the elements present in both the variables, list_ and arra_list? If so then print the data types of each and every element present in both the variables, list_ and arra_list."
   ]
  },
  {
   "cell_type": "code",
   "execution_count": 12,
   "id": "3b9970c1-f2ef-4962-8cc0-b8268bc6d6de",
   "metadata": {},
   "outputs": [],
   "source": [
    "import numpy as np\n",
    "list_ = [ '1' , '2' , '3' , '4' , '5' ]\n",
    "array_list = np.array(object = list_)"
   ]
  },
  {
   "cell_type": "code",
   "execution_count": 13,
   "id": "2b4ef20c-3e87-478f-83b4-47300e7b058e",
   "metadata": {},
   "outputs": [],
   "source": [
    "# Answer :->\n",
    "array_list = np.array(object = list_, dtype = int)"
   ]
  },
  {
   "cell_type": "markdown",
   "id": "a1aefcf9-2ff0-4106-9100-819be9c34fcc",
   "metadata": {},
   "source": [
    "### The original list_ contains strings ('1', '2', '3', '4', '5'). When you create array_list with dtype=int, NumPy will attempt to convert these strings into integers.\n",
    "\n",
    "### Here are the data types of elements in both variables:\n",
    "\n",
    "#### Original List (list_)\n",
    "##### Elements: Strings ('1', '2', '3', '4', '5')\n",
    "\n",
    "\n",
    "#### NumPy Array (array_list) with dtype=int\n",
    "##### Elements: Integers (1, 2, 3, 4, 5)"
   ]
  },
  {
   "cell_type": "code",
   "execution_count": 14,
   "id": "c632c5b8-fcfa-41ce-bfce-4276965383ef",
   "metadata": {},
   "outputs": [
    {
     "name": "stdout",
     "output_type": "stream",
     "text": [
      "Data types in list_:\n",
      "Data Type of 1 is : <class 'str'>\n",
      "Data Type of 2 is : <class 'str'>\n",
      "Data Type of 3 is : <class 'str'>\n",
      "Data Type of 4 is : <class 'str'>\n",
      "Data Type of 5 is : <class 'str'>\n"
     ]
    }
   ],
   "source": [
    "list_ = [ '1' , '2' , '3' , '4' , '5' ]\n",
    "print(\"Data types in list_:\")\n",
    "for i in list_:\n",
    "    print(f\"Data Type of {(i)} is : {type(i)}\")"
   ]
  },
  {
   "cell_type": "code",
   "execution_count": 15,
   "id": "314fc6de-9b8c-400f-9695-1f48ccb3100d",
   "metadata": {},
   "outputs": [
    {
     "name": "stdout",
     "output_type": "stream",
     "text": [
      "\n",
      "Data types in array_list:\n",
      "Data Type of 1 is : <class 'numpy.int64'>\n",
      "Data Type of 2 is : <class 'numpy.int64'>\n",
      "Data Type of 3 is : <class 'numpy.int64'>\n",
      "Data Type of 4 is : <class 'numpy.int64'>\n",
      "Data Type of 5 is : <class 'numpy.int64'>\n"
     ]
    }
   ],
   "source": [
    "array_list = np.array(object = list_, dtype = int)\n",
    "print(\"\\nData types in array_list:\")\n",
    "for i in array_list:\n",
    "    print(f\"Data Type of {(i)} is : {type(i)}\")"
   ]
  },
  {
   "cell_type": "markdown",
   "id": "14c7e49e-15a6-4abd-9381-bd97c776a915",
   "metadata": {},
   "source": [
    "# Q4. Write a code to find the following characteristics of variable, num_array:   (i) shape   (ii) size\n",
    "## Consider the below code to answer further questions:\n",
    "#### import numpy as np\n",
    "#### num_list = [ [ 1 , 2 , 3 ] , [ 4 , 5 , 6 ] ]\n",
    "#### num_array = np.array(object = num_list)"
   ]
  },
  {
   "cell_type": "code",
   "execution_count": 16,
   "id": "b034dfc0-7d3a-467e-811d-58f14bca5810",
   "metadata": {},
   "outputs": [],
   "source": [
    "# Answer :->\n",
    "import numpy as np\n",
    "num_list = [ [ 1 , 2 , 3 ] , [ 4 , 5 , 6 ] ]\n",
    "num_array = np.array(object = num_list)"
   ]
  },
  {
   "cell_type": "code",
   "execution_count": 17,
   "id": "3cb3328c-b288-47c9-be8f-21b77fb577ec",
   "metadata": {},
   "outputs": [
    {
     "name": "stdout",
     "output_type": "stream",
     "text": [
      "Shape of num_array: (2, 3)\n",
      "Size of num_array: 6\n"
     ]
    }
   ],
   "source": [
    "# (i) Finding the shape of num_array\n",
    "shape_of_array = num_array.shape\n",
    "\n",
    "# (ii) Finding the size of num_array\n",
    "size_of_array = num_array.size\n",
    "\n",
    "print(\"Shape of num_array:\", shape_of_array)\n",
    "print(\"Size of num_array:\", size_of_array)"
   ]
  },
  {
   "cell_type": "markdown",
   "id": "56819247-17fa-46f2-9f52-c6665d108dbc",
   "metadata": {},
   "source": [
    "# Q5. Write a code to create numpy array of 3*3 matrix containing zeros only, using a numpy array creation function.\n",
    "## [Hint: The size of the array will be 9 and the shape will be (3,3).]"
   ]
  },
  {
   "cell_type": "code",
   "execution_count": 18,
   "id": "bad794a4-8944-42c1-bfbb-094f1a84166a",
   "metadata": {},
   "outputs": [
    {
     "name": "stdout",
     "output_type": "stream",
     "text": [
      "Array filled with zeros:\n",
      "[[0. 0. 0.]\n",
      " [0. 0. 0.]\n",
      " [0. 0. 0.]]\n"
     ]
    }
   ],
   "source": [
    "import numpy as np\n",
    "\n",
    "# Creating a 3x3 matrix filled with zeros\n",
    "zeros_array = np.zeros((3, 3))\n",
    "\n",
    "print(\"Array filled with zeros:\")\n",
    "print(zeros_array)\n"
   ]
  },
  {
   "cell_type": "markdown",
   "id": "17475a57-7ff3-47e6-bc13-726f3fbc6c0f",
   "metadata": {},
   "source": [
    "# Q6. Create an identity matrix of shape (5,5) using numpy functions?\n",
    "## [Hint: An identity matrix is a matrix containing 1 diagonally and other elements will be 0.]"
   ]
  },
  {
   "cell_type": "code",
   "execution_count": 19,
   "id": "3deab3cc-88e6-4ed0-8905-efa512ab42c7",
   "metadata": {},
   "outputs": [
    {
     "name": "stdout",
     "output_type": "stream",
     "text": [
      "5x5 Identity Matrix:\n",
      "[[1. 0. 0. 0. 0.]\n",
      " [0. 1. 0. 0. 0.]\n",
      " [0. 0. 1. 0. 0.]\n",
      " [0. 0. 0. 1. 0.]\n",
      " [0. 0. 0. 0. 1.]]\n"
     ]
    }
   ],
   "source": [
    "import numpy as np\n",
    "\n",
    "# Creating a 5x5 identity matrix\n",
    "identity_matrix = np.eye(5)\n",
    "\n",
    "print(\"5x5 Identity Matrix:\")\n",
    "print(identity_matrix)\n"
   ]
  },
  {
   "cell_type": "markdown",
   "id": "680cab71-0807-43e7-ab90-21c8714a065d",
   "metadata": {},
   "source": [
    "# ....................................... Thank   YOU.........................................."
   ]
  },
  {
   "cell_type": "code",
   "execution_count": null,
   "id": "c289478b-8db4-4591-93ae-5d3453f646c3",
   "metadata": {},
   "outputs": [],
   "source": []
  }
 ],
 "metadata": {
  "kernelspec": {
   "display_name": "Python 3 (ipykernel)",
   "language": "python",
   "name": "python3"
  },
  "language_info": {
   "codemirror_mode": {
    "name": "ipython",
    "version": 3
   },
   "file_extension": ".py",
   "mimetype": "text/x-python",
   "name": "python",
   "nbconvert_exporter": "python",
   "pygments_lexer": "ipython3",
   "version": "3.10.8"
  }
 },
 "nbformat": 4,
 "nbformat_minor": 5
}
