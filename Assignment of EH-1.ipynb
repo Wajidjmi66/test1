{
 "cells": [
  {
   "cell_type": "markdown",
   "id": "c411d302-aa4c-4e4c-8d42-b273defda77b",
   "metadata": {
    "tags": []
   },
   "source": [
    "# Q1. What is an Exception in python? Write the difference between Exception and syntax errors."
   ]
  },
  {
   "cell_type": "markdown",
   "id": "9993d62c-44e7-4505-a567-0201cc49d487",
   "metadata": {},
   "source": [
    "# Answer :-\n",
    "###  In Python, an exception is an event or condition that disrupts the normal flow of a program's execution. Exceptions are used to handle errors and exceptional situations in a program. When an exceptional situation arises, Python raises an exception, which can then be caught and handled by the program."
   ]
  },
  {
   "cell_type": "markdown",
   "id": "52539ebc-974b-4558-944f-c3e960ee77c8",
   "metadata": {
    "tags": []
   },
   "source": [
    "## Exceptions can occur for various reasons, including:\n",
    "1. RunTime Error\n",
    "2. I/O Error\n",
    "3. Custom Exceptions: We can also create your own custom exceptions by defining new exception classes. This is useful when you want to raise and handle specific types of errors in your program."
   ]
  },
  {
   "cell_type": "code",
   "execution_count": 1,
   "id": "95522ef9-6d5d-494b-a2b2-92f8306e4a2a",
   "metadata": {},
   "outputs": [
    {
     "name": "stdout",
     "output_type": "stream",
     "text": [
      "Division by zero is not allowed. division by zero\n"
     ]
    }
   ],
   "source": [
    "# To handle exceptions in Python, we typically use a try and except block. Here is a basic example:\n",
    "try:\n",
    "    # Code that may raise an exception\n",
    "    result = 10 / 0  # This will raise a ZeroDivisionError\n",
    "except ZeroDivisionError as e:\n",
    "    # Handle the exception\n",
    "    print(\"Division by zero is not allowed.\", e)\n"
   ]
  },
  {
   "cell_type": "markdown",
   "id": "c1d423c8-e298-40e2-b2f9-063ceb82039a",
   "metadata": {},
   "source": [
    "## Here are basic difference b/w Exception and syntax error\n",
    "1. Exception:\n",
    "  An exception is an error that occurs during the execution of a Python program due to unexpected conditions or events.\n",
    "  Exceptions are runtime errors that occur when the program is running.\n",
    "  Examples of exceptions include ZeroDivisionError, TypeError, FileNotFoundError, and IndexError.\n",
    "\n",
    "2. Syntax Error:\n",
    "  A syntax error is a type of error that occurs when the Python interpreter encounters invalid Python code.\n",
    "  Syntax errors are detected by the Python interpreter during the parsing (compilation) phase before the program is executed.\n",
    "  Examples of syntax errors include missing colons, incorrect indentation, misspelled keywords, and invalid variable names.\n",
    "\n",
    ":-> In short we can say, exceptions occur during the runtime of a program when something unexpected happens, while syntax errors occur during the parsing phase of the program when the code is being checked for correct syntax before execution. To handle exceptions, you can use try-except blocks to catch and handle specific exceptions that may arise during the execution of your program. Syntax errors must be fixed before the program can run."
   ]
  },
  {
   "cell_type": "markdown",
   "id": "217e5c4e-5585-41f4-bc19-676c06fd0a44",
   "metadata": {},
   "source": [
    "# Q2. What happens when an exception is not handled? Explain with an example."
   ]
  },
  {
   "cell_type": "markdown",
   "id": "1402f09c-3c2d-49a3-8d49-cbf4a9029919",
   "metadata": {},
   "source": [
    "### Answer :-> When an exception is not handled in Python, it results in the termination of the program, and an error message, known as a traceback, is displayed. The traceback provides information about the exception that occurred and the sequence of function calls that led to it. This can be helpful for debugging but is not suitable for a production program because it causes the program to crash."
   ]
  },
  {
   "cell_type": "markdown",
   "id": "fa871d15-4479-4bc3-91f7-59d47d374efc",
   "metadata": {},
   "source": [
    "#### This is an example to illustrate what happens when an exception is not handled:"
   ]
  },
  {
   "cell_type": "code",
   "execution_count": 2,
   "id": "b6208f6a-5160-4da5-9e83-5a6393c22970",
   "metadata": {},
   "outputs": [
    {
     "ename": "ZeroDivisionError",
     "evalue": "division by zero",
     "output_type": "error",
     "traceback": [
      "\u001b[0;31m---------------------------------------------------------------------------\u001b[0m",
      "\u001b[0;31mZeroDivisionError\u001b[0m                         Traceback (most recent call last)",
      "Cell \u001b[0;32mIn[2], line 2\u001b[0m\n\u001b[1;32m      1\u001b[0m \u001b[38;5;66;03m# This code will raise a ZeroDivisionError\u001b[39;00m\n\u001b[0;32m----> 2\u001b[0m result \u001b[38;5;241m=\u001b[39m \u001b[38;5;241;43m10\u001b[39;49m\u001b[43m \u001b[49m\u001b[38;5;241;43m/\u001b[39;49m\u001b[43m \u001b[49m\u001b[38;5;241;43m0\u001b[39;49m\n\u001b[1;32m      3\u001b[0m \u001b[38;5;28mprint\u001b[39m(\u001b[38;5;124m\"\u001b[39m\u001b[38;5;124mThis line will never be reached due to the unhandled exception.\u001b[39m\u001b[38;5;124m\"\u001b[39m)\n",
      "\u001b[0;31mZeroDivisionError\u001b[0m: division by zero"
     ]
    }
   ],
   "source": [
    "# This code will raise a ZeroDivisionError\n",
    "result = 10 / 0\n",
    "print(\"This line will never be reached due to the unhandled exception.\")"
   ]
  },
  {
   "cell_type": "markdown",
   "id": "3c535872-534c-4ef2-b49f-b618bf18c2c8",
   "metadata": {},
   "source": [
    "# Q3. Which Python statements are used to catch and handle exceptions? Explain with an example."
   ]
  },
  {
   "cell_type": "markdown",
   "id": "de8df3bc-957a-4057-ac94-b05c002f09fc",
   "metadata": {},
   "source": [
    "## Answer :->  In Python, the statements used to catch and handle exceptions are try and except. These statements are used together in a try-except block to handle exceptions gracefully. Here's how they work:\n",
    "\n",
    "1. try: The try block contains the code that may raise an exception. You enclose the potentially problematic code within this block.\n",
    "\n",
    "2. except: The except block contains code that is executed if an exception is raised within the try block. You specify the type of exception you want to catch after the except keyword."
   ]
  },
  {
   "cell_type": "markdown",
   "id": "7fc2b30c-e3a8-4f0e-a65a-8c60cecc8c08",
   "metadata": {},
   "source": [
    "#### This is an example of how to use try and except to catch and handle an exception:"
   ]
  },
  {
   "cell_type": "code",
   "execution_count": 3,
   "id": "ecc0e16c-55dc-4d25-9fb8-5a1fa683e759",
   "metadata": {},
   "outputs": [
    {
     "name": "stdout",
     "output_type": "stream",
     "text": [
      "Division by zero is not allowed. division by zero\n"
     ]
    }
   ],
   "source": [
    "try:\n",
    "    # Code that may raise an exception\n",
    "    result = 10 / 0  # This will raise a ZeroDivisionError\n",
    "except ZeroDivisionError as e:\n",
    "    # Handle the exception\n",
    "    print(\"Division by zero is not allowed.\",e)"
   ]
  },
  {
   "cell_type": "code",
   "execution_count": 5,
   "id": "dc686615-dfae-4a3a-93af-31557f419ee0",
   "metadata": {},
   "outputs": [
    {
     "name": "stdin",
     "output_type": "stream",
     "text": [
      "Enter a number:  2\n"
     ]
    },
    {
     "name": "stdout",
     "output_type": "stream",
     "text": [
      "Result is: 5.0\n",
      "Execution complete.\n"
     ]
    }
   ],
   "source": [
    "try:\n",
    "    num = int(input(\"Enter a number: \"))\n",
    "    result = 10 / num\n",
    "except ZeroDivisionError:\n",
    "    print(\"Division by zero is not allowed.\")\n",
    "except ValueError:\n",
    "    print(\"Invalid input. Please enter a valid number.\")\n",
    "else:\n",
    "    print(f\"Result is: {result}\")\n",
    "finally:\n",
    "    print(\"Execution complete.\")"
   ]
  },
  {
   "cell_type": "markdown",
   "id": "ceec79a8-6d46-4ba9-a085-7bf9a3d9cbee",
   "metadata": {},
   "source": [
    "# Q4.Explain with an example:\n",
    "1. try and else\n",
    "2. finally\n",
    "3. raise"
   ]
  },
  {
   "cell_type": "markdown",
   "id": "c467a7d1-b807-48b6-8147-27235ea0e2c8",
   "metadata": {},
   "source": [
    "## Answer :-> Let's explain the try, else, finally, and raise statements in Python with an example:"
   ]
  },
  {
   "cell_type": "markdown",
   "id": "b1da6f1f-5dcf-4b2c-9740-a68a4219d316",
   "metadata": {},
   "source": [
    "## 1. try and else:\n",
    "The try block is used to enclose code that may raise an exception. The else block, which is optional, is used to specify code that should run only if no exceptions are raised in the try block."
   ]
  },
  {
   "cell_type": "code",
   "execution_count": 37,
   "id": "96c62e55-ddb3-4d04-8d8b-1f39872c4dfb",
   "metadata": {},
   "outputs": [
    {
     "name": "stdin",
     "output_type": "stream",
     "text": [
      "Enter a number:  0\n"
     ]
    },
    {
     "name": "stdout",
     "output_type": "stream",
     "text": [
      "Division by zero is not allowed.\n"
     ]
    }
   ],
   "source": [
    "try:\n",
    "    num = int(input(\"Enter a number: \"))\n",
    "    result = 10 / num\n",
    "except ZeroDivisionError:\n",
    "    print(\"Division by zero is not allowed.\")\n",
    "else:\n",
    "    print(f\"Result is: {result}\")"
   ]
  },
  {
   "cell_type": "code",
   "execution_count": 38,
   "id": "77e5a6a3-a657-41d2-a341-99051269a84a",
   "metadata": {},
   "outputs": [
    {
     "name": "stdin",
     "output_type": "stream",
     "text": [
      "Enter a number:  5\n"
     ]
    },
    {
     "name": "stdout",
     "output_type": "stream",
     "text": [
      "Result is: 2.0\n"
     ]
    }
   ],
   "source": [
    "try:\n",
    "    num = int(input(\"Enter a number: \"))\n",
    "    result = 10 / num\n",
    "except ZeroDivisionError:\n",
    "    print(\"Division by zero is not allowed.\")\n",
    "else:\n",
    "    print(f\"Result is: {result}\")"
   ]
  },
  {
   "cell_type": "markdown",
   "id": "65baf8a3-2c71-45a9-9ea4-2fd426ffa295",
   "metadata": {},
   "source": [
    "### In this example:\n",
    "1. The try block takes user input and attempts to perform a division.\n",
    "2. If the user enters 0, it raises a ZeroDivisionError.\n",
    "3. If the user enters a non-zero number, the else block is executed, and the result is printed."
   ]
  },
  {
   "cell_type": "markdown",
   "id": "a668cf5a-d9b3-4aa5-9fab-2dd6a12febe5",
   "metadata": {},
   "source": [
    "### 2.finally:\n",
    "The finally block, also optional, is used to specify code that should be executed regardless of whether an exception is raised or not. It is often used for cleanup operations."
   ]
  },
  {
   "cell_type": "code",
   "execution_count": 7,
   "id": "ffab0057-ea1d-45f6-b8f9-28b7ef89b500",
   "metadata": {},
   "outputs": [
    {
     "name": "stdin",
     "output_type": "stream",
     "text": [
      "Enter a number:  0\n"
     ]
    },
    {
     "name": "stdout",
     "output_type": "stream",
     "text": [
      "Division by zero is not allowed.\n",
      "Execution complete.\n"
     ]
    }
   ],
   "source": [
    "try:\n",
    "    num = int(input(\"Enter a number: \"))\n",
    "    result = 10 / num\n",
    "except ZeroDivisionError:\n",
    "    print(\"Division by zero is not allowed.\")\n",
    "else:\n",
    "    print(f\"Result is: {result}\")\n",
    "finally:\n",
    "    print(\"Execution complete.\")"
   ]
  },
  {
   "cell_type": "markdown",
   "id": "2a2a8be2-e880-461b-bedf-829a195473b6",
   "metadata": {},
   "source": [
    "#### In this example:\n",
    "Whether an exception is raised or not, the \"Execution complete.\" message is always printed after the try or except block finishes executing."
   ]
  },
  {
   "cell_type": "markdown",
   "id": "2e2ea2ae-1162-416b-9b87-25add18e1a10",
   "metadata": {},
   "source": [
    "### 3. raise :\n",
    "The raise statement is used to explicitly raise an exception in your code. You can raise built-in exceptions or custom exceptions (user-defined exceptions)."
   ]
  },
  {
   "cell_type": "code",
   "execution_count": 8,
   "id": "6808e750-a9d0-4f6c-b223-9a6c57d4fcfc",
   "metadata": {},
   "outputs": [
    {
     "name": "stdout",
     "output_type": "stream",
     "text": [
      "Division by zero is not allowed.\n"
     ]
    }
   ],
   "source": [
    "def divide(a, b):\n",
    "    if b == 0:\n",
    "        raise ZeroDivisionError(\"Division by zero is not allowed.\")\n",
    "    return a / b\n",
    "\n",
    "try:\n",
    "    result = divide(10, 0)\n",
    "except ZeroDivisionError as e:\n",
    "    print(e)"
   ]
  },
  {
   "cell_type": "markdown",
   "id": "f599e14b-7c6a-431c-a008-b2a5ca210ebc",
   "metadata": {},
   "source": [
    "#### In this example:\n",
    "  We define a function divide that raises a ZeroDivisionError if the denominator is 0.\n",
    "  In the try block, we call the divide function with arguments 10 and 0, which raises the exception.\n",
    "  The except block catches the exception and prints the error message associated with it."
   ]
  },
  {
   "cell_type": "markdown",
   "id": "acb19912-5a99-457e-8f80-791a49fa2475",
   "metadata": {
    "tags": []
   },
   "source": [
    "# Q5. What are custom Exeption in pythons? Why do we need Custom Exceptions? Explain with an exampe."
   ]
  },
  {
   "cell_type": "markdown",
   "id": "2f6fb57e-8f86-4717-89f9-284b70760501",
   "metadata": {
    "tags": []
   },
   "source": [
    "## Answer :->\n",
    "#### Custom exceptions, also known as user-defined exceptions, are exceptions that you create by defining your own exception classes in Python. These custom exceptions allow you to raise and handle specific types of errors that are relevant to your application or domain. You need custom exceptions when the built-in Python exceptions don't adequately capture the nature of the errors you want to handle, or when you want to provide more meaningful error messages and context to developers using your code.\n",
    "\n",
    "### Why Do We Need Custom Exceptions:\n",
    "\n",
    "1. Expressiveness: Custom exceptions provide a way to express and categorize specific errors that are meaningful in the context of your application. They make your code more self-documenting and help others understand the purpose of each exception.\n",
    "\n",
    "2. Clarity: Custom exceptions allow you to provide detailed error messages that offer clear guidance on how to handle and troubleshoot issues. This improves the debugging and error recovery process.\n",
    "\n",
    "3. Separation of Concerns: By defining custom exceptions, you can separate the logic for handling specific types of errors from the core application logic. This makes your code cleaner and easier to maintain.\n",
    "\n",
    "4. Granular Error Handling: Custom exceptions enable you to handle different errors in different ways, providing more granular control over error handling and recovery strategies."
   ]
  },
  {
   "cell_type": "code",
   "execution_count": 2,
   "id": "2fcc2763-5ddc-4134-af8f-a3da6f270a80",
   "metadata": {},
   "outputs": [],
   "source": [
    "class validateage(Exception) :\n",
    "    def __init__(self ,msg):\n",
    "        self.msg = msg"
   ]
  },
  {
   "cell_type": "code",
   "execution_count": 3,
   "id": "79ceeab1-d4ae-467b-a38c-f72954cbfb64",
   "metadata": {},
   "outputs": [],
   "source": [
    "def validate_age(age) :\n",
    "    if age < 0 :\n",
    "        raise validateage(\"age should not be lesser than zero\")\n",
    "    elif age > 200:\n",
    "        raise validateage(\"age is too high\")\n",
    "    else :\n",
    "        print(\"age is valid\")"
   ]
  },
  {
   "cell_type": "code",
   "execution_count": 4,
   "id": "e8d26425-9cc8-41da-8ab1-930bafa9192b",
   "metadata": {},
   "outputs": [
    {
     "name": "stdin",
     "output_type": "stream",
     "text": [
      "enter your age -123\n"
     ]
    },
    {
     "name": "stdout",
     "output_type": "stream",
     "text": [
      "age should not be lesser than zero\n"
     ]
    }
   ],
   "source": [
    "try :\n",
    "    age = int(input(\"enter your age\"))\n",
    "    validate_age(age)\n",
    "except validateage as e:\n",
    "    print(e)"
   ]
  },
  {
   "cell_type": "markdown",
   "id": "19acc707-eb03-4fb4-a7c6-92999884cdde",
   "metadata": {},
   "source": [
    "# Q6. Create a Custom exception class. Use this class to handle an exception"
   ]
  },
  {
   "cell_type": "code",
   "execution_count": 5,
   "id": "6547d1c0-6571-412f-a69a-bf6068f1e920",
   "metadata": {},
   "outputs": [
    {
     "name": "stdout",
     "output_type": "stream",
     "text": [
      "Caught CustomError: Division by zero is not allowed.\n"
     ]
    }
   ],
   "source": [
    "# Custom exception class\n",
    "class CustomError(Exception):\n",
    "    def __init__(self, message):\n",
    "        self.message = message\n",
    "        super().__init__(self.message)\n",
    "\n",
    "# Function that raises the custom exception\n",
    "def divide(a, b):\n",
    "    if b == 0:\n",
    "        raise CustomError(\"Division by zero is not allowed.\")\n",
    "    return a / b\n",
    "\n",
    "try:\n",
    "    result = divide(10, 0)  # This will raise CustomError\n",
    "except CustomError as e:\n",
    "    print(f\"Caught CustomError: {e}\")"
   ]
  },
  {
   "cell_type": "markdown",
   "id": "0b78815f-2383-473e-a6c0-6de8ffb99795",
   "metadata": {},
   "source": [
    "##### In this example we :->\n",
    "1. Define a custom exception class called CustomError. This exception class inherits from the base Exception class and takes a custom error message as a parameter.\n",
    "2. Create a divide function that checks if the denominator is zero and raises the CustomError if it is.\n",
    "3. In the try block, we call the divide function with arguments 10 and 0, which triggers the custom exception. We then catch and handle the CustomError exception in the except block and print the custom error message, providing clear information about the error.\n",
    "\n",
    "This demonstrates how you can create and use a custom exception class to handle specific types of errors in your Python code."
   ]
  },
  {
   "cell_type": "markdown",
   "id": "260a562d-88aa-4d17-a199-0841cbb51d5c",
   "metadata": {},
   "source": [
    "                                  ###   The End    ###"
   ]
  },
  {
   "cell_type": "code",
   "execution_count": null,
   "id": "4f51c6e3-436e-428c-b797-81b43af354d8",
   "metadata": {},
   "outputs": [],
   "source": []
  }
 ],
 "metadata": {
  "kernelspec": {
   "display_name": "Python 3 (ipykernel)",
   "language": "python",
   "name": "python3"
  },
  "language_info": {
   "codemirror_mode": {
    "name": "ipython",
    "version": 3
   },
   "file_extension": ".py",
   "mimetype": "text/x-python",
   "name": "python",
   "nbconvert_exporter": "python",
   "pygments_lexer": "ipython3",
   "version": "3.10.8"
  }
 },
 "nbformat": 4,
 "nbformat_minor": 5
}
