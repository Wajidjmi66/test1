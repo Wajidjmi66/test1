{
 "cells": [
  {
   "cell_type": "markdown",
   "id": "ef437e9b-ceec-4e64-8bad-c9354b1d5ccb",
   "metadata": {},
   "source": [
    "## Q1. Explain Class and Object with respect to Object-Oriented Programming. Give a suitable example."
   ]
  },
  {
   "cell_type": "markdown",
   "id": "1ef8a03f-210a-42d0-98d9-a1783d595c26",
   "metadata": {},
   "source": [
    "### Answer :-  In Object-Oriented Programming (OOP), a class and an object are fundamental concepts that allow you to structure and model your software in a way that represents real-world entities and their behaviors. Let's break down the definitions and provide an example:\n",
    "\n",
    "Class:\n",
    "->A class is a blueprint or a template for creating objects. It defines the structure and behavior that objects of that class will exhibit.\n",
    "->It serves as a template because it specifies the attributes (also called properties or fields) and methods (functions or behaviors) that an object of that class will have.\n",
    "->Classes act as a way to encapsulate data and functionality, making it easier to manage and reuse code.\n",
    "\n",
    "Object:\n",
    "->An object is an instance of a class. It is a concrete, real-world entity created from the blueprint defined by a class.\n",
    "->Objects have their own unique data (attribute values) and can perform actions (methods) based on the behavior defined in the class.\n",
    "->Objects allow you to model and work with individual instances of a particular concept or entity."
   ]
  },
  {
   "cell_type": "code",
   "execution_count": 1,
   "id": "6e6e9ec5-5a0f-4017-aa18-641dffaf4dd0",
   "metadata": {},
   "outputs": [],
   "source": [
    "class pwskills1:\n",
    "    def __init__(self,phone_number,email_id,student_id ):\n",
    "        self.phone_number = phone_number\n",
    "        self.email_id = email_id\n",
    "        self.student_id = student_id\n",
    "        \n",
    "    def return_student_detail(self):\n",
    "        return self.phone_number,self.email_id,self.student_id"
   ]
  },
  {
   "cell_type": "code",
   "execution_count": 3,
   "id": "3102e011-f8a1-47aa-a544-8ef0689d3e68",
   "metadata": {},
   "outputs": [],
   "source": [
    "wajid = pwskills1(97171458987,\"wajidjmi66@gmail.com\",373)"
   ]
  },
  {
   "cell_type": "code",
   "execution_count": 4,
   "id": "cdce3814-0bbb-4df0-9c6d-7bf4b5f38cf4",
   "metadata": {},
   "outputs": [
    {
     "data": {
      "text/plain": [
       "'wajidjmi66@gmail.com'"
      ]
     },
     "execution_count": 4,
     "metadata": {},
     "output_type": "execute_result"
    }
   ],
   "source": [
    "wajid.email_id"
   ]
  },
  {
   "cell_type": "code",
   "execution_count": 5,
   "id": "7daca7e3-527f-4d58-99d4-df3d20531255",
   "metadata": {},
   "outputs": [
    {
     "data": {
      "text/plain": [
       "97171458987"
      ]
     },
     "execution_count": 5,
     "metadata": {},
     "output_type": "execute_result"
    }
   ],
   "source": [
    "wajid.phone_number"
   ]
  },
  {
   "cell_type": "code",
   "execution_count": 6,
   "id": "afee6263-6e1d-43fd-89d1-9cc3ef03932f",
   "metadata": {},
   "outputs": [
    {
     "data": {
      "text/plain": [
       "373"
      ]
     },
     "execution_count": 6,
     "metadata": {},
     "output_type": "execute_result"
    }
   ],
   "source": [
    "wajid.student_id"
   ]
  },
  {
   "cell_type": "code",
   "execution_count": 7,
   "id": "9916abe6-f30a-478c-82bf-66cb5a434915",
   "metadata": {},
   "outputs": [
    {
     "data": {
      "text/plain": [
       "(97171458987, 'wajidjmi66@gmail.com', 373)"
      ]
     },
     "execution_count": 7,
     "metadata": {},
     "output_type": "execute_result"
    }
   ],
   "source": [
    "wajid.return_student_detail()"
   ]
  },
  {
   "cell_type": "markdown",
   "id": "e2eec19f-3ea4-4e21-b279-71b3918f86fc",
   "metadata": {},
   "source": [
    "### this is suitable example of class and object"
   ]
  },
  {
   "cell_type": "markdown",
   "id": "8449e311-f19f-4c75-9f3a-c8085356119c",
   "metadata": {},
   "source": [
    "# Q2. Name the four pillars of OOPs."
   ]
  },
  {
   "cell_type": "markdown",
   "id": "f817582d-5a7a-4843-a564-21be6e484cc5",
   "metadata": {},
   "source": [
    "### Answer :- The four pillars of Object-Oriented Programming (OOP) are:\n",
    "\n",
    "1. Encapsulation: Encapsulation refers to the bundling of data (attributes) and methods (functions) that operate on that data into a single unit called a class. It hides the internal details of how an object works and provides a clear interface for interacting with the object. This helps in data protection and ensures that the object's state is only modified in a controlled manner.\n",
    "\n",
    "2. Inheritance: Inheritance allows you to create a new class (subclass or derived class) based on an existing class (superclass or base class). The subclass inherits the attributes and methods of the superclass and can also add its own attributes and methods or override the inherited ones. Inheritance promotes code reuse and supports the \"is-a\" relationship between classes.\n",
    "\n",
    "3. Polymorphism: Polymorphism allows objects of different classes to be treated as objects of a common superclass. It enables you to write code that can work with objects of various types in a uniform way. Polymorphism can be achieved through method overriding and method overloading. It supports the \"one interface, multiple implementations\" concept.\n",
    "\n",
    "4. Abstraction: Abstraction involves simplifying complex systems by modeling classes based on the essential properties and behaviors they exhibit. It focuses on showing only the relevant details of an object while hiding unnecessary complexity. Abstraction helps in managing the complexity of large software systems and provides a clear separation between the interface and implementation.\n",
    "\n",
    "These four pillars are fundamental principles in OOP and are used to design and structure software systems in a modular and maintainable way."
   ]
  },
  {
   "cell_type": "markdown",
   "id": "0361c13d-e124-4ac3-84eb-72f06f33a2b6",
   "metadata": {},
   "source": [
    "# Q3. Explain why the __init__() function is used. Give a suitable example."
   ]
  },
  {
   "cell_type": "markdown",
   "id": "fdc29ac5-4220-4302-b993-c356b1d78c8b",
   "metadata": {},
   "source": [
    "\n",
    "Answer :- In Python, the __init__() function is a special method, also known as a constructor, used in classes to initialize objects. It is automatically called when you create a new instance (object) of a class. The primary purpose of the __init__() method is to set the initial state of an object by initializing its attributes.\n",
    "\n",
    "Here's why the __init__() function is used:\n",
    "\n",
    "1. Initialization: It allows you to initialize the attributes of an object with values that make sense for that object at the time of creation. This ensures that an object starts with a valid state.\n",
    "\n",
    "2. Attribute Assignment: You can assign values to instance variables (attributes) within the __init__() method, making them specific to each object created from the class.\n",
    "\n",
    "3. Customization: You can define parameters in the __init__() method to customize the initialization process based on the specific needs of the object being created."
   ]
  },
  {
   "cell_type": "code",
   "execution_count": 8,
   "id": "d4d88a44-3520-4dc7-a978-005df37528b7",
   "metadata": {},
   "outputs": [],
   "source": [
    "class car:\n",
    "    \n",
    "    def __init__(self , year ,make , model) :\n",
    "        self.year = year\n",
    "        self.make = make\n",
    "        self.model = model"
   ]
  },
  {
   "cell_type": "code",
   "execution_count": 9,
   "id": "a0c7c7cc-72f1-4cfc-93d2-af5555856a4d",
   "metadata": {},
   "outputs": [],
   "source": [
    "bmw = car(2021,\"bmw\",\"xyz\")"
   ]
  },
  {
   "cell_type": "code",
   "execution_count": 10,
   "id": "0bed1176-e9e5-432b-bb24-1eb1d5e4b8a0",
   "metadata": {},
   "outputs": [
    {
     "data": {
      "text/plain": [
       "'xyz'"
      ]
     },
     "execution_count": 10,
     "metadata": {},
     "output_type": "execute_result"
    }
   ],
   "source": [
    "bmw.model"
   ]
  },
  {
   "cell_type": "markdown",
   "id": "33e6931c-8ffa-478e-90e6-edd9fed7ed58",
   "metadata": {},
   "source": [
    "# Q4. Why self is used in OOPs?"
   ]
  },
  {
   "cell_type": "markdown",
   "id": "1854a74e-4903-4a97-90fc-0be6b9e768ab",
   "metadata": {},
   "source": [
    "Answer :- In Object-Oriented Programming (OOP), self is a convention used in many programming languages, including Python, to refer to the instance of a class within that class's methods. It is not a reserved keyword but rather a naming convention. The use of self serves several important purposes:\n",
    "1. Differentiating Instance Variables\n",
    "2. Accessing Object State\n",
    "3. Method Invocation\n",
    "4. Creating Instance Variables"
   ]
  },
  {
   "cell_type": "code",
   "execution_count": 11,
   "id": "5b1fe0f7-5345-44c9-93cc-e57ab9200532",
   "metadata": {},
   "outputs": [],
   "source": [
    "class Dog:\n",
    "    def __init__(self, name, age):\n",
    "        self.name = name  # Instance variable\n",
    "        self.age = age    # Instance variable"
   ]
  },
  {
   "cell_type": "code",
   "execution_count": 13,
   "id": "4ea7ef7c-c24d-4221-8fce-d34386e2212d",
   "metadata": {},
   "outputs": [],
   "source": [
    "dog1 = Dog(\"tommy\",2)"
   ]
  },
  {
   "cell_type": "code",
   "execution_count": 14,
   "id": "4e94e54b-f2ff-42be-ba3e-99436f2e79cb",
   "metadata": {},
   "outputs": [
    {
     "data": {
      "text/plain": [
       "'tommy'"
      ]
     },
     "execution_count": 14,
     "metadata": {},
     "output_type": "execute_result"
    }
   ],
   "source": [
    "dog1.name"
   ]
  },
  {
   "cell_type": "markdown",
   "id": "c372b391-7633-4f2b-af8d-d28e0252700f",
   "metadata": {},
   "source": [
    "# Q5. What is inheritance? Give an example for each type of inheritance."
   ]
  },
  {
   "cell_type": "markdown",
   "id": "f09994b6-b047-4942-96b2-46e8de8375de",
   "metadata": {},
   "source": [
    "Answer :- Inheritance is one of the four fundamental concepts in object-oriented programming (OOP) and represents the ability of a new class (subclass or derived class) to inherit properties and behaviors (attributes and methods) from an existing class (superclass or base class). This allows for code reuse, extensibility, and the creation of a hierarchy of classes, where each subclass can add its own features or override inherited ones. There are several types of inheritance, including single inheritance, multiple inheritance, and multilevel inheritance."
   ]
  },
  {
   "cell_type": "markdown",
   "id": "bbe19f8b-65f1-48b7-9234-db8401df6ea2",
   "metadata": {},
   "source": [
    "1. Single Inheritance:\n",
    "Description: In single inheritance, a subclass inherits from a single superclass. This is the most straightforward type of inheritance."
   ]
  },
  {
   "cell_type": "code",
   "execution_count": 15,
   "id": "0ec8d926-6977-457e-801f-71a22a63433e",
   "metadata": {},
   "outputs": [],
   "source": [
    "class parent:\n",
    "    def test_parent(self) :\n",
    "        print(\"This is my parent class\")"
   ]
  },
  {
   "cell_type": "code",
   "execution_count": 16,
   "id": "6c66a96d-2ba7-49bf-ad37-d4fadfb84986",
   "metadata": {},
   "outputs": [],
   "source": [
    "class child(parent):\n",
    "    pass"
   ]
  },
  {
   "cell_type": "code",
   "execution_count": 17,
   "id": "1d79bfe6-9175-42de-bd50-b82a14c3a07f",
   "metadata": {},
   "outputs": [],
   "source": [
    "child_0bj = child()"
   ]
  },
  {
   "cell_type": "code",
   "execution_count": 18,
   "id": "1a70c06a-c356-45ff-a644-9796334eb028",
   "metadata": {},
   "outputs": [
    {
     "data": {
      "text/plain": [
       "<bound method parent.test_parent of <__main__.child object at 0x7ff1d5efc3d0>>"
      ]
     },
     "execution_count": 18,
     "metadata": {},
     "output_type": "execute_result"
    }
   ],
   "source": [
    "child_0bj.test_parent"
   ]
  },
  {
   "cell_type": "code",
   "execution_count": 19,
   "id": "9db258ca-ab6b-4a66-bc36-ec1faa2a9b81",
   "metadata": {},
   "outputs": [
    {
     "name": "stdout",
     "output_type": "stream",
     "text": [
      "This is my parent class\n"
     ]
    }
   ],
   "source": [
    "child_0bj.test_parent()"
   ]
  },
  {
   "cell_type": "markdown",
   "id": "502cc813-6cf8-4797-8cb1-fbe096118d7c",
   "metadata": {},
   "source": [
    "2. Multiple Inheritance:\n",
    "Description: In multiple inheritance, a subclass can inherit from more than one superclass. This allows the subclass to inherit attributes and methods from multiple parent classes."
   ]
  },
  {
   "cell_type": "code",
   "execution_count": 20,
   "id": "ab5a6089-2855-4cbb-b98b-7ea351856517",
   "metadata": {},
   "outputs": [],
   "source": [
    "class class1 :\n",
    "    def test_class1(self) :\n",
    "        print(\"this is my class1 \")"
   ]
  },
  {
   "cell_type": "code",
   "execution_count": 21,
   "id": "0bd0ed12-db0a-4470-81fb-217187a971fd",
   "metadata": {},
   "outputs": [],
   "source": [
    "class class2(class1):\n",
    "    def test_class2(self) :\n",
    "        print(\"this is my class2 \")"
   ]
  },
  {
   "cell_type": "code",
   "execution_count": 22,
   "id": "f139d759-7673-438a-a75f-90ad407c3d4b",
   "metadata": {},
   "outputs": [],
   "source": [
    "class class3(class2):\n",
    "    def test_class3(self) :\n",
    "        print(\"this is my class3 \")"
   ]
  },
  {
   "cell_type": "code",
   "execution_count": 23,
   "id": "447b6f0e-1e8f-4be5-9afa-704fb9c5b374",
   "metadata": {},
   "outputs": [],
   "source": [
    "obj_class3 = class3()"
   ]
  },
  {
   "cell_type": "code",
   "execution_count": 24,
   "id": "13496161-e212-4794-9fec-79a64987adf9",
   "metadata": {},
   "outputs": [
    {
     "name": "stdout",
     "output_type": "stream",
     "text": [
      "this is my class1 \n"
     ]
    }
   ],
   "source": [
    "obj_class3.test_class1()"
   ]
  },
  {
   "cell_type": "code",
   "execution_count": 25,
   "id": "d54bed80-45b4-45b3-a697-ef5e617ab707",
   "metadata": {},
   "outputs": [
    {
     "name": "stdout",
     "output_type": "stream",
     "text": [
      "this is my class2 \n"
     ]
    }
   ],
   "source": [
    "obj_class3.test_class2()"
   ]
  },
  {
   "cell_type": "code",
   "execution_count": 26,
   "id": "6c4b887c-8388-4277-84f0-9cf22ea88edc",
   "metadata": {},
   "outputs": [
    {
     "name": "stdout",
     "output_type": "stream",
     "text": [
      "this is my class3 \n"
     ]
    }
   ],
   "source": [
    "obj_class3.test_class3()"
   ]
  },
  {
   "cell_type": "markdown",
   "id": "9a584bfe-c3ba-4407-a0d0-4d1b9eeffd85",
   "metadata": {},
   "source": [
    "3. Multilevel Inheritance:\n",
    "Description: In multilevel inheritance, a subclass derives from another subclass, forming a chain of inheritance. It extends the concept of single inheritance but creates a hierarchy of classes."
   ]
  },
  {
   "cell_type": "code",
   "execution_count": 27,
   "id": "23379e1c-449e-4b8b-9dd6-71a0b77f8456",
   "metadata": {},
   "outputs": [],
   "source": [
    "class class1:\n",
    "    def test_class1(self):\n",
    "        print(\"this is my class1 \")"
   ]
  },
  {
   "cell_type": "code",
   "execution_count": 28,
   "id": "db8b4f03-dfa0-4a6a-9aae-43f7ce93ffa6",
   "metadata": {},
   "outputs": [],
   "source": [
    "class class2:\n",
    "    def test_class2(self):\n",
    "        print(\"this is my class2 \")"
   ]
  },
  {
   "cell_type": "code",
   "execution_count": 29,
   "id": "408e46c5-f12e-4857-a031-fe2825486e38",
   "metadata": {},
   "outputs": [],
   "source": [
    "class class3(class1 , class2):\n",
    "    pass"
   ]
  },
  {
   "cell_type": "code",
   "execution_count": 30,
   "id": "ba197630-e83c-4106-ac7e-f7676b9a9da9",
   "metadata": {},
   "outputs": [],
   "source": [
    "obj_class3 = class3()"
   ]
  },
  {
   "cell_type": "code",
   "execution_count": 31,
   "id": "05590bc5-a337-4364-af85-d4a0b45b2351",
   "metadata": {},
   "outputs": [
    {
     "data": {
      "text/plain": [
       "<bound method class2.test_class2 of <__main__.class3 object at 0x7ff1d5785600>>"
      ]
     },
     "execution_count": 31,
     "metadata": {},
     "output_type": "execute_result"
    }
   ],
   "source": [
    "obj_class3.test_class2"
   ]
  },
  {
   "cell_type": "code",
   "execution_count": 32,
   "id": "dded7b37-b9eb-42f3-ae8e-5459a918152a",
   "metadata": {},
   "outputs": [
    {
     "name": "stdout",
     "output_type": "stream",
     "text": [
      "this is my class1 \n"
     ]
    }
   ],
   "source": [
    "obj_class3.test_class1()"
   ]
  },
  {
   "cell_type": "code",
   "execution_count": 33,
   "id": "d1142ebd-a0c3-4c26-9d1d-936690cb0cbe",
   "metadata": {},
   "outputs": [
    {
     "name": "stdout",
     "output_type": "stream",
     "text": [
      "this is my class2 \n"
     ]
    }
   ],
   "source": [
    "obj_class3.test_class2()"
   ]
  },
  {
   "cell_type": "code",
   "execution_count": null,
   "id": "3ecd2d12-625c-43f6-a328-fc37a4a114cd",
   "metadata": {},
   "outputs": [],
   "source": []
  }
 ],
 "metadata": {
  "kernelspec": {
   "display_name": "Python 3 (ipykernel)",
   "language": "python",
   "name": "python3"
  },
  "language_info": {
   "codemirror_mode": {
    "name": "ipython",
    "version": 3
   },
   "file_extension": ".py",
   "mimetype": "text/x-python",
   "name": "python",
   "nbconvert_exporter": "python",
   "pygments_lexer": "ipython3",
   "version": "3.10.8"
  }
 },
 "nbformat": 4,
 "nbformat_minor": 5
}
