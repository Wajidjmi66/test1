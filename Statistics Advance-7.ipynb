{
 "cells": [
  {
   "cell_type": "markdown",
   "id": "f8cca7c1-01cf-4eb0-a197-9480b8d607b6",
   "metadata": {},
   "source": [
    "# Q1. Write a Python function that takes in two arrays of data and calculates the F-value for a variance ratio test. The function should return the F-value and the corresponding p-value for the test.\n",
    "# Answer :->"
   ]
  },
  {
   "cell_type": "code",
   "execution_count": 1,
   "id": "dcca2ba2-c9c8-4280-8a05-101e0adc733c",
   "metadata": {},
   "outputs": [
    {
     "name": "stdout",
     "output_type": "stream",
     "text": [
      "F-value: 3.6, p-value: 0.0943497728424377\n"
     ]
    }
   ],
   "source": [
    "import numpy as np\n",
    "from scipy.stats import f_oneway\n",
    "\n",
    "def variance_ratio_test(array1, array2):\n",
    "\n",
    "    # Calculate the variances of each array\n",
    "    var1 = np.var(array1, ddof=1)  # ddof=1 for sample variance\n",
    "    var2 = np.var(array2, ddof=1)\n",
    "\n",
    "    # Perform the F-test\n",
    "    f_value, p_value = f_oneway(array1, array2)\n",
    "\n",
    "    return f_value, p_value\n",
    "\n",
    "# Example usage:\n",
    "data1 = np.array([1, 2, 3, 4, 5])\n",
    "data2 = np.array([2, 4, 6, 8, 10])\n",
    "\n",
    "f_value, p_value = variance_ratio_test(data1, data2)\n",
    "print(f\"F-value: {f_value}, p-value: {p_value}\")\n"
   ]
  },
  {
   "cell_type": "markdown",
   "id": "9bf41c6a-e841-4cb8-ab2b-e2ec9572034e",
   "metadata": {},
   "source": [
    "# Q2. Given a significance level of 0.05 and the degrees of freedom for the numerator and denominator of an F-distribution, write a Python function that returns the critical F-value for a two-tailed test.\n",
    "# Answer :->"
   ]
  },
  {
   "cell_type": "code",
   "execution_count": 2,
   "id": "8c4a2227-b077-46e9-b8df-95e30458a088",
   "metadata": {},
   "outputs": [
    {
     "name": "stdout",
     "output_type": "stream",
     "text": [
      "Critical F-value: 3.8586986662732143\n"
     ]
    }
   ],
   "source": [
    "from scipy.stats import f\n",
    "\n",
    "def critical_f_value(alpha, df_num, df_denom):\n",
    "    \n",
    "    # Calculate the critical F-value\n",
    "    critical_f = f.ppf(1 - alpha / 2, df_num, df_denom)\n",
    "\n",
    "    return critical_f\n",
    "\n",
    "# Example usage:\n",
    "alpha = 0.05\n",
    "df_num = 3\n",
    "df_denom = 20\n",
    "\n",
    "critical_f = critical_f_value(alpha, df_num, df_denom)\n",
    "print(f\"Critical F-value: {critical_f}\")\n"
   ]
  },
  {
   "cell_type": "markdown",
   "id": "9b94b9e7-c735-4670-8809-fcf9a8904a87",
   "metadata": {},
   "source": [
    "# Q3. Write a Python program that generates random samples from two normal distributions with known variances and uses an F-test to determine if the variances are equal. The program should output the F- value, degrees of freedom, and p-value for the test.\n",
    "# Answer :->"
   ]
  },
  {
   "cell_type": "code",
   "execution_count": 3,
   "id": "bb29ecee-d3f7-423a-96a9-32778035f29d",
   "metadata": {},
   "outputs": [
    {
     "name": "stdout",
     "output_type": "stream",
     "text": [
      "F-value: 0.0004455561312537028\n",
      "Degrees of freedom (between): 1\n",
      "Degrees of freedom (within): 58\n",
      "P-value: 0.98323179395086\n"
     ]
    }
   ],
   "source": [
    "import numpy as np\n",
    "from scipy.stats import f_oneway\n",
    "\n",
    "def variance_equality_test(sample_size1, sample_size2, mean1, mean2, variance1, variance2):\n",
    "   \n",
    "\n",
    "    # Generate random samples\n",
    "    np.random.seed(42)  # Set seed for reproducibility\n",
    "    data1 = np.random.normal(mean1, np.sqrt(variance1), sample_size1)\n",
    "    data2 = np.random.normal(mean2, np.sqrt(variance2), sample_size2)\n",
    "\n",
    "    # Perform F-test\n",
    "    f_value, p_value = f_oneway(data1, data2)\n",
    "\n",
    "    # Degrees of freedom\n",
    "    df_between = 1\n",
    "    df_within = sample_size1 + sample_size2 - 2\n",
    "\n",
    "    return f_value, df_between, df_within, p_value\n",
    "\n",
    "# Example usage:\n",
    "sample_size1 = 30\n",
    "sample_size2 = 30\n",
    "mean1 = 0\n",
    "mean2 = 0\n",
    "variance1 = 4\n",
    "variance2 = 9\n",
    "\n",
    "f_value, df_between, df_within, p_value = variance_equality_test(sample_size1, sample_size2, mean1, mean2, variance1, variance2)\n",
    "\n",
    "print(f\"F-value: {f_value}\")\n",
    "print(f\"Degrees of freedom (between): {df_between}\")\n",
    "print(f\"Degrees of freedom (within): {df_within}\")\n",
    "print(f\"P-value: {p_value}\")\n"
   ]
  },
  {
   "cell_type": "markdown",
   "id": "f4d84288-6f20-4784-965e-b33b20f26253",
   "metadata": {},
   "source": [
    "# Q4.The variances of two populations are known to be 10 and 15. A sample of 12 observations is taken from each population. Conduct an F-test at the 5% significance level to determine if the variances are significantly different.\n",
    "# Answer :->"
   ]
  },
  {
   "cell_type": "code",
   "execution_count": 4,
   "id": "cebf11e4-e98f-4b44-ad75-674d6d3f22ba",
   "metadata": {},
   "outputs": [
    {
     "name": "stdout",
     "output_type": "stream",
     "text": [
      "F-value: nan\n",
      "P-value: nan\n",
      "Result: Fail to reject the null hypothesis\n"
     ]
    },
    {
     "name": "stderr",
     "output_type": "stream",
     "text": [
      "/opt/conda/lib/python3.10/site-packages/scipy/stats/_stats_py.py:3906: ConstantInputWarning: Each of the input arrays is constant;the F statistic is not defined or infinite\n",
      "  warnings.warn(stats.ConstantInputWarning(msg))\n"
     ]
    }
   ],
   "source": [
    "import numpy as np\n",
    "from scipy.stats import f_oneway\n",
    "\n",
    "def f_test_for_variances(variance1, variance2, sample_size1, sample_size2, significance_level):\n",
    "\n",
    "    # Perform F-test\n",
    "    f_value, p_value = f_oneway(np.zeros(sample_size1), np.zeros(sample_size2))\n",
    "\n",
    "    # Degrees of freedom\n",
    "    df_between = 1\n",
    "    df_within = sample_size1 + sample_size2 - 2\n",
    "\n",
    "    # Compare p-value with significance level\n",
    "    result = p_value < significance_level\n",
    "\n",
    "    return f_value, p_value, result\n",
    "\n",
    "# Given data\n",
    "variance1 = 10\n",
    "variance2 = 15\n",
    "sample_size1 = 12\n",
    "sample_size2 = 12\n",
    "significance_level = 0.05\n",
    "\n",
    "# Perform F-test\n",
    "f_value, p_value, result = f_test_for_variances(variance1, variance2, sample_size1, sample_size2, significance_level)\n",
    "\n",
    "# Output results\n",
    "print(f\"F-value: {f_value}\")\n",
    "print(f\"P-value: {p_value}\")\n",
    "print(f\"Result: {'Reject' if result else 'Fail to reject'} the null hypothesis\")\n"
   ]
  },
  {
   "cell_type": "markdown",
   "id": "3ff16dc2-c78d-466c-b595-46d660ce0ac4",
   "metadata": {},
   "source": [
    "# Q5. A manufacturer claims that the variance of the diameter of a certain product is 0.005. A sample of 25 products is taken, and the sample variance is found to be 0.006. Conduct an F-test at the 1% significance level to determine if the claim is justified.\n",
    "\n",
    "# Answer :->"
   ]
  },
  {
   "cell_type": "code",
   "execution_count": 5,
   "id": "79e690c0-914d-440a-9f8d-37ebe1bab3db",
   "metadata": {},
   "outputs": [
    {
     "name": "stdout",
     "output_type": "stream",
     "text": [
      "Fail to reject the null hypothesis. The claim that the population variance is 0.005 is justified.\n"
     ]
    }
   ],
   "source": [
    "import scipy.stats as stats\n",
    "\n",
    "# Given data\n",
    "population_variance_claimed = 0.005\n",
    "sample_size = 25\n",
    "sample_variance_observed = 0.006\n",
    "significance_level = 0.01\n",
    "\n",
    "# Degrees of freedom\n",
    "df_between = sample_size - 1\n",
    "df_within = 1  # Since we have only one sample for the second variance\n",
    "\n",
    "# F-statistic calculation\n",
    "f_statistic = sample_variance_observed / population_variance_claimed\n",
    "\n",
    "# Critical F-value from the F-distribution table\n",
    "critical_f_value = stats.f.ppf(1 - significance_level/2, df_between, df_within)\n",
    "\n",
    "# Compare the calculated F-statistic with the critical F-value\n",
    "if f_statistic > critical_f_value:\n",
    "    print(f\"Reject the null hypothesis. There is enough evidence to suggest that the population variance is not {population_variance_claimed}.\")\n",
    "else:\n",
    "    print(f\"Fail to reject the null hypothesis. The claim that the population variance is {population_variance_claimed} is justified.\")\n"
   ]
  },
  {
   "cell_type": "markdown",
   "id": "1e726e4c-e599-4fab-a3e8-2bf6601450d1",
   "metadata": {},
   "source": [
    "# Q6. Write a Python function that takes in the degrees of freedom for the numerator and denominator of an F-distribution and calculates the mean and variance of the distribution. The function should return the mean and variance as a tuple.\n",
    "\n",
    "# Answer :->"
   ]
  },
  {
   "cell_type": "code",
   "execution_count": 6,
   "id": "d2401609-d59e-4aaf-a3d8-ac2b689e09be",
   "metadata": {},
   "outputs": [
    {
     "name": "stdout",
     "output_type": "stream",
     "text": [
      "Mean: 1.25, Variance: 1.3541666666666667\n"
     ]
    }
   ],
   "source": [
    "def calculate_f_distribution_mean_variance(df_num, df_denom):\n",
    "    # Calculate mean\n",
    "    mean = df_denom / (df_denom - 2)\n",
    "\n",
    "    # Calculate variance\n",
    "    variance = (2 * (df_denom**2 * (df_num + df_denom - 2))) / (df_num * (df_denom - 2)**2 * (df_denom - 4))\n",
    "\n",
    "    return mean, variance\n",
    "\n",
    "# Example usage:\n",
    "df_num = 5\n",
    "df_denom = 10\n",
    "mean, variance = calculate_f_distribution_mean_variance(df_num, df_denom)\n",
    "print(f\"Mean: {mean}, Variance: {variance}\")\n"
   ]
  },
  {
   "cell_type": "markdown",
   "id": "654d79f6-2491-41c7-847d-bbd7e39503ff",
   "metadata": {},
   "source": [
    "# Q7. A random sample of 10 measurements is taken from a normal population with unknown variance. The sample variance is found to be 25. Another random sample of 15 measurements is taken from another normal population with unknown variance, and the sample variance is found to be 20. Conduct an F-test at the 10% significance level to determine if the variances are significantly different.\n",
    "\n",
    "# Answer :->"
   ]
  },
  {
   "cell_type": "code",
   "execution_count": 7,
   "id": "c095dd44-6fe9-40f5-a3d0-7cd6e2c24a5c",
   "metadata": {},
   "outputs": [
    {
     "name": "stdout",
     "output_type": "stream",
     "text": [
      "Fail to reject the null hypothesis. There is not enough evidence to suggest that the population variances are different.\n"
     ]
    }
   ],
   "source": [
    "import scipy.stats as stats\n",
    "\n",
    "# Given data\n",
    "sample_variance1 = 25\n",
    "sample_size1 = 10\n",
    "sample_variance2 = 20\n",
    "sample_size2 = 15\n",
    "significance_level = 0.10\n",
    "\n",
    "# F-statistic calculation\n",
    "f_statistic = sample_variance1 / sample_variance2\n",
    "\n",
    "# Degrees of freedom\n",
    "df1 = sample_size1 - 1\n",
    "df2 = sample_size2 - 1\n",
    "\n",
    "# Critical F-value from the F-distribution table\n",
    "critical_f_value = stats.f.ppf(1 - significance_level/2, df1, df2)\n",
    "\n",
    "# Compare the calculated F-statistic with the critical F-value\n",
    "if f_statistic > critical_f_value or 1/f_statistic > critical_f_value:\n",
    "    print(\"Reject the null hypothesis. The population variances are significantly different.\")\n",
    "else:\n",
    "    print(\"Fail to reject the null hypothesis. There is not enough evidence to suggest that the population variances are different.\")\n"
   ]
  },
  {
   "cell_type": "markdown",
   "id": "1e4b5c5d-badc-4745-8b96-0adfb3422fa8",
   "metadata": {},
   "source": [
    "# Q8. The following data represent the waiting times in minutes at two different restaurants on a Saturday night: Restaurant A: 24, 25, 28, 23, 22, 20, 27; Restaurant B: 31, 33, 35, 30, 32, 36. Conduct an F-test at the 5% significance level to determine if the variances are significantly different.\n",
    "\n",
    "# Answer :->"
   ]
  },
  {
   "cell_type": "code",
   "execution_count": 8,
   "id": "a2dd9b32-5719-4785-9559-4f37f4364951",
   "metadata": {},
   "outputs": [
    {
     "name": "stdout",
     "output_type": "stream",
     "text": [
      "Fail to reject the null hypothesis. There is not enough evidence to suggest that the population variances are different.\n"
     ]
    }
   ],
   "source": [
    "import numpy as np\n",
    "import scipy.stats as stats\n",
    "\n",
    "# Data\n",
    "data_a = np.array([24, 25, 28, 23, 22, 20, 27])\n",
    "data_b = np.array([31, 33, 35, 30, 32, 36])\n",
    "\n",
    "# Sample variances\n",
    "variance_a = np.var(data_a, ddof=1)\n",
    "variance_b = np.var(data_b, ddof=1)\n",
    "\n",
    "# F-statistic calculation\n",
    "f_statistic = variance_a / variance_b\n",
    "\n",
    "# Degrees of freedom\n",
    "df_a = len(data_a) - 1\n",
    "df_b = len(data_b) - 1\n",
    "\n",
    "# Critical F-value from the F-distribution table\n",
    "significance_level = 0.05\n",
    "critical_f_value = stats.f.ppf(1 - significance_level/2, df_a, df_b)\n",
    "\n",
    "# Compare the calculated F-statistic with the critical F-value\n",
    "if f_statistic > critical_f_value or 1/f_statistic > critical_f_value:\n",
    "    print(\"Reject the null hypothesis. The population variances are significantly different.\")\n",
    "else:\n",
    "    print(\"Fail to reject the null hypothesis. There is not enough evidence to suggest that the population variances are different.\")\n"
   ]
  },
  {
   "cell_type": "markdown",
   "id": "c6c7f31b-3499-4555-bf4b-4443ab346a3e",
   "metadata": {},
   "source": [
    "# Q9. The following data represent the test scores of two groups of students: Group A: 80, 85, 90, 92, 87, 83; Group B: 75, 78, 82, 79, 81, 84. Conduct an F-test at the 1% significance level to determine if the variances are significantly different.\n",
    "\n",
    "# Answer :->"
   ]
  },
  {
   "cell_type": "code",
   "execution_count": 9,
   "id": "aee383a8-ae78-4f2a-a0b9-9245d382dda1",
   "metadata": {},
   "outputs": [
    {
     "name": "stdout",
     "output_type": "stream",
     "text": [
      "Fail to reject the null hypothesis. There is not enough evidence to suggest that the population variances are different.\n"
     ]
    }
   ],
   "source": [
    "import numpy as np\n",
    "import scipy.stats as stats\n",
    "\n",
    "# Data\n",
    "data_a = np.array([80, 85, 90, 92, 87, 83])\n",
    "data_b = np.array([75, 78, 82, 79, 81, 84])\n",
    "\n",
    "# Sample variances\n",
    "variance_a = np.var(data_a, ddof=1)\n",
    "variance_b = np.var(data_b, ddof=1)\n",
    "\n",
    "# F-statistic calculation\n",
    "f_statistic = variance_a / variance_b\n",
    "\n",
    "# Degrees of freedom\n",
    "df_a = len(data_a) - 1\n",
    "df_b = len(data_b) - 1\n",
    "\n",
    "# Critical F-value from the F-distribution table\n",
    "significance_level = 0.01\n",
    "critical_f_value = stats.f.ppf(1 - significance_level/2, df_a, df_b)\n",
    "\n",
    "# Compare the calculated F-statistic with the critical F-value\n",
    "if f_statistic > critical_f_value or 1/f_statistic > critical_f_value:\n",
    "    print(\"Reject the null hypothesis. The population variances are significantly different.\")\n",
    "else:\n",
    "    print(\"Fail to reject the null hypothesis. There is not enough evidence to suggest that the population variances are different.\")\n"
   ]
  },
  {
   "cell_type": "markdown",
   "id": "654986d2-4919-4a01-a9eb-b3e8d434d5de",
   "metadata": {},
   "source": [
    "# -------------------------------      Thank You      ------------------------------------"
   ]
  },
  {
   "cell_type": "code",
   "execution_count": null,
   "id": "d0d544cd-fd73-44bf-85ab-806cbca87e02",
   "metadata": {},
   "outputs": [],
   "source": []
  }
 ],
 "metadata": {
  "kernelspec": {
   "display_name": "Python 3 (ipykernel)",
   "language": "python",
   "name": "python3"
  },
  "language_info": {
   "codemirror_mode": {
    "name": "ipython",
    "version": 3
   },
   "file_extension": ".py",
   "mimetype": "text/x-python",
   "name": "python",
   "nbconvert_exporter": "python",
   "pygments_lexer": "ipython3",
   "version": "3.10.8"
  }
 },
 "nbformat": 4,
 "nbformat_minor": 5
}
