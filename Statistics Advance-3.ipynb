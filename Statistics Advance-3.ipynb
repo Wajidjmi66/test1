{
 "cells": [
  {
   "cell_type": "markdown",
   "id": "be7768b6-92e6-466d-93b5-f550fda0b082",
   "metadata": {},
   "source": [
    "# Q1: What is Estimation Statistics? Explain point estimate and interval estimate.\n",
    "# Answer :->"
   ]
  },
  {
   "cell_type": "markdown",
   "id": "5c970130-d8bd-4c7a-855e-afac6ee56ec2",
   "metadata": {},
   "source": [
    "### Estimation statistics is a branch of statistics that deals with the process of estimating population parameters based on sample data. In other words, it involves making educated guesses or estimates about the characteristics of a population using information obtained from a subset of that population.\n",
    "\n",
    "### There are two main types of estimates in estimation statistics: point estimates and interval estimates.\n",
    "\n",
    "# Point Estimate:\n",
    "\n",
    "1. A point estimate is a single value that is used to estimate a population parameter. It is essentially a best guess or the most likely value for the parameter based on the available sample data.\n",
    "2. For example, if you want to estimate the average height of adults in a population, a point estimate might be the sample mean height. This single value is the best guess for the true average height of the entire population.\n",
    "\n",
    "# Interval Estimate:\n",
    "\n",
    "1. An interval estimate provides a range within which the true population parameter is likely to fall. It recognizes the inherent uncertainty in estimating a parameter from a sample and provides a range of values rather than a single point.\n",
    "2. Confidence intervals are a common form of interval estimate. A confidence interval consists of two values, an upper limit, and a lower limit, between which the true parameter is expected to lie with a certain level of confidence.\n",
    "3. For instance, if you calculate a 95% confidence interval for the average height of adults in a population, you might find that the interval is from, say, 65 inches to 70 inches. This suggests that you are 95% confident that the true average height falls within this range.\n",
    "\n",
    "#### In summary, estimation statistics involves providing a best guess (point estimate) and a range of plausible values (interval estimate) for population parameters based on sample data, acknowledging the uncertainty inherent in statistical inference."
   ]
  },
  {
   "cell_type": "markdown",
   "id": "899d5d91-5c25-4bec-a110-891b2bb59292",
   "metadata": {},
   "source": [
    "# Q2. Write a Python function to estimate the population mean using a sample mean and standard deviation.\n",
    "# Answer :->"
   ]
  },
  {
   "cell_type": "code",
   "execution_count": 1,
   "id": "deef97a9-c1c4-4680-bce2-c3bc973f0522",
   "metadata": {},
   "outputs": [
    {
     "name": "stdout",
     "output_type": "stream",
     "text": [
      "Estimated Population Mean (95% Confidence Interval): (58.210805856282846, 61.789194143717154)\n"
     ]
    }
   ],
   "source": [
    "import scipy.stats as stats\n",
    "import math\n",
    "\n",
    "def estimate_population_mean(sample_mean, sample_std, sample_size, confidence_level=0.95):\n",
    "  \n",
    "    # Calculate the standard error of the mean\n",
    "    standard_error = sample_std / math.sqrt(sample_size)\n",
    "    \n",
    "    # Calculate the margin of error using the Z score\n",
    "    z_score = stats.norm.ppf((1 + confidence_level) / 2)\n",
    "    margin_of_error = z_score * standard_error\n",
    "    \n",
    "    # Calculate the lower and upper bounds of the confidence interval\n",
    "    lower_bound = sample_mean - margin_of_error\n",
    "    upper_bound = sample_mean + margin_of_error\n",
    "    \n",
    "    return lower_bound, upper_bound\n",
    "\n",
    "# Example usage:\n",
    "sample_mean = 60  # replace with your sample mean\n",
    "sample_std = 5    # replace with your sample standard deviation\n",
    "sample_size = 30  # replace with your sample size\n",
    "\n",
    "confidence_interval = estimate_population_mean(sample_mean, sample_std, sample_size)\n",
    "print(f\"Estimated Population Mean (95% Confidence Interval): {confidence_interval}\")\n"
   ]
  },
  {
   "cell_type": "markdown",
   "id": "96a9e0d6-c295-4d22-8852-398d41d85eba",
   "metadata": {},
   "source": [
    "# Q3: What is Hypothesis testing? Why is it used? State the importance of Hypothesis testing.\n",
    "# Answer :->"
   ]
  },
  {
   "cell_type": "markdown",
   "id": "68be8e11-034b-4e74-b16d-4a42f59d92ed",
   "metadata": {},
   "source": [
    "### Hypothesis testing is a statistical method used to make inferences about a population based on a sample of data taken from that population. The process involves formulating a hypothesis about the population parameter, collecting and analyzing data, and making decisions about whether to accept or reject the hypothesis.\n",
    "\n",
    "### The key components of hypothesis testing are as follows:\n",
    "\n",
    "# Null Hypothesis(H0):\n",
    "1. The null hypothesis is a statement that there is no significant difference, effect, or relationship in the population.\n",
    "2. It often includes statements like \"equal to,\" \"no difference,\" or \"no effect.\"\n",
    "\n",
    "# Alternative Hypothesis (H1 or Ha ) :\n",
    "1. The alternative hypothesis is a statement that contradicts the null hypothesis. It suggests that there is a significant difference, effect, or relationship in the population.\n",
    "2. It may include statements like \"not equal to,\" \"greater than,\" or \"less than.\"\n",
    "\n",
    "# Significance Level (α):\n",
    "1. The significance level is the probability of rejecting the null hypothesis when it is actually true. Commonly used values are 0.05, 0.01, or 0.10.\n",
    "\n",
    "# Test Statistic and P-value:\n",
    "1. The test statistic is a numerical value calculated from the sample data, which is used to assess the evidence against the null hypothesis.\n",
    "2. The p-value is the probability of obtaining a test statistic as extreme as, or more extreme than, the one observed, assuming the null hypothesis is true.\n",
    "\n",
    "# Decision Rule:\n",
    "1. Based on the p-value and the significance level, a decision rule is established to either reject the null hypothesis or fail to reject it.\n",
    "\n",
    "# Conclusion:\n",
    "1. The final step involves making a decision and drawing conclusions about the population based on the evidence from the sample.\n",
    "\n",
    "# Importance of Hypothesis Testing:\n",
    "\n",
    "# Scientific Rigor:\n",
    "1. Hypothesis testing provides a structured and rigorous approach to scientific inquiry. It allows researchers to systematically evaluate hypotheses and draw conclusions based on evidence.\n",
    "\n",
    "# Informed Decision Making:\n",
    "1. Hypothesis testing helps in making informed decisions in various fields, such as medicine, economics, psychology, and more. Decisions can be based on statistical evidence rather than intuition.\n",
    "\n",
    "# Generalizability:\n",
    "1. By drawing conclusions about a population based on a sample, hypothesis testing allows for generalizing findings to a larger group. This is crucial when it is impractical or impossible to study an entire population.\n",
    "\n",
    "# Quality Control:\n",
    "1. In manufacturing and quality control, hypothesis testing is used to ensure product quality and to make decisions about process improvements.\n",
    "\n",
    "# Statistical Inference:\n",
    "1. Hypothesis testing is a fundamental tool for statistical inference, helping researchers and analysts draw conclusions about parameters and relationships in populations.\n",
    "#### In summary, hypothesis testing is a powerful tool in statistics that allows for the systematic evaluation of hypotheses, making evidence-based decisions and drawing conclusions about populations based on sample data."
   ]
  },
  {
   "cell_type": "markdown",
   "id": "a72db520-16b7-4202-8680-c2ef75429d9f",
   "metadata": {},
   "source": [
    "# Q4. Create a hypothesis that states whether the average weight of male college students is greater than the average weight of female college students.\n",
    "# Answer :->"
   ]
  },
  {
   "cell_type": "markdown",
   "id": "bb4fdee7-b537-42a1-aa49-3e0bdb9c7918",
   "metadata": {},
   "source": [
    "# Null Hypothesis(H0): \n",
    "1. The average weight of male college students is equal to or less than the average weight of female college students.\n",
    "\n",
    "# H0 : μ male < μ female\n",
    "\n",
    "# Alternative Hypothesis (H1 or Ha ):\n",
    "1. The average weight of male college students is greater than the average weight of female college students.\n",
    "\n",
    "# H1 : μ male > μ female\n",
    "\n",
    "### In words, the null hypothesis assumes that there is no significant difference or that male students, on average, weigh the same as or less than female students. The alternative hypothesis suggests that, contrary to the null hypothesis, the average weight of male college students is greater than the average weight of female college students.\n",
    "### This sets the stage for a one-sided hypothesis test to determine if there is enough evidence to reject the null hypothesis in favor of the alternative hypothesis.\n",
    "###  So the average weight of male student is greater than average weight of female student."
   ]
  },
  {
   "cell_type": "markdown",
   "id": "bda5d677-a70c-484a-8546-9df899f70538",
   "metadata": {},
   "source": [
    "# Q5. Write a Python script to conduct a hypothesis test on the difference between two population means, given a sample from each population.\n",
    "# Answer :->"
   ]
  },
  {
   "cell_type": "code",
   "execution_count": 2,
   "id": "9654d904-720a-4a25-8771-1d8f55f8a7dc",
   "metadata": {},
   "outputs": [
    {
     "name": "stdout",
     "output_type": "stream",
     "text": [
      "t-statistic: 5.151671614415591\n",
      "P-value: 0.00016845130524848918\n",
      "Reject the null hypothesis. There is significant evidence of a difference in means.\n"
     ]
    }
   ],
   "source": [
    "import numpy as np\n",
    "from scipy import stats\n",
    "\n",
    "def two_sample_t_test(sample1, sample2, alpha=0.05):\n",
    "\n",
    "    t_statistic, p_value = stats.ttest_ind(sample1, sample2, equal_var=False)  # Assuming unequal variances\n",
    "    return t_statistic, p_value\n",
    "\n",
    "# Example usage:\n",
    "# Replace the following with your actual sample data\n",
    "sample1 = np.array([68, 72, 63, 71, 65, 69, 75, 80, 74, 67])\n",
    "sample2 = np.array([58, 62, 59, 64, 61, 57, 63, 60, 65, 62])\n",
    "\n",
    "# Set the significance level (alpha)\n",
    "alpha = 0.05\n",
    "\n",
    "# Perform the two-sample t-test\n",
    "t_statistic, p_value = two_sample_t_test(sample1, sample2, alpha)\n",
    "\n",
    "# Print the results\n",
    "print(f\"t-statistic: {t_statistic}\")\n",
    "print(f\"P-value: {p_value}\")\n",
    "\n",
    "# Compare p-value to alpha to make a decision\n",
    "if p_value < alpha:\n",
    "    print(\"Reject the null hypothesis. There is significant evidence of a difference in means.\")\n",
    "else:\n",
    "    print(\"Fail to reject the null hypothesis. There is not enough evidence to suggest a difference in means.\")\n"
   ]
  },
  {
   "cell_type": "markdown",
   "id": "6e19b873-ac8c-45a7-bf85-1fb1e9766cfa",
   "metadata": {},
   "source": [
    "# Q6: What is a null and alternative hypothesis? Give some examples.\n",
    "# Answer :->"
   ]
  },
  {
   "cell_type": "markdown",
   "id": "615bcd3f-4e65-4447-893b-c895c5881664",
   "metadata": {},
   "source": [
    "# Null Hypothesis (H0):\n",
    "### The null hypothesis is a statement of no effect, no difference, or no change. It is a hypothesis that is initially assumed to be true and serves as a basis for statistical testing. In the context of hypothesis testing, the null hypothesis often includes statements of equality or absence of an effect.\n",
    "\n",
    "#### Examples:\n",
    "\n",
    "# Population Mean:\n",
    "1. H0: The average height of a certain population is 65 inches.\n",
    "2. This null hypothesis assumes that there is no significant difference in the average height, and any observed variations are due to random sampling or chance.\n",
    "\n",
    "# Treatment Effect:\n",
    "1. H0: The new drug has no effect on blood pressure.\n",
    "2. Here, the null hypothesis posits that the drug does not produce any significant change in blood pressure compared to a control group.\n",
    "\n",
    "# Equality of Proportions:\n",
    "1. H0: The proportion of males and females enrolled in a course is equal.\n",
    "2. This null hypothesis assumes that there is no gender bias in enrollment, and any observed differences are due to random variation.\n",
    "\n",
    "\n",
    "# Alternative Hypothesis (H1 or Ha):\n",
    "### The alternative hypothesis is a statement that contradicts the null hypothesis. It represents the researcher's hypothesis or the effect they are trying to find evidence for in their study.\n",
    "\n",
    "# Examples (corresponding to the examples above):\n",
    "\n",
    "# Population Mean:\n",
    "1. H1: The average height of a certain population is greater than 65 inches.\n",
    "2. The alternative hypothesis suggests that the average height is actually greater than the value stated in the null hypothesis.\n",
    "\n",
    "# Treatment Effect:\n",
    "1. H1: The new drug has a significant effect on reducing blood pressure.\n",
    "2. The alternative hypothesis posits that the drug does have a measurable impact on blood pressure compared to a control group.\n",
    "\n",
    "# Equality of Proportions:\n",
    "1. H1: The proportion of males and females enrolled in a course is not equal.\n",
    "2. The alternative hypothesis suggests that there is a significant difference in the gender distribution, indicating potential gender bias in enrollment.\n",
    "\n",
    "#### In hypothesis testing, the goal is to gather evidence from a sample to decide whether to reject the null hypothesis in favor of the alternative hypothesis. The choice between the null and alternative hypotheses depends on the researcher's goals and the nature of the study."
   ]
  },
  {
   "cell_type": "markdown",
   "id": "c8ef259c-df6d-4a3e-b7e8-a7bea7866eb6",
   "metadata": {},
   "source": [
    "# Q7: Write down the steps involved in hypothesis testing.\n",
    "# Answer :->"
   ]
  },
  {
   "cell_type": "markdown",
   "id": "5e3d747e-0790-4971-a9d0-c81cbdf274b2",
   "metadata": {
    "tags": []
   },
   "source": [
    "### Hypothesis testing involves a series of steps to systematically evaluate a hypothesis about a population parameter based on sample data. Here are the general steps involved in hypothesis testing:\n",
    "\n",
    "# Formulate the Hypotheses:\n",
    "1. Null Hypothesis (H0): State a hypothesis that reflects a statement of no effect, no difference, or no change.\n",
    "2. Alternative Hypothesis (H1 or Ha): State a hypothesis that represents the researcher's goal, typically involving a difference, effect, or change.\n",
    "\n",
    "# Set the Significance Level (α):\n",
    "1. Choose a significance level (α), commonly set at 0.05, 0.01, or 0.10. This represents the probability of rejecting the null hypothesis when it is actually true.\n",
    "\n",
    "# Collect and Analyze Data:\n",
    "1. Collect a sample of data relevant to the hypothesis being tested.\n",
    "2. Analyze the sample data to obtain relevant summary statistics (mean, standard deviation, etc.).\n",
    "\n",
    "# Choose a Statistical Test:\n",
    "1. Select an appropriate statistical test based on the type of data and the hypotheses being tested. Common tests include t-tests, chi-square tests, ANOVA, etc.\n",
    "\n",
    "# Compute the Test Statistic:\n",
    "1. Calculate the test statistic using the sample data and the chosen statistical test. The test statistic quantifies how far the sample result is from what is expected under the null hypothesis.\n",
    "\n",
    "# Determine the P-value:\n",
    "1. Calculate the p-value associated with the test statistic. The p-value represents the probability of obtaining a result as extreme as, or more extreme than, the observed result if the null hypothesis is true.\n",
    "\n",
    "# Make a Decision:\n",
    "\n",
    "1. Compare the p-value to the significance level (α).\n",
    "2. If ≤ p≤α, reject the null hypothesis.\n",
    "3. If >p>α, fail to reject the null hypothesis.\n",
    "\n",
    "# Draw a Conclusion:\n",
    "1. Based on the decision in step 7, draw a conclusion about the null hypothesis.\n",
    "2. If the null hypothesis is rejected, interpret the results in the context of the study.\n",
    "\n",
    "# Consider Practical Significance:\n",
    "1. Even if a result is statistically significant, consider whether the observed effect is practically significant or meaningful in the real-world context.\n",
    "\n",
    "# Report the Results:\n",
    "1. Communicate the findings, including the test statistic, p-value, and the decision regarding the null hypothesis.\n",
    "2. Clearly state the implications of the results and discuss their relevance.\n",
    "\n",
    "### These steps provide a systematic framework for conducting hypothesis testing and making informed decisions based on statistical evidence. It's essential to carefully follow these steps to ensure the validity and reliability of the statistical analysis.\n"
   ]
  },
  {
   "cell_type": "markdown",
   "id": "5e496198-8a02-4c04-821f-a0d34da90542",
   "metadata": {},
   "source": [
    "# Q8. Define p-value and explain its significance in hypothesis testing.\n",
    "# Answer :->"
   ]
  },
  {
   "cell_type": "markdown",
   "id": "16b4ae49-7a57-463c-9153-583ad6f30ede",
   "metadata": {},
   "source": [
    "### The p-value is a measure that helps researchers assess the evidence against a null hypothesis in hypothesis testing. It quantifies the probability of obtaining a result as extreme as, or more extreme than, the observed result under the assumption that the null hypothesis is true.\n",
    "\n",
    "#### In other words, the p-value provides information about the likelihood of observing the data if the null hypothesis is correct. The smaller the p-value, the stronger the evidence against the null hypothesis. Researchers compare the p-value to a predetermined significance level (α) to make decisions in hypothesis testing.\n",
    "\n",
    "### Here's a breakdown of the significance of p-values in hypothesis testing:\n",
    "\n",
    "# Small p-value (≤p≤α):\n",
    "1. If the calculated p-value is less than or equal to the chosen significance level (α), typically 0.05, it suggests that the observed result is unlikely to have occurred by random chance alone.\n",
    "2. This leads to the rejection of the null hypothesis.\n",
    "3. The smaller the p-value, the stronger the evidence against the null hypothesis.\n",
    "\n",
    "# Large p-value (>p>α):\n",
    "1. If the p-value is greater than the significance level, it implies that the observed result is reasonably likely to occur under the assumption that the null hypothesis is true.\n",
    "2. This leads to a failure to reject the null hypothesis.\n",
    "3. A large p-value does not provide enough evidence to reject the null hypothesis.\n",
    "\n",
    "# Interpretation:\n",
    "1. The p-value does not directly give the probability that the null hypothesis is true or false. It only provides information about the evidence against the null hypothesis given the observed data.\n",
    "2. A p-value is not an absolute measure of the size or importance of an effect; it only indicates the strength of evidence against the null hypothesis.\n",
    "\n",
    "# Significance Level (α):\n",
    "1. Researchers choose a significance level (α) based on their desired level of confidence in rejecting the null hypothesis.\n",
    "2. Common choices for α are 0.05, 0.01, or 0.10.\n",
    "\n",
    "# Decision Rule:\n",
    "1. Based on the comparison between the p-value and α, researchers decide whether to reject the null hypothesis or fail to reject it.\n",
    "\n",
    "### In summary, the p-value is a crucial component in hypothesis testing, providing a quantitative measure of the evidence against the null hypothesis. It aids researchers in making informed decisions about the statistical significance of their results and whether there is enough evidence to support the alternative hypothesis.\n"
   ]
  },
  {
   "cell_type": "markdown",
   "id": "268559ed-d0bd-4500-831f-69c0c25d9db1",
   "metadata": {},
   "source": [
    "# Q9. Generate a Student's t-distribution plot using Python's matplotlib library, with the degrees of freedom parameter set to 10.\n",
    "# Answer :->"
   ]
  },
  {
   "cell_type": "code",
   "execution_count": 4,
   "id": "66779ba9-7cba-40a0-9dc3-22c5aeda2917",
   "metadata": {},
   "outputs": [
    {
     "data": {
      "image/png": "[encoded data removed]",
      "text/plain": [
       "<Figure size 640x480 with 1 Axes>"
      ]
     },
     "metadata": {},
     "output_type": "display_data"
    }
   ],
   "source": [
    "import numpy as np\n",
    "import matplotlib.pyplot as plt\n",
    "from scipy.stats import t\n",
    "\n",
    "# Set the degrees of freedom\n",
    "degrees_of_freedom = 10\n",
    "\n",
    "# Generate data points for the x-axis\n",
    "x = np.linspace(-4, 4, 1000)\n",
    "\n",
    "# Calculate the probability density function (pdf) values for the t-distribution\n",
    "pdf_values = t.pdf(x, df=degrees_of_freedom)\n",
    "\n",
    "# Plot the t-distribution\n",
    "plt.plot(x, pdf_values, label=f'Student\\'s t-distribution\\n(degrees of freedom = {degrees_of_freedom})')\n",
    "plt.title('Student\\'s t-distribution')\n",
    "plt.xlabel('x')\n",
    "plt.ylabel('Probability Density Function (PDF)')\n",
    "plt.legend()\n",
    "plt.grid(True)\n",
    "plt.show()\n"
   ]
  },
  {
   "cell_type": "markdown",
   "id": "76731f5f-f5bb-48c3-b377-87ee361dddde",
   "metadata": {},
   "source": [
    "# Q10. Write a Python program to calculate the two-sample t-test for independent samples, given two random samples of equal size and a null hypothesis that the population means are equal.\n",
    "# Answer :->"
   ]
  },
  {
   "cell_type": "code",
   "execution_count": 5,
   "id": "4018e967-e463-4c26-bb58-ba68ca3fe61e",
   "metadata": {},
   "outputs": [
    {
     "name": "stdout",
     "output_type": "stream",
     "text": [
      "t-statistic: -1.3407161107415915\n",
      "P-value: 0.18524030686370174\n",
      "Fail to reject the null hypothesis. There is not enough evidence to suggest a difference in population means.\n"
     ]
    }
   ],
   "source": [
    "import numpy as np\n",
    "from scipy import stats\n",
    "\n",
    "def two_sample_t_test(sample1, sample2, alpha=0.05):\n",
    "    \n",
    "    # Assuming equal variances\n",
    "    t_statistic, p_value = stats.ttest_ind(sample1, sample2)\n",
    "    return t_statistic, p_value\n",
    "\n",
    "# Generate two random samples with equal size\n",
    "np.random.seed(42)  # for reproducibility\n",
    "sample_size = 30\n",
    "sample1 = np.random.normal(loc=5, scale=2, size=sample_size)\n",
    "sample2 = np.random.normal(loc=5.5, scale=2, size=sample_size)\n",
    "\n",
    "# Set the significance level (alpha)\n",
    "alpha = 0.05\n",
    "\n",
    "# Perform the two-sample t-test\n",
    "t_statistic, p_value = two_sample_t_test(sample1, sample2, alpha)\n",
    "\n",
    "# Print the results\n",
    "print(f\"t-statistic: {t_statistic}\")\n",
    "print(f\"P-value: {p_value}\")\n",
    "\n",
    "# Compare p-value to alpha to make a decision\n",
    "if p_value < alpha:\n",
    "    print(\"Reject the null hypothesis. There is significant evidence that population means are different.\")\n",
    "else:\n",
    "    print(\"Fail to reject the null hypothesis. There is not enough evidence to suggest a difference in population means.\")\n"
   ]
  },
  {
   "cell_type": "markdown",
   "id": "0dbd4e47-c39d-4a87-89bd-f56cf1c8eda7",
   "metadata": {},
   "source": [
    "# Q11: What is Student’s t distribution? When to use the t-Distribution.\n",
    "# Answer :->"
   ]
  },
  {
   "cell_type": "markdown",
   "id": "b92fe4b1-b9d3-4431-948a-4ac90e880c0c",
   "metadata": {},
   "source": [
    "### Student's t-distribution, often referred to as the t-distribution, is a probability distribution that arises in statistical hypothesis testing when the population standard deviation is unknown and is estimated from the sample. It is a continuous probability distribution and is similar in shape to the normal distribution but has heavier tails. The t-distribution is characterized by a single parameter: degrees of freedom (df).\n",
    "\n",
    "# When to use the t-Distribution:\n",
    "\n",
    "### The t-distribution is used in various statistical scenarios, particularly when dealing with small sample sizes and when the population standard deviation is unknown. Here are common situations where the t-distribution is applicable:\n",
    "\n",
    "# Small Sample Sizes:\n",
    "1. When dealing with small sample sizes (typically less than 30), the t-distribution is often used to account for the increased uncertainty in estimating the population parameters.\n",
    "\n",
    "# Estimating Population Mean:\n",
    "1. The t-distribution is commonly employed when conducting hypothesis tests or constructing confidence intervals for the population mean (μ) based on a sample mean (x bar).\n",
    "\n",
    "# Unknown Population Standard Deviation:\n",
    "1. If the population standard deviation (σ) is unknown and estimated from the sample standard deviation (s), the t-distribution is used in inference procedures.\n",
    "\n",
    "# Comparing Means:\n",
    "1. In situations where the means of two independent samples are being compared, especially when the sample sizes are small and population standard deviations are unknown, a two-sample t-test using the t-distribution is appropriate.\n",
    "\n",
    "# Regression Analysis:\n",
    "1. In linear regression analysis, t-tests on regression coefficients may use the t-distribution when assumptions about the population are not met or when sample sizes are small.\n",
    "\n",
    "# Quality Control and Manufacturing:\n",
    "1. In quality control, the t-distribution is often used for statistical process control and to make inferences about population parameters based on limited samples from manufacturing processes.\n",
    "\n",
    "### In summary, the t-distribution is a valuable tool in statistics, especially in situations involving small sample sizes and uncertainty about population parameters. It provides a more realistic representation of the variability in estimates when standard deviation is estimated from the sample."
   ]
  },
  {
   "cell_type": "markdown",
   "id": "0a25c79e-1ad0-475a-91a4-a3071766f6db",
   "metadata": {},
   "source": [
    "# Q12: What is t-statistic? State the formula for t-statistic.\n",
    "# Answer :->"
   ]
  },
  {
   "cell_type": "markdown",
   "id": "6c826555-5384-4ec7-9e0a-8aade2e6417e",
   "metadata": {},
   "source": [
    "### The t-statistic is a measure that quantifies the difference between the sample mean and the population mean in terms of the standard error of the mean. It is often used in hypothesis testing to assess whether the observed differences between sample and population means are statistically significant.\n",
    "\n",
    "### The formula for the t-statistic depends on the context, but a common formula for a one-sample t-test is given by:\n",
    "\n",
    "# t = x(bar)-μ/(8/sqrt(n))\n",
    "\n",
    "### Where:\n",
    "\n",
    "1. t is the t-statistic.\n",
    "2. x(bar) is the sample mean.\n",
    "3. μ is the population mean under the null hypothesis.\n",
    "4. s is the sample standard deviation.\n",
    "5. n is the sample size.\n",
    "\n",
    "### The t-statistic is essentially a standardized measure of how far the sample mean is from the population mean, taking into account the variability within the sample. It is used to determine whether the observed difference is likely due to random sampling variation or if it represents a statistically significant difference.\n",
    "\n",
    "### In the context of a two-sample t-test for independent samples, the formula for the t-statistic is slightly different:\n",
    "\n",
    "# t = (x1(bar) - x2(bar))/sqrt((s1*s1)/n1 + (s2*s2)/n2)\n",
    "\n",
    "#### Where:\n",
    "\n",
    "1. x1(bar) and x2(bar)are the sample means of two independent samples.\n",
    "2. s1and s2 are the sample standard deviations of the two samples.\n",
    "3. n1 and n2 are the sample sizes of the two samples.\n",
    "\n",
    "### In both cases, the t-statistic is compared to a critical value or used to calculate a p-value to make a decision about whether to reject the null hypothesis in a hypothesis testing scenario.\n"
   ]
  },
  {
   "cell_type": "markdown",
   "id": "0b7b1d96-bd9d-4227-ba45-534576bf8c2a",
   "metadata": {},
   "source": [
    "# Q13. A coffee shop owner wants to estimate the average daily revenue for their shop. They take a random sample of 50 days and find the sample mean revenue to be $500 with a standard deviation of $50. Estimate the population mean revenue with a 95% confidence interval.\n",
    "\n",
    "# Answer :->"
   ]
  },
  {
   "cell_type": "code",
   "execution_count": 2,
   "id": "413aa59d-a9e1-471a-acea-9cd73aa03f98",
   "metadata": {},
   "outputs": [
    {
     "name": "stdout",
     "output_type": "stream",
     "text": [
      "95% Confidence Interval: ($486.14, $513.86)\n"
     ]
    }
   ],
   "source": [
    "import math\n",
    "\n",
    "# Given values\n",
    "sample_mean = 500\n",
    "standard_deviation = 50\n",
    "sample_size = 50\n",
    "confidence_level = 0.95\n",
    "\n",
    "# Z-score for a 95% confidence interval\n",
    "z_score = 1.96\n",
    "\n",
    "# Calculate the margin of error\n",
    "margin_of_error = z_score * (standard_deviation / math.sqrt(sample_size))\n",
    "\n",
    "# Calculate the confidence interval\n",
    "confidence_interval_lower = sample_mean - margin_of_error\n",
    "confidence_interval_upper = sample_mean + margin_of_error\n",
    "\n",
    "# Print the results\n",
    "print(f\"95% Confidence Interval: (${confidence_interval_lower:.2f}, ${confidence_interval_upper:.2f})\")\n"
   ]
  },
  {
   "cell_type": "markdown",
   "id": "6761b74a-5290-4b70-bde7-2410f7919196",
   "metadata": {},
   "source": [
    "# Q14. A researcher hypothesizes that a new drug will decrease blood pressure by 10 mmHg. They conduct aclinical trial with 100 patients and find that the sample mean decrease in blood pressure is 8 mmHg with a standard deviation of 3 mmHg. Test the hypothesis with a significance level of 0.05.\n",
    "\n",
    "# Answer :->"
   ]
  },
  {
   "cell_type": "code",
   "execution_count": 1,
   "id": "db4bb82f-4c0f-45e5-afad-4cd0b331103a",
   "metadata": {},
   "outputs": [
    {
     "name": "stdout",
     "output_type": "stream",
     "text": [
      "t-statistic: -6.666666666666667\n",
      "P-value: 1.5012289189542116e-09\n",
      "Reject the null hypothesis. There is significant evidence that the drug has an effect on blood pressure.\n"
     ]
    }
   ],
   "source": [
    "import scipy.stats as stats\n",
    "import math\n",
    "\n",
    "# Given values\n",
    "sample_mean = 8\n",
    "population_mean_hypothesis = 10\n",
    "sample_standard_deviation = 3\n",
    "sample_size = 100\n",
    "significance_level = 0.05\n",
    "\n",
    "# Calculate the t-statistic\n",
    "t_statistic = (sample_mean - population_mean_hypothesis) / (sample_standard_deviation / math.sqrt(sample_size))\n",
    "\n",
    "# Degrees of freedom for a one-sample t-test\n",
    "degrees_of_freedom = sample_size - 1\n",
    "\n",
    "# Calculate the p-value\n",
    "p_value = 2 * (1 - stats.t.cdf(abs(t_statistic), df=degrees_of_freedom))\n",
    "\n",
    "# Print the results\n",
    "print(f\"t-statistic: {t_statistic}\")\n",
    "print(f\"P-value: {p_value}\")\n",
    "\n",
    "# Compare p-value to alpha to make a decision\n",
    "if p_value < significance_level:\n",
    "    print(\"Reject the null hypothesis. There is significant evidence that the drug has an effect on blood pressure.\")\n",
    "else:\n",
    "    print(\"Fail to reject the null hypothesis. There is not enough evidence to suggest an effect on blood pressure.\")\n"
   ]
  },
  {
   "cell_type": "markdown",
   "id": "bc12de97-05a8-43ac-bc42-7c08ec79351a",
   "metadata": {},
   "source": [
    "# Q15. An electronics company produces a certain type of product with a mean weight of 5 pounds and a standard deviation of 0.5 pounds. A random sample of 25 products is taken, and the sample mean weight is found to be 4.8 pounds. Test the hypothesis that the true mean weight of the products is less than 5 pounds with a significance level of 0.01.\n",
    "# Answer :->"
   ]
  },
  {
   "cell_type": "code",
   "execution_count": 2,
   "id": "e39ff5f9-47c0-4e16-b4c7-5efabac05d83",
   "metadata": {},
   "outputs": [
    {
     "name": "stdout",
     "output_type": "stream",
     "text": [
      "t-statistic: -2.0000000000000018\n",
      "P-value: 0.02846992496829572\n",
      "Fail to reject the null hypothesis. There is not enough evidence to suggest the mean weight is less than 5 pounds.\n"
     ]
    }
   ],
   "source": [
    "import scipy.stats as stats\n",
    "import math\n",
    "\n",
    "# Given values\n",
    "sample_mean = 4.8\n",
    "population_mean_hypothesis = 5\n",
    "sample_standard_deviation = 0.5\n",
    "sample_size = 25\n",
    "significance_level = 0.01\n",
    "\n",
    "# Calculate the t-statistic\n",
    "t_statistic = (sample_mean - population_mean_hypothesis) / (sample_standard_deviation / math.sqrt(sample_size))\n",
    "\n",
    "# Degrees of freedom for a one-sample t-test\n",
    "degrees_of_freedom = sample_size - 1\n",
    "\n",
    "# Calculate the p-value for a one-tailed test\n",
    "p_value = stats.t.cdf(t_statistic, df=degrees_of_freedom)\n",
    "\n",
    "# Print the results\n",
    "print(f\"t-statistic: {t_statistic}\")\n",
    "print(f\"P-value: {p_value}\")\n",
    "\n",
    "# Compare p-value to alpha to make a decision\n",
    "if p_value < significance_level:\n",
    "    print(\"Reject the null hypothesis. There is significant evidence that the mean weight is less than 5 pounds.\")\n",
    "else:\n",
    "    print(\"Fail to reject the null hypothesis. There is not enough evidence to suggest the mean weight is less than 5 pounds.\")\n"
   ]
  },
  {
   "cell_type": "markdown",
   "id": "6e6421ae-aa74-4e3c-a86c-474c930bfe69",
   "metadata": {},
   "source": [
    "# Q16. Two groups of students are given different study materials to prepare for a test. The first group (n1 = 30) has a mean score of 80 with a standard deviation of 10, and the second group (n2 = 40) has a mean score of 75 with a standard deviation of 8. Test the hypothesis that the population means for the two groups are equal with a significance level of 0.01.\n",
    "# Answer :->"
   ]
  },
  {
   "cell_type": "code",
   "execution_count": 3,
   "id": "4fe21051-a002-4b54-beb7-416becdcd42a",
   "metadata": {},
   "outputs": [
    {
     "name": "stdout",
     "output_type": "stream",
     "text": [
      "t-statistic: 2.2511258444537408\n",
      "P-value: 0.027613480367697507\n",
      "Fail to reject the null hypothesis. There is not enough evidence to suggest a difference in population means.\n"
     ]
    }
   ],
   "source": [
    "import scipy.stats as stats\n",
    "import math\n",
    "\n",
    "# Given values for Group 1\n",
    "sample_mean_1 = 80\n",
    "sample_standard_deviation_1 = 10\n",
    "sample_size_1 = 30\n",
    "\n",
    "# Given values for Group 2\n",
    "sample_mean_2 = 75\n",
    "sample_standard_deviation_2 = 8\n",
    "sample_size_2 = 40\n",
    "\n",
    "# Significance level\n",
    "significance_level = 0.01\n",
    "\n",
    "# Calculate the two-sample t-statistic\n",
    "t_statistic = (sample_mean_1 - sample_mean_2) / math.sqrt((sample_standard_deviation_1**2 / sample_size_1) + (sample_standard_deviation_2**2 / sample_size_2))\n",
    "\n",
    "# Degrees of freedom for a two-sample t-test\n",
    "degrees_of_freedom = sample_size_1 + sample_size_2 - 2\n",
    "\n",
    "# Calculate the two-tailed p-value\n",
    "p_value = 2 * (1 - stats.t.cdf(abs(t_statistic), df=degrees_of_freedom))\n",
    "\n",
    "# Print the results\n",
    "print(f\"t-statistic: {t_statistic}\")\n",
    "print(f\"P-value: {p_value}\")\n",
    "\n",
    "# Compare p-value to alpha to make a decision\n",
    "if p_value < significance_level:\n",
    "    print(\"Reject the null hypothesis. There is significant evidence that the population means are not equal.\")\n",
    "else:\n",
    "    print(\"Fail to reject the null hypothesis. There is not enough evidence to suggest a difference in population means.\")\n"
   ]
  },
  {
   "cell_type": "markdown",
   "id": "0ee91a39-ca7e-4b9a-b4a6-5f2558926280",
   "metadata": {},
   "source": [
    "# Q17. A marketing company wants to estimate the average number of ads watched by viewers during a TV program. They take a random sample of 50 viewers and find that the sample mean is 4 with a standard deviation of 1.5. Estimate the population mean with a 99% confidence interval.\n",
    "# Answer :->"
   ]
  },
  {
   "cell_type": "code",
   "execution_count": 4,
   "id": "b4432111-5d03-430a-b2b4-3a9347a7d67a",
   "metadata": {},
   "outputs": [
    {
     "name": "stdout",
     "output_type": "stream",
     "text": [
      "99% Confidence Interval: (3.43, 4.57)\n"
     ]
    }
   ],
   "source": [
    "import scipy.stats as stats\n",
    "import math\n",
    "\n",
    "# Given values\n",
    "sample_mean = 4\n",
    "sample_standard_deviation = 1.5\n",
    "sample_size = 50\n",
    "confidence_level = 0.99\n",
    "\n",
    "# Degrees of freedom for a one-sample t-test\n",
    "degrees_of_freedom = sample_size - 1\n",
    "\n",
    "# t-score for a 99% confidence interval and 49 degrees of freedom\n",
    "t_score = stats.t.ppf((1 + confidence_level) / 2, df=degrees_of_freedom)\n",
    "\n",
    "# Calculate the margin of error\n",
    "margin_of_error = t_score * (sample_standard_deviation / math.sqrt(sample_size))\n",
    "\n",
    "# Calculate the confidence interval\n",
    "confidence_interval_lower = sample_mean - margin_of_error\n",
    "confidence_interval_upper = sample_mean + margin_of_error\n",
    "\n",
    "# Print the results\n",
    "print(f\"99% Confidence Interval: ({confidence_interval_lower:.2f}, {confidence_interval_upper:.2f})\")\n"
   ]
  },
  {
   "cell_type": "markdown",
   "id": "14dbc633-cf21-47e3-817e-68d08c8eddf2",
   "metadata": {},
   "source": [
    "# ............................................    Thank You     ........................................."
   ]
  },
  {
   "cell_type": "code",
   "execution_count": null,
   "id": "5fe4d7be-a9b0-42b4-8427-3c44cc3c2dec",
   "metadata": {},
   "outputs": [],
   "source": []
  }
 ],
 "metadata": {
  "kernelspec": {
   "display_name": "Python 3 (ipykernel)",
   "language": "python",
   "name": "python3"
  },
  "language_info": {
   "codemirror_mode": {
    "name": "ipython",
    "version": 3
   },
   "file_extension": ".py",
   "mimetype": "text/x-python",
   "name": "python",
   "nbconvert_exporter": "python",
   "pygments_lexer": "ipython3",
   "version": "3.10.8"
  }
 },
 "nbformat": 4,
 "nbformat_minor": 5
}
