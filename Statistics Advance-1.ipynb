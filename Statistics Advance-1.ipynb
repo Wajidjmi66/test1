{
 "cells": [
  {
   "cell_type": "markdown",
   "id": "bd8be1f7-3a5d-4284-af16-360a7cba3849",
   "metadata": {},
   "source": [
    "# Q1. What is the Probability density function?\n",
    "# Answer :->"
   ]
  },
  {
   "cell_type": "markdown",
   "id": "e8a7da73-37a3-48f7-a601-41be23b28ea3",
   "metadata": {},
   "source": [
    "### The Probability Density Function (PDF) is a concept in probability theory and statistics that describes the likelihood of a continuous random variable falling within a particular range of values. For a continuous random variable, the probability of any specific value occurring is infinitesimally small. Instead of providing probabilities for individual values, the PDF gives the probability density over a range of values.\n",
    "\n",
    "### Mathematically, the PDF is often denoted by f(x), where x is the variable of interest. The probability that X (the random variable) lies in the interval (a,b) is given by the integral of the PDF over that interval:\n",
    "\n",
    "## P(a<X<b)=∫f(x)dx\n",
    "\n",
    "### Key properties of a probability density function include:\n",
    "\n",
    "### The function is always non-negative: f(x)≥0 for all x.\n",
    "### The total area under the curve of the PDF is equal to 1: \n",
    "### The probability that X falls in any specific interval is the integral of the PDF over that interval.\n",
    "##### It's important to note that the PDF is applicable to continuous random variables, and for discrete random variables, the analogous concept is the Probability Mass Function (PMF)."
   ]
  },
  {
   "cell_type": "markdown",
   "id": "24a5c460-261e-493b-8fb4-93438db7f192",
   "metadata": {},
   "source": [
    "# Q2. What are the types of Probability distribution?\n",
    "# Answer :->"
   ]
  },
  {
   "cell_type": "markdown",
   "id": "705aaf77-821d-4681-9370-fd85117b0b59",
   "metadata": {},
   "source": [
    "### There are several types of probability distributions, each associated with different types of random variables and real-world phenomena. The two main categories of probability distributions are discrete probability distributions and continuous probability distributions.\n",
    "\n",
    "# Discrete Probability Distributions:\n",
    "\n",
    "1. Bernoulli Distribution:\n",
    "2. Binomial Distribution:\n",
    "3. Poisson Distribution:\n",
    "\n",
    "# Continuous Probability Distributions:\n",
    "\n",
    "1. Normal Distribution (Gaussian Distribution):\n",
    "2. Uniform Distribution:\n",
    "3. Exponential Distribution:\n",
    "4. Gamma Distribution:\n",
    "5. Logistic Distribution:\n",
    "6. Cauchy Distribution:\n",
    "### These are just a few examples, and there are many other probability distributions with specific use cases in different fields. The choice of distribution depends on the nature of the data and the underlying process being modeled."
   ]
  },
  {
   "cell_type": "markdown",
   "id": "400778ff-7106-469c-bd65-895e7f47a9b6",
   "metadata": {},
   "source": [
    "# Q3. Write a Python function to calculate the probability density function of a normal distribution with given mean and standard deviation at a given point.\n",
    "# Answer :->"
   ]
  },
  {
   "cell_type": "code",
   "execution_count": 2,
   "id": "ad3b9929-4f07-4e0f-a87c-b622b6b90000",
   "metadata": {},
   "outputs": [
    {
     "name": "stdout",
     "output_type": "stream",
     "text": [
      "The PDF value at x = 1 is: 0.24197072451914337\n"
     ]
    }
   ],
   "source": [
    "import numpy as np\n",
    "\n",
    "def normal_pdf(x, mean, std_dev):\n",
    "    coefficient = 1 / np.sqrt(2 * np.pi * std_dev**2)\n",
    "    exponent = -((x - mean)**2) / (2 * std_dev**2)\n",
    "    pdf_value = coefficient * np.exp(exponent)\n",
    "    return pdf_value\n",
    "\n",
    "# Example usage:\n",
    "mean_value = 0  # Replace with your desired mean\n",
    "std_dev_value = 1  # Replace with your desired standard deviation\n",
    "point_to_evaluate = 1  # Replace with the point at which you want to evaluate the PDF\n",
    "\n",
    "pdf_result = normal_pdf(point_to_evaluate, mean_value, std_dev_value)\n",
    "print(f'The PDF value at x = {point_to_evaluate} is: {pdf_result}')\n"
   ]
  },
  {
   "cell_type": "markdown",
   "id": "3344f918-9c30-4c38-bb8c-4f44fe8df1ff",
   "metadata": {},
   "source": [
    "# Q4. What are the properties of Binomial distribution? Give two examples of events where binomial distribution can be applied.\n",
    "# Answer :->"
   ]
  },
  {
   "cell_type": "markdown",
   "id": "ee288483-e44a-4d55-a444-3d22018d1d5e",
   "metadata": {},
   "source": [
    "### The Binomial distribution is a discrete probability distribution that describes the number of successes in a fixed number of independent Bernoulli trials, where each trial has only two possible outcomes: success or failure. The properties of the Binomial distribution include:\n",
    "\n",
    "1. Fixed Number of Trials (n): The distribution is defined for a fixed number of trials (n), meaning that the experiment is repeated a predetermined number of times.\n",
    "\n",
    "2. Independent Trials: Each trial is independent of the others. The outcome of one trial does not affect the outcome of another.\n",
    "\n",
    "3. Two Possible Outcomes: Each trial has only two possible outcomes, often labeled as success (S) and failure (F).\n",
    "\n",
    "4. Constant Probability of Success (p): The probability of success (p) is the same for each trial.\n",
    "\n",
    "5. Discreteness: The random variable representing the number of successes (X) is discrete, taking on integer values from 0 to n inclusive.\n",
    "\n",
    "### Examples of Events Where Binomial Distribution Can Be Applied:\n",
    "\n",
    "# Coin Flipping:\n",
    "\n",
    "1. Experiment: Tossing a fair coin.\n",
    "2. Outcomes: Heads (success) or tails (failure).\n",
    "3. Parameters: n= number of coin tosses, p= probability of getting heads.\n",
    "4. Application: Calculate the probability of getting a certain number of heads in a fixed number of coin tosses.\n",
    "\n",
    "# Quality Control:\n",
    "\n",
    "1. Experiment: Inspecting items on a production line.\n",
    "2. Outcomes: Acceptable (success) or defective (failure).\n",
    "3. Parameters: n= number of items inspected, p= probability of an item being acceptable.\n",
    "4. Application: Determine the probability of finding a certain number of defective items in a sample of inspected items.\n",
    "\n",
    "### In both examples, the Binomial distribution is suitable because there are a fixed number of independent trials, each with two possible outcomes and a constant probability of success. The Binomial distribution provides a way to model and analyze the probability of obtaining a specific number of successes in these types of scenarios."
   ]
  },
  {
   "cell_type": "markdown",
   "id": "83135bc1-9423-4d0b-8f09-ef5010849b2b",
   "metadata": {},
   "source": [
    "# Q5. Generate a random sample of size 1000 from a binomial distribution with probability of success 0.4 and plot a histogram of the results using matplotlib.\n",
    "# Ansqwer :->"
   ]
  },
  {
   "cell_type": "code",
   "execution_count": 3,
   "id": "2086fd14-14ec-4ae0-b5f5-5fd167eeed30",
   "metadata": {},
   "outputs": [
    {
     "data": {
      "image/png": "[encoded data removed]",
      "text/plain": [
       "<Figure size 640x480 with 1 Axes>"
      ]
     },
     "metadata": {},
     "output_type": "display_data"
    }
   ],
   "source": [
    "import numpy as np\n",
    "import matplotlib.pyplot as plt\n",
    "\n",
    "# Set the seed for reproducibility\n",
    "np.random.seed(42)\n",
    "\n",
    "# Generate a random sample from a binomial distribution\n",
    "# Parameters: n = number of trials, p = probability of success, size = sample size\n",
    "sample_size = 1000\n",
    "probability_of_success = 0.4\n",
    "random_sample = np.random.binomial(n=1, p=probability_of_success, size=sample_size)\n",
    "\n",
    "# Plot the histogram\n",
    "plt.hist(random_sample, bins=np.arange(-0.5, 2, 1), edgecolor='black', alpha=0.7)\n",
    "plt.title('Binomial Distribution - Random Sample')\n",
    "plt.xlabel('Number of Successes (0 or 1)')\n",
    "plt.ylabel('Frequency')\n",
    "plt.xticks([0, 1], ['Failure', 'Success'])\n",
    "plt.show()\n"
   ]
  },
  {
   "cell_type": "markdown",
   "id": "431a259f-d580-4f7f-812f-87e6765b2626",
   "metadata": {},
   "source": [
    "# Q6. Write a Python function to calculate the cumulative distribution function of a Poisson distribution with given mean at a given point.\n",
    "# Answer :->"
   ]
  },
  {
   "cell_type": "code",
   "execution_count": 6,
   "id": "885b520f-1e59-4889-94b1-143b98ffb874",
   "metadata": {},
   "outputs": [
    {
     "name": "stdout",
     "output_type": "stream",
     "text": [
      "The CDF value at x = 2 is: 0.42319008112684353\n"
     ]
    }
   ],
   "source": [
    "import math\n",
    "\n",
    "def poisson_cdf(x, mean):\n",
    "    cdf_value = 0.0\n",
    "    for k in range(0, x + 1):\n",
    "        cdf_value += (math.exp(-mean) * mean**k) / math.factorial(k)\n",
    "    return cdf_value\n",
    "\n",
    "# Example usage:\n",
    "mean_value = 3  # Replace with your desired mean\n",
    "point_to_evaluate = 2  # Replace with the point at which you want to evaluate the CDF\n",
    "\n",
    "cdf_result = poisson_cdf(point_to_evaluate, mean_value)\n",
    "print(f'The CDF value at x = {point_to_evaluate} is: {cdf_result}')\n"
   ]
  },
  {
   "cell_type": "markdown",
   "id": "91a9c10e-e935-43a3-98ea-4af94e283f45",
   "metadata": {},
   "source": [
    "# Q7. How Binomial distribution different from Poisson distribution?\n",
    "# Answer :->"
   ]
  },
  {
   "cell_type": "markdown",
   "id": "87bbf661-5c47-4de4-8acd-f9d5fe4ab426",
   "metadata": {},
   "source": [
    "### The Binomial distribution and the Poisson distribution are both probability distributions used to model the number of events in a fixed number of trials, but they differ in terms of their assumptions, characteristics, and use cases. Here are some key differences between the Binomial and Poisson distributions:\n",
    "\n",
    "# Nature of the Process:\n",
    "\n",
    "### Binomial Distribution: \n",
    "1. Describes the number of successes in a fixed number of independent Bernoulli trials.\n",
    "2. Each trial has only two possible outcomes: success or failure.\n",
    "### Poisson Distribution:\n",
    "1. Describes the number of events occurring in a fixed interval of time or space.\n",
    "2. Events happen continuously and independently at a constant average rate.\n",
    "\n",
    "# Number of Trials:\n",
    "\n",
    "### Binomial Distribution:\n",
    "1. Assumes a fixed number of trials (n).\n",
    "### Poisson Distribution:\n",
    "1. Does not assume a fixed number of trials; it models the number of events in a fixed interval.\n",
    "\n",
    "# Possible Outcomes:\n",
    "\n",
    "### Binomial Distribution:\n",
    "1. Each trial has only two possible outcomes: success or failure.\n",
    "### Poisson Distribution:\n",
    "1. The number of events can take any non-negative integer value (0, 1, 2, ...).\n",
    "\n",
    "# Probability of Success:\n",
    "\n",
    "### Binomial Distribution:\n",
    "1. Assumes a constant probability of success (p) for each trial.\n",
    "### Poisson Distribution:\n",
    "1. Describes the number of events occurring at a constant average rate (λ).\n",
    "\n",
    "# Conditions for Approximation:\n",
    "\n",
    "### Binomial Distribution:\n",
    "1. The Poisson distribution can be used as an approximation when the number of trials (n) is large and the probability of success (p) is small, resulting in a rare event.\n",
    "### Poisson Distribution:\n",
    "1. The Binomial distribution can be used as an approximation when the number of trials (n) is large and the probability of success (p) is small, leading to a rare event.\n",
    "\n",
    " \n",
    "#### In summary, while both the Binomial and Poisson distributions are used to model the number of events, the choice between them depends on the nature of the process being modeled (fixed trials vs. continuous events) and the specific characteristics of the data (constant probability of success vs. constant average rate). The Poisson distribution can be considered a limiting case of the Binomial distribution when the number of trials is large and the probability of success is small."
   ]
  },
  {
   "cell_type": "markdown",
   "id": "e3fd9005-508d-440d-aec0-f0ba01794f98",
   "metadata": {},
   "source": [
    "# Q8. Generate a random sample of size 1000 from a Poisson distribution with mean 5 and calculate the sample mean and variance.\n",
    "# Answer:->"
   ]
  },
  {
   "cell_type": "code",
   "execution_count": 8,
   "id": "97f561e6-7e7e-492b-93da-f46ed80ce18a",
   "metadata": {},
   "outputs": [
    {
     "name": "stdout",
     "output_type": "stream",
     "text": [
      "Sample Mean: 4.985\n",
      "Sample Variance: 4.9967749999999995\n"
     ]
    }
   ],
   "source": [
    "import numpy as np\n",
    "\n",
    "# Set the seed for reproducibility\n",
    "np.random.seed(42)\n",
    "\n",
    "# Generate a random sample from a Poisson distribution\n",
    "# Parameters: lam = mean of the Poisson distribution, size = sample size\n",
    "mean_value = 5\n",
    "sample_size = 1000\n",
    "random_sample = np.random.poisson(lam=mean_value, size=sample_size)\n",
    "\n",
    "# Calculate the sample mean and variance\n",
    "sample_mean = np.mean(random_sample)\n",
    "sample_variance = np.var(random_sample)\n",
    "\n",
    "# Print the results\n",
    "print(f'Sample Mean: {sample_mean}')\n",
    "print(f'Sample Variance: {sample_variance}')\n"
   ]
  },
  {
   "cell_type": "markdown",
   "id": "0a90dd5c-fd33-48e5-b34c-464958a8bc2a",
   "metadata": {},
   "source": [
    "# Q9. How mean and variance are related in Binomial distribution and Poisson distribution?\n",
    "# Answer :->"
   ]
  },
  {
   "cell_type": "markdown",
   "id": "c921400d-a055-4e0a-b570-a99d8607c204",
   "metadata": {},
   "source": [
    "The mean (μ) and variance (σ**2) of probability distributions provide information about the central tendency and the spread or dispersion of the distribution, respectively. Here's how mean and variance are related in the Binomial distribution and Poisson distribution:\n",
    "\n",
    "# Binomial Distribution:\n",
    "\n",
    "### For a Binomial distribution with parameters n (number of trials) and p (probability of success in each trial):\n",
    "1. Mean (μ):μ=np\n",
    "2. Variance (σ**2): σ**2 =np(1−p)\n",
    "\n",
    "# Poisson Distribution:\n",
    "\n",
    "### For a Poisson distribution with parameter λ (average rate of events occurring in a fixed interval):\n",
    "1. Mean (μ):μ=λ\n",
    "2. Variance (σ**2): σ**2 =λ\n",
    "\n",
    "# Relationship:\n",
    "### In both the Binomial and Poisson distributions, the mean is equal to the variance. Mathematically: μ=σ**2\n",
    "### This relationship holds for these specific distributions, but it's important to note that it is not a general rule for all probability distributions.\n",
    "\n",
    "# Explanation:\n",
    "\n",
    "### In the Binomial distribution, the mean and variance are both influenced by the number of trials (n) and the probability of success in each trial (p). The product of np in both the mean and variance formulas reflects the fact that the spread of the distribution increases with the number of trials.\n",
    "\n",
    "### In the Poisson distribution, the mean and variance are both equal to the rate parameter (λ). The Poisson distribution is often used to model rare events, and the equality of mean and variance suggests that the spread of the distribution is directly related to the average rate of events.\n",
    "\n",
    "#### In summary, for both the Binomial and Poisson distributions, the mean and variance are directly related to the parameters that define the distributions, and they are equal to each other."
   ]
  },
  {
   "cell_type": "markdown",
   "id": "d60a0845-cc65-40db-a848-a7e6bf4e1838",
   "metadata": {},
   "source": [
    "# Q10. In normal distribution with respect to mean position, where does the least frequent data appear?\n",
    "# Answer :->"
   ]
  },
  {
   "cell_type": "markdown",
   "id": "8e8e89c4-0751-4057-9d55-0812dc998f26",
   "metadata": {},
   "source": [
    "### In a normal distribution, the least frequent data appears in the tails of the distribution, farthest from the mean. The normal distribution is symmetric, bell-shaped, and unimodal, with the mean, median, and mode all located at the center of the distribution. The tails of the distribution extend infinitely in both directions.\n",
    "\n",
    "# Least Frequent Data:\n",
    "\n",
    "1. The data points in the tails, which are far from the mean, occur less frequently than those near the center of the distribution.\n",
    "2. The tails represent extreme values or outliers, and their probabilities decrease rapidly as you move away from the mean.\n",
    "\n",
    "# Most Frequent Data:\n",
    "\n",
    "1. Data points near the mean are the most frequent.\n",
    "2. As you move away from the mean toward the tails, the frequency of data points decreases.\n",
    "\n",
    "### In a standard normal distribution (with a mean of 0 and a standard deviation of 1), approximately 68% of the data falls within one standard deviation of the mean, 95% within two standard deviations, and 99.7% within three standard deviations. The remaining data points, which are in the tails beyond three standard deviations, are less frequent and represent extreme values.\n",
    "\n",
    "### In summary, the least frequent data in a normal distribution appears in the tails, farthest from the mean."
   ]
  },
  {
   "cell_type": "markdown",
   "id": "f433a727-772e-499f-9b93-9d673c4a736a",
   "metadata": {},
   "source": [
    "# ...............................................        Thank you            ........................................................."
   ]
  },
  {
   "cell_type": "code",
   "execution_count": null,
   "id": "f6734d4d-2cae-4ca9-ba0a-7fb02f99d563",
   "metadata": {},
   "outputs": [],
   "source": []
  }
 ],
 "metadata": {
  "kernelspec": {
   "display_name": "Python 3 (ipykernel)",
   "language": "python",
   "name": "python3"
  },
  "language_info": {
   "codemirror_mode": {
    "name": "ipython",
    "version": 3
   },
   "file_extension": ".py",
   "mimetype": "text/x-python",
   "name": "python",
   "nbconvert_exporter": "python",
   "pygments_lexer": "ipython3",
   "version": "3.10.8"
  }
 },
 "nbformat": 4,
 "nbformat_minor": 5
}
